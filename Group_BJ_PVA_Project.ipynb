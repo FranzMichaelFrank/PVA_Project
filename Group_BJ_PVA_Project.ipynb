{
 "cells": [
  {
   "cell_type": "markdown",
   "metadata": {},
   "source": [
    "# Group BJ PVA Project (Data Mining Winter Term 2020/2021)"
   ]
  },
  {
   "cell_type": "markdown",
   "metadata": {},
   "source": [
    "#### Total runtime: around 25 minutes"
   ]
  },
  {
   "cell_type": "code",
   "execution_count": null,
   "metadata": {},
   "outputs": [],
   "source": [
    "#the following packages might have to be installed to run the code, remove the \"#\" for that\n",
    "import sys\n",
    "#!pip install geopandas\n",
    "#!pip install descartes\n",
    "#!{sys.executable} -m pip install -U pandas-profiling\n",
    "#!jupyter nbextension enable --py widgetsnbextension\n",
    "\n",
    "#import the needed libraries\n",
    "import pandas as pd\n",
    "import matplotlib.patches as mpatches\n",
    "import matplotlib.pyplot as plt\n",
    "import geopandas\n",
    "import numpy as np\n",
    "import seaborn as sns\n",
    "from datetime import datetime\n",
    "from sklearn.cluster import KMeans\n",
    "from datetime import datetime\n",
    "import datetime\n",
    "from scipy import stats\n",
    "from sklearn.preprocessing import StandardScaler\n",
    "import sys\n",
    "\n",
    "from pandas_profiling import ProfileReport\n",
    "from sklearn.impute import KNNImputer\n",
    "from sklearn import decomposition\n",
    "from sklearn.decomposition import PCA\n",
    "from sklearn.cluster import AgglomerativeClustering\n",
    "from sklearn.preprocessing import scale\n",
    "from sklearn import preprocessing\n",
    "from scipy.cluster.hierarchy import dendrogram\n",
    "import plotly.graph_objs as go\n",
    "from plotly.offline import download_plotlyjs, init_notebook_mode, plot, iplot\n",
    "from sklearn.neighbors import NearestNeighbors\n",
    "from sklearn.mixture import GaussianMixture\n",
    "from sklearn.cluster import MeanShift, DBSCAN, estimate_bandwidth\n",
    "from sklearn.impute import KNNImputer\n",
    "\n",
    "sns.set_style(\"whitegrid\")\n",
    "sns.set_palette(\"pastel\")"
   ]
  },
  {
   "cell_type": "markdown",
   "metadata": {},
   "source": [
    "# Importing the data"
   ]
  },
  {
   "cell_type": "code",
   "execution_count": 4,
   "metadata": {},
   "outputs": [],
   "source": [
    "#import the data\n",
    "donors = pd.read_csv(\"donors.csv\")\n",
    "donors_original = pd.read_csv(\"donors.csv\")"
   ]
  },
  {
   "cell_type": "code",
   "execution_count": 5,
   "metadata": {},
   "outputs": [
    {
     "data": {
      "text/plain": [
       "(95412, 476)"
      ]
     },
     "execution_count": 5,
     "metadata": {},
     "output_type": "execute_result"
    }
   ],
   "source": [
    "#check the shape\n",
    "donors.shape"
   ]
  },
  {
   "cell_type": "code",
   "execution_count": 6,
   "metadata": {},
   "outputs": [
    {
     "data": {
      "text/html": [
       "<div>\n",
       "<style scoped>\n",
       "    .dataframe tbody tr th:only-of-type {\n",
       "        vertical-align: middle;\n",
       "    }\n",
       "\n",
       "    .dataframe tbody tr th {\n",
       "        vertical-align: top;\n",
       "    }\n",
       "\n",
       "    .dataframe thead th {\n",
       "        text-align: right;\n",
       "    }\n",
       "</style>\n",
       "<table border=\"1\" class=\"dataframe\">\n",
       "  <thead>\n",
       "    <tr style=\"text-align: right;\">\n",
       "      <th></th>\n",
       "      <th>Unnamed: 0</th>\n",
       "      <th>ODATEDW</th>\n",
       "      <th>OSOURCE</th>\n",
       "      <th>TCODE</th>\n",
       "      <th>STATE</th>\n",
       "      <th>ZIP</th>\n",
       "      <th>MAILCODE</th>\n",
       "      <th>PVASTATE</th>\n",
       "      <th>DOB</th>\n",
       "      <th>NOEXCH</th>\n",
       "      <th>...</th>\n",
       "      <th>AVGGIFT</th>\n",
       "      <th>CONTROLN</th>\n",
       "      <th>HPHONE_D</th>\n",
       "      <th>RFA_2R</th>\n",
       "      <th>RFA_2F</th>\n",
       "      <th>RFA_2A</th>\n",
       "      <th>MDMAUD_R</th>\n",
       "      <th>MDMAUD_F</th>\n",
       "      <th>MDMAUD_A</th>\n",
       "      <th>GEOCODE2</th>\n",
       "    </tr>\n",
       "  </thead>\n",
       "  <tbody>\n",
       "    <tr>\n",
       "      <th>0</th>\n",
       "      <td>0</td>\n",
       "      <td>2009-01-01</td>\n",
       "      <td>GRI</td>\n",
       "      <td>0</td>\n",
       "      <td>IL</td>\n",
       "      <td>61081</td>\n",
       "      <td></td>\n",
       "      <td></td>\n",
       "      <td>1957-12-01</td>\n",
       "      <td>0</td>\n",
       "      <td>...</td>\n",
       "      <td>7.741935</td>\n",
       "      <td>95515</td>\n",
       "      <td>0</td>\n",
       "      <td>L</td>\n",
       "      <td>4</td>\n",
       "      <td>E</td>\n",
       "      <td>X</td>\n",
       "      <td>X</td>\n",
       "      <td>X</td>\n",
       "      <td>C</td>\n",
       "    </tr>\n",
       "    <tr>\n",
       "      <th>1</th>\n",
       "      <td>1</td>\n",
       "      <td>2014-01-01</td>\n",
       "      <td>BOA</td>\n",
       "      <td>1</td>\n",
       "      <td>CA</td>\n",
       "      <td>91326</td>\n",
       "      <td></td>\n",
       "      <td></td>\n",
       "      <td>1972-02-01</td>\n",
       "      <td>0</td>\n",
       "      <td>...</td>\n",
       "      <td>15.666667</td>\n",
       "      <td>148535</td>\n",
       "      <td>0</td>\n",
       "      <td>L</td>\n",
       "      <td>2</td>\n",
       "      <td>G</td>\n",
       "      <td>X</td>\n",
       "      <td>X</td>\n",
       "      <td>X</td>\n",
       "      <td>A</td>\n",
       "    </tr>\n",
       "    <tr>\n",
       "      <th>2</th>\n",
       "      <td>2</td>\n",
       "      <td>2010-01-01</td>\n",
       "      <td>AMH</td>\n",
       "      <td>1</td>\n",
       "      <td>NC</td>\n",
       "      <td>27017</td>\n",
       "      <td></td>\n",
       "      <td></td>\n",
       "      <td>NaN</td>\n",
       "      <td>0</td>\n",
       "      <td>...</td>\n",
       "      <td>7.481481</td>\n",
       "      <td>15078</td>\n",
       "      <td>1</td>\n",
       "      <td>L</td>\n",
       "      <td>4</td>\n",
       "      <td>E</td>\n",
       "      <td>X</td>\n",
       "      <td>X</td>\n",
       "      <td>X</td>\n",
       "      <td>C</td>\n",
       "    </tr>\n",
       "    <tr>\n",
       "      <th>3</th>\n",
       "      <td>3</td>\n",
       "      <td>2007-01-01</td>\n",
       "      <td>BRY</td>\n",
       "      <td>0</td>\n",
       "      <td>CA</td>\n",
       "      <td>95953</td>\n",
       "      <td></td>\n",
       "      <td></td>\n",
       "      <td>1948-01-01</td>\n",
       "      <td>0</td>\n",
       "      <td>...</td>\n",
       "      <td>6.812500</td>\n",
       "      <td>172556</td>\n",
       "      <td>1</td>\n",
       "      <td>L</td>\n",
       "      <td>4</td>\n",
       "      <td>E</td>\n",
       "      <td>X</td>\n",
       "      <td>X</td>\n",
       "      <td>X</td>\n",
       "      <td>C</td>\n",
       "    </tr>\n",
       "    <tr>\n",
       "      <th>4</th>\n",
       "      <td>4</td>\n",
       "      <td>2006-01-01</td>\n",
       "      <td></td>\n",
       "      <td>0</td>\n",
       "      <td>FL</td>\n",
       "      <td>33176</td>\n",
       "      <td></td>\n",
       "      <td></td>\n",
       "      <td>1940-01-01</td>\n",
       "      <td>0</td>\n",
       "      <td>...</td>\n",
       "      <td>6.864865</td>\n",
       "      <td>7112</td>\n",
       "      <td>1</td>\n",
       "      <td>L</td>\n",
       "      <td>2</td>\n",
       "      <td>F</td>\n",
       "      <td>X</td>\n",
       "      <td>X</td>\n",
       "      <td>X</td>\n",
       "      <td>A</td>\n",
       "    </tr>\n",
       "  </tbody>\n",
       "</table>\n",
       "<p>5 rows × 476 columns</p>\n",
       "</div>"
      ],
      "text/plain": [
       "   Unnamed: 0     ODATEDW OSOURCE  TCODE STATE    ZIP MAILCODE PVASTATE  \\\n",
       "0           0  2009-01-01     GRI      0    IL  61081                     \n",
       "1           1  2014-01-01     BOA      1    CA  91326                     \n",
       "2           2  2010-01-01     AMH      1    NC  27017                     \n",
       "3           3  2007-01-01     BRY      0    CA  95953                     \n",
       "4           4  2006-01-01              0    FL  33176                     \n",
       "\n",
       "          DOB NOEXCH  ...    AVGGIFT CONTROLN HPHONE_D RFA_2R RFA_2F RFA_2A  \\\n",
       "0  1957-12-01      0  ...   7.741935    95515        0      L      4      E   \n",
       "1  1972-02-01      0  ...  15.666667   148535        0      L      2      G   \n",
       "2         NaN      0  ...   7.481481    15078        1      L      4      E   \n",
       "3  1948-01-01      0  ...   6.812500   172556        1      L      4      E   \n",
       "4  1940-01-01      0  ...   6.864865     7112        1      L      2      F   \n",
       "\n",
       "  MDMAUD_R MDMAUD_F MDMAUD_A GEOCODE2  \n",
       "0        X        X        X        C  \n",
       "1        X        X        X        A  \n",
       "2        X        X        X        C  \n",
       "3        X        X        X        C  \n",
       "4        X        X        X        A  \n",
       "\n",
       "[5 rows x 476 columns]"
      ]
     },
     "execution_count": 6,
     "metadata": {},
     "output_type": "execute_result"
    }
   ],
   "source": [
    "donors.head()"
   ]
  },
  {
   "cell_type": "code",
   "execution_count": 7,
   "metadata": {},
   "outputs": [],
   "source": [
    "#drop the first column, that is the same as the index and therefore redundant\n",
    "donors = donors.drop(columns=[\"Unnamed: 0\"])"
   ]
  },
  {
   "cell_type": "code",
   "execution_count": 8,
   "metadata": {},
   "outputs": [
    {
     "name": "stdout",
     "output_type": "stream",
     "text": [
      "Is CONTROLN a unique identifier?: True\n"
     ]
    }
   ],
   "source": [
    "#drop CONTROLN as it is a unique identifier and not relevant for clustering purposes\n",
    "print(\"Is CONTROLN a unique identifier?:\", len(donors[\"CONTROLN\"].value_counts()) == len(donors))\n",
    "donors = donors.drop(columns=[\"CONTROLN\"])"
   ]
  },
  {
   "cell_type": "code",
   "execution_count": 9,
   "metadata": {},
   "outputs": [
    {
     "data": {
      "text/plain": [
       "(95412, 474)"
      ]
     },
     "execution_count": 9,
     "metadata": {},
     "output_type": "execute_result"
    }
   ],
   "source": [
    "#checking for duplicates\n",
    "donors.drop_duplicates().shape\n",
    "#there are none"
   ]
  },
  {
   "cell_type": "code",
   "execution_count": 10,
   "metadata": {},
   "outputs": [
    {
     "data": {
      "text/plain": [
       "int64      300\n",
       "object     125\n",
       "float64     49\n",
       "dtype: int64"
      ]
     },
     "execution_count": 10,
     "metadata": {},
     "output_type": "execute_result"
    }
   ],
   "source": [
    "#checking the data types of the columns\n",
    "donors.dtypes.value_counts()"
   ]
  },
  {
   "cell_type": "markdown",
   "metadata": {},
   "source": [
    "# Dropping columns"
   ]
  },
  {
   "cell_type": "markdown",
   "metadata": {},
   "source": [
    "In the following, there will often be columns that get dropped. This will be due to two major reasons:\n",
    "* high percentage of missing values within feature\n",
    "* low variation within feature\n",
    "\n",
    "Both of these reasons make the feature very unsuitable for clustering purposes."
   ]
  },
  {
   "cell_type": "markdown",
   "metadata": {},
   "source": [
    "# Dealing with the dates in object format"
   ]
  },
  {
   "cell_type": "markdown",
   "metadata": {},
   "source": [
    "There are several dates in the features. However, they are all in an object type so we have to transform them."
   ]
  },
  {
   "cell_type": "code",
   "execution_count": 11,
   "metadata": {},
   "outputs": [],
   "source": [
    "dates = [\"ODATEDW\", \"DOB\", \"ADATE_2\", \"ADATE_3\", \"ADATE_4\", \"ADATE_5\", \"ADATE_6\", \"ADATE_7\", \"ADATE_8\", \"ADATE_9\", \"ADATE_10\", \"ADATE_11\", \"ADATE_12\", \"ADATE_13\", \"ADATE_14\", \"ADATE_15\", \"ADATE_16\", \"ADATE_17\", \"ADATE_18\", \"ADATE_19\", \"ADATE_20\", \"ADATE_21\", \"ADATE_22\", \"ADATE_23\", \"ADATE_24\", \"MAXADATE\", \"RDATE_3\", \"RDATE_4\", \"RDATE_5\", \"RDATE_6\", \"RDATE_7\", \"RDATE_8\", \"RDATE_9\", \"RDATE_10\", \"RDATE_11\", \"RDATE_12\", \"RDATE_13\", \"RDATE_14\", \"RDATE_15\", \"RDATE_16\", \"RDATE_17\", \"RDATE_18\", \"RDATE_19\", \"RDATE_20\", \"RDATE_21\", \"RDATE_22\", \"RDATE_23\", \"RDATE_24\", \"MINRDATE\", \"MAXRDATE\", \"LASTDATE\", \"FISTDATE\", \"NEXTDATE\"]"
   ]
  },
  {
   "cell_type": "code",
   "execution_count": 12,
   "metadata": {},
   "outputs": [],
   "source": [
    "for element in dates:\n",
    "    donors[element] = pd.to_datetime(donors[element], format='%Y-%m-%d')"
   ]
  },
  {
   "cell_type": "markdown",
   "metadata": {},
   "source": [
    "First of all, as the DataFrame is obviously outdated, we need to find an appropriate date that we can treat as the most up-to-date date:"
   ]
  },
  {
   "cell_type": "code",
   "execution_count": 13,
   "metadata": {},
   "outputs": [
    {
     "data": {
      "text/plain": [
       "RDATE_3    2018-06-01\n",
       "RDATE_8    2018-06-01\n",
       "RDATE_10   2018-06-01\n",
       "RDATE_12   2018-06-01\n",
       "RDATE_16   2018-05-01\n",
       "dtype: datetime64[ns]"
      ]
     },
     "execution_count": 13,
     "metadata": {},
     "output_type": "execute_result"
    }
   ],
   "source": [
    "donors[dates].max().sort_values(ascending=False).head()"
   ]
  },
  {
   "cell_type": "markdown",
   "metadata": {},
   "source": [
    "These are all dates for gifts that got sent back. But we should probably consider the last date when a promotion got sent out, so let's have a look at the most recent promotion that was sent out, NK17:"
   ]
  },
  {
   "cell_type": "code",
   "execution_count": 14,
   "metadata": {},
   "outputs": [
    {
     "name": "stdout",
     "output_type": "stream",
     "text": [
      "2017-06-01 00:00:00\n"
     ]
    }
   ],
   "source": [
    "current_date = donors[\"ADATE_2\"].max()\n",
    "print(donors[\"ADATE_2\"].max())"
   ]
  },
  {
   "cell_type": "markdown",
   "metadata": {},
   "source": [
    "Okay, here we go, let's use this date as the current one."
   ]
  },
  {
   "cell_type": "markdown",
   "metadata": {},
   "source": [
    "### DOB"
   ]
  },
  {
   "cell_type": "markdown",
   "metadata": {},
   "source": [
    "From the DOB column we can retrieve the Age of each individual:"
   ]
  },
  {
   "cell_type": "code",
   "execution_count": 15,
   "metadata": {},
   "outputs": [],
   "source": [
    "def age(date):\n",
    "    return (current_date - date)\n",
    "\n",
    "def make_int(floaty):\n",
    "    try:\n",
    "        return int(floaty)\n",
    "    except:\n",
    "        return np.nan\n",
    "\n",
    "donors[\"AGE\"] = donors[\"DOB\"].apply(age)\n",
    "donors = donors.drop(columns=[\"DOB\"])\n",
    "donors[\"AGE\"] = donors[\"AGE\"].dt.days/365\n",
    "donors[\"AGE\"] = donors[\"AGE\"].apply(make_int)"
   ]
  },
  {
   "cell_type": "markdown",
   "metadata": {},
   "source": [
    "There are a lot of nan values in the AGE column. There are different approaches for replacing them. Three major ones are to replace them with:\n",
    "1. The mean\n",
    "2. The median\n",
    "3. The most frequent"
   ]
  },
  {
   "cell_type": "code",
   "execution_count": 16,
   "metadata": {},
   "outputs": [
    {
     "name": "stdout",
     "output_type": "stream",
     "text": [
      "AGE mean: 59.0\n",
      "AGE median: 59.0\n",
      "AGE most frequent: 49.0\n"
     ]
    }
   ],
   "source": [
    "print(\"AGE mean:\", np.round(donors[\"AGE\"].mean()))\n",
    "print(\"AGE median:\", np.round(donors[\"AGE\"].median()))\n",
    "print(\"AGE most frequent:\", np.round(donors[\"AGE\"].value_counts().idxmax()))"
   ]
  },
  {
   "cell_type": "markdown",
   "metadata": {},
   "source": [
    "As both, the mean and the median are the same, it seems reasonable to take this value for replacing the nans."
   ]
  },
  {
   "cell_type": "code",
   "execution_count": 17,
   "metadata": {},
   "outputs": [],
   "source": [
    "donors[\"AGE\"] = donors[\"AGE\"].replace(np.nan, np.round(donors[\"AGE\"].mean()))"
   ]
  },
  {
   "cell_type": "markdown",
   "metadata": {},
   "source": [
    "### ADATE and RDATE "
   ]
  },
  {
   "cell_type": "markdown",
   "metadata": {},
   "source": [
    "The following cells are all concerning certain promotions, more specific on when they were mailed and when there were gifts received for them:"
   ]
  },
  {
   "cell_type": "code",
   "execution_count": 18,
   "metadata": {},
   "outputs": [],
   "source": [
    "a_and_r = [\"ADATE_\" + str(i) for i in range(2,25)]\n",
    "a_and_r = a_and_r + [\"RDATE_\" + str(i) for i in range(3,25)]"
   ]
  },
  {
   "cell_type": "markdown",
   "metadata": {},
   "source": [
    "We can for example just calculate the time that each date lies in the past, however, this might not be very useful as the older promotions obviously lie more days in the past and therefore also the respective gifts are. We can also try to get the most useful information out of these columns, which is for example the timelag between the mailing and the gift reception:"
   ]
  },
  {
   "cell_type": "code",
   "execution_count": 19,
   "metadata": {},
   "outputs": [
    {
     "name": "stdout",
     "output_type": "stream",
     "text": [
      "ADATE_2 : 95412\n",
      "ADATE_3 : 93462\n",
      "ADATE_4 : 93221\n",
      "ADATE_5 : 61822\n",
      "ADATE_6 : 91855\n",
      "ADATE_7 : 86538\n",
      "ADATE_8 : 91901\n",
      "ADATE_9 : 84167\n",
      "ADATE_10 : 62664\n",
      "ADATE_11 : 84990\n",
      "ADATE_12 : 86489\n",
      "ADATE_13 : 55193\n",
      "ADATE_14 : 76545\n",
      "ADATE_15 : 29935\n",
      "ADATE_16 : 75048\n",
      "ADATE_17 : 67762\n",
      "ADATE_18 : 74149\n",
      "ADATE_19 : 70932\n",
      "ADATE_20 : 45212\n",
      "ADATE_21 : 60200\n",
      "ADATE_22 : 69764\n",
      "ADATE_23 : 39142\n",
      "ADATE_24 : 58439\n",
      "RDATE_3 : 242\n",
      "RDATE_4 : 281\n",
      "RDATE_5 : 9\n",
      "RDATE_6 : 776\n",
      "RDATE_7 : 8895\n",
      "RDATE_8 : 21472\n",
      "RDATE_9 : 16734\n",
      "RDATE_10 : 10461\n",
      "RDATE_11 : 14740\n",
      "RDATE_12 : 25700\n",
      "RDATE_13 : 12250\n",
      "RDATE_14 : 23317\n",
      "RDATE_15 : 7262\n",
      "RDATE_16 : 26994\n",
      "RDATE_17 : 9401\n",
      "RDATE_18 : 19778\n",
      "RDATE_19 : 15877\n",
      "RDATE_20 : 7888\n",
      "RDATE_21 : 9513\n",
      "RDATE_22 : 20873\n",
      "RDATE_23 : 7859\n",
      "RDATE_24 : 17738\n"
     ]
    }
   ],
   "source": [
    "i = 2\n",
    "j = 0\n",
    "amount_promotion = []\n",
    "percentage_that_gifted = []\n",
    "\n",
    "for element in a_and_r:\n",
    "    print(element, \":\", donors[element].isna().value_counts()[False])\n",
    "    if i > 2:\n",
    "        amount_promotion.append(donors[element].isna().value_counts()[False])\n",
    "    if i > 24:\n",
    "        percentage_that_gifted.append((donors[element].isna().value_counts()[False]/amount_promotion[j])*100)\n",
    "        j = j + 1\n",
    "    i = i + 1"
   ]
  },
  {
   "cell_type": "markdown",
   "metadata": {},
   "source": [
    "After counting the nan values, we can draw several conclusions:\n",
    "* the number of mailed promotions seems to increase over time, and so the latest promotion that got sent out got sent to the highest number of donors\n",
    "* there have apparently not been any receptions for gifts of the latest promotion (ADATE_2)"
   ]
  },
  {
   "cell_type": "markdown",
   "metadata": {},
   "source": [
    "For clustering purposes, however, we have to drop all the RDATE columns, as there are just too many nan values in them to be useful (always above 70% missing values!)."
   ]
  },
  {
   "cell_type": "code",
   "execution_count": 20,
   "metadata": {},
   "outputs": [],
   "source": [
    "donors = donors.drop(columns = [\"RDATE_\" + str(i) for i in range(3,25)])"
   ]
  },
  {
   "cell_type": "markdown",
   "metadata": {},
   "source": [
    "We can keep the ADATES for now, but we need to transform them into a useable format. We will transform them into the respective amount of days that they lie in the past:"
   ]
  },
  {
   "cell_type": "code",
   "execution_count": 21,
   "metadata": {},
   "outputs": [],
   "source": [
    "def days(date):\n",
    "    return (current_date - date)\n",
    "\n",
    "for element in [\"ADATE_\" + str(i) for i in range(2,25)]:\n",
    "    donors[element] = donors[element].apply(days).dt.days"
   ]
  },
  {
   "cell_type": "code",
   "execution_count": 22,
   "metadata": {},
   "outputs": [
    {
     "data": {
      "text/plain": [
       "ADATE_2        0.008311\n",
       "ADATE_3      365.011748\n",
       "ADATE_4      425.274005\n",
       "ADATE_5      426.000000\n",
       "ADATE_6      457.033313\n",
       "ADATE_7      487.843421\n",
       "ADATE_8      519.162185\n",
       "ADATE_9      580.228771\n",
       "ADATE_10     606.476031\n",
       "ADATE_11     615.361960\n",
       "ADATE_12     656.476592\n",
       "ADATE_13     701.869676\n",
       "ADATE_14     731.130694\n",
       "ADATE_15     792.000000\n",
       "ADATE_16     822.425834\n",
       "ADATE_17     853.470337\n",
       "ADATE_18     894.827213\n",
       "ADATE_19     944.365364\n",
       "ADATE_20     942.990710\n",
       "ADATE_21     976.160299\n",
       "ADATE_22    1003.090261\n",
       "ADATE_23    1066.305401\n",
       "ADATE_24    1096.147470\n",
       "dtype: float64"
      ]
     },
     "execution_count": 22,
     "metadata": {},
     "output_type": "execute_result"
    }
   ],
   "source": [
    "donors[[\"ADATE_\" + str(i) for i in range(2,25)]].mean()"
   ]
  },
  {
   "cell_type": "markdown",
   "metadata": {},
   "source": [
    "As we can see, the average days that these promotions lie behind is always getting higher. That is because the older promotions obviously lie more in the past. It is doubtful if these columns with their provided information will be useful for latter clustering purposes."
   ]
  },
  {
   "cell_type": "code",
   "execution_count": 23,
   "metadata": {},
   "outputs": [
    {
     "data": {
      "text/plain": [
       "ADATE_2      61.0\n",
       "ADATE_3      61.0\n",
       "ADATE_4     305.0\n",
       "ADATE_5       0.0\n",
       "ADATE_6      60.0\n",
       "ADATE_7      62.0\n",
       "ADATE_8     182.0\n",
       "ADATE_9      61.0\n",
       "ADATE_10     31.0\n",
       "ADATE_11     92.0\n",
       "ADATE_12     92.0\n",
       "ADATE_13    150.0\n",
       "ADATE_14     61.0\n",
       "ADATE_15      0.0\n",
       "ADATE_16     59.0\n",
       "ADATE_17     59.0\n",
       "ADATE_18    334.0\n",
       "ADATE_19     61.0\n",
       "ADATE_20     30.0\n",
       "ADATE_21     30.0\n",
       "ADATE_22    304.0\n",
       "ADATE_23    212.0\n",
       "ADATE_24     31.0\n",
       "dtype: float64"
      ]
     },
     "execution_count": 23,
     "metadata": {},
     "output_type": "execute_result"
    }
   ],
   "source": [
    "donors[[\"ADATE_\" + str(i) for i in range(2,25)]].max() - donors[[\"ADATE_\" + str(i) for i in range(2,25)]].min()"
   ]
  },
  {
   "cell_type": "code",
   "execution_count": 24,
   "metadata": {},
   "outputs": [
    {
     "name": "stdout",
     "output_type": "stream",
     "text": [
      "0     95399\n",
      "61       13\n",
      "Name: ADATE_2, dtype: int64 0     95399\n",
      "61       13\n",
      "Name: ADATE_2, dtype: int64 \n",
      "\n",
      "365.0    93444\n",
      "426.0       18\n",
      "Name: ADATE_3, dtype: int64 365.0    93444\n",
      "426.0       18\n",
      "Name: ADATE_3, dtype: int64 \n",
      "\n",
      "426.0    92405\n",
      "335.0      403\n",
      "396.0      199\n",
      "273.0      178\n",
      "457.0       21\n",
      "Name: ADATE_4, dtype: int64 273.0    178\n",
      "457.0     21\n",
      "486.0      6\n",
      "548.0      6\n",
      "578.0      3\n",
      "Name: ADATE_4, dtype: int64 \n",
      "\n",
      "426.0    61822\n",
      "Name: ADATE_5, dtype: int64 426.0    61822\n",
      "Name: ADATE_5, dtype: int64 \n",
      "\n",
      "457.0    91804\n",
      "517.0       51\n",
      "Name: ADATE_6, dtype: int64 457.0    91804\n",
      "517.0       51\n",
      "Name: ADATE_6, dtype: int64 \n",
      "\n",
      "486.0    81512\n",
      "517.0     4906\n",
      "548.0      120\n",
      "Name: ADATE_7, dtype: int64 486.0    81512\n",
      "517.0     4906\n",
      "548.0      120\n",
      "Name: ADATE_7, dtype: int64 \n",
      "\n",
      "517.0    85468\n",
      "548.0     6360\n",
      "578.0       51\n",
      "457.0       18\n",
      "396.0        4\n",
      "Name: ADATE_8, dtype: int64 517.0    85468\n",
      "548.0     6360\n",
      "578.0       51\n",
      "457.0       18\n",
      "396.0        4\n",
      "Name: ADATE_8, dtype: int64 \n",
      "\n",
      "578.0    80718\n",
      "639.0     2689\n",
      "609.0      760\n",
      "Name: ADATE_9, dtype: int64 578.0    80718\n",
      "639.0     2689\n",
      "609.0      760\n",
      "Name: ADATE_9, dtype: int64 \n",
      "\n",
      "609.0    57562\n",
      "578.0     5102\n",
      "Name: ADATE_10, dtype: int64 609.0    57562\n",
      "578.0     5102\n",
      "Name: ADATE_10, dtype: int64 \n",
      "\n",
      "609.0    58631\n",
      "639.0    22160\n",
      "578.0     4133\n",
      "670.0       66\n",
      "Name: ADATE_11, dtype: int64 609.0    58631\n",
      "639.0    22160\n",
      "578.0     4133\n",
      "670.0       66\n",
      "Name: ADATE_11, dtype: int64 \n",
      "\n",
      "670.0    49299\n",
      "639.0    36442\n",
      "609.0      686\n",
      "701.0       62\n",
      "Name: ADATE_12, dtype: int64 670.0    49299\n",
      "639.0    36442\n",
      "609.0      686\n",
      "701.0       62\n",
      "Name: ADATE_12, dtype: int64 \n",
      "\n",
      "701.0    54713\n",
      "851.0      280\n",
      "731.0      200\n",
      "Name: ADATE_13, dtype: int64 701.0    54713\n",
      "851.0      280\n",
      "731.0      200\n",
      "Name: ADATE_13, dtype: int64 \n",
      "\n",
      "731.0    76381\n",
      "792.0      164\n",
      "Name: ADATE_14, dtype: int64 731.0    76381\n",
      "792.0      164\n",
      "Name: ADATE_14, dtype: int64 \n",
      "\n",
      "792.0    29935\n",
      "Name: ADATE_15, dtype: int64 792.0    29935\n",
      "Name: ADATE_15, dtype: int64 \n",
      "\n",
      "823.0    73422\n",
      "792.0     1502\n",
      "851.0      124\n",
      "Name: ADATE_16, dtype: int64 823.0    73422\n",
      "792.0     1502\n",
      "851.0      124\n",
      "Name: ADATE_16, dtype: int64 \n",
      "\n",
      "851.0    62326\n",
      "882.0     5417\n",
      "823.0       19\n",
      "Name: ADATE_17, dtype: int64 851.0    62326\n",
      "882.0     5417\n",
      "823.0       19\n",
      "Name: ADATE_17, dtype: int64 \n",
      "\n",
      "882.0     43453\n",
      "913.0     30521\n",
      "943.0        98\n",
      "1004.0       31\n",
      "762.0        15\n",
      "Name: ADATE_18, dtype: int64 762.0    15\n",
      "792.0    10\n",
      "851.0     8\n",
      "670.0     7\n",
      "823.0     6\n",
      "Name: ADATE_18, dtype: int64 \n",
      "\n",
      "943.0     69304\n",
      "1004.0     1546\n",
      "974.0        82\n",
      "Name: ADATE_19, dtype: int64 943.0     69304\n",
      "1004.0     1546\n",
      "974.0        82\n",
      "Name: ADATE_19, dtype: int64 \n",
      "\n",
      "943.0    45198\n",
      "913.0       14\n",
      "Name: ADATE_20, dtype: int64 943.0    45198\n",
      "913.0       14\n",
      "Name: ADATE_20, dtype: int64 \n",
      "\n",
      "974.0     55865\n",
      "1004.0     4335\n",
      "Name: ADATE_21, dtype: int64 974.0     55865\n",
      "1004.0     4335\n",
      "Name: ADATE_21, dtype: int64 \n",
      "\n",
      "1004.0    63908\n",
      "1035.0     5035\n",
      "731.0       801\n",
      "974.0        11\n",
      "943.0         9\n",
      "Name: ADATE_22, dtype: int64 1004.0    63908\n",
      "1035.0     5035\n",
      "731.0       801\n",
      "974.0        11\n",
      "943.0         9\n",
      "Name: ADATE_22, dtype: int64 \n",
      "\n",
      "1066.0    38877\n",
      "1096.0      243\n",
      "1278.0       22\n",
      "Name: ADATE_23, dtype: int64 1066.0    38877\n",
      "1096.0      243\n",
      "1278.0       22\n",
      "Name: ADATE_23, dtype: int64 \n",
      "\n",
      "1096.0    58161\n",
      "1127.0      278\n",
      "Name: ADATE_24, dtype: int64 1096.0    58161\n",
      "1127.0      278\n",
      "Name: ADATE_24, dtype: int64 \n",
      "\n"
     ]
    }
   ],
   "source": [
    "for element in [\"ADATE_\" + str(i) for i in range(2,25)]:\n",
    "    print(donors[element].value_counts().head(), donors[element].value_counts().tail(), \"\\n\")"
   ]
  },
  {
   "cell_type": "markdown",
   "metadata": {},
   "source": [
    "As we have now obtained a closer look into the distribution of the ADATEs, we can definitely drop these features due to a lack of variation!"
   ]
  },
  {
   "cell_type": "code",
   "execution_count": 25,
   "metadata": {},
   "outputs": [],
   "source": [
    "donors = donors.drop(columns = [\"ADATE_\" + str(i) for i in range(2,25)])"
   ]
  },
  {
   "cell_type": "markdown",
   "metadata": {},
   "source": [
    "We might have dropped the ADATEs and the RDATEs as they don't fit our clustering purposes, however, there is still some information that we can take from them:"
   ]
  },
  {
   "cell_type": "code",
   "execution_count": 26,
   "metadata": {},
   "outputs": [
    {
     "data": {
      "text/html": [
       "<div>\n",
       "<style scoped>\n",
       "    .dataframe tbody tr th:only-of-type {\n",
       "        vertical-align: middle;\n",
       "    }\n",
       "\n",
       "    .dataframe tbody tr th {\n",
       "        vertical-align: top;\n",
       "    }\n",
       "\n",
       "    .dataframe thead th {\n",
       "        text-align: right;\n",
       "    }\n",
       "</style>\n",
       "<table border=\"1\" class=\"dataframe\">\n",
       "  <thead>\n",
       "    <tr style=\"text-align: right;\">\n",
       "      <th></th>\n",
       "      <th>percentage that gifted</th>\n",
       "    </tr>\n",
       "  </thead>\n",
       "  <tbody>\n",
       "    <tr>\n",
       "      <th>96NK promotion (3)</th>\n",
       "      <td>0.258929</td>\n",
       "    </tr>\n",
       "    <tr>\n",
       "      <th>96TK promotion (4)</th>\n",
       "      <td>0.301434</td>\n",
       "    </tr>\n",
       "    <tr>\n",
       "      <th>96SK promotion (5)</th>\n",
       "      <td>0.014558</td>\n",
       "    </tr>\n",
       "    <tr>\n",
       "      <th>96LL promotion (6)</th>\n",
       "      <td>0.844810</td>\n",
       "    </tr>\n",
       "    <tr>\n",
       "      <th>96G1 promotion (7)</th>\n",
       "      <td>10.278721</td>\n",
       "    </tr>\n",
       "    <tr>\n",
       "      <th>96GK promotion (8)</th>\n",
       "      <td>23.364272</td>\n",
       "    </tr>\n",
       "    <tr>\n",
       "      <th>96CC promotion (9)</th>\n",
       "      <td>19.881901</td>\n",
       "    </tr>\n",
       "    <tr>\n",
       "      <th>96WL promotion (10)</th>\n",
       "      <td>16.693795</td>\n",
       "    </tr>\n",
       "    <tr>\n",
       "      <th>96X1 promotion (11)</th>\n",
       "      <td>17.343217</td>\n",
       "    </tr>\n",
       "    <tr>\n",
       "      <th>96XK promotion (12)</th>\n",
       "      <td>29.714761</td>\n",
       "    </tr>\n",
       "    <tr>\n",
       "      <th>95FS promotion (13)</th>\n",
       "      <td>22.194844</td>\n",
       "    </tr>\n",
       "    <tr>\n",
       "      <th>95NK promotion (14)</th>\n",
       "      <td>30.461820</td>\n",
       "    </tr>\n",
       "    <tr>\n",
       "      <th>95TK promotion (15)</th>\n",
       "      <td>24.259228</td>\n",
       "    </tr>\n",
       "    <tr>\n",
       "      <th>95LL promotion (16)</th>\n",
       "      <td>35.968980</td>\n",
       "    </tr>\n",
       "    <tr>\n",
       "      <th>95G1 promotion (17)</th>\n",
       "      <td>13.873557</td>\n",
       "    </tr>\n",
       "    <tr>\n",
       "      <th>95GK promotion (18)</th>\n",
       "      <td>26.673320</td>\n",
       "    </tr>\n",
       "    <tr>\n",
       "      <th>95CC promotion (19)</th>\n",
       "      <td>22.383409</td>\n",
       "    </tr>\n",
       "    <tr>\n",
       "      <th>95WL promotion (20)</th>\n",
       "      <td>17.446696</td>\n",
       "    </tr>\n",
       "    <tr>\n",
       "      <th>95X1 promotion (21)</th>\n",
       "      <td>15.802326</td>\n",
       "    </tr>\n",
       "    <tr>\n",
       "      <th>95XK promotion (22)</th>\n",
       "      <td>29.919443</td>\n",
       "    </tr>\n",
       "    <tr>\n",
       "      <th>94FS promotion (23)</th>\n",
       "      <td>20.078177</td>\n",
       "    </tr>\n",
       "    <tr>\n",
       "      <th>94NK promotion (24)</th>\n",
       "      <td>30.353018</td>\n",
       "    </tr>\n",
       "  </tbody>\n",
       "</table>\n",
       "</div>"
      ],
      "text/plain": [
       "                     percentage that gifted\n",
       "96NK promotion (3)                 0.258929\n",
       "96TK promotion (4)                 0.301434\n",
       "96SK promotion (5)                 0.014558\n",
       "96LL promotion (6)                 0.844810\n",
       "96G1 promotion (7)                10.278721\n",
       "96GK promotion (8)                23.364272\n",
       "96CC promotion (9)                19.881901\n",
       "96WL promotion (10)               16.693795\n",
       "96X1 promotion (11)               17.343217\n",
       "96XK promotion (12)               29.714761\n",
       "95FS promotion (13)               22.194844\n",
       "95NK promotion (14)               30.461820\n",
       "95TK promotion (15)               24.259228\n",
       "95LL promotion (16)               35.968980\n",
       "95G1 promotion (17)               13.873557\n",
       "95GK promotion (18)               26.673320\n",
       "95CC promotion (19)               22.383409\n",
       "95WL promotion (20)               17.446696\n",
       "95X1 promotion (21)               15.802326\n",
       "95XK promotion (22)               29.919443\n",
       "94FS promotion (23)               20.078177\n",
       "94NK promotion (24)               30.353018"
      ]
     },
     "execution_count": 26,
     "metadata": {},
     "output_type": "execute_result"
    }
   ],
   "source": [
    "promotions = [\"96NK promotion (3)\", \"96TK promotion (4)\", \"96SK promotion (5)\", \"96LL promotion (6)\", \"96G1 promotion (7)\",\n",
    "\"96GK promotion (8)\", \"96CC promotion (9)\", \"96WL promotion (10)\", \"96X1 promotion (11)\", \"96XK promotion (12)\",\n",
    "\"95FS promotion (13)\", \"95NK promotion (14)\", \"95TK promotion (15)\", \"95LL promotion (16)\", \"95G1 promotion (17)\",\n",
    "\"95GK promotion (18)\", \"95CC promotion (19)\", \"95WL promotion (20)\", \"95X1 promotion (21)\", \"95XK promotion (22)\",\n",
    "\"94FS promotion (23)\", \"94NK promotion (24)\"]\n",
    "\n",
    "promotions_percentage = pd.DataFrame(percentage_that_gifted, promotions).rename(columns={0:\"percentage that gifted\"})\n",
    "promotions_percentage"
   ]
  },
  {
   "cell_type": "markdown",
   "metadata": {},
   "source": [
    "The most effective promotions in terms of the percentage of gift reception were:"
   ]
  },
  {
   "cell_type": "code",
   "execution_count": 27,
   "metadata": {},
   "outputs": [
    {
     "data": {
      "text/html": [
       "<div>\n",
       "<style scoped>\n",
       "    .dataframe tbody tr th:only-of-type {\n",
       "        vertical-align: middle;\n",
       "    }\n",
       "\n",
       "    .dataframe tbody tr th {\n",
       "        vertical-align: top;\n",
       "    }\n",
       "\n",
       "    .dataframe thead th {\n",
       "        text-align: right;\n",
       "    }\n",
       "</style>\n",
       "<table border=\"1\" class=\"dataframe\">\n",
       "  <thead>\n",
       "    <tr style=\"text-align: right;\">\n",
       "      <th></th>\n",
       "      <th>percentage that gifted</th>\n",
       "    </tr>\n",
       "  </thead>\n",
       "  <tbody>\n",
       "    <tr>\n",
       "      <th>95LL promotion (16)</th>\n",
       "      <td>35.968980</td>\n",
       "    </tr>\n",
       "    <tr>\n",
       "      <th>95NK promotion (14)</th>\n",
       "      <td>30.461820</td>\n",
       "    </tr>\n",
       "    <tr>\n",
       "      <th>94NK promotion (24)</th>\n",
       "      <td>30.353018</td>\n",
       "    </tr>\n",
       "    <tr>\n",
       "      <th>95XK promotion (22)</th>\n",
       "      <td>29.919443</td>\n",
       "    </tr>\n",
       "    <tr>\n",
       "      <th>96XK promotion (12)</th>\n",
       "      <td>29.714761</td>\n",
       "    </tr>\n",
       "  </tbody>\n",
       "</table>\n",
       "</div>"
      ],
      "text/plain": [
       "                     percentage that gifted\n",
       "95LL promotion (16)               35.968980\n",
       "95NK promotion (14)               30.461820\n",
       "94NK promotion (24)               30.353018\n",
       "95XK promotion (22)               29.919443\n",
       "96XK promotion (12)               29.714761"
      ]
     },
     "execution_count": 27,
     "metadata": {},
     "output_type": "execute_result"
    }
   ],
   "source": [
    "promotions_percentage.sort_values(by=\"percentage that gifted\", ascending = False).head()"
   ]
  },
  {
   "cell_type": "markdown",
   "metadata": {},
   "source": [
    "However, this might be a bit biased as these are mostly older promotions, so there was in general more time for the donors to donate. But these five still have a remarkable share of response, so maybe they should be looked at closer and be used as a template for future promotions."
   ]
  },
  {
   "cell_type": "markdown",
   "metadata": {},
   "source": [
    "### Min and Max Dates"
   ]
  },
  {
   "cell_type": "markdown",
   "metadata": {},
   "source": [
    "The following variables might give us some more details of the donors behaviour:"
   ]
  },
  {
   "cell_type": "code",
   "execution_count": 28,
   "metadata": {},
   "outputs": [],
   "source": [
    "min_max= [\"ODATEDW\", \"MAXADATE\", \"MINRDATE\", \"MAXRDATE\", \"LASTDATE\", \"FISTDATE\", \"NEXTDATE\"]"
   ]
  },
  {
   "cell_type": "markdown",
   "metadata": {},
   "source": [
    "Here it also makes sense to calculate the days that these dates lie in the past:"
   ]
  },
  {
   "cell_type": "code",
   "execution_count": 29,
   "metadata": {},
   "outputs": [],
   "source": [
    "for element in min_max:\n",
    "    donors[element] = donors[element].apply(days).dt.days"
   ]
  },
  {
   "cell_type": "code",
   "execution_count": 30,
   "metadata": {},
   "outputs": [
    {
     "data": {
      "text/html": [
       "<div>\n",
       "<style scoped>\n",
       "    .dataframe tbody tr th:only-of-type {\n",
       "        vertical-align: middle;\n",
       "    }\n",
       "\n",
       "    .dataframe tbody tr th {\n",
       "        vertical-align: top;\n",
       "    }\n",
       "\n",
       "    .dataframe thead th {\n",
       "        text-align: right;\n",
       "    }\n",
       "</style>\n",
       "<table border=\"1\" class=\"dataframe\">\n",
       "  <thead>\n",
       "    <tr style=\"text-align: right;\">\n",
       "      <th></th>\n",
       "      <th>ODATEDW</th>\n",
       "      <th>MAXADATE</th>\n",
       "      <th>MINRDATE</th>\n",
       "      <th>MAXRDATE</th>\n",
       "      <th>LASTDATE</th>\n",
       "      <th>FISTDATE</th>\n",
       "      <th>NEXTDATE</th>\n",
       "    </tr>\n",
       "  </thead>\n",
       "  <tbody>\n",
       "    <tr>\n",
       "      <th>ODATEDW</th>\n",
       "      <td>1.000000</td>\n",
       "      <td>-0.006875</td>\n",
       "      <td>0.772955</td>\n",
       "      <td>0.464558</td>\n",
       "      <td>-0.017462</td>\n",
       "      <td>0.986574</td>\n",
       "      <td>0.969990</td>\n",
       "    </tr>\n",
       "    <tr>\n",
       "      <th>MAXADATE</th>\n",
       "      <td>-0.006875</td>\n",
       "      <td>1.000000</td>\n",
       "      <td>-0.011018</td>\n",
       "      <td>-0.001887</td>\n",
       "      <td>-0.000092</td>\n",
       "      <td>-0.010066</td>\n",
       "      <td>-0.011344</td>\n",
       "    </tr>\n",
       "    <tr>\n",
       "      <th>MINRDATE</th>\n",
       "      <td>0.772955</td>\n",
       "      <td>-0.011018</td>\n",
       "      <td>1.000000</td>\n",
       "      <td>0.255400</td>\n",
       "      <td>0.083778</td>\n",
       "      <td>0.780198</td>\n",
       "      <td>0.726159</td>\n",
       "    </tr>\n",
       "    <tr>\n",
       "      <th>MAXRDATE</th>\n",
       "      <td>0.464558</td>\n",
       "      <td>-0.001887</td>\n",
       "      <td>0.255400</td>\n",
       "      <td>1.000000</td>\n",
       "      <td>0.057597</td>\n",
       "      <td>0.474320</td>\n",
       "      <td>0.445383</td>\n",
       "    </tr>\n",
       "    <tr>\n",
       "      <th>LASTDATE</th>\n",
       "      <td>-0.017462</td>\n",
       "      <td>-0.000092</td>\n",
       "      <td>0.083778</td>\n",
       "      <td>0.057597</td>\n",
       "      <td>1.000000</td>\n",
       "      <td>-0.021506</td>\n",
       "      <td>-0.013606</td>\n",
       "    </tr>\n",
       "    <tr>\n",
       "      <th>FISTDATE</th>\n",
       "      <td>0.986574</td>\n",
       "      <td>-0.010066</td>\n",
       "      <td>0.780198</td>\n",
       "      <td>0.474320</td>\n",
       "      <td>-0.021506</td>\n",
       "      <td>1.000000</td>\n",
       "      <td>0.983523</td>\n",
       "    </tr>\n",
       "    <tr>\n",
       "      <th>NEXTDATE</th>\n",
       "      <td>0.969990</td>\n",
       "      <td>-0.011344</td>\n",
       "      <td>0.726159</td>\n",
       "      <td>0.445383</td>\n",
       "      <td>-0.013606</td>\n",
       "      <td>0.983523</td>\n",
       "      <td>1.000000</td>\n",
       "    </tr>\n",
       "  </tbody>\n",
       "</table>\n",
       "</div>"
      ],
      "text/plain": [
       "           ODATEDW  MAXADATE  MINRDATE  MAXRDATE  LASTDATE  FISTDATE  NEXTDATE\n",
       "ODATEDW   1.000000 -0.006875  0.772955  0.464558 -0.017462  0.986574  0.969990\n",
       "MAXADATE -0.006875  1.000000 -0.011018 -0.001887 -0.000092 -0.010066 -0.011344\n",
       "MINRDATE  0.772955 -0.011018  1.000000  0.255400  0.083778  0.780198  0.726159\n",
       "MAXRDATE  0.464558 -0.001887  0.255400  1.000000  0.057597  0.474320  0.445383\n",
       "LASTDATE -0.017462 -0.000092  0.083778  0.057597  1.000000 -0.021506 -0.013606\n",
       "FISTDATE  0.986574 -0.010066  0.780198  0.474320 -0.021506  1.000000  0.983523\n",
       "NEXTDATE  0.969990 -0.011344  0.726159  0.445383 -0.013606  0.983523  1.000000"
      ]
     },
     "execution_count": 30,
     "metadata": {},
     "output_type": "execute_result"
    }
   ],
   "source": [
    "donors[min_max].corr()"
   ]
  },
  {
   "cell_type": "markdown",
   "metadata": {},
   "source": [
    "By looking at the correlations, we can see that there are some highly correlated features. Especially ODATEDW and FIRSTDATE, which is no surprise as the are both representing the first date that a donor has donated (one with a promotion and one overall). We decided to drop ODATEDW, as we still keep NEXTDATE, because it might become an interesting thing to know when and whether a donor donated a second time. And as NEXTDATE is directly linked to FISTDATE, it is better to drop ODATEDW instead of FISTDATE."
   ]
  },
  {
   "cell_type": "code",
   "execution_count": 31,
   "metadata": {},
   "outputs": [],
   "source": [
    "donors = donors.drop(columns=[\"ODATEDW\"])\n",
    "min_max.remove(\"ODATEDW\")"
   ]
  },
  {
   "cell_type": "markdown",
   "metadata": {},
   "source": [
    "Furthermore, we still need to address the problem of missing values within these columns:"
   ]
  },
  {
   "cell_type": "code",
   "execution_count": 32,
   "metadata": {},
   "outputs": [
    {
     "name": "stdout",
     "output_type": "stream",
     "text": [
      "Percentage of missing values:\n",
      "\n",
      "MAXADATE : 0.0 ( 95412 non nan values)\n",
      "MINRDATE : 0.0 ( 95412 non nan values)\n",
      "MAXRDATE : 0.0 ( 95412 non nan values)\n",
      "LASTDATE : 0.0 ( 95412 non nan values)\n",
      "FISTDATE : 0.002 ( 95410 non nan values)\n",
      "NEXTDATE : 10.453 ( 85439 non nan values)\n"
     ]
    }
   ],
   "source": [
    "print(\"Percentage of missing values:\\n\")\n",
    "for element in min_max:\n",
    "    print(element, \":\", np.round(100 - donors[element].isna().value_counts()[False]/len(donors)*100,3), \"(\", donors[element].isna().value_counts()[False], \"non nan values)\")"
   ]
  },
  {
   "cell_type": "markdown",
   "metadata": {},
   "source": [
    "As we can see, we have a very low percentage of missing values within these columns. In fact, we only need to replace nans in FISTDATE and NEXTDATE."
   ]
  },
  {
   "cell_type": "code",
   "execution_count": 33,
   "metadata": {},
   "outputs": [
    {
     "name": "stdout",
     "output_type": "stream",
     "text": [
      "FISTDATE mean: 2080.0\n",
      "FISTDATE median: 1978.0\n",
      "FISTDATE most frequent: 882.0 \n",
      "\n",
      "NEXTDATE mean: 2010.0\n",
      "NEXTDATE median: 1887.0\n",
      "NEXTDATE most frequent: 792.0\n"
     ]
    }
   ],
   "source": [
    "print(\"FISTDATE mean:\", np.round(donors[\"FISTDATE\"].mean()))\n",
    "print(\"FISTDATE median:\", np.round(donors[\"FISTDATE\"].median()))\n",
    "print(\"FISTDATE most frequent:\", np.round(donors[\"FISTDATE\"].value_counts().idxmax()), \"\\n\")\n",
    "\n",
    "print(\"NEXTDATE mean:\", np.round(donors[\"NEXTDATE\"].mean()))\n",
    "print(\"NEXTDATE median:\", np.round(donors[\"NEXTDATE\"].median()))\n",
    "print(\"NEXTDATE most frequent:\", np.round(donors[\"NEXTDATE\"].value_counts().idxmax()))"
   ]
  },
  {
   "cell_type": "markdown",
   "metadata": {},
   "source": [
    "We decide to fill the columns with the median, as it seems to be the \"most correct\" approach:"
   ]
  },
  {
   "cell_type": "code",
   "execution_count": 34,
   "metadata": {},
   "outputs": [],
   "source": [
    "donors_co = donors\n",
    "donors[\"FISTDATE\"] = donors[\"FISTDATE\"].replace(np.nan, np.round(donors[\"AGE\"].median()))"
   ]
  },
  {
   "cell_type": "code",
   "execution_count": 35,
   "metadata": {},
   "outputs": [
    {
     "data": {
      "text/plain": [
       "486.0    2109\n",
       "517.0    2092\n",
       "639.0    1368\n",
       "609.0    1247\n",
       "731.0     889\n",
       "701.0     587\n",
       "457.0     522\n",
       "578.0     471\n",
       "548.0     426\n",
       "670.0     114\n",
       "792.0      73\n",
       "762.0      51\n",
       "823.0      24\n",
       "Name: FISTDATE, dtype: int64"
      ]
     },
     "execution_count": 35,
     "metadata": {},
     "output_type": "execute_result"
    }
   ],
   "source": [
    "donors[donors[\"NEXTDATE\"].isna()][\"FISTDATE\"].sort_values().value_counts()"
   ]
  },
  {
   "cell_type": "markdown",
   "metadata": {},
   "source": [
    "#### Should we drop the columns with no NEXTDATE instead?\n",
    "\n",
    "* They are very unlikely to donate again, and might so bias our clustering\n",
    "* They have not donated since at least 486 days, so we lost them by almost 100%\n",
    "\n",
    "-> We decide to drop them, as they are very very unlikely to donate again and therefore are not very fitting for our upcoming clustering approaches! The other way would be to pretend that they have donated multiple times and therefore assign them the median NEXTDATE, which we don't want to do as it would transfer almost 10000 one time donors into donors that donated multiple times!"
   ]
  },
  {
   "cell_type": "code",
   "execution_count": 36,
   "metadata": {},
   "outputs": [],
   "source": [
    "donors_co = donors_co[~donors_co[\"NEXTDATE\"].isna()]\n",
    "donors = donors[~donors[\"NEXTDATE\"].isna()]"
   ]
  },
  {
   "cell_type": "markdown",
   "metadata": {},
   "source": [
    "We should also check for inconsitencies, so we also drop the entries that have only given one gift according to the NGIFTALL feature. These are only 35:"
   ]
  },
  {
   "cell_type": "code",
   "execution_count": 37,
   "metadata": {},
   "outputs": [
    {
     "data": {
      "text/plain": [
       "(85439, 428)"
      ]
     },
     "execution_count": 37,
     "metadata": {},
     "output_type": "execute_result"
    }
   ],
   "source": [
    "donors.shape"
   ]
  },
  {
   "cell_type": "code",
   "execution_count": 38,
   "metadata": {},
   "outputs": [
    {
     "data": {
      "text/plain": [
       "35"
      ]
     },
     "execution_count": 38,
     "metadata": {},
     "output_type": "execute_result"
    }
   ],
   "source": [
    "donors[\"NGIFTALL\"].value_counts()[1]"
   ]
  },
  {
   "cell_type": "code",
   "execution_count": 39,
   "metadata": {},
   "outputs": [],
   "source": [
    "donors = donors[donors[\"NGIFTALL\"] != 1]\n",
    "donors_co = donors_co[donors_co[\"NGIFTALL\"] != 1]"
   ]
  },
  {
   "cell_type": "code",
   "execution_count": 40,
   "metadata": {},
   "outputs": [
    {
     "data": {
      "text/plain": [
       "int64      304\n",
       "object      72\n",
       "float64     52\n",
       "dtype: int64"
      ]
     },
     "execution_count": 40,
     "metadata": {},
     "output_type": "execute_result"
    }
   ],
   "source": [
    "donors.dtypes.value_counts()"
   ]
  },
  {
   "cell_type": "code",
   "execution_count": 41,
   "metadata": {},
   "outputs": [
    {
     "data": {
      "text/plain": [
       "(85404, 428)"
      ]
     },
     "execution_count": 41,
     "metadata": {},
     "output_type": "execute_result"
    }
   ],
   "source": [
    "donors.shape"
   ]
  },
  {
   "cell_type": "markdown",
   "metadata": {},
   "source": [
    "### Lapsing donors"
   ]
  },
  {
   "cell_type": "markdown",
   "metadata": {},
   "source": [
    "As we have transformed all the dates now, we can check the data for lapsing donors by using the current date found above and the LASTDATE column that tells us when a donors last donation took place."
   ]
  },
  {
   "cell_type": "code",
   "execution_count": 42,
   "metadata": {},
   "outputs": [
    {
     "data": {
      "text/html": [
       "<div>\n",
       "<style scoped>\n",
       "    .dataframe tbody tr th:only-of-type {\n",
       "        vertical-align: middle;\n",
       "    }\n",
       "\n",
       "    .dataframe tbody tr th {\n",
       "        vertical-align: top;\n",
       "    }\n",
       "\n",
       "    .dataframe thead th {\n",
       "        text-align: right;\n",
       "    }\n",
       "</style>\n",
       "<table border=\"1\" class=\"dataframe\">\n",
       "  <thead>\n",
       "    <tr style=\"text-align: right;\">\n",
       "      <th></th>\n",
       "      <th>Days in the past</th>\n",
       "      <th>LASTDATE</th>\n",
       "    </tr>\n",
       "  </thead>\n",
       "  <tbody>\n",
       "    <tr>\n",
       "      <th>12</th>\n",
       "      <td>120</td>\n",
       "      <td>819</td>\n",
       "    </tr>\n",
       "    <tr>\n",
       "      <th>14</th>\n",
       "      <td>151</td>\n",
       "      <td>745</td>\n",
       "    </tr>\n",
       "    <tr>\n",
       "      <th>13</th>\n",
       "      <td>182</td>\n",
       "      <td>766</td>\n",
       "    </tr>\n",
       "    <tr>\n",
       "      <th>16</th>\n",
       "      <td>212</td>\n",
       "      <td>432</td>\n",
       "    </tr>\n",
       "    <tr>\n",
       "      <th>17</th>\n",
       "      <td>243</td>\n",
       "      <td>407</td>\n",
       "    </tr>\n",
       "    <tr>\n",
       "      <th>18</th>\n",
       "      <td>273</td>\n",
       "      <td>280</td>\n",
       "    </tr>\n",
       "    <tr>\n",
       "      <th>20</th>\n",
       "      <td>304</td>\n",
       "      <td>208</td>\n",
       "    </tr>\n",
       "    <tr>\n",
       "      <th>23</th>\n",
       "      <td>335</td>\n",
       "      <td>144</td>\n",
       "    </tr>\n",
       "    <tr>\n",
       "      <th>22</th>\n",
       "      <td>365</td>\n",
       "      <td>148</td>\n",
       "    </tr>\n",
       "    <tr>\n",
       "      <th>19</th>\n",
       "      <td>396</td>\n",
       "      <td>220</td>\n",
       "    </tr>\n",
       "    <tr>\n",
       "      <th>21</th>\n",
       "      <td>426</td>\n",
       "      <td>168</td>\n",
       "    </tr>\n",
       "    <tr>\n",
       "      <th>1</th>\n",
       "      <td>457</td>\n",
       "      <td>9974</td>\n",
       "    </tr>\n",
       "    <tr>\n",
       "      <th>3</th>\n",
       "      <td>486</td>\n",
       "      <td>9003</td>\n",
       "    </tr>\n",
       "    <tr>\n",
       "      <th>2</th>\n",
       "      <td>517</td>\n",
       "      <td>9890</td>\n",
       "    </tr>\n",
       "    <tr>\n",
       "      <th>0</th>\n",
       "      <td>548</td>\n",
       "      <td>19469</td>\n",
       "    </tr>\n",
       "    <tr>\n",
       "      <th>4</th>\n",
       "      <td>578</td>\n",
       "      <td>7765</td>\n",
       "    </tr>\n",
       "    <tr>\n",
       "      <th>7</th>\n",
       "      <td>609</td>\n",
       "      <td>4158</td>\n",
       "    </tr>\n",
       "    <tr>\n",
       "      <th>5</th>\n",
       "      <td>639</td>\n",
       "      <td>5055</td>\n",
       "    </tr>\n",
       "    <tr>\n",
       "      <th>9</th>\n",
       "      <td>670</td>\n",
       "      <td>2670</td>\n",
       "    </tr>\n",
       "    <tr>\n",
       "      <th>11</th>\n",
       "      <td>701</td>\n",
       "      <td>2364</td>\n",
       "    </tr>\n",
       "    <tr>\n",
       "      <th>8</th>\n",
       "      <td>731</td>\n",
       "      <td>3552</td>\n",
       "    </tr>\n",
       "    <tr>\n",
       "      <th>10</th>\n",
       "      <td>762</td>\n",
       "      <td>2370</td>\n",
       "    </tr>\n",
       "    <tr>\n",
       "      <th>6</th>\n",
       "      <td>792</td>\n",
       "      <td>4331</td>\n",
       "    </tr>\n",
       "    <tr>\n",
       "      <th>15</th>\n",
       "      <td>823</td>\n",
       "      <td>466</td>\n",
       "    </tr>\n",
       "  </tbody>\n",
       "</table>\n",
       "</div>"
      ],
      "text/plain": [
       "    Days in the past  LASTDATE\n",
       "12               120       819\n",
       "14               151       745\n",
       "13               182       766\n",
       "16               212       432\n",
       "17               243       407\n",
       "18               273       280\n",
       "20               304       208\n",
       "23               335       144\n",
       "22               365       148\n",
       "19               396       220\n",
       "21               426       168\n",
       "1                457      9974\n",
       "3                486      9003\n",
       "2                517      9890\n",
       "0                548     19469\n",
       "4                578      7765\n",
       "7                609      4158\n",
       "5                639      5055\n",
       "9                670      2670\n",
       "11               701      2364\n",
       "8                731      3552\n",
       "10               762      2370\n",
       "6                792      4331\n",
       "15               823       466"
      ]
     },
     "execution_count": 42,
     "metadata": {},
     "output_type": "execute_result"
    }
   ],
   "source": [
    "#displaying the number of observations grouped by the amount of days their last donation lies behind\n",
    "days_past = pd.DataFrame(donors[\"LASTDATE\"].value_counts()).reset_index().rename(columns={\"index\":\"Days in the past\"}).sort_values(by=\"Days in the past\")\n",
    "days_past"
   ]
  },
  {
   "cell_type": "markdown",
   "metadata": {},
   "source": [
    "Lapsed donors are donors, that donated in the last 12-24 months, so their days in the past would be between 365 days and 792 days (as 2016 was a lap year). Let's count how many donors are lapsed donors:"
   ]
  },
  {
   "cell_type": "code",
   "execution_count": 43,
   "metadata": {},
   "outputs": [
    {
     "data": {
      "text/plain": [
       "74436"
      ]
     },
     "execution_count": 43,
     "metadata": {},
     "output_type": "execute_result"
    }
   ],
   "source": [
    "days_past[(days_past[\"Days in the past\"] <= 731) & (days_past[\"Days in the past\"] >= 365)].sum().iloc[1]"
   ]
  },
  {
   "cell_type": "markdown",
   "metadata": {},
   "source": [
    "There are 74436 lapsing donors within our remaining DataFrame, so a vast majority of almost 90%. We will have a look at them again after our clustering is done."
   ]
  },
  {
   "cell_type": "markdown",
   "metadata": {},
   "source": [
    "# Creating subsets"
   ]
  },
  {
   "cell_type": "markdown",
   "metadata": {},
   "source": [
    "As we have a very high amount of columns in our DataFrame, we will now create several subsets for them. Thereby, we try to find the most similar features concerning their given information and group them together. This will help us to better understand the DataFrame as well as to prepare the Data for the clustering."
   ]
  },
  {
   "cell_type": "markdown",
   "metadata": {},
   "source": [
    "### subset: Neighbourhood"
   ]
  },
  {
   "cell_type": "code",
   "execution_count": 44,
   "metadata": {},
   "outputs": [],
   "source": [
    "donors_copy = donors.copy()"
   ]
  },
  {
   "cell_type": "markdown",
   "metadata": {},
   "source": [
    "The following variables reflect characteristics of the donors neighborhood, as collected from the 2010 US Census."
   ]
  },
  {
   "cell_type": "code",
   "execution_count": 45,
   "metadata": {},
   "outputs": [],
   "source": [
    "neighbourhood = ['POP901', 'POP902', 'POP903', 'POP90C1', 'POP90C2', 'POP90C3', 'POP90C4', 'POP90C5', 'ETH1', 'ETH2', 'ETH3', 'ETH4', 'ETH5', 'ETH6', 'ETH7', 'ETH8', 'ETH9', 'ETH10', 'ETH11', 'ETH12', 'ETH13', 'ETH14', 'ETH15', 'ETH16', 'AGE901', 'AGE902', 'AGE903', 'AGE904', 'AGE905', 'AGE906', 'AGE907', 'CHIL1', 'CHIL2', 'CHIL3', 'AGEC1', 'AGEC2', 'AGEC3', 'AGEC4', 'AGEC5', 'AGEC6', 'AGEC7', 'CHILC1', 'CHILC2', 'CHILC3', 'CHILC4', 'CHILC5', 'HHAGE1', 'HHAGE2', 'HHAGE3', 'HHN1', 'HHN2', 'HHN3', 'HHN4', 'HHN5', 'HHN6', 'MARR1', 'MARR2', 'MARR3', 'MARR4', 'HHP1', 'HHP2', 'DW1', 'DW2', 'DW3', 'DW4', 'DW5', 'DW6', 'DW7', 'DW8', 'DW9', 'HV1', 'HV2', 'HV3', 'HV4', 'HU1', 'HU2', 'HU3', 'HU4', 'HU5', 'HHD1', 'HHD2', 'HHD3', 'HHD4', 'HHD5', 'HHD6', 'HHD7', 'HHD8', 'HHD9', 'HHD10', 'HHD11', 'HHD12', 'ETHC1', 'ETHC2', 'ETHC3', 'ETHC4', 'ETHC5', 'ETHC6', 'HVP1', 'HVP2', 'HVP3', 'HVP4', 'HVP5', 'HVP6', 'HUR1', 'HUR2', 'RHP1', 'RHP2', 'RHP3', 'RHP4', 'HUPA1', 'HUPA2', 'HUPA3', 'HUPA4', 'HUPA5', 'HUPA6', 'HUPA7', 'RP1', 'RP2', 'RP3', 'RP4', 'MSA', 'ADI', 'DMA', 'IC1', 'IC2', 'IC3', 'IC4', 'IC5', 'IC6', 'IC7', 'IC8', 'IC9', 'IC10', 'IC11', 'IC12', 'IC13', 'IC14', 'IC15', 'IC16', 'IC17', 'IC18', 'IC19', 'IC20', 'IC21', 'IC22', 'IC23', 'HHAS1', 'HHAS2', 'HHAS3', 'HHAS4', 'MC1', 'MC2', 'MC3', 'TPE1', 'TPE2', 'TPE3', 'TPE4', 'TPE5', 'TPE6', 'TPE7', 'TPE8', 'TPE9', 'PEC1', 'PEC2', 'TPE10', 'TPE11', 'TPE12', 'TPE13', 'LFC1', 'LFC2', 'LFC3', 'LFC4', 'LFC5', 'LFC6', 'LFC7', 'LFC8', 'LFC9', 'LFC10', 'OCC1', 'OCC2', 'OCC3', 'OCC4', 'OCC5', 'OCC6', 'OCC7', 'OCC8', 'OCC9', 'OCC10', 'OCC11', 'OCC12', 'OCC13', 'EIC1', 'EIC2', 'EIC3', 'EIC4', 'EIC5', 'EIC6', 'EIC7', 'EIC8', 'EIC9', 'EIC10', 'EIC11', 'EIC12', 'EIC13', 'EIC14', 'EIC15', 'EIC16', 'OEDC1', 'OEDC2', 'OEDC3', 'OEDC4', 'OEDC5', 'OEDC6', 'OEDC7', 'EC1', 'EC2', 'EC3', 'EC4', 'EC5', 'EC6', 'EC7', 'EC8', 'SEC1', 'SEC2', 'SEC3', 'SEC4', 'SEC5', 'AFC1', 'AFC2', 'AFC3', 'AFC4', 'AFC5', 'AFC6', 'VC1', 'VC2', 'VC3', 'VC4', 'ANC1', 'ANC2', 'ANC3', 'ANC4', 'ANC5', 'ANC6', 'ANC7', 'ANC8', 'ANC9', 'ANC10', 'ANC11', 'ANC12', 'ANC13', 'ANC14', 'ANC15', 'POBC1', 'POBC2', 'LSC1', 'LSC2', 'LSC3', 'LSC4', 'VOC1', 'VOC2', 'VOC3', 'HC1', 'HC2', 'HC3', 'HC4', 'HC5', 'HC6', 'HC7', 'HC8', 'HC9', 'HC10', 'HC11', 'HC12', 'HC13', 'HC14', 'HC15', 'HC16', 'HC17', 'HC18', 'HC19', 'HC20', 'HC21', 'MHUC1', 'MHUC2', 'AC1', 'AC2', \"DOMAIN\"]"
   ]
  },
  {
   "cell_type": "code",
   "execution_count": 46,
   "metadata": {},
   "outputs": [],
   "source": [
    "#creating a dataframe that contains only the neighboorhood data\n",
    "subset_neighbourhood = donors[neighbourhood]\n",
    "donors_copy = donors_copy.drop(columns = neighbourhood)"
   ]
  },
  {
   "cell_type": "markdown",
   "metadata": {},
   "source": [
    "There are a lot of percentages within these neighbourhood columns. So we take a closer look at the ones that are not percentages."
   ]
  },
  {
   "cell_type": "code",
   "execution_count": 47,
   "metadata": {},
   "outputs": [],
   "source": [
    "not_percentages = [\"POP901\", \"POP902\", \"POP903\", \"AGE901\", \"AGE902\", \"AGE903\", \"AGE904\", \"AGE905\", \"AGE906\", \"HHP1\", \"HHP2\", \"DW9\", \"HV1\", \"HV2\", \"HV3\", \"HV4\", \"HUR1\", \"RHP1\", \"RHP2\", \"RHP3\", \"RHP4\", \"IC1\", \"IC2\", \"IC3\", \"IC4\", \"IC5\", \"TPE10\", \"TPE11\", \"EC1\", \"MHUC1\", \"MHUC2\"]\n",
    "for element in not_percentages:\n",
    "    neighbourhood.remove(element)"
   ]
  },
  {
   "cell_type": "code",
   "execution_count": 48,
   "metadata": {},
   "outputs": [],
   "source": [
    "codes = [\"MSA\", \"ADI\", \"DMA\", \"DOMAIN\"]\n",
    "for element in codes:\n",
    "    neighbourhood.remove(element)"
   ]
  },
  {
   "cell_type": "markdown",
   "metadata": {},
   "source": [
    "For the percentage columns, we concluded that an outlier removal is not very suitable, so we don't perform one. However, we check if there are any values higher than 100 or below 0:"
   ]
  },
  {
   "cell_type": "code",
   "execution_count": 49,
   "metadata": {},
   "outputs": [],
   "source": [
    "for element in neighbourhood:\n",
    "    if subset_neighbourhood[element].max() > 100:\n",
    "        print(element)\n",
    "    if subset_neighbourhood[element].min() < 0:\n",
    "        print(element)\n",
    "\n",
    "for element in neighbourhood:\n",
    "    if len(subset_neighbourhood[element].dropna()) != len(subset_neighbourhood):\n",
    "        print(element)\n",
    "        \n",
    "#there is no output so we can leave these columns as they are for now, as they have \"no outliers\" nor any nans"
   ]
  },
  {
   "cell_type": "markdown",
   "metadata": {},
   "source": [
    "##### Outlier Removal and Nans"
   ]
  },
  {
   "cell_type": "markdown",
   "metadata": {},
   "source": [
    "Let's check the non percentage features for outliers and nans now:"
   ]
  },
  {
   "cell_type": "code",
   "execution_count": 50,
   "metadata": {},
   "outputs": [],
   "source": [
    "for element in not_percentages:\n",
    "    if len(subset_neighbourhood[element].dropna()) != len(subset_neighbourhood):\n",
    "        print(element)\n",
    "        \n",
    "#there are no nans in these columns"
   ]
  },
  {
   "cell_type": "code",
   "execution_count": 51,
   "metadata": {},
   "outputs": [
    {
     "name": "stderr",
     "output_type": "stream",
     "text": [
      "<ipython-input-51-f1e5b9653e37>:2: SettingWithCopyWarning:\n",
      "\n",
      "\n",
      "A value is trying to be set on a copy of a slice from a DataFrame.\n",
      "Try using .loc[row_indexer,col_indexer] = value instead\n",
      "\n",
      "See the caveats in the documentation: https://pandas.pydata.org/pandas-docs/stable/user_guide/indexing.html#returning-a-view-versus-a-copy\n",
      "\n",
      "/Users/franz/opt/anaconda3/lib/python3.8/site-packages/pandas/core/indexing.py:966: SettingWithCopyWarning:\n",
      "\n",
      "\n",
      "A value is trying to be set on a copy of a slice from a DataFrame.\n",
      "Try using .loc[row_indexer,col_indexer] = value instead\n",
      "\n",
      "See the caveats in the documentation: https://pandas.pydata.org/pandas-docs/stable/user_guide/indexing.html#returning-a-view-versus-a-copy\n",
      "\n"
     ]
    },
    {
     "name": "stdout",
     "output_type": "stream",
     "text": [
      "POP901 : 3.0\n",
      "POP902 : 3.0\n",
      "POP903 : 3.0\n",
      "AGE901 : 0.0\n",
      "AGE905 : 1.0\n",
      "AGE906 : 1.0\n",
      "HHP1 : 0.0\n",
      "HHP2 : 0.0\n",
      "DW9 : 12.0\n",
      "HV1 : 1.0\n",
      "HV2 : 0.0\n",
      "HUR1 : 1.0\n",
      "RHP3 : 1.0\n",
      "RHP4 : 0.0\n",
      "IC5 : 0.0\n",
      "TPE10 : 0.0\n"
     ]
    }
   ],
   "source": [
    "for element in not_percentages:\n",
    "    subset_neighbourhood[element] = subset_neighbourhood[element].apply(float)\n",
    "\n",
    "for element in not_percentages:\n",
    "    q25 = subset_neighbourhood[element].quantile(0.25)\n",
    "    q75 = subset_neighbourhood[element].quantile(0.75)\n",
    "    iqr = q75 - q25\n",
    "    low = q25 - 6 * iqr\n",
    "    high = q75 + 6 * iqr\n",
    "    \n",
    "    series = subset_neighbourhood[element].between(low, high, inclusive=True)\n",
    "    for index in series[series==False].index.tolist():\n",
    "        subset_neighbourhood.loc[index, element] = np.nan\n",
    "    \n",
    "    try:\n",
    "        print(element, \":\", np.round(subset_neighbourhood[element].isna().value_counts()[True]/len(subset_neighbourhood),2)*100)\n",
    "    except:\n",
    "        0"
   ]
  },
  {
   "cell_type": "markdown",
   "metadata": {},
   "source": [
    "We can see that the only column where we drop a too large amount of the data is DW9, so we have a closer look into this column:"
   ]
  },
  {
   "cell_type": "code",
   "execution_count": 52,
   "metadata": {},
   "outputs": [
    {
     "data": {
      "text/plain": [
       "0.0    74810\n",
       "Name: DW9, dtype: int64"
      ]
     },
     "execution_count": 52,
     "metadata": {},
     "output_type": "execute_result"
    }
   ],
   "source": [
    "subset_neighbourhood[\"DW9\"].value_counts()"
   ]
  },
  {
   "cell_type": "markdown",
   "metadata": {},
   "source": [
    "We can see that it has a very low variation, so we drop the feature."
   ]
  },
  {
   "cell_type": "code",
   "execution_count": 53,
   "metadata": {},
   "outputs": [],
   "source": [
    "subset_neighbourhood = subset_neighbourhood.drop(columns=[\"DW9\"])\n",
    "not_percentages.remove(\"DW9\")"
   ]
  },
  {
   "cell_type": "markdown",
   "metadata": {},
   "source": [
    "For the rest, we can fill the nans with the medians, as these are all average and median values:"
   ]
  },
  {
   "cell_type": "code",
   "execution_count": 54,
   "metadata": {},
   "outputs": [],
   "source": [
    "for element in not_percentages:\n",
    "    subset_neighbourhood[element] = subset_neighbourhood[element].replace(np.nan, subset_neighbourhood[element].median())"
   ]
  },
  {
   "cell_type": "markdown",
   "metadata": {},
   "source": [
    "The following codes are not metric features, the are more some kind of zip code like features, so they are not suitable for clustering. The also contain some nan values. "
   ]
  },
  {
   "cell_type": "code",
   "execution_count": 55,
   "metadata": {},
   "outputs": [
    {
     "name": "stdout",
     "output_type": "stream",
     "text": [
      "MSA 0.14\n",
      "ADI 0.14\n",
      "DMA 0.14\n"
     ]
    }
   ],
   "source": [
    "for element in codes:\n",
    "    if len(subset_neighbourhood[element].dropna()) != len(subset_neighbourhood):\n",
    "        print(element, np.round(100 - np.round(len(subset_neighbourhood[element].dropna())/len(subset_neighbourhood), 4)*100,4))"
   ]
  },
  {
   "cell_type": "code",
   "execution_count": 56,
   "metadata": {},
   "outputs": [],
   "source": [
    "subset_neighbourhood_metric = subset_neighbourhood.drop(columns=codes)"
   ]
  },
  {
   "cell_type": "markdown",
   "metadata": {},
   "source": [
    "##### Checking for high correlation"
   ]
  },
  {
   "cell_type": "markdown",
   "metadata": {},
   "source": [
    "We should still check if there are any highly correlated columns among them:"
   ]
  },
  {
   "cell_type": "code",
   "execution_count": 57,
   "metadata": {},
   "outputs": [],
   "source": [
    "cor_matrix = subset_neighbourhood_metric.corr().abs()\n",
    "upper_tri = cor_matrix.where(np.triu(np.ones(cor_matrix.shape), k=1).astype(np.bool))"
   ]
  },
  {
   "cell_type": "markdown",
   "metadata": {},
   "source": [
    "We now drop the columns with a correltion of higher than 95% (of course always only one of them)"
   ]
  },
  {
   "cell_type": "code",
   "execution_count": 58,
   "metadata": {},
   "outputs": [],
   "source": [
    "to_drop = [column for column in upper_tri.columns if any(upper_tri[column] > 0.95)]\n",
    "subset_neighbourhood_metric = subset_neighbourhood_metric.drop(columns=to_drop)"
   ]
  },
  {
   "cell_type": "code",
   "execution_count": 59,
   "metadata": {},
   "outputs": [
    {
     "data": {
      "text/plain": [
       "['AGE903',\n",
       " 'AGE904',\n",
       " 'AGE906',\n",
       " 'HHAGE3',\n",
       " 'HHN4',\n",
       " 'HHP1',\n",
       " 'HHP2',\n",
       " 'DW2',\n",
       " 'DW5',\n",
       " 'DW6',\n",
       " 'HHD1',\n",
       " 'HHD9',\n",
       " 'ETHC4',\n",
       " 'ETHC5',\n",
       " 'RHP2',\n",
       " 'HUPA2',\n",
       " 'IC2',\n",
       " 'IC3',\n",
       " 'IC4',\n",
       " 'IC19',\n",
       " 'IC20',\n",
       " 'IC23',\n",
       " 'LFC4',\n",
       " 'LFC5',\n",
       " 'EIC1',\n",
       " 'AFC2',\n",
       " 'LSC2']"
      ]
     },
     "execution_count": 59,
     "metadata": {},
     "output_type": "execute_result"
    }
   ],
   "source": [
    "to_drop"
   ]
  },
  {
   "cell_type": "markdown",
   "metadata": {},
   "source": [
    "Now we have our almost fully prepared (but yet to be normalized) first subset ready for PCA and clustering!"
   ]
  },
  {
   "cell_type": "code",
   "execution_count": 60,
   "metadata": {},
   "outputs": [
    {
     "data": {
      "text/html": [
       "<div>\n",
       "<style scoped>\n",
       "    .dataframe tbody tr th:only-of-type {\n",
       "        vertical-align: middle;\n",
       "    }\n",
       "\n",
       "    .dataframe tbody tr th {\n",
       "        vertical-align: top;\n",
       "    }\n",
       "\n",
       "    .dataframe thead th {\n",
       "        text-align: right;\n",
       "    }\n",
       "</style>\n",
       "<table border=\"1\" class=\"dataframe\">\n",
       "  <thead>\n",
       "    <tr style=\"text-align: right;\">\n",
       "      <th></th>\n",
       "      <th>POP901</th>\n",
       "      <th>POP902</th>\n",
       "      <th>POP903</th>\n",
       "      <th>POP90C1</th>\n",
       "      <th>POP90C2</th>\n",
       "      <th>POP90C3</th>\n",
       "      <th>POP90C4</th>\n",
       "      <th>POP90C5</th>\n",
       "      <th>ETH1</th>\n",
       "      <th>ETH2</th>\n",
       "      <th>...</th>\n",
       "      <th>HC16</th>\n",
       "      <th>HC17</th>\n",
       "      <th>HC18</th>\n",
       "      <th>HC19</th>\n",
       "      <th>HC20</th>\n",
       "      <th>HC21</th>\n",
       "      <th>MHUC1</th>\n",
       "      <th>MHUC2</th>\n",
       "      <th>AC1</th>\n",
       "      <th>AC2</th>\n",
       "    </tr>\n",
       "  </thead>\n",
       "  <tbody>\n",
       "    <tr>\n",
       "      <th>0</th>\n",
       "      <td>992.0</td>\n",
       "      <td>264.0</td>\n",
       "      <td>332.0</td>\n",
       "      <td>0</td>\n",
       "      <td>35</td>\n",
       "      <td>65</td>\n",
       "      <td>47</td>\n",
       "      <td>53</td>\n",
       "      <td>92</td>\n",
       "      <td>1</td>\n",
       "      <td>...</td>\n",
       "      <td>0</td>\n",
       "      <td>33</td>\n",
       "      <td>65</td>\n",
       "      <td>40</td>\n",
       "      <td>99</td>\n",
       "      <td>99</td>\n",
       "      <td>6.0</td>\n",
       "      <td>2.0</td>\n",
       "      <td>10</td>\n",
       "      <td>7</td>\n",
       "    </tr>\n",
       "    <tr>\n",
       "      <th>1</th>\n",
       "      <td>3611.0</td>\n",
       "      <td>940.0</td>\n",
       "      <td>998.0</td>\n",
       "      <td>99</td>\n",
       "      <td>0</td>\n",
       "      <td>0</td>\n",
       "      <td>50</td>\n",
       "      <td>50</td>\n",
       "      <td>67</td>\n",
       "      <td>0</td>\n",
       "      <td>...</td>\n",
       "      <td>0</td>\n",
       "      <td>99</td>\n",
       "      <td>0</td>\n",
       "      <td>99</td>\n",
       "      <td>99</td>\n",
       "      <td>99</td>\n",
       "      <td>20.0</td>\n",
       "      <td>4.0</td>\n",
       "      <td>6</td>\n",
       "      <td>5</td>\n",
       "    </tr>\n",
       "    <tr>\n",
       "      <th>2</th>\n",
       "      <td>7001.0</td>\n",
       "      <td>2040.0</td>\n",
       "      <td>2669.0</td>\n",
       "      <td>0</td>\n",
       "      <td>2</td>\n",
       "      <td>98</td>\n",
       "      <td>49</td>\n",
       "      <td>51</td>\n",
       "      <td>96</td>\n",
       "      <td>2</td>\n",
       "      <td>...</td>\n",
       "      <td>15</td>\n",
       "      <td>22</td>\n",
       "      <td>77</td>\n",
       "      <td>17</td>\n",
       "      <td>97</td>\n",
       "      <td>92</td>\n",
       "      <td>9.0</td>\n",
       "      <td>2.0</td>\n",
       "      <td>6</td>\n",
       "      <td>5</td>\n",
       "    </tr>\n",
       "    <tr>\n",
       "      <th>3</th>\n",
       "      <td>640.0</td>\n",
       "      <td>160.0</td>\n",
       "      <td>219.0</td>\n",
       "      <td>0</td>\n",
       "      <td>8</td>\n",
       "      <td>92</td>\n",
       "      <td>54</td>\n",
       "      <td>46</td>\n",
       "      <td>61</td>\n",
       "      <td>0</td>\n",
       "      <td>...</td>\n",
       "      <td>16</td>\n",
       "      <td>23</td>\n",
       "      <td>77</td>\n",
       "      <td>22</td>\n",
       "      <td>93</td>\n",
       "      <td>89</td>\n",
       "      <td>16.0</td>\n",
       "      <td>2.0</td>\n",
       "      <td>6</td>\n",
       "      <td>6</td>\n",
       "    </tr>\n",
       "    <tr>\n",
       "      <th>4</th>\n",
       "      <td>2520.0</td>\n",
       "      <td>627.0</td>\n",
       "      <td>761.0</td>\n",
       "      <td>99</td>\n",
       "      <td>0</td>\n",
       "      <td>0</td>\n",
       "      <td>46</td>\n",
       "      <td>54</td>\n",
       "      <td>2</td>\n",
       "      <td>98</td>\n",
       "      <td>...</td>\n",
       "      <td>0</td>\n",
       "      <td>99</td>\n",
       "      <td>1</td>\n",
       "      <td>21</td>\n",
       "      <td>99</td>\n",
       "      <td>96</td>\n",
       "      <td>6.0</td>\n",
       "      <td>2.0</td>\n",
       "      <td>7</td>\n",
       "      <td>11</td>\n",
       "    </tr>\n",
       "  </tbody>\n",
       "</table>\n",
       "<p>5 rows × 255 columns</p>\n",
       "</div>"
      ],
      "text/plain": [
       "   POP901  POP902  POP903  POP90C1  POP90C2  POP90C3  POP90C4  POP90C5  ETH1  \\\n",
       "0   992.0   264.0   332.0        0       35       65       47       53    92   \n",
       "1  3611.0   940.0   998.0       99        0        0       50       50    67   \n",
       "2  7001.0  2040.0  2669.0        0        2       98       49       51    96   \n",
       "3   640.0   160.0   219.0        0        8       92       54       46    61   \n",
       "4  2520.0   627.0   761.0       99        0        0       46       54     2   \n",
       "\n",
       "   ETH2  ...  HC16  HC17  HC18  HC19  HC20  HC21  MHUC1  MHUC2  AC1  AC2  \n",
       "0     1  ...     0    33    65    40    99    99    6.0    2.0   10    7  \n",
       "1     0  ...     0    99     0    99    99    99   20.0    4.0    6    5  \n",
       "2     2  ...    15    22    77    17    97    92    9.0    2.0    6    5  \n",
       "3     0  ...    16    23    77    22    93    89   16.0    2.0    6    6  \n",
       "4    98  ...     0    99     1    21    99    96    6.0    2.0    7   11  \n",
       "\n",
       "[5 rows x 255 columns]"
      ]
     },
     "execution_count": 60,
     "metadata": {},
     "output_type": "execute_result"
    }
   ],
   "source": [
    "subset_neighbourhood_metric.head()"
   ]
  },
  {
   "cell_type": "markdown",
   "metadata": {},
   "source": [
    "### subset: demographics (&geographical location)"
   ]
  },
  {
   "cell_type": "markdown",
   "metadata": {},
   "source": [
    "The following subset will contain information about the donors socio demographics:"
   ]
  },
  {
   "cell_type": "code",
   "execution_count": 61,
   "metadata": {},
   "outputs": [],
   "source": [
    "socio_demographics = [\"AGE\", \"TCODE\", \"GENDER\", \"STATE\", \"ZIP\", \"MAILCODE\", \"PVASTATE\", \"CHILD03\", \"CHILD07\", \"CHILD12\", \"CHILD18\", \"NUMCHLD\", \"GEOCODE\", \"GEOCODE2\", \"INCOME\", \"WEALTH1\", \"WEALTH2\", \"HOMEOWNR\"]"
   ]
  },
  {
   "cell_type": "code",
   "execution_count": 62,
   "metadata": {},
   "outputs": [],
   "source": [
    "#creating a dataframe that contains only the socio_demographics data\n",
    "subset_socio_demographics = donors[socio_demographics]\n",
    "donors_copy = donors_copy.drop(columns = socio_demographics)"
   ]
  },
  {
   "cell_type": "code",
   "execution_count": 63,
   "metadata": {},
   "outputs": [
    {
     "data": {
      "text/html": [
       "<div>\n",
       "<style scoped>\n",
       "    .dataframe tbody tr th:only-of-type {\n",
       "        vertical-align: middle;\n",
       "    }\n",
       "\n",
       "    .dataframe tbody tr th {\n",
       "        vertical-align: top;\n",
       "    }\n",
       "\n",
       "    .dataframe thead th {\n",
       "        text-align: right;\n",
       "    }\n",
       "</style>\n",
       "<table border=\"1\" class=\"dataframe\">\n",
       "  <thead>\n",
       "    <tr style=\"text-align: right;\">\n",
       "      <th></th>\n",
       "      <th>AGE</th>\n",
       "      <th>TCODE</th>\n",
       "      <th>GENDER</th>\n",
       "      <th>STATE</th>\n",
       "      <th>ZIP</th>\n",
       "      <th>MAILCODE</th>\n",
       "      <th>PVASTATE</th>\n",
       "      <th>CHILD03</th>\n",
       "      <th>CHILD07</th>\n",
       "      <th>CHILD12</th>\n",
       "      <th>CHILD18</th>\n",
       "      <th>NUMCHLD</th>\n",
       "      <th>GEOCODE</th>\n",
       "      <th>GEOCODE2</th>\n",
       "      <th>INCOME</th>\n",
       "      <th>WEALTH1</th>\n",
       "      <th>WEALTH2</th>\n",
       "      <th>HOMEOWNR</th>\n",
       "    </tr>\n",
       "  </thead>\n",
       "  <tbody>\n",
       "    <tr>\n",
       "      <th>0</th>\n",
       "      <td>59.0</td>\n",
       "      <td>0</td>\n",
       "      <td>F</td>\n",
       "      <td>IL</td>\n",
       "      <td>61081</td>\n",
       "      <td></td>\n",
       "      <td></td>\n",
       "      <td></td>\n",
       "      <td></td>\n",
       "      <td></td>\n",
       "      <td></td>\n",
       "      <td>NaN</td>\n",
       "      <td></td>\n",
       "      <td>C</td>\n",
       "      <td>NaN</td>\n",
       "      <td>NaN</td>\n",
       "      <td>5.0</td>\n",
       "      <td></td>\n",
       "    </tr>\n",
       "    <tr>\n",
       "      <th>1</th>\n",
       "      <td>45.0</td>\n",
       "      <td>1</td>\n",
       "      <td>M</td>\n",
       "      <td>CA</td>\n",
       "      <td>91326</td>\n",
       "      <td></td>\n",
       "      <td></td>\n",
       "      <td></td>\n",
       "      <td></td>\n",
       "      <td></td>\n",
       "      <td>M</td>\n",
       "      <td>1.0</td>\n",
       "      <td>02</td>\n",
       "      <td>A</td>\n",
       "      <td>6.0</td>\n",
       "      <td>9.0</td>\n",
       "      <td>9.0</td>\n",
       "      <td>H</td>\n",
       "    </tr>\n",
       "    <tr>\n",
       "      <th>2</th>\n",
       "      <td>59.0</td>\n",
       "      <td>1</td>\n",
       "      <td>M</td>\n",
       "      <td>NC</td>\n",
       "      <td>27017</td>\n",
       "      <td></td>\n",
       "      <td></td>\n",
       "      <td></td>\n",
       "      <td></td>\n",
       "      <td></td>\n",
       "      <td></td>\n",
       "      <td>NaN</td>\n",
       "      <td></td>\n",
       "      <td>C</td>\n",
       "      <td>3.0</td>\n",
       "      <td>1.0</td>\n",
       "      <td>1.0</td>\n",
       "      <td>U</td>\n",
       "    </tr>\n",
       "    <tr>\n",
       "      <th>3</th>\n",
       "      <td>69.0</td>\n",
       "      <td>0</td>\n",
       "      <td>F</td>\n",
       "      <td>CA</td>\n",
       "      <td>95953</td>\n",
       "      <td></td>\n",
       "      <td></td>\n",
       "      <td></td>\n",
       "      <td></td>\n",
       "      <td></td>\n",
       "      <td></td>\n",
       "      <td>NaN</td>\n",
       "      <td></td>\n",
       "      <td>C</td>\n",
       "      <td>1.0</td>\n",
       "      <td>4.0</td>\n",
       "      <td>0.0</td>\n",
       "      <td>U</td>\n",
       "    </tr>\n",
       "    <tr>\n",
       "      <th>4</th>\n",
       "      <td>77.0</td>\n",
       "      <td>0</td>\n",
       "      <td>F</td>\n",
       "      <td>FL</td>\n",
       "      <td>33176</td>\n",
       "      <td></td>\n",
       "      <td></td>\n",
       "      <td></td>\n",
       "      <td></td>\n",
       "      <td></td>\n",
       "      <td></td>\n",
       "      <td>1.0</td>\n",
       "      <td></td>\n",
       "      <td>A</td>\n",
       "      <td>3.0</td>\n",
       "      <td>2.0</td>\n",
       "      <td>NaN</td>\n",
       "      <td>H</td>\n",
       "    </tr>\n",
       "  </tbody>\n",
       "</table>\n",
       "</div>"
      ],
      "text/plain": [
       "    AGE  TCODE GENDER STATE    ZIP MAILCODE PVASTATE CHILD03 CHILD07 CHILD12  \\\n",
       "0  59.0      0      F    IL  61081                                             \n",
       "1  45.0      1      M    CA  91326                                             \n",
       "2  59.0      1      M    NC  27017                                             \n",
       "3  69.0      0      F    CA  95953                                             \n",
       "4  77.0      0      F    FL  33176                                             \n",
       "\n",
       "  CHILD18  NUMCHLD GEOCODE GEOCODE2  INCOME  WEALTH1  WEALTH2 HOMEOWNR  \n",
       "0              NaN                C     NaN      NaN      5.0           \n",
       "1       M      1.0      02        A     6.0      9.0      9.0        H  \n",
       "2              NaN                C     3.0      1.0      1.0        U  \n",
       "3              NaN                C     1.0      4.0      0.0        U  \n",
       "4              1.0                A     3.0      2.0      NaN        H  "
      ]
     },
     "execution_count": 63,
     "metadata": {},
     "output_type": "execute_result"
    }
   ],
   "source": [
    "subset_socio_demographics.head()"
   ]
  },
  {
   "cell_type": "markdown",
   "metadata": {},
   "source": [
    "As we can see, there are only two metric features within the socio demographics, which are AGE and NUMCHLD."
   ]
  },
  {
   "cell_type": "code",
   "execution_count": 64,
   "metadata": {},
   "outputs": [],
   "source": [
    "subset_socio_demographics_metric = subset_socio_demographics[[\"AGE\", \"NUMCHLD\"]]"
   ]
  },
  {
   "cell_type": "code",
   "execution_count": 65,
   "metadata": {},
   "outputs": [
    {
     "data": {
      "text/html": [
       "<div>\n",
       "<style scoped>\n",
       "    .dataframe tbody tr th:only-of-type {\n",
       "        vertical-align: middle;\n",
       "    }\n",
       "\n",
       "    .dataframe tbody tr th {\n",
       "        vertical-align: top;\n",
       "    }\n",
       "\n",
       "    .dataframe thead th {\n",
       "        text-align: right;\n",
       "    }\n",
       "</style>\n",
       "<table border=\"1\" class=\"dataframe\">\n",
       "  <thead>\n",
       "    <tr style=\"text-align: right;\">\n",
       "      <th></th>\n",
       "      <th>AGE</th>\n",
       "      <th>NUMCHLD</th>\n",
       "    </tr>\n",
       "  </thead>\n",
       "  <tbody>\n",
       "    <tr>\n",
       "      <th>0</th>\n",
       "      <td>59.0</td>\n",
       "      <td>NaN</td>\n",
       "    </tr>\n",
       "    <tr>\n",
       "      <th>1</th>\n",
       "      <td>45.0</td>\n",
       "      <td>1.0</td>\n",
       "    </tr>\n",
       "    <tr>\n",
       "      <th>2</th>\n",
       "      <td>59.0</td>\n",
       "      <td>NaN</td>\n",
       "    </tr>\n",
       "    <tr>\n",
       "      <th>3</th>\n",
       "      <td>69.0</td>\n",
       "      <td>NaN</td>\n",
       "    </tr>\n",
       "    <tr>\n",
       "      <th>4</th>\n",
       "      <td>77.0</td>\n",
       "      <td>1.0</td>\n",
       "    </tr>\n",
       "  </tbody>\n",
       "</table>\n",
       "</div>"
      ],
      "text/plain": [
       "    AGE  NUMCHLD\n",
       "0  59.0      NaN\n",
       "1  45.0      1.0\n",
       "2  59.0      NaN\n",
       "3  69.0      NaN\n",
       "4  77.0      1.0"
      ]
     },
     "execution_count": 65,
     "metadata": {},
     "output_type": "execute_result"
    }
   ],
   "source": [
    "subset_socio_demographics_metric.head()"
   ]
  },
  {
   "cell_type": "markdown",
   "metadata": {},
   "source": [
    "##### Outlier Removal and Nans"
   ]
  },
  {
   "cell_type": "code",
   "execution_count": 66,
   "metadata": {},
   "outputs": [
    {
     "name": "stdout",
     "output_type": "stream",
     "text": [
      "Percent of missing values in NUMCHLD: 87.2\n"
     ]
    }
   ],
   "source": [
    "print(\"Percent of missing values in NUMCHLD:\", np.round(subset_socio_demographics_metric[\"NUMCHLD\"].isna().value_counts()[True]/len(subset_socio_demographics_metric), 3) * 100)"
   ]
  },
  {
   "cell_type": "markdown",
   "metadata": {},
   "source": [
    "There is a very high percentage of missing values in the NUMCHLD column. At first, one could argue that the missing values stand for 0 children, but even that 87.2 percent of the donors don't have any children seems to be very unlikely. So we have to drop this column!"
   ]
  },
  {
   "cell_type": "code",
   "execution_count": 67,
   "metadata": {},
   "outputs": [],
   "source": [
    "subset_socio_demographics_metric = subset_socio_demographics_metric.drop(columns=[\"NUMCHLD\"])\n",
    "subset_socio_demographics = subset_socio_demographics.drop(columns=[\"NUMCHLD\"])"
   ]
  },
  {
   "cell_type": "markdown",
   "metadata": {},
   "source": [
    "As we have already dealt with the nan values of the AGE feature, however we still want to check for outliers."
   ]
  },
  {
   "cell_type": "code",
   "execution_count": 68,
   "metadata": {},
   "outputs": [
    {
     "data": {
      "image/png": "[encoded data removed]",
      "text/plain": [
       "<Figure size 432x288 with 1 Axes>"
      ]
     },
     "metadata": {},
     "output_type": "display_data"
    }
   ],
   "source": [
    "sns.set_style(\"whitegrid\")\n",
    "sns_plot = sns.boxplot(x=subset_socio_demographics_metric[\"AGE\"])"
   ]
  },
  {
   "cell_type": "markdown",
   "metadata": {},
   "source": [
    "We can clearly see that there are some outliers on the left, so very young donors. So we decide to declare all donors that have't turned 18 yet as outliers and assign them the value 60.0, similar to the above nan replacement value:"
   ]
  },
  {
   "cell_type": "code",
   "execution_count": 69,
   "metadata": {},
   "outputs": [],
   "source": [
    "q25 = subset_socio_demographics_metric[\"AGE\"].quantile(0.25)\n",
    "q75 = subset_socio_demographics_metric[\"AGE\"].quantile(0.75)\n",
    "iqr = q75 - q25\n",
    "low = q25 - 1.75 * iqr"
   ]
  },
  {
   "cell_type": "code",
   "execution_count": 70,
   "metadata": {},
   "outputs": [
    {
     "data": {
      "text/plain": [
       "7.0     238\n",
       "16.0    152\n",
       "6.0     145\n",
       "0.0      13\n",
       "1.0       4\n",
       "10.0      4\n",
       "15.0      4\n",
       "2.0       2\n",
       "13.0      2\n",
       "3.0       2\n",
       "12.0      2\n",
       "14.0      1\n",
       "9.0       1\n",
       "5.0       1\n",
       "8.0       1\n",
       "Name: AGE, dtype: int64"
      ]
     },
     "execution_count": 70,
     "metadata": {},
     "output_type": "execute_result"
    }
   ],
   "source": [
    "below_18 = subset_socio_demographics_metric[\"AGE\"][subset_socio_demographics_metric[\"AGE\"]<low].value_counts().index.tolist()\n",
    "subset_socio_demographics_metric[\"AGE\"][subset_socio_demographics_metric[\"AGE\"]<low].value_counts()"
   ]
  },
  {
   "cell_type": "code",
   "execution_count": 71,
   "metadata": {},
   "outputs": [],
   "source": [
    "for element in below_18:\n",
    "    subset_socio_demographics_metric[\"AGE\"] = subset_socio_demographics_metric[\"AGE\"].replace(element, 60.0)"
   ]
  },
  {
   "cell_type": "code",
   "execution_count": 72,
   "metadata": {},
   "outputs": [
    {
     "data": {
      "text/html": [
       "<div>\n",
       "<style scoped>\n",
       "    .dataframe tbody tr th:only-of-type {\n",
       "        vertical-align: middle;\n",
       "    }\n",
       "\n",
       "    .dataframe tbody tr th {\n",
       "        vertical-align: top;\n",
       "    }\n",
       "\n",
       "    .dataframe thead th {\n",
       "        text-align: right;\n",
       "    }\n",
       "</style>\n",
       "<table border=\"1\" class=\"dataframe\">\n",
       "  <thead>\n",
       "    <tr style=\"text-align: right;\">\n",
       "      <th></th>\n",
       "      <th>AGE</th>\n",
       "    </tr>\n",
       "  </thead>\n",
       "  <tbody>\n",
       "    <tr>\n",
       "      <th>0</th>\n",
       "      <td>59.0</td>\n",
       "    </tr>\n",
       "    <tr>\n",
       "      <th>1</th>\n",
       "      <td>45.0</td>\n",
       "    </tr>\n",
       "    <tr>\n",
       "      <th>2</th>\n",
       "      <td>59.0</td>\n",
       "    </tr>\n",
       "    <tr>\n",
       "      <th>3</th>\n",
       "      <td>69.0</td>\n",
       "    </tr>\n",
       "    <tr>\n",
       "      <th>4</th>\n",
       "      <td>77.0</td>\n",
       "    </tr>\n",
       "  </tbody>\n",
       "</table>\n",
       "</div>"
      ],
      "text/plain": [
       "    AGE\n",
       "0  59.0\n",
       "1  45.0\n",
       "2  59.0\n",
       "3  69.0\n",
       "4  77.0"
      ]
     },
     "execution_count": 72,
     "metadata": {},
     "output_type": "execute_result"
    }
   ],
   "source": [
    "subset_socio_demographics_metric.head()"
   ]
  },
  {
   "cell_type": "markdown",
   "metadata": {},
   "source": [
    "### subset: Responses to other types of mail order offers "
   ]
  },
  {
   "cell_type": "markdown",
   "metadata": {},
   "source": [
    "This subset only contains information about the donors' responses to other types of mail order offers. It contains only metric features apart from DATASRCE."
   ]
  },
  {
   "cell_type": "code",
   "execution_count": 73,
   "metadata": {},
   "outputs": [],
   "source": [
    "responses_to_others = [\"MBCRAFT\", \"MBGARDEN\", \"MBBOOKS\", \"MBCOLECT\", \"MAGFAML\", \"MAGFEM\", \"MAGMALE\", \"PUBGARDN\", \"PUBCULIN\", \"PUBHLTH\", \"PUBDOITY\", \"PUBNEWFN\", \"PUBPHOTO\", \"PUBOPP\", \"DATASRCE\"]"
   ]
  },
  {
   "cell_type": "code",
   "execution_count": 74,
   "metadata": {},
   "outputs": [],
   "source": [
    "#creating a dataframe that contains only the responses_to_others data\n",
    "subset_responses_to_others = donors[responses_to_others]\n",
    "donors_copy = donors_copy.drop(columns = responses_to_others)"
   ]
  },
  {
   "cell_type": "code",
   "execution_count": 75,
   "metadata": {},
   "outputs": [
    {
     "data": {
      "text/html": [
       "<div>\n",
       "<style scoped>\n",
       "    .dataframe tbody tr th:only-of-type {\n",
       "        vertical-align: middle;\n",
       "    }\n",
       "\n",
       "    .dataframe tbody tr th {\n",
       "        vertical-align: top;\n",
       "    }\n",
       "\n",
       "    .dataframe thead th {\n",
       "        text-align: right;\n",
       "    }\n",
       "</style>\n",
       "<table border=\"1\" class=\"dataframe\">\n",
       "  <thead>\n",
       "    <tr style=\"text-align: right;\">\n",
       "      <th></th>\n",
       "      <th>MBCRAFT</th>\n",
       "      <th>MBGARDEN</th>\n",
       "      <th>MBBOOKS</th>\n",
       "      <th>MBCOLECT</th>\n",
       "      <th>MAGFAML</th>\n",
       "      <th>MAGFEM</th>\n",
       "      <th>MAGMALE</th>\n",
       "      <th>PUBGARDN</th>\n",
       "      <th>PUBCULIN</th>\n",
       "      <th>PUBHLTH</th>\n",
       "      <th>PUBDOITY</th>\n",
       "      <th>PUBNEWFN</th>\n",
       "      <th>PUBPHOTO</th>\n",
       "      <th>PUBOPP</th>\n",
       "      <th>DATASRCE</th>\n",
       "    </tr>\n",
       "  </thead>\n",
       "  <tbody>\n",
       "    <tr>\n",
       "      <th>0</th>\n",
       "      <td>NaN</td>\n",
       "      <td>NaN</td>\n",
       "      <td>NaN</td>\n",
       "      <td>NaN</td>\n",
       "      <td>NaN</td>\n",
       "      <td>NaN</td>\n",
       "      <td>NaN</td>\n",
       "      <td>NaN</td>\n",
       "      <td>NaN</td>\n",
       "      <td>NaN</td>\n",
       "      <td>NaN</td>\n",
       "      <td>NaN</td>\n",
       "      <td>NaN</td>\n",
       "      <td>NaN</td>\n",
       "      <td></td>\n",
       "    </tr>\n",
       "    <tr>\n",
       "      <th>1</th>\n",
       "      <td>0.0</td>\n",
       "      <td>0.0</td>\n",
       "      <td>3.0</td>\n",
       "      <td>1.0</td>\n",
       "      <td>1.0</td>\n",
       "      <td>1.0</td>\n",
       "      <td>0.0</td>\n",
       "      <td>0.0</td>\n",
       "      <td>0.0</td>\n",
       "      <td>2.0</td>\n",
       "      <td>0.0</td>\n",
       "      <td>3.0</td>\n",
       "      <td>0.0</td>\n",
       "      <td>0.0</td>\n",
       "      <td>3</td>\n",
       "    </tr>\n",
       "    <tr>\n",
       "      <th>2</th>\n",
       "      <td>0.0</td>\n",
       "      <td>0.0</td>\n",
       "      <td>1.0</td>\n",
       "      <td>0.0</td>\n",
       "      <td>0.0</td>\n",
       "      <td>0.0</td>\n",
       "      <td>0.0</td>\n",
       "      <td>0.0</td>\n",
       "      <td>0.0</td>\n",
       "      <td>1.0</td>\n",
       "      <td>0.0</td>\n",
       "      <td>0.0</td>\n",
       "      <td>0.0</td>\n",
       "      <td>0.0</td>\n",
       "      <td>3</td>\n",
       "    </tr>\n",
       "    <tr>\n",
       "      <th>3</th>\n",
       "      <td>0.0</td>\n",
       "      <td>0.0</td>\n",
       "      <td>0.0</td>\n",
       "      <td>0.0</td>\n",
       "      <td>0.0</td>\n",
       "      <td>0.0</td>\n",
       "      <td>0.0</td>\n",
       "      <td>0.0</td>\n",
       "      <td>0.0</td>\n",
       "      <td>0.0</td>\n",
       "      <td>0.0</td>\n",
       "      <td>0.0</td>\n",
       "      <td>0.0</td>\n",
       "      <td>1.0</td>\n",
       "      <td>3</td>\n",
       "    </tr>\n",
       "    <tr>\n",
       "      <th>4</th>\n",
       "      <td>1.0</td>\n",
       "      <td>0.0</td>\n",
       "      <td>9.0</td>\n",
       "      <td>0.0</td>\n",
       "      <td>4.0</td>\n",
       "      <td>1.0</td>\n",
       "      <td>0.0</td>\n",
       "      <td>0.0</td>\n",
       "      <td>0.0</td>\n",
       "      <td>4.0</td>\n",
       "      <td>0.0</td>\n",
       "      <td>1.0</td>\n",
       "      <td>0.0</td>\n",
       "      <td>1.0</td>\n",
       "      <td>3</td>\n",
       "    </tr>\n",
       "  </tbody>\n",
       "</table>\n",
       "</div>"
      ],
      "text/plain": [
       "   MBCRAFT  MBGARDEN  MBBOOKS  MBCOLECT  MAGFAML  MAGFEM  MAGMALE  PUBGARDN  \\\n",
       "0      NaN       NaN      NaN       NaN      NaN     NaN      NaN       NaN   \n",
       "1      0.0       0.0      3.0       1.0      1.0     1.0      0.0       0.0   \n",
       "2      0.0       0.0      1.0       0.0      0.0     0.0      0.0       0.0   \n",
       "3      0.0       0.0      0.0       0.0      0.0     0.0      0.0       0.0   \n",
       "4      1.0       0.0      9.0       0.0      4.0     1.0      0.0       0.0   \n",
       "\n",
       "   PUBCULIN  PUBHLTH  PUBDOITY  PUBNEWFN  PUBPHOTO  PUBOPP DATASRCE  \n",
       "0       NaN      NaN       NaN       NaN       NaN     NaN           \n",
       "1       0.0      2.0       0.0       3.0       0.0     0.0        3  \n",
       "2       0.0      1.0       0.0       0.0       0.0     0.0        3  \n",
       "3       0.0      0.0       0.0       0.0       0.0     1.0        3  \n",
       "4       0.0      4.0       0.0       1.0       0.0     1.0        3  "
      ]
     },
     "execution_count": 75,
     "metadata": {},
     "output_type": "execute_result"
    }
   ],
   "source": [
    "subset_responses_to_others.head()"
   ]
  },
  {
   "cell_type": "markdown",
   "metadata": {},
   "source": [
    "##### Outlier Removal and Nans"
   ]
  },
  {
   "cell_type": "code",
   "execution_count": 76,
   "metadata": {},
   "outputs": [
    {
     "data": {
      "text/plain": [
       "<matplotlib.axes._subplots.AxesSubplot at 0x7fd179f48040>"
      ]
     },
     "execution_count": 76,
     "metadata": {},
     "output_type": "execute_result"
    },
    {
     "data": {
      "image/png": "[encoded data removed]",
      "text/plain": [
       "<Figure size 1224x576 with 1 Axes>"
      ]
     },
     "metadata": {},
     "output_type": "display_data"
    }
   ],
   "source": [
    "sns.set(rc={'figure.figsize':(17,8)})\n",
    "sns.set_style(\"whitegrid\")\n",
    "sns.boxplot(data=subset_responses_to_others)"
   ]
  },
  {
   "cell_type": "markdown",
   "metadata": {},
   "source": [
    "Before having a closer look at the outliers, we will check the percentage of nan values within these features:"
   ]
  },
  {
   "cell_type": "code",
   "execution_count": 77,
   "metadata": {},
   "outputs": [
    {
     "name": "stdout",
     "output_type": "stream",
     "text": [
      "MBCRAFT 54.57\n",
      "MBGARDEN 54.57\n",
      "MBBOOKS 54.57\n",
      "MBCOLECT 54.64\n",
      "MAGFAML 54.57\n",
      "MAGFEM 54.57\n",
      "MAGMALE 54.57\n",
      "PUBGARDN 54.57\n",
      "PUBCULIN 54.57\n",
      "PUBHLTH 54.57\n",
      "PUBDOITY 54.57\n",
      "PUBNEWFN 54.57\n",
      "PUBPHOTO 54.57\n",
      "PUBOPP 54.57\n"
     ]
    }
   ],
   "source": [
    "for element in responses_to_others:\n",
    "    if len(subset_responses_to_others[element].dropna()) != len(subset_responses_to_others):\n",
    "        print(element, np.round(100 - np.round(len(subset_responses_to_others[element].dropna())/len(subset_responses_to_others), 4)*100,4))"
   ]
  },
  {
   "cell_type": "markdown",
   "metadata": {},
   "source": [
    "Oh, there are more than half of the values nans in every column but DATASRCE, so we have no choice but dropping them due to an unsufficient amount of actual values."
   ]
  },
  {
   "cell_type": "code",
   "execution_count": 78,
   "metadata": {},
   "outputs": [
    {
     "data": {
      "text/html": [
       "<div>\n",
       "<style scoped>\n",
       "    .dataframe tbody tr th:only-of-type {\n",
       "        vertical-align: middle;\n",
       "    }\n",
       "\n",
       "    .dataframe tbody tr th {\n",
       "        vertical-align: top;\n",
       "    }\n",
       "\n",
       "    .dataframe thead th {\n",
       "        text-align: right;\n",
       "    }\n",
       "</style>\n",
       "<table border=\"1\" class=\"dataframe\">\n",
       "  <thead>\n",
       "    <tr style=\"text-align: right;\">\n",
       "      <th></th>\n",
       "      <th>DATASRCE</th>\n",
       "    </tr>\n",
       "  </thead>\n",
       "  <tbody>\n",
       "    <tr>\n",
       "      <th>0</th>\n",
       "      <td></td>\n",
       "    </tr>\n",
       "    <tr>\n",
       "      <th>1</th>\n",
       "      <td>3</td>\n",
       "    </tr>\n",
       "    <tr>\n",
       "      <th>2</th>\n",
       "      <td>3</td>\n",
       "    </tr>\n",
       "    <tr>\n",
       "      <th>3</th>\n",
       "      <td>3</td>\n",
       "    </tr>\n",
       "    <tr>\n",
       "      <th>4</th>\n",
       "      <td>3</td>\n",
       "    </tr>\n",
       "  </tbody>\n",
       "</table>\n",
       "</div>"
      ],
      "text/plain": [
       "  DATASRCE\n",
       "0         \n",
       "1        3\n",
       "2        3\n",
       "3        3\n",
       "4        3"
      ]
     },
     "execution_count": 78,
     "metadata": {},
     "output_type": "execute_result"
    }
   ],
   "source": [
    "responses_to_others_to_drop = [\"MBCRAFT\", \"MBGARDEN\", \"MBBOOKS\", \"MBCOLECT\", \"MAGFAML\", \"MAGFEM\", \"MAGMALE\", \"PUBGARDN\", \"PUBCULIN\", \"PUBHLTH\", \"PUBDOITY\", \"PUBNEWFN\", \"PUBPHOTO\", \"PUBOPP\"]\n",
    "subset_responses_to_others = subset_responses_to_others.drop(columns=responses_to_others_to_drop)\n",
    "#so this subset is now empty apart from DATASRCE\n",
    "subset_responses_to_others.head()"
   ]
  },
  {
   "cell_type": "markdown",
   "metadata": {},
   "source": [
    "### subset: Donors interests"
   ]
  },
  {
   "cell_type": "markdown",
   "metadata": {},
   "source": [
    "This subset will contain the information about the donors interests:"
   ]
  },
  {
   "cell_type": "code",
   "execution_count": 79,
   "metadata": {},
   "outputs": [],
   "source": [
    "interests = [\"COLLECT1\", \"VETERANS\", \"BIBLE\", \"CATLG\", \"HOMEE\", \"PETS\", \"CDPLAY\", \"STEREO\", \"PCOWNERS\", \"PHOTO\", \"CRAFTS\", \"FISHER\", \"GARDENIN\", \"BOATS\", \"WALKER\", \"KIDSTUFF\", \"CARDS\", \"PLATES\", \"LIFESRC\"]"
   ]
  },
  {
   "cell_type": "code",
   "execution_count": 80,
   "metadata": {},
   "outputs": [],
   "source": [
    "#creating a dataframe that contains only the interests data\n",
    "subset_interests = donors[interests]\n",
    "donors_copy = donors_copy.drop(columns = interests)"
   ]
  },
  {
   "cell_type": "code",
   "execution_count": 81,
   "metadata": {},
   "outputs": [
    {
     "data": {
      "text/html": [
       "<div>\n",
       "<style scoped>\n",
       "    .dataframe tbody tr th:only-of-type {\n",
       "        vertical-align: middle;\n",
       "    }\n",
       "\n",
       "    .dataframe tbody tr th {\n",
       "        vertical-align: top;\n",
       "    }\n",
       "\n",
       "    .dataframe thead th {\n",
       "        text-align: right;\n",
       "    }\n",
       "</style>\n",
       "<table border=\"1\" class=\"dataframe\">\n",
       "  <thead>\n",
       "    <tr style=\"text-align: right;\">\n",
       "      <th></th>\n",
       "      <th>COLLECT1</th>\n",
       "      <th>VETERANS</th>\n",
       "      <th>BIBLE</th>\n",
       "      <th>CATLG</th>\n",
       "      <th>HOMEE</th>\n",
       "      <th>PETS</th>\n",
       "      <th>CDPLAY</th>\n",
       "      <th>STEREO</th>\n",
       "      <th>PCOWNERS</th>\n",
       "      <th>PHOTO</th>\n",
       "      <th>CRAFTS</th>\n",
       "      <th>FISHER</th>\n",
       "      <th>GARDENIN</th>\n",
       "      <th>BOATS</th>\n",
       "      <th>WALKER</th>\n",
       "      <th>KIDSTUFF</th>\n",
       "      <th>CARDS</th>\n",
       "      <th>PLATES</th>\n",
       "      <th>LIFESRC</th>\n",
       "    </tr>\n",
       "  </thead>\n",
       "  <tbody>\n",
       "    <tr>\n",
       "      <th>0</th>\n",
       "      <td></td>\n",
       "      <td></td>\n",
       "      <td></td>\n",
       "      <td></td>\n",
       "      <td></td>\n",
       "      <td></td>\n",
       "      <td></td>\n",
       "      <td></td>\n",
       "      <td></td>\n",
       "      <td></td>\n",
       "      <td></td>\n",
       "      <td></td>\n",
       "      <td></td>\n",
       "      <td></td>\n",
       "      <td></td>\n",
       "      <td></td>\n",
       "      <td></td>\n",
       "      <td></td>\n",
       "      <td></td>\n",
       "    </tr>\n",
       "    <tr>\n",
       "      <th>1</th>\n",
       "      <td></td>\n",
       "      <td></td>\n",
       "      <td></td>\n",
       "      <td></td>\n",
       "      <td></td>\n",
       "      <td></td>\n",
       "      <td></td>\n",
       "      <td></td>\n",
       "      <td></td>\n",
       "      <td></td>\n",
       "      <td></td>\n",
       "      <td></td>\n",
       "      <td></td>\n",
       "      <td></td>\n",
       "      <td></td>\n",
       "      <td></td>\n",
       "      <td></td>\n",
       "      <td></td>\n",
       "      <td></td>\n",
       "    </tr>\n",
       "    <tr>\n",
       "      <th>2</th>\n",
       "      <td></td>\n",
       "      <td></td>\n",
       "      <td></td>\n",
       "      <td></td>\n",
       "      <td></td>\n",
       "      <td></td>\n",
       "      <td></td>\n",
       "      <td></td>\n",
       "      <td></td>\n",
       "      <td></td>\n",
       "      <td></td>\n",
       "      <td></td>\n",
       "      <td></td>\n",
       "      <td></td>\n",
       "      <td></td>\n",
       "      <td></td>\n",
       "      <td></td>\n",
       "      <td></td>\n",
       "      <td></td>\n",
       "    </tr>\n",
       "    <tr>\n",
       "      <th>3</th>\n",
       "      <td></td>\n",
       "      <td></td>\n",
       "      <td></td>\n",
       "      <td></td>\n",
       "      <td></td>\n",
       "      <td></td>\n",
       "      <td></td>\n",
       "      <td></td>\n",
       "      <td></td>\n",
       "      <td></td>\n",
       "      <td></td>\n",
       "      <td></td>\n",
       "      <td></td>\n",
       "      <td></td>\n",
       "      <td></td>\n",
       "      <td></td>\n",
       "      <td></td>\n",
       "      <td></td>\n",
       "      <td></td>\n",
       "    </tr>\n",
       "    <tr>\n",
       "      <th>4</th>\n",
       "      <td></td>\n",
       "      <td></td>\n",
       "      <td>Y</td>\n",
       "      <td>Y</td>\n",
       "      <td></td>\n",
       "      <td></td>\n",
       "      <td></td>\n",
       "      <td>Y</td>\n",
       "      <td></td>\n",
       "      <td></td>\n",
       "      <td>Y</td>\n",
       "      <td></td>\n",
       "      <td>Y</td>\n",
       "      <td></td>\n",
       "      <td>Y</td>\n",
       "      <td></td>\n",
       "      <td>Y</td>\n",
       "      <td></td>\n",
       "      <td>3</td>\n",
       "    </tr>\n",
       "  </tbody>\n",
       "</table>\n",
       "</div>"
      ],
      "text/plain": [
       "  COLLECT1 VETERANS BIBLE CATLG HOMEE PETS CDPLAY STEREO PCOWNERS PHOTO  \\\n",
       "0                                                                         \n",
       "1                                                                         \n",
       "2                                                                         \n",
       "3                                                                         \n",
       "4                       Y     Y                        Y                  \n",
       "\n",
       "  CRAFTS FISHER GARDENIN BOATS WALKER KIDSTUFF CARDS PLATES LIFESRC  \n",
       "0                                                                    \n",
       "1                                                                    \n",
       "2                                                                    \n",
       "3                                                                    \n",
       "4      Y               Y            Y              Y              3  "
      ]
     },
     "execution_count": 81,
     "metadata": {},
     "output_type": "execute_result"
    }
   ],
   "source": [
    "subset_interests.head()"
   ]
  },
  {
   "cell_type": "markdown",
   "metadata": {},
   "source": [
    "As this subset only contains categorical features, it will not be suitable for the clustering. We can only try to potentially get some useful information out of it once we've finished the clustering process!"
   ]
  },
  {
   "cell_type": "markdown",
   "metadata": {},
   "source": [
    "### subset: Overall donation data"
   ]
  },
  {
   "cell_type": "markdown",
   "metadata": {},
   "source": [
    "This subset is probably the most important, as it contains all the information that shows us how and what a donor has donated in the past."
   ]
  },
  {
   "cell_type": "code",
   "execution_count": 82,
   "metadata": {},
   "outputs": [],
   "source": [
    "overall_donation_data = ['CARDPROM', 'MAXADATE', 'NUMPROM', 'CARDPM12', 'NUMPRM12', 'RAMNTALL', 'NGIFTALL', 'CARDGIFT',\n",
    "       'MINRAMNT', 'MINRDATE', 'MAXRAMNT', 'MAXRDATE', 'LASTGIFT', 'LASTDATE',\n",
    "       'FISTDATE', 'NEXTDATE', 'TIMELAG', 'AVGGIFT']"
   ]
  },
  {
   "cell_type": "code",
   "execution_count": 83,
   "metadata": {},
   "outputs": [],
   "source": [
    "#creating a dataframe that contains only the overall_donation_data data\n",
    "subset_overall_donation_data = donors[overall_donation_data]\n",
    "donors_copy = donors_copy.drop(columns = overall_donation_data)"
   ]
  },
  {
   "cell_type": "code",
   "execution_count": 84,
   "metadata": {},
   "outputs": [
    {
     "data": {
      "text/html": [
       "<div>\n",
       "<style scoped>\n",
       "    .dataframe tbody tr th:only-of-type {\n",
       "        vertical-align: middle;\n",
       "    }\n",
       "\n",
       "    .dataframe tbody tr th {\n",
       "        vertical-align: top;\n",
       "    }\n",
       "\n",
       "    .dataframe thead th {\n",
       "        text-align: right;\n",
       "    }\n",
       "</style>\n",
       "<table border=\"1\" class=\"dataframe\">\n",
       "  <thead>\n",
       "    <tr style=\"text-align: right;\">\n",
       "      <th></th>\n",
       "      <th>CARDPROM</th>\n",
       "      <th>MAXADATE</th>\n",
       "      <th>NUMPROM</th>\n",
       "      <th>CARDPM12</th>\n",
       "      <th>NUMPRM12</th>\n",
       "      <th>RAMNTALL</th>\n",
       "      <th>NGIFTALL</th>\n",
       "      <th>CARDGIFT</th>\n",
       "      <th>MINRAMNT</th>\n",
       "      <th>MINRDATE</th>\n",
       "      <th>MAXRAMNT</th>\n",
       "      <th>MAXRDATE</th>\n",
       "      <th>LASTGIFT</th>\n",
       "      <th>LASTDATE</th>\n",
       "      <th>FISTDATE</th>\n",
       "      <th>NEXTDATE</th>\n",
       "      <th>TIMELAG</th>\n",
       "      <th>AVGGIFT</th>\n",
       "    </tr>\n",
       "  </thead>\n",
       "  <tbody>\n",
       "    <tr>\n",
       "      <th>0</th>\n",
       "      <td>27</td>\n",
       "      <td>120</td>\n",
       "      <td>74</td>\n",
       "      <td>6</td>\n",
       "      <td>14</td>\n",
       "      <td>240.0</td>\n",
       "      <td>31</td>\n",
       "      <td>14</td>\n",
       "      <td>5.0</td>\n",
       "      <td>1765</td>\n",
       "      <td>12.0</td>\n",
       "      <td>1216</td>\n",
       "      <td>10.0</td>\n",
       "      <td>548</td>\n",
       "      <td>2769.0</td>\n",
       "      <td>2649.0</td>\n",
       "      <td>4.0</td>\n",
       "      <td>7.741935</td>\n",
       "    </tr>\n",
       "    <tr>\n",
       "      <th>1</th>\n",
       "      <td>12</td>\n",
       "      <td>120</td>\n",
       "      <td>32</td>\n",
       "      <td>6</td>\n",
       "      <td>13</td>\n",
       "      <td>47.0</td>\n",
       "      <td>3</td>\n",
       "      <td>1</td>\n",
       "      <td>10.0</td>\n",
       "      <td>1339</td>\n",
       "      <td>25.0</td>\n",
       "      <td>548</td>\n",
       "      <td>25.0</td>\n",
       "      <td>548</td>\n",
       "      <td>1339.0</td>\n",
       "      <td>792.0</td>\n",
       "      <td>18.0</td>\n",
       "      <td>15.666667</td>\n",
       "    </tr>\n",
       "    <tr>\n",
       "      <th>2</th>\n",
       "      <td>26</td>\n",
       "      <td>120</td>\n",
       "      <td>63</td>\n",
       "      <td>6</td>\n",
       "      <td>14</td>\n",
       "      <td>202.0</td>\n",
       "      <td>27</td>\n",
       "      <td>14</td>\n",
       "      <td>2.0</td>\n",
       "      <td>2039</td>\n",
       "      <td>16.0</td>\n",
       "      <td>1796</td>\n",
       "      <td>5.0</td>\n",
       "      <td>548</td>\n",
       "      <td>2708.0</td>\n",
       "      <td>2343.0</td>\n",
       "      <td>12.0</td>\n",
       "      <td>7.481481</td>\n",
       "    </tr>\n",
       "    <tr>\n",
       "      <th>3</th>\n",
       "      <td>27</td>\n",
       "      <td>120</td>\n",
       "      <td>66</td>\n",
       "      <td>6</td>\n",
       "      <td>14</td>\n",
       "      <td>109.0</td>\n",
       "      <td>16</td>\n",
       "      <td>7</td>\n",
       "      <td>2.0</td>\n",
       "      <td>3500</td>\n",
       "      <td>11.0</td>\n",
       "      <td>943</td>\n",
       "      <td>10.0</td>\n",
       "      <td>548</td>\n",
       "      <td>3773.0</td>\n",
       "      <td>3500.0</td>\n",
       "      <td>9.0</td>\n",
       "      <td>6.812500</td>\n",
       "    </tr>\n",
       "    <tr>\n",
       "      <th>4</th>\n",
       "      <td>43</td>\n",
       "      <td>120</td>\n",
       "      <td>113</td>\n",
       "      <td>10</td>\n",
       "      <td>25</td>\n",
       "      <td>254.0</td>\n",
       "      <td>37</td>\n",
       "      <td>8</td>\n",
       "      <td>3.0</td>\n",
       "      <td>1339</td>\n",
       "      <td>15.0</td>\n",
       "      <td>517</td>\n",
       "      <td>15.0</td>\n",
       "      <td>517</td>\n",
       "      <td>6667.0</td>\n",
       "      <td>6240.0</td>\n",
       "      <td>14.0</td>\n",
       "      <td>6.864865</td>\n",
       "    </tr>\n",
       "  </tbody>\n",
       "</table>\n",
       "</div>"
      ],
      "text/plain": [
       "   CARDPROM  MAXADATE  NUMPROM  CARDPM12  NUMPRM12  RAMNTALL  NGIFTALL  \\\n",
       "0        27       120       74         6        14     240.0        31   \n",
       "1        12       120       32         6        13      47.0         3   \n",
       "2        26       120       63         6        14     202.0        27   \n",
       "3        27       120       66         6        14     109.0        16   \n",
       "4        43       120      113        10        25     254.0        37   \n",
       "\n",
       "   CARDGIFT  MINRAMNT  MINRDATE  MAXRAMNT  MAXRDATE  LASTGIFT  LASTDATE  \\\n",
       "0        14       5.0      1765      12.0      1216      10.0       548   \n",
       "1         1      10.0      1339      25.0       548      25.0       548   \n",
       "2        14       2.0      2039      16.0      1796       5.0       548   \n",
       "3         7       2.0      3500      11.0       943      10.0       548   \n",
       "4         8       3.0      1339      15.0       517      15.0       517   \n",
       "\n",
       "   FISTDATE  NEXTDATE  TIMELAG    AVGGIFT  \n",
       "0    2769.0    2649.0      4.0   7.741935  \n",
       "1    1339.0     792.0     18.0  15.666667  \n",
       "2    2708.0    2343.0     12.0   7.481481  \n",
       "3    3773.0    3500.0      9.0   6.812500  \n",
       "4    6667.0    6240.0     14.0   6.864865  "
      ]
     },
     "execution_count": 84,
     "metadata": {},
     "output_type": "execute_result"
    }
   ],
   "source": [
    "subset_overall_donation_data.head()"
   ]
  },
  {
   "cell_type": "markdown",
   "metadata": {},
   "source": [
    "As displayed, there are only metric features within this subset. Let's check for highly correlating values first:"
   ]
  },
  {
   "cell_type": "code",
   "execution_count": 85,
   "metadata": {},
   "outputs": [
    {
     "data": {
      "text/html": [
       "<div>\n",
       "<style scoped>\n",
       "    .dataframe tbody tr th:only-of-type {\n",
       "        vertical-align: middle;\n",
       "    }\n",
       "\n",
       "    .dataframe tbody tr th {\n",
       "        vertical-align: top;\n",
       "    }\n",
       "\n",
       "    .dataframe thead th {\n",
       "        text-align: right;\n",
       "    }\n",
       "</style>\n",
       "<table border=\"1\" class=\"dataframe\">\n",
       "  <thead>\n",
       "    <tr style=\"text-align: right;\">\n",
       "      <th></th>\n",
       "      <th>CARDPROM</th>\n",
       "      <th>MAXADATE</th>\n",
       "      <th>NUMPROM</th>\n",
       "      <th>CARDPM12</th>\n",
       "      <th>NUMPRM12</th>\n",
       "      <th>RAMNTALL</th>\n",
       "      <th>NGIFTALL</th>\n",
       "      <th>CARDGIFT</th>\n",
       "      <th>MINRAMNT</th>\n",
       "      <th>MINRDATE</th>\n",
       "      <th>MAXRAMNT</th>\n",
       "      <th>MAXRDATE</th>\n",
       "      <th>LASTGIFT</th>\n",
       "      <th>LASTDATE</th>\n",
       "      <th>FISTDATE</th>\n",
       "      <th>NEXTDATE</th>\n",
       "      <th>TIMELAG</th>\n",
       "      <th>AVGGIFT</th>\n",
       "    </tr>\n",
       "  </thead>\n",
       "  <tbody>\n",
       "    <tr>\n",
       "      <th>CARDPROM</th>\n",
       "      <td>1.000000</td>\n",
       "      <td>-0.058719</td>\n",
       "      <td>0.932515</td>\n",
       "      <td>0.274127</td>\n",
       "      <td>0.250825</td>\n",
       "      <td>0.513232</td>\n",
       "      <td>0.744040</td>\n",
       "      <td>0.754807</td>\n",
       "      <td>-0.289793</td>\n",
       "      <td>0.657892</td>\n",
       "      <td>0.036338</td>\n",
       "      <td>0.422787</td>\n",
       "      <td>-0.015641</td>\n",
       "      <td>-0.051325</td>\n",
       "      <td>0.901915</td>\n",
       "      <td>0.903800</td>\n",
       "      <td>0.022026</td>\n",
       "      <td>-0.087904</td>\n",
       "    </tr>\n",
       "    <tr>\n",
       "      <th>MAXADATE</th>\n",
       "      <td>-0.058719</td>\n",
       "      <td>1.000000</td>\n",
       "      <td>-0.063522</td>\n",
       "      <td>-0.174996</td>\n",
       "      <td>-0.105977</td>\n",
       "      <td>0.008048</td>\n",
       "      <td>0.009543</td>\n",
       "      <td>0.015215</td>\n",
       "      <td>0.002346</td>\n",
       "      <td>-0.011744</td>\n",
       "      <td>-0.001256</td>\n",
       "      <td>-0.001510</td>\n",
       "      <td>-0.004026</td>\n",
       "      <td>0.001880</td>\n",
       "      <td>-0.011066</td>\n",
       "      <td>-0.010932</td>\n",
       "      <td>-0.001086</td>\n",
       "      <td>-0.000615</td>\n",
       "    </tr>\n",
       "    <tr>\n",
       "      <th>NUMPROM</th>\n",
       "      <td>0.932515</td>\n",
       "      <td>-0.063522</td>\n",
       "      <td>1.000000</td>\n",
       "      <td>0.278213</td>\n",
       "      <td>0.478952</td>\n",
       "      <td>0.599631</td>\n",
       "      <td>0.765260</td>\n",
       "      <td>0.715174</td>\n",
       "      <td>-0.260702</td>\n",
       "      <td>0.596329</td>\n",
       "      <td>0.086232</td>\n",
       "      <td>0.411117</td>\n",
       "      <td>0.024936</td>\n",
       "      <td>-0.144858</td>\n",
       "      <td>0.844467</td>\n",
       "      <td>0.848626</td>\n",
       "      <td>0.013970</td>\n",
       "      <td>-0.027060</td>\n",
       "    </tr>\n",
       "    <tr>\n",
       "      <th>CARDPM12</th>\n",
       "      <td>0.274127</td>\n",
       "      <td>-0.174996</td>\n",
       "      <td>0.278213</td>\n",
       "      <td>1.000000</td>\n",
       "      <td>0.583076</td>\n",
       "      <td>0.176467</td>\n",
       "      <td>0.133700</td>\n",
       "      <td>0.075893</td>\n",
       "      <td>0.009109</td>\n",
       "      <td>-0.035853</td>\n",
       "      <td>0.060277</td>\n",
       "      <td>-0.032090</td>\n",
       "      <td>0.055499</td>\n",
       "      <td>-0.289507</td>\n",
       "      <td>-0.006630</td>\n",
       "      <td>0.006203</td>\n",
       "      <td>-0.043881</td>\n",
       "      <td>0.070669</td>\n",
       "    </tr>\n",
       "    <tr>\n",
       "      <th>NUMPRM12</th>\n",
       "      <td>0.250825</td>\n",
       "      <td>-0.105977</td>\n",
       "      <td>0.478952</td>\n",
       "      <td>0.583076</td>\n",
       "      <td>1.000000</td>\n",
       "      <td>0.351468</td>\n",
       "      <td>0.251617</td>\n",
       "      <td>0.123474</td>\n",
       "      <td>0.014375</td>\n",
       "      <td>-0.013507</td>\n",
       "      <td>0.146702</td>\n",
       "      <td>0.022099</td>\n",
       "      <td>0.117241</td>\n",
       "      <td>-0.490187</td>\n",
       "      <td>0.087112</td>\n",
       "      <td>0.097420</td>\n",
       "      <td>-0.029600</td>\n",
       "      <td>0.154773</td>\n",
       "    </tr>\n",
       "    <tr>\n",
       "      <th>RAMNTALL</th>\n",
       "      <td>0.513232</td>\n",
       "      <td>0.008048</td>\n",
       "      <td>0.599631</td>\n",
       "      <td>0.176467</td>\n",
       "      <td>0.351468</td>\n",
       "      <td>1.000000</td>\n",
       "      <td>0.567969</td>\n",
       "      <td>0.461708</td>\n",
       "      <td>0.060582</td>\n",
       "      <td>0.293670</td>\n",
       "      <td>0.582621</td>\n",
       "      <td>0.283786</td>\n",
       "      <td>0.369381</td>\n",
       "      <td>-0.105135</td>\n",
       "      <td>0.431244</td>\n",
       "      <td>0.444651</td>\n",
       "      <td>-0.032955</td>\n",
       "      <td>0.497348</td>\n",
       "    </tr>\n",
       "    <tr>\n",
       "      <th>NGIFTALL</th>\n",
       "      <td>0.744040</td>\n",
       "      <td>0.009543</td>\n",
       "      <td>0.765260</td>\n",
       "      <td>0.133700</td>\n",
       "      <td>0.251617</td>\n",
       "      <td>0.567969</td>\n",
       "      <td>1.000000</td>\n",
       "      <td>0.904455</td>\n",
       "      <td>-0.342845</td>\n",
       "      <td>0.387174</td>\n",
       "      <td>-0.040666</td>\n",
       "      <td>0.394061</td>\n",
       "      <td>-0.170359</td>\n",
       "      <td>-0.147234</td>\n",
       "      <td>0.689997</td>\n",
       "      <td>0.722547</td>\n",
       "      <td>-0.110780</td>\n",
       "      <td>-0.214628</td>\n",
       "    </tr>\n",
       "    <tr>\n",
       "      <th>CARDGIFT</th>\n",
       "      <td>0.754807</td>\n",
       "      <td>0.015215</td>\n",
       "      <td>0.715174</td>\n",
       "      <td>0.075893</td>\n",
       "      <td>0.123474</td>\n",
       "      <td>0.461708</td>\n",
       "      <td>0.904455</td>\n",
       "      <td>1.000000</td>\n",
       "      <td>-0.341628</td>\n",
       "      <td>0.433493</td>\n",
       "      <td>-0.066827</td>\n",
       "      <td>0.388907</td>\n",
       "      <td>-0.181137</td>\n",
       "      <td>-0.083370</td>\n",
       "      <td>0.718964</td>\n",
       "      <td>0.748231</td>\n",
       "      <td>-0.101914</td>\n",
       "      <td>-0.233324</td>\n",
       "    </tr>\n",
       "    <tr>\n",
       "      <th>MINRAMNT</th>\n",
       "      <td>-0.289793</td>\n",
       "      <td>0.002346</td>\n",
       "      <td>-0.260702</td>\n",
       "      <td>0.009109</td>\n",
       "      <td>0.014375</td>\n",
       "      <td>0.060582</td>\n",
       "      <td>-0.342845</td>\n",
       "      <td>-0.341628</td>\n",
       "      <td>1.000000</td>\n",
       "      <td>-0.290994</td>\n",
       "      <td>0.269897</td>\n",
       "      <td>-0.071959</td>\n",
       "      <td>0.461506</td>\n",
       "      <td>0.074613</td>\n",
       "      <td>-0.324816</td>\n",
       "      <td>-0.344172</td>\n",
       "      <td>0.073458</td>\n",
       "      <td>0.658525</td>\n",
       "    </tr>\n",
       "    <tr>\n",
       "      <th>MINRDATE</th>\n",
       "      <td>0.657892</td>\n",
       "      <td>-0.011744</td>\n",
       "      <td>0.596329</td>\n",
       "      <td>-0.035853</td>\n",
       "      <td>-0.013507</td>\n",
       "      <td>0.293670</td>\n",
       "      <td>0.387174</td>\n",
       "      <td>0.433493</td>\n",
       "      <td>-0.290994</td>\n",
       "      <td>1.000000</td>\n",
       "      <td>0.034407</td>\n",
       "      <td>0.196948</td>\n",
       "      <td>0.074013</td>\n",
       "      <td>0.104195</td>\n",
       "      <td>0.737627</td>\n",
       "      <td>0.725896</td>\n",
       "      <td>0.073432</td>\n",
       "      <td>-0.058441</td>\n",
       "    </tr>\n",
       "    <tr>\n",
       "      <th>MAXRAMNT</th>\n",
       "      <td>0.036338</td>\n",
       "      <td>-0.001256</td>\n",
       "      <td>0.086232</td>\n",
       "      <td>0.060277</td>\n",
       "      <td>0.146702</td>\n",
       "      <td>0.582621</td>\n",
       "      <td>-0.040666</td>\n",
       "      <td>-0.066827</td>\n",
       "      <td>0.269897</td>\n",
       "      <td>0.034407</td>\n",
       "      <td>1.000000</td>\n",
       "      <td>-0.002535</td>\n",
       "      <td>0.536777</td>\n",
       "      <td>-0.000752</td>\n",
       "      <td>0.004879</td>\n",
       "      <td>-0.002428</td>\n",
       "      <td>0.032033</td>\n",
       "      <td>0.806893</td>\n",
       "    </tr>\n",
       "    <tr>\n",
       "      <th>MAXRDATE</th>\n",
       "      <td>0.422787</td>\n",
       "      <td>-0.001510</td>\n",
       "      <td>0.411117</td>\n",
       "      <td>-0.032090</td>\n",
       "      <td>0.022099</td>\n",
       "      <td>0.283786</td>\n",
       "      <td>0.394061</td>\n",
       "      <td>0.388907</td>\n",
       "      <td>-0.071959</td>\n",
       "      <td>0.196948</td>\n",
       "      <td>-0.002535</td>\n",
       "      <td>1.000000</td>\n",
       "      <td>-0.126760</td>\n",
       "      <td>0.058796</td>\n",
       "      <td>0.438455</td>\n",
       "      <td>0.445234</td>\n",
       "      <td>-0.019561</td>\n",
       "      <td>-0.016409</td>\n",
       "    </tr>\n",
       "    <tr>\n",
       "      <th>LASTGIFT</th>\n",
       "      <td>-0.015641</td>\n",
       "      <td>-0.004026</td>\n",
       "      <td>0.024936</td>\n",
       "      <td>0.055499</td>\n",
       "      <td>0.117241</td>\n",
       "      <td>0.369381</td>\n",
       "      <td>-0.170359</td>\n",
       "      <td>-0.181137</td>\n",
       "      <td>0.461506</td>\n",
       "      <td>0.074013</td>\n",
       "      <td>0.536777</td>\n",
       "      <td>-0.126760</td>\n",
       "      <td>1.000000</td>\n",
       "      <td>0.071344</td>\n",
       "      <td>-0.049946</td>\n",
       "      <td>-0.067357</td>\n",
       "      <td>0.073355</td>\n",
       "      <td>0.751328</td>\n",
       "    </tr>\n",
       "    <tr>\n",
       "      <th>LASTDATE</th>\n",
       "      <td>-0.051325</td>\n",
       "      <td>0.001880</td>\n",
       "      <td>-0.144858</td>\n",
       "      <td>-0.289507</td>\n",
       "      <td>-0.490187</td>\n",
       "      <td>-0.105135</td>\n",
       "      <td>-0.147234</td>\n",
       "      <td>-0.083370</td>\n",
       "      <td>0.074613</td>\n",
       "      <td>0.104195</td>\n",
       "      <td>-0.000752</td>\n",
       "      <td>0.058796</td>\n",
       "      <td>0.071344</td>\n",
       "      <td>1.000000</td>\n",
       "      <td>-0.008267</td>\n",
       "      <td>-0.014805</td>\n",
       "      <td>0.020380</td>\n",
       "      <td>0.029069</td>\n",
       "    </tr>\n",
       "    <tr>\n",
       "      <th>FISTDATE</th>\n",
       "      <td>0.901915</td>\n",
       "      <td>-0.011066</td>\n",
       "      <td>0.844467</td>\n",
       "      <td>-0.006630</td>\n",
       "      <td>0.087112</td>\n",
       "      <td>0.431244</td>\n",
       "      <td>0.689997</td>\n",
       "      <td>0.718964</td>\n",
       "      <td>-0.324816</td>\n",
       "      <td>0.737627</td>\n",
       "      <td>0.004879</td>\n",
       "      <td>0.438455</td>\n",
       "      <td>-0.049946</td>\n",
       "      <td>-0.008267</td>\n",
       "      <td>1.000000</td>\n",
       "      <td>0.983397</td>\n",
       "      <td>0.091212</td>\n",
       "      <td>-0.140448</td>\n",
       "    </tr>\n",
       "    <tr>\n",
       "      <th>NEXTDATE</th>\n",
       "      <td>0.903800</td>\n",
       "      <td>-0.010932</td>\n",
       "      <td>0.848626</td>\n",
       "      <td>0.006203</td>\n",
       "      <td>0.097420</td>\n",
       "      <td>0.444651</td>\n",
       "      <td>0.722547</td>\n",
       "      <td>0.748231</td>\n",
       "      <td>-0.344172</td>\n",
       "      <td>0.725896</td>\n",
       "      <td>-0.002428</td>\n",
       "      <td>0.445234</td>\n",
       "      <td>-0.067357</td>\n",
       "      <td>-0.014805</td>\n",
       "      <td>0.983397</td>\n",
       "      <td>1.000000</td>\n",
       "      <td>-0.041329</td>\n",
       "      <td>-0.159132</td>\n",
       "    </tr>\n",
       "    <tr>\n",
       "      <th>TIMELAG</th>\n",
       "      <td>0.022026</td>\n",
       "      <td>-0.001086</td>\n",
       "      <td>0.013970</td>\n",
       "      <td>-0.043881</td>\n",
       "      <td>-0.029600</td>\n",
       "      <td>-0.032955</td>\n",
       "      <td>-0.110780</td>\n",
       "      <td>-0.101914</td>\n",
       "      <td>0.073458</td>\n",
       "      <td>0.073432</td>\n",
       "      <td>0.032033</td>\n",
       "      <td>-0.019561</td>\n",
       "      <td>0.073355</td>\n",
       "      <td>0.020380</td>\n",
       "      <td>0.091212</td>\n",
       "      <td>-0.041329</td>\n",
       "      <td>1.000000</td>\n",
       "      <td>0.077245</td>\n",
       "    </tr>\n",
       "    <tr>\n",
       "      <th>AVGGIFT</th>\n",
       "      <td>-0.087904</td>\n",
       "      <td>-0.000615</td>\n",
       "      <td>-0.027060</td>\n",
       "      <td>0.070669</td>\n",
       "      <td>0.154773</td>\n",
       "      <td>0.497348</td>\n",
       "      <td>-0.214628</td>\n",
       "      <td>-0.233324</td>\n",
       "      <td>0.658525</td>\n",
       "      <td>-0.058441</td>\n",
       "      <td>0.806893</td>\n",
       "      <td>-0.016409</td>\n",
       "      <td>0.751328</td>\n",
       "      <td>0.029069</td>\n",
       "      <td>-0.140448</td>\n",
       "      <td>-0.159132</td>\n",
       "      <td>0.077245</td>\n",
       "      <td>1.000000</td>\n",
       "    </tr>\n",
       "  </tbody>\n",
       "</table>\n",
       "</div>"
      ],
      "text/plain": [
       "          CARDPROM  MAXADATE   NUMPROM  CARDPM12  NUMPRM12  RAMNTALL  \\\n",
       "CARDPROM  1.000000 -0.058719  0.932515  0.274127  0.250825  0.513232   \n",
       "MAXADATE -0.058719  1.000000 -0.063522 -0.174996 -0.105977  0.008048   \n",
       "NUMPROM   0.932515 -0.063522  1.000000  0.278213  0.478952  0.599631   \n",
       "CARDPM12  0.274127 -0.174996  0.278213  1.000000  0.583076  0.176467   \n",
       "NUMPRM12  0.250825 -0.105977  0.478952  0.583076  1.000000  0.351468   \n",
       "RAMNTALL  0.513232  0.008048  0.599631  0.176467  0.351468  1.000000   \n",
       "NGIFTALL  0.744040  0.009543  0.765260  0.133700  0.251617  0.567969   \n",
       "CARDGIFT  0.754807  0.015215  0.715174  0.075893  0.123474  0.461708   \n",
       "MINRAMNT -0.289793  0.002346 -0.260702  0.009109  0.014375  0.060582   \n",
       "MINRDATE  0.657892 -0.011744  0.596329 -0.035853 -0.013507  0.293670   \n",
       "MAXRAMNT  0.036338 -0.001256  0.086232  0.060277  0.146702  0.582621   \n",
       "MAXRDATE  0.422787 -0.001510  0.411117 -0.032090  0.022099  0.283786   \n",
       "LASTGIFT -0.015641 -0.004026  0.024936  0.055499  0.117241  0.369381   \n",
       "LASTDATE -0.051325  0.001880 -0.144858 -0.289507 -0.490187 -0.105135   \n",
       "FISTDATE  0.901915 -0.011066  0.844467 -0.006630  0.087112  0.431244   \n",
       "NEXTDATE  0.903800 -0.010932  0.848626  0.006203  0.097420  0.444651   \n",
       "TIMELAG   0.022026 -0.001086  0.013970 -0.043881 -0.029600 -0.032955   \n",
       "AVGGIFT  -0.087904 -0.000615 -0.027060  0.070669  0.154773  0.497348   \n",
       "\n",
       "          NGIFTALL  CARDGIFT  MINRAMNT  MINRDATE  MAXRAMNT  MAXRDATE  \\\n",
       "CARDPROM  0.744040  0.754807 -0.289793  0.657892  0.036338  0.422787   \n",
       "MAXADATE  0.009543  0.015215  0.002346 -0.011744 -0.001256 -0.001510   \n",
       "NUMPROM   0.765260  0.715174 -0.260702  0.596329  0.086232  0.411117   \n",
       "CARDPM12  0.133700  0.075893  0.009109 -0.035853  0.060277 -0.032090   \n",
       "NUMPRM12  0.251617  0.123474  0.014375 -0.013507  0.146702  0.022099   \n",
       "RAMNTALL  0.567969  0.461708  0.060582  0.293670  0.582621  0.283786   \n",
       "NGIFTALL  1.000000  0.904455 -0.342845  0.387174 -0.040666  0.394061   \n",
       "CARDGIFT  0.904455  1.000000 -0.341628  0.433493 -0.066827  0.388907   \n",
       "MINRAMNT -0.342845 -0.341628  1.000000 -0.290994  0.269897 -0.071959   \n",
       "MINRDATE  0.387174  0.433493 -0.290994  1.000000  0.034407  0.196948   \n",
       "MAXRAMNT -0.040666 -0.066827  0.269897  0.034407  1.000000 -0.002535   \n",
       "MAXRDATE  0.394061  0.388907 -0.071959  0.196948 -0.002535  1.000000   \n",
       "LASTGIFT -0.170359 -0.181137  0.461506  0.074013  0.536777 -0.126760   \n",
       "LASTDATE -0.147234 -0.083370  0.074613  0.104195 -0.000752  0.058796   \n",
       "FISTDATE  0.689997  0.718964 -0.324816  0.737627  0.004879  0.438455   \n",
       "NEXTDATE  0.722547  0.748231 -0.344172  0.725896 -0.002428  0.445234   \n",
       "TIMELAG  -0.110780 -0.101914  0.073458  0.073432  0.032033 -0.019561   \n",
       "AVGGIFT  -0.214628 -0.233324  0.658525 -0.058441  0.806893 -0.016409   \n",
       "\n",
       "          LASTGIFT  LASTDATE  FISTDATE  NEXTDATE   TIMELAG   AVGGIFT  \n",
       "CARDPROM -0.015641 -0.051325  0.901915  0.903800  0.022026 -0.087904  \n",
       "MAXADATE -0.004026  0.001880 -0.011066 -0.010932 -0.001086 -0.000615  \n",
       "NUMPROM   0.024936 -0.144858  0.844467  0.848626  0.013970 -0.027060  \n",
       "CARDPM12  0.055499 -0.289507 -0.006630  0.006203 -0.043881  0.070669  \n",
       "NUMPRM12  0.117241 -0.490187  0.087112  0.097420 -0.029600  0.154773  \n",
       "RAMNTALL  0.369381 -0.105135  0.431244  0.444651 -0.032955  0.497348  \n",
       "NGIFTALL -0.170359 -0.147234  0.689997  0.722547 -0.110780 -0.214628  \n",
       "CARDGIFT -0.181137 -0.083370  0.718964  0.748231 -0.101914 -0.233324  \n",
       "MINRAMNT  0.461506  0.074613 -0.324816 -0.344172  0.073458  0.658525  \n",
       "MINRDATE  0.074013  0.104195  0.737627  0.725896  0.073432 -0.058441  \n",
       "MAXRAMNT  0.536777 -0.000752  0.004879 -0.002428  0.032033  0.806893  \n",
       "MAXRDATE -0.126760  0.058796  0.438455  0.445234 -0.019561 -0.016409  \n",
       "LASTGIFT  1.000000  0.071344 -0.049946 -0.067357  0.073355  0.751328  \n",
       "LASTDATE  0.071344  1.000000 -0.008267 -0.014805  0.020380  0.029069  \n",
       "FISTDATE -0.049946 -0.008267  1.000000  0.983397  0.091212 -0.140448  \n",
       "NEXTDATE -0.067357 -0.014805  0.983397  1.000000 -0.041329 -0.159132  \n",
       "TIMELAG   0.073355  0.020380  0.091212 -0.041329  1.000000  0.077245  \n",
       "AVGGIFT   0.751328  0.029069 -0.140448 -0.159132  0.077245  1.000000  "
      ]
     },
     "execution_count": 85,
     "metadata": {},
     "output_type": "execute_result"
    }
   ],
   "source": [
    "subset_overall_donation_data.corr()"
   ]
  },
  {
   "cell_type": "markdown",
   "metadata": {},
   "source": [
    "After seeing the correlation matrix, we will drop three highly correlating columns, \"CARDPROM\", \"CARDGIFT\", \"NEXTDATE\". The all contain information that is redundant, as it is already stored in other features. We decided like that because we obviusly don't want to drop the respective other column, e. g. NUMPROM, as it contains \"more\" information, because it does not only show the number of card promotions, but the total one. We can also drop the NEXTDATE, as we only have one time donors left in the DataFrame, so it also provides only redundant information. One further thing that seems a bit strange is that CARDPM12 and NUMPM12 doesn't have a super high correlation. However, to stay consequent, we should also drop CARDPM12, as the information is also contained in NUMPRM12!"
   ]
  },
  {
   "cell_type": "code",
   "execution_count": 86,
   "metadata": {},
   "outputs": [],
   "source": [
    "to_drop_high_corr = [\"CARDPROM\", \"CARDGIFT\", \"NEXTDATE\", \"CARDPM12\"]\n",
    "for element in to_drop_high_corr:\n",
    "    overall_donation_data.remove(element)\n",
    "subset_overall_donation_data = subset_overall_donation_data.drop(columns = to_drop_high_corr)"
   ]
  },
  {
   "cell_type": "markdown",
   "metadata": {},
   "source": [
    "##### Outlier Removal and Nans"
   ]
  },
  {
   "cell_type": "code",
   "execution_count": 87,
   "metadata": {},
   "outputs": [],
   "source": [
    "for element in overall_donation_data:\n",
    "    if len(subset_overall_donation_data[element].dropna()) != len(subset_overall_donation_data):\n",
    "        print(element, np.round(100 - np.round(len(subset_overall_donation_data[element].dropna())/len(subset_overall_donation_data), 4)*100,4))"
   ]
  },
  {
   "cell_type": "markdown",
   "metadata": {},
   "source": [
    "As we can see, there are no nan values within these features, so this problem is already solved. Lets have a closer look into the columns:"
   ]
  },
  {
   "cell_type": "code",
   "execution_count": 88,
   "metadata": {},
   "outputs": [
    {
     "data": {
      "text/plain": [
       "<matplotlib.axes._subplots.AxesSubplot at 0x7fd1663e7160>"
      ]
     },
     "execution_count": 88,
     "metadata": {},
     "output_type": "execute_result"
    },
    {
     "data": {
      "image/png": "[encoded data removed]",
      "text/plain": [
       "<Figure size 1224x576 with 1 Axes>"
      ]
     },
     "metadata": {},
     "output_type": "display_data"
    }
   ],
   "source": [
    "sns.set_style(\"whitegrid\")\n",
    "sns.boxplot(data=subset_overall_donation_data)"
   ]
  },
  {
   "cell_type": "markdown",
   "metadata": {},
   "source": [
    "We notice that there might be some features with a very low variation, let's check this:"
   ]
  },
  {
   "cell_type": "code",
   "execution_count": 89,
   "metadata": {},
   "outputs": [
    {
     "name": "stdout",
     "output_type": "stream",
     "text": [
      "MAXADATE : 99.59\n",
      "NUMPROM : 2.1399999999999997\n",
      "NUMPRM12 : 28.610000000000003\n",
      "RAMNTALL : 2.78\n",
      "NGIFTALL : 9.04\n",
      "MINRAMNT : 40.47\n",
      "MINRDATE : 2.55\n",
      "MAXRAMNT : 17.59\n",
      "MAXRDATE : 11.87\n",
      "LASTGIFT : 16.85\n",
      "LASTDATE : 22.8\n",
      "FISTDATE : 3.46\n",
      "TIMELAG : 10.05\n",
      "AVGGIFT : 3.08\n"
     ]
    }
   ],
   "source": [
    "for element in overall_donation_data:\n",
    "    print(element, \":\", np.round(subset_overall_donation_data[element].value_counts().iloc[0]/len(subset_overall_donation_data), 4)*100)"
   ]
  },
  {
   "cell_type": "markdown",
   "metadata": {},
   "source": [
    "We can conclude that we can drop the MAXADATE, as it has basically no variation at all."
   ]
  },
  {
   "cell_type": "code",
   "execution_count": 90,
   "metadata": {},
   "outputs": [],
   "source": [
    "overall_donation_data.remove(\"MAXADATE\")\n",
    "subset_overall_donation_data = subset_overall_donation_data.drop(columns = [\"MAXADATE\"])"
   ]
  },
  {
   "cell_type": "markdown",
   "metadata": {},
   "source": [
    "Let's check for the percentage of outliers now by using the IQR method:"
   ]
  },
  {
   "cell_type": "code",
   "execution_count": 91,
   "metadata": {},
   "outputs": [
    {
     "name": "stdout",
     "output_type": "stream",
     "text": [
      "NUMPRM12 : 4.0\n",
      "RAMNTALL : 0.0\n",
      "NGIFTALL : 0.0\n",
      "MINRAMNT : 0.0\n",
      "MAXRAMNT : 1.0\n",
      "MAXRDATE : 0.0\n",
      "LASTGIFT : 1.0\n",
      "FISTDATE : 0.0\n",
      "TIMELAG : 0.0\n",
      "AVGGIFT : 0.0\n"
     ]
    }
   ],
   "source": [
    "for element in overall_donation_data:\n",
    "    subset_overall_donation_data[element] = subset_overall_donation_data[element].apply(float)\n",
    "\n",
    "for element in overall_donation_data:\n",
    "    q25 = subset_overall_donation_data[element].quantile(0.25)\n",
    "    q75 = subset_overall_donation_data[element].quantile(0.75)\n",
    "    iqr = q75 - q25\n",
    "    low = q25 - 6 * iqr\n",
    "    high = q75 + 6 * iqr\n",
    "    \n",
    "    series = subset_overall_donation_data[element].between(low, high, inclusive=True)\n",
    "    for index in series[series==False].index.tolist():\n",
    "        subset_overall_donation_data.loc[index, element] = np.nan\n",
    "    \n",
    "    try: \n",
    "        print(element, \":\", np.round(subset_overall_donation_data[element].isna().value_counts()[True]/len(subset_overall_donation_data),2)*100)\n",
    "    except:\n",
    "        0\n",
    "    "
   ]
  },
  {
   "cell_type": "markdown",
   "metadata": {},
   "source": [
    "As we can see, there is no significant information loss, so we apply this method and replace the outliers with the respective medians:"
   ]
  },
  {
   "cell_type": "code",
   "execution_count": 92,
   "metadata": {},
   "outputs": [],
   "source": [
    "for element in overall_donation_data:\n",
    "    subset_overall_donation_data[element] = subset_overall_donation_data[element].replace(np.nan, subset_overall_donation_data[element].median())"
   ]
  },
  {
   "cell_type": "markdown",
   "metadata": {},
   "source": [
    "Okay, that better now:"
   ]
  },
  {
   "cell_type": "code",
   "execution_count": 93,
   "metadata": {},
   "outputs": [
    {
     "data": {
      "text/plain": [
       "<matplotlib.axes._subplots.AxesSubplot at 0x7fd16d2540d0>"
      ]
     },
     "execution_count": 93,
     "metadata": {},
     "output_type": "execute_result"
    },
    {
     "data": {
      "image/png": "[encoded data removed]",
      "text/plain": [
       "<Figure size 1224x576 with 1 Axes>"
      ]
     },
     "metadata": {},
     "output_type": "display_data"
    }
   ],
   "source": [
    "sns.set_style(\"whitegrid\")\n",
    "sns.boxplot(data=subset_overall_donation_data)"
   ]
  },
  {
   "cell_type": "markdown",
   "metadata": {},
   "source": [
    "Now we have our almost fully prepared (but yet to be normalized) subset 5 ready for PCA and clustering!"
   ]
  },
  {
   "cell_type": "code",
   "execution_count": 94,
   "metadata": {},
   "outputs": [
    {
     "data": {
      "text/html": [
       "<div>\n",
       "<style scoped>\n",
       "    .dataframe tbody tr th:only-of-type {\n",
       "        vertical-align: middle;\n",
       "    }\n",
       "\n",
       "    .dataframe tbody tr th {\n",
       "        vertical-align: top;\n",
       "    }\n",
       "\n",
       "    .dataframe thead th {\n",
       "        text-align: right;\n",
       "    }\n",
       "</style>\n",
       "<table border=\"1\" class=\"dataframe\">\n",
       "  <thead>\n",
       "    <tr style=\"text-align: right;\">\n",
       "      <th></th>\n",
       "      <th>NUMPROM</th>\n",
       "      <th>NUMPRM12</th>\n",
       "      <th>RAMNTALL</th>\n",
       "      <th>NGIFTALL</th>\n",
       "      <th>MINRAMNT</th>\n",
       "      <th>MINRDATE</th>\n",
       "      <th>MAXRAMNT</th>\n",
       "      <th>MAXRDATE</th>\n",
       "      <th>LASTGIFT</th>\n",
       "      <th>LASTDATE</th>\n",
       "      <th>FISTDATE</th>\n",
       "      <th>TIMELAG</th>\n",
       "      <th>AVGGIFT</th>\n",
       "    </tr>\n",
       "  </thead>\n",
       "  <tbody>\n",
       "    <tr>\n",
       "      <th>0</th>\n",
       "      <td>74.0</td>\n",
       "      <td>14.0</td>\n",
       "      <td>240.0</td>\n",
       "      <td>31.0</td>\n",
       "      <td>5.0</td>\n",
       "      <td>1765.0</td>\n",
       "      <td>12.0</td>\n",
       "      <td>1216.0</td>\n",
       "      <td>10.0</td>\n",
       "      <td>548.0</td>\n",
       "      <td>2769.0</td>\n",
       "      <td>4.0</td>\n",
       "      <td>7.741935</td>\n",
       "    </tr>\n",
       "    <tr>\n",
       "      <th>1</th>\n",
       "      <td>32.0</td>\n",
       "      <td>13.0</td>\n",
       "      <td>47.0</td>\n",
       "      <td>3.0</td>\n",
       "      <td>10.0</td>\n",
       "      <td>1339.0</td>\n",
       "      <td>25.0</td>\n",
       "      <td>548.0</td>\n",
       "      <td>25.0</td>\n",
       "      <td>548.0</td>\n",
       "      <td>1339.0</td>\n",
       "      <td>18.0</td>\n",
       "      <td>15.666667</td>\n",
       "    </tr>\n",
       "    <tr>\n",
       "      <th>2</th>\n",
       "      <td>63.0</td>\n",
       "      <td>14.0</td>\n",
       "      <td>202.0</td>\n",
       "      <td>27.0</td>\n",
       "      <td>2.0</td>\n",
       "      <td>2039.0</td>\n",
       "      <td>16.0</td>\n",
       "      <td>1796.0</td>\n",
       "      <td>5.0</td>\n",
       "      <td>548.0</td>\n",
       "      <td>2708.0</td>\n",
       "      <td>12.0</td>\n",
       "      <td>7.481481</td>\n",
       "    </tr>\n",
       "    <tr>\n",
       "      <th>3</th>\n",
       "      <td>66.0</td>\n",
       "      <td>14.0</td>\n",
       "      <td>109.0</td>\n",
       "      <td>16.0</td>\n",
       "      <td>2.0</td>\n",
       "      <td>3500.0</td>\n",
       "      <td>11.0</td>\n",
       "      <td>943.0</td>\n",
       "      <td>10.0</td>\n",
       "      <td>548.0</td>\n",
       "      <td>3773.0</td>\n",
       "      <td>9.0</td>\n",
       "      <td>6.812500</td>\n",
       "    </tr>\n",
       "    <tr>\n",
       "      <th>4</th>\n",
       "      <td>113.0</td>\n",
       "      <td>25.0</td>\n",
       "      <td>254.0</td>\n",
       "      <td>37.0</td>\n",
       "      <td>3.0</td>\n",
       "      <td>1339.0</td>\n",
       "      <td>15.0</td>\n",
       "      <td>517.0</td>\n",
       "      <td>15.0</td>\n",
       "      <td>517.0</td>\n",
       "      <td>6667.0</td>\n",
       "      <td>14.0</td>\n",
       "      <td>6.864865</td>\n",
       "    </tr>\n",
       "  </tbody>\n",
       "</table>\n",
       "</div>"
      ],
      "text/plain": [
       "   NUMPROM  NUMPRM12  RAMNTALL  NGIFTALL  MINRAMNT  MINRDATE  MAXRAMNT  \\\n",
       "0     74.0      14.0     240.0      31.0       5.0    1765.0      12.0   \n",
       "1     32.0      13.0      47.0       3.0      10.0    1339.0      25.0   \n",
       "2     63.0      14.0     202.0      27.0       2.0    2039.0      16.0   \n",
       "3     66.0      14.0     109.0      16.0       2.0    3500.0      11.0   \n",
       "4    113.0      25.0     254.0      37.0       3.0    1339.0      15.0   \n",
       "\n",
       "   MAXRDATE  LASTGIFT  LASTDATE  FISTDATE  TIMELAG    AVGGIFT  \n",
       "0    1216.0      10.0     548.0    2769.0      4.0   7.741935  \n",
       "1     548.0      25.0     548.0    1339.0     18.0  15.666667  \n",
       "2    1796.0       5.0     548.0    2708.0     12.0   7.481481  \n",
       "3     943.0      10.0     548.0    3773.0      9.0   6.812500  \n",
       "4     517.0      15.0     517.0    6667.0     14.0   6.864865  "
      ]
     },
     "execution_count": 94,
     "metadata": {},
     "output_type": "execute_result"
    }
   ],
   "source": [
    "subset_overall_donation_data_metric = subset_overall_donation_data\n",
    "subset_overall_donation_data_metric.head()"
   ]
  },
  {
   "cell_type": "markdown",
   "metadata": {},
   "source": [
    "### addition for neighborhood subset: Unknown percentages"
   ]
  },
  {
   "cell_type": "markdown",
   "metadata": {},
   "source": [
    "We came accross some problems by deciding how to deal with the following variables:"
   ]
  },
  {
   "cell_type": "code",
   "execution_count": 95,
   "metadata": {},
   "outputs": [],
   "source": [
    "problematic_percentages = ['MALEMILI', 'MALEVET', 'VIETVETS', 'WWIIVETS', 'LOCALGOV', 'STATEGOV', 'FEDGOV']\n",
    "donors_copy = donors_copy.drop(columns = problematic_percentages)"
   ]
  },
  {
   "cell_type": "markdown",
   "metadata": {},
   "source": [
    "As these are percentages for for example VIETVETS, these variables can obviously not be for one donor, as they would be all 0 or 100 in that case. We might assume that they are for the consumers household or nieghbourhood. Actually, as there are also very detailed percentages (e.g. 18, 69 etc), that would mean that that we have at least 100 persons, which make it impossible to be meant for households. So we assume that they are also concerning a donors neighbourhood!"
   ]
  },
  {
   "cell_type": "markdown",
   "metadata": {},
   "source": [
    "Therefore, we prepare them and merge them to the neighbourhood subset."
   ]
  },
  {
   "cell_type": "code",
   "execution_count": 96,
   "metadata": {},
   "outputs": [],
   "source": [
    "#checking for nan\n",
    "for element in problematic_percentages:\n",
    "    if len(donors[element].dropna()) != len(donors):\n",
    "        print(element, np.round(100 - np.round(len(donors[element].dropna())/len(donors), 4)*100,4))"
   ]
  },
  {
   "cell_type": "markdown",
   "metadata": {},
   "source": [
    "There are no nan values!"
   ]
  },
  {
   "cell_type": "markdown",
   "metadata": {},
   "source": [
    "For the percentage columns, we concluded that an outlier removal is not very suitable, so we don't perform one. However, we check if there are any values higher than 100 or below 0:"
   ]
  },
  {
   "cell_type": "code",
   "execution_count": 97,
   "metadata": {},
   "outputs": [],
   "source": [
    "for element in problematic_percentages:\n",
    "    if donors[element].max() > 100:\n",
    "        print(element)\n",
    "    if donors[element].min() < 0:\n",
    "        print(element)\n",
    "\n",
    "for element in problematic_percentages:\n",
    "    if len(donors[element].dropna()) != len(donors):\n",
    "        print(element)\n",
    "        \n",
    "#there is no output so we can leave these columns as they are for now, as they have \"no outliers\" nor any nans"
   ]
  },
  {
   "cell_type": "markdown",
   "metadata": {},
   "source": [
    "So now we can merge these features with the neighbourhood subset."
   ]
  },
  {
   "cell_type": "code",
   "execution_count": 98,
   "metadata": {},
   "outputs": [],
   "source": [
    "df_problematic_percentages = donors[problematic_percentages]\n",
    "#subset_neighbourhood_metric = pd.concat([subset_neighbourhood_metric, df_problematic_percentages], axis=1)"
   ]
  },
  {
   "cell_type": "markdown",
   "metadata": {},
   "source": [
    "We also check if any of the new columns are correlating very high with the existing ones within the neighbourhood subset."
   ]
  },
  {
   "cell_type": "code",
   "execution_count": 99,
   "metadata": {},
   "outputs": [],
   "source": [
    "cor_matrix = subset_neighbourhood_metric.corr().abs()\n",
    "upper_tri = cor_matrix.where(np.triu(np.ones(cor_matrix.shape), k=1).astype(np.bool))"
   ]
  },
  {
   "cell_type": "code",
   "execution_count": 100,
   "metadata": {},
   "outputs": [
    {
     "data": {
      "text/plain": [
       "[]"
      ]
     },
     "execution_count": 100,
     "metadata": {},
     "output_type": "execute_result"
    }
   ],
   "source": [
    "to_drop = [column for column in upper_tri.columns if any(upper_tri[column] > 0.95)]\n",
    "to_drop"
   ]
  },
  {
   "cell_type": "markdown",
   "metadata": {},
   "source": [
    "There are no high correlating columns, so we can keep it like it is!"
   ]
  },
  {
   "cell_type": "markdown",
   "metadata": {},
   "source": [
    "### subset: Specific Promotions"
   ]
  },
  {
   "cell_type": "markdown",
   "metadata": {},
   "source": [
    "Let us now have a look into the specific promotions and their corresponding answers. We remember, that we have already came accross them above by dealing with the ADATE and RDATE columns."
   ]
  },
  {
   "cell_type": "code",
   "execution_count": 101,
   "metadata": {},
   "outputs": [],
   "source": [
    "specific_promotions = [\"RFA_\" + str(i) for i in range(2,25)]\n",
    "specific_promotions = specific_promotions + [\"RAMNT_\" + str(i) for i in range(3,25)]\n",
    "specific_promotions = specific_promotions + [\"RFA_2R\", \"RFA_2F\", \"RFA_2A\"]\n",
    "\n",
    "#creating a dataframe that contains only the specific promotion data\n",
    "subset_specific_promotions = donors[specific_promotions]\n",
    "donors_copy = donors_copy.drop(columns = specific_promotions)"
   ]
  },
  {
   "cell_type": "markdown",
   "metadata": {},
   "source": [
    "##### Outlier Removal and Nans"
   ]
  },
  {
   "cell_type": "code",
   "execution_count": 102,
   "metadata": {},
   "outputs": [
    {
     "name": "stdout",
     "output_type": "stream",
     "text": [
      "RAMNT_3 99.72\n",
      "RAMNT_4 99.67\n",
      "RAMNT_5 99.99\n",
      "RAMNT_6 99.09\n",
      "RAMNT_7 90.71\n",
      "RAMNT_8 79.14\n",
      "RAMNT_9 80.9\n",
      "RAMNT_10 87.75\n",
      "RAMNT_11 83.45\n",
      "RAMNT_12 72.51\n",
      "RAMNT_13 85.66\n",
      "RAMNT_14 74.2\n",
      "RAMNT_15 91.5\n",
      "RAMNT_16 68.39\n",
      "RAMNT_17 89.08\n",
      "RAMNT_18 77.15\n",
      "RAMNT_19 81.41\n",
      "RAMNT_20 90.76\n",
      "RAMNT_21 88.87\n",
      "RAMNT_22 75.57\n",
      "RAMNT_23 90.8\n",
      "RAMNT_24 79.23\n"
     ]
    }
   ],
   "source": [
    "#checking for nan\n",
    "for element in specific_promotions:\n",
    "    if len(subset_specific_promotions[element].dropna()) != len(subset_specific_promotions):\n",
    "        print(element, np.round(100 - np.round(len(subset_specific_promotions[element].dropna())/len(subset_specific_promotions), 4)*100,4))"
   ]
  },
  {
   "cell_type": "markdown",
   "metadata": {},
   "source": [
    "As we can see, there are too many missing values in the RAMNT columns for them to be useful for clustering. However, we can still keep the data in the DataFrame we created above for the specific promotions."
   ]
  },
  {
   "cell_type": "code",
   "execution_count": 103,
   "metadata": {},
   "outputs": [],
   "source": [
    "subset_specific_promotions = subset_specific_promotions.drop(columns = [\"RAMNT_\" + str(i) for i in range(3,25)])\n",
    "for element in [\"RAMNT_\" + str(i) for i in range(3,25)]:\n",
    "    specific_promotions.remove(element)"
   ]
  },
  {
   "cell_type": "code",
   "execution_count": 104,
   "metadata": {},
   "outputs": [],
   "source": [
    "gift_sum = donors[[\"RAMNT_\" + str(i) for i in range(3,25)]].sum()\n",
    "gift_sum = pd.DataFrame(gift_sum)"
   ]
  },
  {
   "cell_type": "code",
   "execution_count": 105,
   "metadata": {},
   "outputs": [],
   "source": [
    "gift_sum[\"index\"] = promotions_percentage.index\n",
    "gift_sum = gift_sum.set_index(\"index\", drop=True)"
   ]
  },
  {
   "cell_type": "code",
   "execution_count": 106,
   "metadata": {},
   "outputs": [
    {
     "data": {
      "text/html": [
       "<div>\n",
       "<style scoped>\n",
       "    .dataframe tbody tr th:only-of-type {\n",
       "        vertical-align: middle;\n",
       "    }\n",
       "\n",
       "    .dataframe tbody tr th {\n",
       "        vertical-align: top;\n",
       "    }\n",
       "\n",
       "    .dataframe thead th {\n",
       "        text-align: right;\n",
       "    }\n",
       "</style>\n",
       "<table border=\"1\" class=\"dataframe\">\n",
       "  <thead>\n",
       "    <tr style=\"text-align: right;\">\n",
       "      <th></th>\n",
       "      <th>percentage that gifted</th>\n",
       "      <th>total amount gifted</th>\n",
       "    </tr>\n",
       "    <tr>\n",
       "      <th>index</th>\n",
       "      <th></th>\n",
       "      <th></th>\n",
       "    </tr>\n",
       "  </thead>\n",
       "  <tbody>\n",
       "    <tr>\n",
       "      <th>96NK promotion (3)</th>\n",
       "      <td>0.258929</td>\n",
       "      <td>2957.50</td>\n",
       "    </tr>\n",
       "    <tr>\n",
       "      <th>96TK promotion (4)</th>\n",
       "      <td>0.301434</td>\n",
       "      <td>3995.77</td>\n",
       "    </tr>\n",
       "    <tr>\n",
       "      <th>96SK promotion (5)</th>\n",
       "      <td>0.014558</td>\n",
       "      <td>153.00</td>\n",
       "    </tr>\n",
       "    <tr>\n",
       "      <th>96LL promotion (6)</th>\n",
       "      <td>0.844810</td>\n",
       "      <td>11085.97</td>\n",
       "    </tr>\n",
       "    <tr>\n",
       "      <th>96G1 promotion (7)</th>\n",
       "      <td>10.278721</td>\n",
       "      <td>113502.46</td>\n",
       "    </tr>\n",
       "    <tr>\n",
       "      <th>96GK promotion (8)</th>\n",
       "      <td>23.364272</td>\n",
       "      <td>260106.85</td>\n",
       "    </tr>\n",
       "    <tr>\n",
       "      <th>96CC promotion (9)</th>\n",
       "      <td>19.881901</td>\n",
       "      <td>243185.03</td>\n",
       "    </tr>\n",
       "    <tr>\n",
       "      <th>96WL promotion (10)</th>\n",
       "      <td>16.693795</td>\n",
       "      <td>161257.05</td>\n",
       "    </tr>\n",
       "    <tr>\n",
       "      <th>96X1 promotion (11)</th>\n",
       "      <td>17.343217</td>\n",
       "      <td>201805.22</td>\n",
       "    </tr>\n",
       "    <tr>\n",
       "      <th>96XK promotion (12)</th>\n",
       "      <td>29.714761</td>\n",
       "      <td>334914.71</td>\n",
       "    </tr>\n",
       "    <tr>\n",
       "      <th>95FS promotion (13)</th>\n",
       "      <td>22.194844</td>\n",
       "      <td>165131.22</td>\n",
       "    </tr>\n",
       "    <tr>\n",
       "      <th>95NK promotion (14)</th>\n",
       "      <td>30.461820</td>\n",
       "      <td>281878.80</td>\n",
       "    </tr>\n",
       "    <tr>\n",
       "      <th>95TK promotion (15)</th>\n",
       "      <td>24.259228</td>\n",
       "      <td>96929.70</td>\n",
       "    </tr>\n",
       "    <tr>\n",
       "      <th>95LL promotion (16)</th>\n",
       "      <td>35.968980</td>\n",
       "      <td>378783.64</td>\n",
       "    </tr>\n",
       "    <tr>\n",
       "      <th>95G1 promotion (17)</th>\n",
       "      <td>13.873557</td>\n",
       "      <td>118245.62</td>\n",
       "    </tr>\n",
       "    <tr>\n",
       "      <th>95GK promotion (18)</th>\n",
       "      <td>26.673320</td>\n",
       "      <td>236273.55</td>\n",
       "    </tr>\n",
       "    <tr>\n",
       "      <th>95CC promotion (19)</th>\n",
       "      <td>22.383409</td>\n",
       "      <td>208203.03</td>\n",
       "    </tr>\n",
       "    <tr>\n",
       "      <th>95WL promotion (20)</th>\n",
       "      <td>17.446696</td>\n",
       "      <td>112499.70</td>\n",
       "    </tr>\n",
       "    <tr>\n",
       "      <th>95X1 promotion (21)</th>\n",
       "      <td>15.802326</td>\n",
       "      <td>123037.73</td>\n",
       "    </tr>\n",
       "    <tr>\n",
       "      <th>95XK promotion (22)</th>\n",
       "      <td>29.919443</td>\n",
       "      <td>255695.48</td>\n",
       "    </tr>\n",
       "    <tr>\n",
       "      <th>94FS promotion (23)</th>\n",
       "      <td>20.078177</td>\n",
       "      <td>95486.42</td>\n",
       "    </tr>\n",
       "    <tr>\n",
       "      <th>94NK promotion (24)</th>\n",
       "      <td>30.353018</td>\n",
       "      <td>201590.43</td>\n",
       "    </tr>\n",
       "  </tbody>\n",
       "</table>\n",
       "</div>"
      ],
      "text/plain": [
       "                     percentage that gifted  total amount gifted\n",
       "index                                                           \n",
       "96NK promotion (3)                 0.258929              2957.50\n",
       "96TK promotion (4)                 0.301434              3995.77\n",
       "96SK promotion (5)                 0.014558               153.00\n",
       "96LL promotion (6)                 0.844810             11085.97\n",
       "96G1 promotion (7)                10.278721            113502.46\n",
       "96GK promotion (8)                23.364272            260106.85\n",
       "96CC promotion (9)                19.881901            243185.03\n",
       "96WL promotion (10)               16.693795            161257.05\n",
       "96X1 promotion (11)               17.343217            201805.22\n",
       "96XK promotion (12)               29.714761            334914.71\n",
       "95FS promotion (13)               22.194844            165131.22\n",
       "95NK promotion (14)               30.461820            281878.80\n",
       "95TK promotion (15)               24.259228             96929.70\n",
       "95LL promotion (16)               35.968980            378783.64\n",
       "95G1 promotion (17)               13.873557            118245.62\n",
       "95GK promotion (18)               26.673320            236273.55\n",
       "95CC promotion (19)               22.383409            208203.03\n",
       "95WL promotion (20)               17.446696            112499.70\n",
       "95X1 promotion (21)               15.802326            123037.73\n",
       "95XK promotion (22)               29.919443            255695.48\n",
       "94FS promotion (23)               20.078177             95486.42\n",
       "94NK promotion (24)               30.353018            201590.43"
      ]
     },
     "execution_count": 106,
     "metadata": {},
     "output_type": "execute_result"
    }
   ],
   "source": [
    "promotions_percentage = pd.concat([promotions_percentage, gift_sum], axis = 1)\n",
    "promotions_percentage = promotions_percentage.rename(columns={0:\"total amount gifted\"})\n",
    "promotions_percentage"
   ]
  },
  {
   "cell_type": "code",
   "execution_count": 107,
   "metadata": {},
   "outputs": [],
   "source": [
    "#promotions_percentage.to_excel(\"PP.xlsx\")"
   ]
  },
  {
   "cell_type": "code",
   "execution_count": 108,
   "metadata": {},
   "outputs": [
    {
     "data": {
      "text/html": [
       "<div>\n",
       "<style scoped>\n",
       "    .dataframe tbody tr th:only-of-type {\n",
       "        vertical-align: middle;\n",
       "    }\n",
       "\n",
       "    .dataframe tbody tr th {\n",
       "        vertical-align: top;\n",
       "    }\n",
       "\n",
       "    .dataframe thead th {\n",
       "        text-align: right;\n",
       "    }\n",
       "</style>\n",
       "<table border=\"1\" class=\"dataframe\">\n",
       "  <thead>\n",
       "    <tr style=\"text-align: right;\">\n",
       "      <th></th>\n",
       "      <th>percentage that gifted</th>\n",
       "      <th>total amount gifted</th>\n",
       "      <th>average amount gifted</th>\n",
       "    </tr>\n",
       "    <tr>\n",
       "      <th>index</th>\n",
       "      <th></th>\n",
       "      <th></th>\n",
       "      <th></th>\n",
       "    </tr>\n",
       "  </thead>\n",
       "  <tbody>\n",
       "    <tr>\n",
       "      <th>96NK promotion (3)</th>\n",
       "      <td>0.258929</td>\n",
       "      <td>2957.50</td>\n",
       "      <td>12.221074</td>\n",
       "    </tr>\n",
       "    <tr>\n",
       "      <th>96TK promotion (4)</th>\n",
       "      <td>0.301434</td>\n",
       "      <td>3995.77</td>\n",
       "      <td>14.321756</td>\n",
       "    </tr>\n",
       "    <tr>\n",
       "      <th>96SK promotion (5)</th>\n",
       "      <td>0.014558</td>\n",
       "      <td>153.00</td>\n",
       "      <td>17.000000</td>\n",
       "    </tr>\n",
       "    <tr>\n",
       "      <th>96LL promotion (6)</th>\n",
       "      <td>0.844810</td>\n",
       "      <td>11085.97</td>\n",
       "      <td>14.322959</td>\n",
       "    </tr>\n",
       "    <tr>\n",
       "      <th>96G1 promotion (7)</th>\n",
       "      <td>10.278721</td>\n",
       "      <td>113502.46</td>\n",
       "      <td>14.311242</td>\n",
       "    </tr>\n",
       "    <tr>\n",
       "      <th>96GK promotion (8)</th>\n",
       "      <td>23.364272</td>\n",
       "      <td>260106.85</td>\n",
       "      <td>14.602080</td>\n",
       "    </tr>\n",
       "    <tr>\n",
       "      <th>96CC promotion (9)</th>\n",
       "      <td>19.881901</td>\n",
       "      <td>243185.03</td>\n",
       "      <td>14.911094</td>\n",
       "    </tr>\n",
       "    <tr>\n",
       "      <th>96WL promotion (10)</th>\n",
       "      <td>16.693795</td>\n",
       "      <td>161257.05</td>\n",
       "      <td>15.415070</td>\n",
       "    </tr>\n",
       "    <tr>\n",
       "      <th>96X1 promotion (11)</th>\n",
       "      <td>17.343217</td>\n",
       "      <td>201805.22</td>\n",
       "      <td>14.277998</td>\n",
       "    </tr>\n",
       "    <tr>\n",
       "      <th>96XK promotion (12)</th>\n",
       "      <td>29.714761</td>\n",
       "      <td>334914.71</td>\n",
       "      <td>14.267475</td>\n",
       "    </tr>\n",
       "    <tr>\n",
       "      <th>95FS promotion (13)</th>\n",
       "      <td>22.194844</td>\n",
       "      <td>165131.22</td>\n",
       "      <td>13.480100</td>\n",
       "    </tr>\n",
       "    <tr>\n",
       "      <th>95NK promotion (14)</th>\n",
       "      <td>30.461820</td>\n",
       "      <td>281878.80</td>\n",
       "      <td>12.791160</td>\n",
       "    </tr>\n",
       "    <tr>\n",
       "      <th>95TK promotion (15)</th>\n",
       "      <td>24.259228</td>\n",
       "      <td>96929.70</td>\n",
       "      <td>13.347521</td>\n",
       "    </tr>\n",
       "    <tr>\n",
       "      <th>95LL promotion (16)</th>\n",
       "      <td>35.968980</td>\n",
       "      <td>378783.64</td>\n",
       "      <td>14.032142</td>\n",
       "    </tr>\n",
       "    <tr>\n",
       "      <th>95G1 promotion (17)</th>\n",
       "      <td>13.873557</td>\n",
       "      <td>118245.62</td>\n",
       "      <td>12.681855</td>\n",
       "    </tr>\n",
       "    <tr>\n",
       "      <th>95GK promotion (18)</th>\n",
       "      <td>26.673320</td>\n",
       "      <td>236273.55</td>\n",
       "      <td>12.104798</td>\n",
       "    </tr>\n",
       "    <tr>\n",
       "      <th>95CC promotion (19)</th>\n",
       "      <td>22.383409</td>\n",
       "      <td>208203.03</td>\n",
       "      <td>13.115151</td>\n",
       "    </tr>\n",
       "    <tr>\n",
       "      <th>95WL promotion (20)</th>\n",
       "      <td>17.446696</td>\n",
       "      <td>112499.70</td>\n",
       "      <td>14.262132</td>\n",
       "    </tr>\n",
       "    <tr>\n",
       "      <th>95X1 promotion (21)</th>\n",
       "      <td>15.802326</td>\n",
       "      <td>123037.73</td>\n",
       "      <td>12.939082</td>\n",
       "    </tr>\n",
       "    <tr>\n",
       "      <th>95XK promotion (22)</th>\n",
       "      <td>29.919443</td>\n",
       "      <td>255695.48</td>\n",
       "      <td>12.257106</td>\n",
       "    </tr>\n",
       "    <tr>\n",
       "      <th>94FS promotion (23)</th>\n",
       "      <td>20.078177</td>\n",
       "      <td>95486.42</td>\n",
       "      <td>12.149945</td>\n",
       "    </tr>\n",
       "    <tr>\n",
       "      <th>94NK promotion (24)</th>\n",
       "      <td>30.353018</td>\n",
       "      <td>201590.43</td>\n",
       "      <td>11.364891</td>\n",
       "    </tr>\n",
       "  </tbody>\n",
       "</table>\n",
       "</div>"
      ],
      "text/plain": [
       "                     percentage that gifted  total amount gifted  \\\n",
       "index                                                              \n",
       "96NK promotion (3)                 0.258929              2957.50   \n",
       "96TK promotion (4)                 0.301434              3995.77   \n",
       "96SK promotion (5)                 0.014558               153.00   \n",
       "96LL promotion (6)                 0.844810             11085.97   \n",
       "96G1 promotion (7)                10.278721            113502.46   \n",
       "96GK promotion (8)                23.364272            260106.85   \n",
       "96CC promotion (9)                19.881901            243185.03   \n",
       "96WL promotion (10)               16.693795            161257.05   \n",
       "96X1 promotion (11)               17.343217            201805.22   \n",
       "96XK promotion (12)               29.714761            334914.71   \n",
       "95FS promotion (13)               22.194844            165131.22   \n",
       "95NK promotion (14)               30.461820            281878.80   \n",
       "95TK promotion (15)               24.259228             96929.70   \n",
       "95LL promotion (16)               35.968980            378783.64   \n",
       "95G1 promotion (17)               13.873557            118245.62   \n",
       "95GK promotion (18)               26.673320            236273.55   \n",
       "95CC promotion (19)               22.383409            208203.03   \n",
       "95WL promotion (20)               17.446696            112499.70   \n",
       "95X1 promotion (21)               15.802326            123037.73   \n",
       "95XK promotion (22)               29.919443            255695.48   \n",
       "94FS promotion (23)               20.078177             95486.42   \n",
       "94NK promotion (24)               30.353018            201590.43   \n",
       "\n",
       "                     average amount gifted  \n",
       "index                                       \n",
       "96NK promotion (3)               12.221074  \n",
       "96TK promotion (4)               14.321756  \n",
       "96SK promotion (5)               17.000000  \n",
       "96LL promotion (6)               14.322959  \n",
       "96G1 promotion (7)               14.311242  \n",
       "96GK promotion (8)               14.602080  \n",
       "96CC promotion (9)               14.911094  \n",
       "96WL promotion (10)              15.415070  \n",
       "96X1 promotion (11)              14.277998  \n",
       "96XK promotion (12)              14.267475  \n",
       "95FS promotion (13)              13.480100  \n",
       "95NK promotion (14)              12.791160  \n",
       "95TK promotion (15)              13.347521  \n",
       "95LL promotion (16)              14.032142  \n",
       "95G1 promotion (17)              12.681855  \n",
       "95GK promotion (18)              12.104798  \n",
       "95CC promotion (19)              13.115151  \n",
       "95WL promotion (20)              14.262132  \n",
       "95X1 promotion (21)              12.939082  \n",
       "95XK promotion (22)              12.257106  \n",
       "94FS promotion (23)              12.149945  \n",
       "94NK promotion (24)              11.364891  "
      ]
     },
     "execution_count": 108,
     "metadata": {},
     "output_type": "execute_result"
    }
   ],
   "source": [
    "gift_sum = donors[[\"RAMNT_\" + str(i) for i in range(3,25)]].mean()\n",
    "gift_sum = pd.DataFrame(gift_sum)\n",
    "gift_sum[\"index\"] = promotions_percentage.index\n",
    "gift_sum = gift_sum.set_index(\"index\", drop=True)\n",
    "promotions_percentage = pd.concat([promotions_percentage, gift_sum], axis = 1)\n",
    "promotions_percentage = promotions_percentage.rename(columns={0:\"average amount gifted\"})\n",
    "promotions_percentage"
   ]
  },
  {
   "cell_type": "markdown",
   "metadata": {},
   "source": [
    "Now, we also have the information of the amount that got gifted in the DataFrame. As expected, the Promotion with the highest fifting percentage has also the highest amount of total gift value. The average does not vary significantly."
   ]
  },
  {
   "cell_type": "markdown",
   "metadata": {},
   "source": [
    "Let us now look at the remaining columns of the subset:"
   ]
  },
  {
   "cell_type": "code",
   "execution_count": 109,
   "metadata": {},
   "outputs": [
    {
     "data": {
      "text/html": [
       "<div>\n",
       "<style scoped>\n",
       "    .dataframe tbody tr th:only-of-type {\n",
       "        vertical-align: middle;\n",
       "    }\n",
       "\n",
       "    .dataframe tbody tr th {\n",
       "        vertical-align: top;\n",
       "    }\n",
       "\n",
       "    .dataframe thead th {\n",
       "        text-align: right;\n",
       "    }\n",
       "</style>\n",
       "<table border=\"1\" class=\"dataframe\">\n",
       "  <thead>\n",
       "    <tr style=\"text-align: right;\">\n",
       "      <th></th>\n",
       "      <th>RFA_2</th>\n",
       "      <th>RFA_3</th>\n",
       "      <th>RFA_4</th>\n",
       "      <th>RFA_5</th>\n",
       "      <th>RFA_6</th>\n",
       "      <th>RFA_7</th>\n",
       "      <th>RFA_8</th>\n",
       "      <th>RFA_9</th>\n",
       "      <th>RFA_10</th>\n",
       "      <th>RFA_11</th>\n",
       "      <th>...</th>\n",
       "      <th>RFA_18</th>\n",
       "      <th>RFA_19</th>\n",
       "      <th>RFA_20</th>\n",
       "      <th>RFA_21</th>\n",
       "      <th>RFA_22</th>\n",
       "      <th>RFA_23</th>\n",
       "      <th>RFA_24</th>\n",
       "      <th>RFA_2R</th>\n",
       "      <th>RFA_2F</th>\n",
       "      <th>RFA_2A</th>\n",
       "    </tr>\n",
       "  </thead>\n",
       "  <tbody>\n",
       "    <tr>\n",
       "      <th>0</th>\n",
       "      <td>L4E</td>\n",
       "      <td>S4E</td>\n",
       "      <td>S4E</td>\n",
       "      <td>S4E</td>\n",
       "      <td>S4E</td>\n",
       "      <td>S4E</td>\n",
       "      <td>S4E</td>\n",
       "      <td>S4E</td>\n",
       "      <td>S4E</td>\n",
       "      <td>S4E</td>\n",
       "      <td>...</td>\n",
       "      <td>S4E</td>\n",
       "      <td>S4E</td>\n",
       "      <td>S4E</td>\n",
       "      <td>S4E</td>\n",
       "      <td>S4E</td>\n",
       "      <td>S4E</td>\n",
       "      <td>S4E</td>\n",
       "      <td>L</td>\n",
       "      <td>4</td>\n",
       "      <td>E</td>\n",
       "    </tr>\n",
       "    <tr>\n",
       "      <th>1</th>\n",
       "      <td>L2G</td>\n",
       "      <td>A2G</td>\n",
       "      <td>A2G</td>\n",
       "      <td>A2G</td>\n",
       "      <td>A2G</td>\n",
       "      <td>A1E</td>\n",
       "      <td>A1E</td>\n",
       "      <td>A1E</td>\n",
       "      <td>A1E</td>\n",
       "      <td>A1E</td>\n",
       "      <td>...</td>\n",
       "      <td></td>\n",
       "      <td>N1E</td>\n",
       "      <td>N1E</td>\n",
       "      <td>N1E</td>\n",
       "      <td>N1E</td>\n",
       "      <td></td>\n",
       "      <td>F1E</td>\n",
       "      <td>L</td>\n",
       "      <td>2</td>\n",
       "      <td>G</td>\n",
       "    </tr>\n",
       "    <tr>\n",
       "      <th>2</th>\n",
       "      <td>L4E</td>\n",
       "      <td>S4E</td>\n",
       "      <td>S4E</td>\n",
       "      <td>S4E</td>\n",
       "      <td>S4E</td>\n",
       "      <td>S4F</td>\n",
       "      <td>S4F</td>\n",
       "      <td>S4F</td>\n",
       "      <td></td>\n",
       "      <td>S4F</td>\n",
       "      <td>...</td>\n",
       "      <td>S4D</td>\n",
       "      <td>S4D</td>\n",
       "      <td></td>\n",
       "      <td></td>\n",
       "      <td>S4D</td>\n",
       "      <td>S4D</td>\n",
       "      <td>S3D</td>\n",
       "      <td>L</td>\n",
       "      <td>4</td>\n",
       "      <td>E</td>\n",
       "    </tr>\n",
       "    <tr>\n",
       "      <th>3</th>\n",
       "      <td>L4E</td>\n",
       "      <td>S4E</td>\n",
       "      <td>S4E</td>\n",
       "      <td>S4E</td>\n",
       "      <td>S4E</td>\n",
       "      <td>S4E</td>\n",
       "      <td>S4E</td>\n",
       "      <td>S4E</td>\n",
       "      <td></td>\n",
       "      <td>S4E</td>\n",
       "      <td>...</td>\n",
       "      <td>S2D</td>\n",
       "      <td>A1D</td>\n",
       "      <td>A1D</td>\n",
       "      <td>A1D</td>\n",
       "      <td>A1D</td>\n",
       "      <td></td>\n",
       "      <td></td>\n",
       "      <td>L</td>\n",
       "      <td>4</td>\n",
       "      <td>E</td>\n",
       "    </tr>\n",
       "    <tr>\n",
       "      <th>4</th>\n",
       "      <td>L2F</td>\n",
       "      <td>A2F</td>\n",
       "      <td>A2F</td>\n",
       "      <td>A2F</td>\n",
       "      <td>A1D</td>\n",
       "      <td>I2D</td>\n",
       "      <td>A1E</td>\n",
       "      <td>A1E</td>\n",
       "      <td>L1D</td>\n",
       "      <td>A1E</td>\n",
       "      <td>...</td>\n",
       "      <td>A2D</td>\n",
       "      <td>A3D</td>\n",
       "      <td>A3D</td>\n",
       "      <td>A3D</td>\n",
       "      <td>I4E</td>\n",
       "      <td>A3D</td>\n",
       "      <td>A3D</td>\n",
       "      <td>L</td>\n",
       "      <td>2</td>\n",
       "      <td>F</td>\n",
       "    </tr>\n",
       "  </tbody>\n",
       "</table>\n",
       "<p>5 rows × 26 columns</p>\n",
       "</div>"
      ],
      "text/plain": [
       "  RFA_2 RFA_3 RFA_4 RFA_5 RFA_6 RFA_7 RFA_8 RFA_9 RFA_10 RFA_11  ... RFA_18  \\\n",
       "0   L4E   S4E   S4E   S4E   S4E   S4E   S4E   S4E    S4E    S4E  ...    S4E   \n",
       "1   L2G   A2G   A2G   A2G   A2G   A1E   A1E   A1E    A1E    A1E  ...          \n",
       "2   L4E   S4E   S4E   S4E   S4E   S4F   S4F   S4F           S4F  ...    S4D   \n",
       "3   L4E   S4E   S4E   S4E   S4E   S4E   S4E   S4E           S4E  ...    S2D   \n",
       "4   L2F   A2F   A2F   A2F   A1D   I2D   A1E   A1E    L1D    A1E  ...    A2D   \n",
       "\n",
       "  RFA_19 RFA_20 RFA_21 RFA_22 RFA_23 RFA_24 RFA_2R RFA_2F RFA_2A  \n",
       "0    S4E    S4E    S4E    S4E    S4E    S4E      L      4      E  \n",
       "1    N1E    N1E    N1E    N1E           F1E      L      2      G  \n",
       "2    S4D                  S4D    S4D    S3D      L      4      E  \n",
       "3    A1D    A1D    A1D    A1D                    L      4      E  \n",
       "4    A3D    A3D    A3D    I4E    A3D    A3D      L      2      F  \n",
       "\n",
       "[5 rows x 26 columns]"
      ]
     },
     "execution_count": 109,
     "metadata": {},
     "output_type": "execute_result"
    }
   ],
   "source": [
    "subset_specific_promotions.head()"
   ]
  },
  {
   "cell_type": "markdown",
   "metadata": {},
   "source": [
    "As all of these variables are categorical, we don't use them for our clustering purposes. However, we might keep them in mind for later interpretation purposes."
   ]
  },
  {
   "cell_type": "markdown",
   "metadata": {},
   "source": [
    "### subset: Major Donor Matrix"
   ]
  },
  {
   "cell_type": "markdown",
   "metadata": {},
   "source": [
    "This subset only contains information about the Major Donor Status and the Matrix code."
   ]
  },
  {
   "cell_type": "code",
   "execution_count": 110,
   "metadata": {},
   "outputs": [],
   "source": [
    "mdmaud = [\"MDMAUD\", \"MDMAUD_R\", \"MDMAUD_F\", \"MDMAUD_A\", \"MAJOR\"]"
   ]
  },
  {
   "cell_type": "code",
   "execution_count": 111,
   "metadata": {},
   "outputs": [],
   "source": [
    "#creating a dataframe that contains only the major donor data\n",
    "subset_mdmaud = donors[mdmaud]\n",
    "donors_copy = donors_copy.drop(columns = mdmaud)"
   ]
  },
  {
   "cell_type": "code",
   "execution_count": 112,
   "metadata": {},
   "outputs": [
    {
     "data": {
      "text/html": [
       "<div>\n",
       "<style scoped>\n",
       "    .dataframe tbody tr th:only-of-type {\n",
       "        vertical-align: middle;\n",
       "    }\n",
       "\n",
       "    .dataframe tbody tr th {\n",
       "        vertical-align: top;\n",
       "    }\n",
       "\n",
       "    .dataframe thead th {\n",
       "        text-align: right;\n",
       "    }\n",
       "</style>\n",
       "<table border=\"1\" class=\"dataframe\">\n",
       "  <thead>\n",
       "    <tr style=\"text-align: right;\">\n",
       "      <th></th>\n",
       "      <th>MDMAUD</th>\n",
       "      <th>MDMAUD_R</th>\n",
       "      <th>MDMAUD_F</th>\n",
       "      <th>MDMAUD_A</th>\n",
       "      <th>MAJOR</th>\n",
       "    </tr>\n",
       "  </thead>\n",
       "  <tbody>\n",
       "    <tr>\n",
       "      <th>0</th>\n",
       "      <td>XXXX</td>\n",
       "      <td>X</td>\n",
       "      <td>X</td>\n",
       "      <td>X</td>\n",
       "      <td></td>\n",
       "    </tr>\n",
       "    <tr>\n",
       "      <th>1</th>\n",
       "      <td>XXXX</td>\n",
       "      <td>X</td>\n",
       "      <td>X</td>\n",
       "      <td>X</td>\n",
       "      <td></td>\n",
       "    </tr>\n",
       "    <tr>\n",
       "      <th>2</th>\n",
       "      <td>XXXX</td>\n",
       "      <td>X</td>\n",
       "      <td>X</td>\n",
       "      <td>X</td>\n",
       "      <td></td>\n",
       "    </tr>\n",
       "    <tr>\n",
       "      <th>3</th>\n",
       "      <td>XXXX</td>\n",
       "      <td>X</td>\n",
       "      <td>X</td>\n",
       "      <td>X</td>\n",
       "      <td></td>\n",
       "    </tr>\n",
       "    <tr>\n",
       "      <th>4</th>\n",
       "      <td>XXXX</td>\n",
       "      <td>X</td>\n",
       "      <td>X</td>\n",
       "      <td>X</td>\n",
       "      <td></td>\n",
       "    </tr>\n",
       "  </tbody>\n",
       "</table>\n",
       "</div>"
      ],
      "text/plain": [
       "  MDMAUD MDMAUD_R MDMAUD_F MDMAUD_A MAJOR\n",
       "0   XXXX        X        X        X      \n",
       "1   XXXX        X        X        X      \n",
       "2   XXXX        X        X        X      \n",
       "3   XXXX        X        X        X      \n",
       "4   XXXX        X        X        X      "
      ]
     },
     "execution_count": 112,
     "metadata": {},
     "output_type": "execute_result"
    }
   ],
   "source": [
    "subset_mdmaud.head()"
   ]
  },
  {
   "cell_type": "markdown",
   "metadata": {},
   "source": [
    "All of these are categorical features, so we will not need them for the clustering itself."
   ]
  },
  {
   "cell_type": "markdown",
   "metadata": {},
   "source": [
    "### Checking remaining columns"
   ]
  },
  {
   "cell_type": "markdown",
   "metadata": {},
   "source": [
    "As we have now grouped almost all of the columns into subsets, we now look at the remaing ones:"
   ]
  },
  {
   "cell_type": "markdown",
   "metadata": {},
   "source": [
    "Let us check for the amount of variation first:"
   ]
  },
  {
   "cell_type": "code",
   "execution_count": 113,
   "metadata": {},
   "outputs": [
    {
     "name": "stdout",
     "output_type": "stream",
     "text": [
      "OSOURCE 4.81\n",
      "NOEXCH 64.2\n",
      "RECINHSE 92.21000000000001\n",
      "RECP3 97.65\n",
      "RECPGVG 99.87\n",
      "RECSWEEP 98.15\n",
      "HIT 57.620000000000005\n",
      "SOLP3 99.79\n",
      "SOLIH 92.78999999999999\n",
      "PEPSTRFL 52.99\n",
      "HPHONE_D 50.68\n"
     ]
    }
   ],
   "source": [
    "for column in donors_copy.columns.tolist():\n",
    "    print(column, np.round(donors_copy[column].value_counts().iloc[0]/len(donors_copy),4) * 100)"
   ]
  },
  {
   "cell_type": "markdown",
   "metadata": {},
   "source": [
    "As we can see, there are several features with a very low amount of variation. Let's look at them more closely:"
   ]
  },
  {
   "cell_type": "markdown",
   "metadata": {},
   "source": [
    "The following columns have definitely a too low amount of variation in them to be useful for any further analysis."
   ]
  },
  {
   "cell_type": "code",
   "execution_count": 114,
   "metadata": {},
   "outputs": [
    {
     "data": {
      "text/plain": [
       "     85293\n",
       "X      111\n",
       "Name: RECPGVG, dtype: int64"
      ]
     },
     "execution_count": 114,
     "metadata": {},
     "output_type": "execute_result"
    }
   ],
   "source": [
    "donors[\"RECPGVG\"].value_counts()"
   ]
  },
  {
   "cell_type": "code",
   "execution_count": 115,
   "metadata": {},
   "outputs": [
    {
     "data": {
      "text/plain": [
       "     83826\n",
       "X     1578\n",
       "Name: RECSWEEP, dtype: int64"
      ]
     },
     "execution_count": 115,
     "metadata": {},
     "output_type": "execute_result"
    }
   ],
   "source": [
    "donors[\"RECSWEEP\"].value_counts()"
   ]
  },
  {
   "cell_type": "code",
   "execution_count": 116,
   "metadata": {},
   "outputs": [
    {
     "data": {
      "text/plain": [
       "     83401\n",
       "X     2003\n",
       "Name: RECP3, dtype: int64"
      ]
     },
     "execution_count": 116,
     "metadata": {},
     "output_type": "execute_result"
    }
   ],
   "source": [
    "donors[\"RECP3\"].value_counts()"
   ]
  },
  {
   "cell_type": "code",
   "execution_count": 117,
   "metadata": {},
   "outputs": [],
   "source": [
    "donors_copy = donors_copy.drop(columns=[\"RECPGVG\", \"RECSWEEP\", \"RECP3\"])"
   ]
  },
  {
   "cell_type": "markdown",
   "metadata": {},
   "source": [
    "The following columns have definitely a too low amount of variation in them, but however they still might be useful down the line:"
   ]
  },
  {
   "cell_type": "code",
   "execution_count": 118,
   "metadata": {},
   "outputs": [],
   "source": [
    "#\"SOLP3\", \"SOLIH\""
   ]
  },
  {
   "cell_type": "markdown",
   "metadata": {},
   "source": [
    "### subset: Information about the communication with the donors"
   ]
  },
  {
   "cell_type": "code",
   "execution_count": 119,
   "metadata": {},
   "outputs": [],
   "source": [
    "communication = [\"OSOURCE\", \"NOEXCH\", \"RECINHSE\", \"SOLP3\", \"SOLIH\", \"PEPSTRFL\", \"HPHONE_D\", \"HIT\"]"
   ]
  },
  {
   "cell_type": "code",
   "execution_count": 120,
   "metadata": {},
   "outputs": [],
   "source": [
    "#creating a dataframe that contains only the communication data\n",
    "subset_communication = donors[communication]\n",
    "donors_copy = donors_copy.drop(columns = communication)"
   ]
  },
  {
   "cell_type": "code",
   "execution_count": 121,
   "metadata": {},
   "outputs": [
    {
     "data": {
      "text/html": [
       "<div>\n",
       "<style scoped>\n",
       "    .dataframe tbody tr th:only-of-type {\n",
       "        vertical-align: middle;\n",
       "    }\n",
       "\n",
       "    .dataframe tbody tr th {\n",
       "        vertical-align: top;\n",
       "    }\n",
       "\n",
       "    .dataframe thead th {\n",
       "        text-align: right;\n",
       "    }\n",
       "</style>\n",
       "<table border=\"1\" class=\"dataframe\">\n",
       "  <thead>\n",
       "    <tr style=\"text-align: right;\">\n",
       "      <th></th>\n",
       "      <th>OSOURCE</th>\n",
       "      <th>NOEXCH</th>\n",
       "      <th>RECINHSE</th>\n",
       "      <th>SOLP3</th>\n",
       "      <th>SOLIH</th>\n",
       "      <th>PEPSTRFL</th>\n",
       "      <th>HPHONE_D</th>\n",
       "      <th>HIT</th>\n",
       "    </tr>\n",
       "  </thead>\n",
       "  <tbody>\n",
       "    <tr>\n",
       "      <th>0</th>\n",
       "      <td>GRI</td>\n",
       "      <td>0</td>\n",
       "      <td></td>\n",
       "      <td></td>\n",
       "      <td></td>\n",
       "      <td>X</td>\n",
       "      <td>0</td>\n",
       "      <td>0</td>\n",
       "    </tr>\n",
       "    <tr>\n",
       "      <th>1</th>\n",
       "      <td>BOA</td>\n",
       "      <td>0</td>\n",
       "      <td></td>\n",
       "      <td></td>\n",
       "      <td></td>\n",
       "      <td></td>\n",
       "      <td>0</td>\n",
       "      <td>16</td>\n",
       "    </tr>\n",
       "    <tr>\n",
       "      <th>2</th>\n",
       "      <td>AMH</td>\n",
       "      <td>0</td>\n",
       "      <td></td>\n",
       "      <td></td>\n",
       "      <td></td>\n",
       "      <td>X</td>\n",
       "      <td>1</td>\n",
       "      <td>2</td>\n",
       "    </tr>\n",
       "    <tr>\n",
       "      <th>3</th>\n",
       "      <td>BRY</td>\n",
       "      <td>0</td>\n",
       "      <td></td>\n",
       "      <td></td>\n",
       "      <td></td>\n",
       "      <td>X</td>\n",
       "      <td>1</td>\n",
       "      <td>2</td>\n",
       "    </tr>\n",
       "    <tr>\n",
       "      <th>4</th>\n",
       "      <td></td>\n",
       "      <td>0</td>\n",
       "      <td>X</td>\n",
       "      <td></td>\n",
       "      <td>12</td>\n",
       "      <td></td>\n",
       "      <td>1</td>\n",
       "      <td>60</td>\n",
       "    </tr>\n",
       "  </tbody>\n",
       "</table>\n",
       "</div>"
      ],
      "text/plain": [
       "  OSOURCE NOEXCH RECINHSE SOLP3 SOLIH PEPSTRFL  HPHONE_D  HIT\n",
       "0     GRI      0                             X         0    0\n",
       "1     BOA      0                                       0   16\n",
       "2     AMH      0                             X         1    2\n",
       "3     BRY      0                             X         1    2\n",
       "4              0        X          12                  1   60"
      ]
     },
     "execution_count": 121,
     "metadata": {},
     "output_type": "execute_result"
    }
   ],
   "source": [
    "subset_communication.head()"
   ]
  },
  {
   "cell_type": "markdown",
   "metadata": {},
   "source": [
    "There is only one metric column in this subset: HIT"
   ]
  },
  {
   "cell_type": "code",
   "execution_count": 122,
   "metadata": {},
   "outputs": [
    {
     "data": {
      "text/html": [
       "<div>\n",
       "<style scoped>\n",
       "    .dataframe tbody tr th:only-of-type {\n",
       "        vertical-align: middle;\n",
       "    }\n",
       "\n",
       "    .dataframe tbody tr th {\n",
       "        vertical-align: top;\n",
       "    }\n",
       "\n",
       "    .dataframe thead th {\n",
       "        text-align: right;\n",
       "    }\n",
       "</style>\n",
       "<table border=\"1\" class=\"dataframe\">\n",
       "  <thead>\n",
       "    <tr style=\"text-align: right;\">\n",
       "      <th></th>\n",
       "      <th>HIT</th>\n",
       "    </tr>\n",
       "  </thead>\n",
       "  <tbody>\n",
       "    <tr>\n",
       "      <th>0</th>\n",
       "      <td>0</td>\n",
       "    </tr>\n",
       "    <tr>\n",
       "      <th>1</th>\n",
       "      <td>16</td>\n",
       "    </tr>\n",
       "    <tr>\n",
       "      <th>2</th>\n",
       "      <td>2</td>\n",
       "    </tr>\n",
       "    <tr>\n",
       "      <th>3</th>\n",
       "      <td>2</td>\n",
       "    </tr>\n",
       "    <tr>\n",
       "      <th>4</th>\n",
       "      <td>60</td>\n",
       "    </tr>\n",
       "  </tbody>\n",
       "</table>\n",
       "</div>"
      ],
      "text/plain": [
       "   HIT\n",
       "0    0\n",
       "1   16\n",
       "2    2\n",
       "3    2\n",
       "4   60"
      ]
     },
     "execution_count": 122,
     "metadata": {},
     "output_type": "execute_result"
    }
   ],
   "source": [
    "subset_communication_metric = pd.DataFrame(subset_communication[\"HIT\"])\n",
    "subset_communication_metric.head()"
   ]
  },
  {
   "cell_type": "markdown",
   "metadata": {},
   "source": [
    "##### Outlier Removal and Nans"
   ]
  },
  {
   "cell_type": "markdown",
   "metadata": {},
   "source": [
    "Let us check for nan values within this column first:"
   ]
  },
  {
   "cell_type": "code",
   "execution_count": 123,
   "metadata": {},
   "outputs": [
    {
     "data": {
      "text/plain": [
       "1.0"
      ]
     },
     "execution_count": 123,
     "metadata": {},
     "output_type": "execute_result"
    }
   ],
   "source": [
    "len(subset_communication_metric.dropna()) / len(subset_communication_metric)"
   ]
  },
  {
   "cell_type": "markdown",
   "metadata": {},
   "source": [
    "Great, there are no nan values! So let's check for outliers:"
   ]
  },
  {
   "cell_type": "code",
   "execution_count": 124,
   "metadata": {},
   "outputs": [
    {
     "data": {
      "text/plain": [
       "<matplotlib.axes._subplots.AxesSubplot at 0x7fd168be0d60>"
      ]
     },
     "execution_count": 124,
     "metadata": {},
     "output_type": "execute_result"
    },
    {
     "data": {
      "image/png": "[encoded data removed]",
      "text/plain": [
       "<Figure size 576x216 with 1 Axes>"
      ]
     },
     "metadata": {},
     "output_type": "display_data"
    }
   ],
   "source": [
    "\n",
    "sns.set(rc={'figure.figsize':(8,3)})\n",
    "sns.set_style(\"whitegrid\")\n",
    "sns.boxplot(subset_communication_metric)"
   ]
  },
  {
   "cell_type": "code",
   "execution_count": 125,
   "metadata": {},
   "outputs": [
    {
     "name": "stdout",
     "output_type": "stream",
     "text": [
      "HIT : 3.0\n"
     ]
    }
   ],
   "source": [
    "for element in subset_communication_metric.columns.tolist():\n",
    "    subset_communication_metric[element] = subset_communication_metric[element].apply(float)\n",
    "\n",
    "for element in subset_communication_metric.columns.tolist():\n",
    "    q25 = subset_communication_metric[element].quantile(0.25)\n",
    "    q75 = subset_communication_metric[element].quantile(0.75)\n",
    "    iqr = q75 - q25\n",
    "    low = q25 - 6 * iqr\n",
    "    high = q75 + 6 * iqr\n",
    "    \n",
    "    series = subset_communication_metric[element].between(low, high, inclusive=True)\n",
    "    for index in series[series==False].index.tolist():\n",
    "        subset_communication_metric.loc[index, element] = np.nan\n",
    "    \n",
    "    try: \n",
    "        print(element, \":\", np.round(subset_communication_metric[element].isna().value_counts()[True]/len(subset_communication_metric),2)*100)\n",
    "    except:\n",
    "        0\n",
    "    "
   ]
  },
  {
   "cell_type": "code",
   "execution_count": 126,
   "metadata": {},
   "outputs": [
    {
     "data": {
      "text/plain": [
       "<matplotlib.axes._subplots.AxesSubplot at 0x7fd16a705eb0>"
      ]
     },
     "execution_count": 126,
     "metadata": {},
     "output_type": "execute_result"
    },
    {
     "data": {
      "image/png": "[encoded data removed]",
      "text/plain": [
       "<Figure size 576x216 with 1 Axes>"
      ]
     },
     "metadata": {},
     "output_type": "display_data"
    }
   ],
   "source": [
    "\n",
    "sns.set(rc={'figure.figsize':(8,3)})\n",
    "sns.set_style(\"whitegrid\")\n",
    "sns.boxplot(subset_communication_metric)"
   ]
  },
  {
   "cell_type": "code",
   "execution_count": 127,
   "metadata": {},
   "outputs": [],
   "source": [
    "for element in subset_communication_metric.columns.tolist():\n",
    "    subset_communication_metric[element] = subset_communication_metric[element].replace(np.nan, subset_communication_metric[element].median())"
   ]
  },
  {
   "cell_type": "markdown",
   "metadata": {},
   "source": [
    "Now, this subset is also ready for clustering now!"
   ]
  },
  {
   "cell_type": "markdown",
   "metadata": {},
   "source": [
    "## Quick Summary"
   ]
  },
  {
   "cell_type": "markdown",
   "metadata": {},
   "source": [
    "So we have now splitted the features into 9 different sets. This is especially helpful to better understand the given data. We have also identified and prepared all the metric features for the upcoming clustering. They can be seen here:"
   ]
  },
  {
   "cell_type": "code",
   "execution_count": 128,
   "metadata": {},
   "outputs": [
    {
     "name": "stdout",
     "output_type": "stream",
     "text": [
      "(85404, 255)\n"
     ]
    },
    {
     "data": {
      "text/html": [
       "<div>\n",
       "<style scoped>\n",
       "    .dataframe tbody tr th:only-of-type {\n",
       "        vertical-align: middle;\n",
       "    }\n",
       "\n",
       "    .dataframe tbody tr th {\n",
       "        vertical-align: top;\n",
       "    }\n",
       "\n",
       "    .dataframe thead th {\n",
       "        text-align: right;\n",
       "    }\n",
       "</style>\n",
       "<table border=\"1\" class=\"dataframe\">\n",
       "  <thead>\n",
       "    <tr style=\"text-align: right;\">\n",
       "      <th></th>\n",
       "      <th>POP901</th>\n",
       "      <th>POP902</th>\n",
       "      <th>POP903</th>\n",
       "      <th>POP90C1</th>\n",
       "      <th>POP90C2</th>\n",
       "      <th>POP90C3</th>\n",
       "      <th>POP90C4</th>\n",
       "      <th>POP90C5</th>\n",
       "      <th>ETH1</th>\n",
       "      <th>ETH2</th>\n",
       "      <th>...</th>\n",
       "      <th>HC16</th>\n",
       "      <th>HC17</th>\n",
       "      <th>HC18</th>\n",
       "      <th>HC19</th>\n",
       "      <th>HC20</th>\n",
       "      <th>HC21</th>\n",
       "      <th>MHUC1</th>\n",
       "      <th>MHUC2</th>\n",
       "      <th>AC1</th>\n",
       "      <th>AC2</th>\n",
       "    </tr>\n",
       "  </thead>\n",
       "  <tbody>\n",
       "    <tr>\n",
       "      <th>0</th>\n",
       "      <td>992.0</td>\n",
       "      <td>264.0</td>\n",
       "      <td>332.0</td>\n",
       "      <td>0</td>\n",
       "      <td>35</td>\n",
       "      <td>65</td>\n",
       "      <td>47</td>\n",
       "      <td>53</td>\n",
       "      <td>92</td>\n",
       "      <td>1</td>\n",
       "      <td>...</td>\n",
       "      <td>0</td>\n",
       "      <td>33</td>\n",
       "      <td>65</td>\n",
       "      <td>40</td>\n",
       "      <td>99</td>\n",
       "      <td>99</td>\n",
       "      <td>6.0</td>\n",
       "      <td>2.0</td>\n",
       "      <td>10</td>\n",
       "      <td>7</td>\n",
       "    </tr>\n",
       "    <tr>\n",
       "      <th>1</th>\n",
       "      <td>3611.0</td>\n",
       "      <td>940.0</td>\n",
       "      <td>998.0</td>\n",
       "      <td>99</td>\n",
       "      <td>0</td>\n",
       "      <td>0</td>\n",
       "      <td>50</td>\n",
       "      <td>50</td>\n",
       "      <td>67</td>\n",
       "      <td>0</td>\n",
       "      <td>...</td>\n",
       "      <td>0</td>\n",
       "      <td>99</td>\n",
       "      <td>0</td>\n",
       "      <td>99</td>\n",
       "      <td>99</td>\n",
       "      <td>99</td>\n",
       "      <td>20.0</td>\n",
       "      <td>4.0</td>\n",
       "      <td>6</td>\n",
       "      <td>5</td>\n",
       "    </tr>\n",
       "    <tr>\n",
       "      <th>2</th>\n",
       "      <td>7001.0</td>\n",
       "      <td>2040.0</td>\n",
       "      <td>2669.0</td>\n",
       "      <td>0</td>\n",
       "      <td>2</td>\n",
       "      <td>98</td>\n",
       "      <td>49</td>\n",
       "      <td>51</td>\n",
       "      <td>96</td>\n",
       "      <td>2</td>\n",
       "      <td>...</td>\n",
       "      <td>15</td>\n",
       "      <td>22</td>\n",
       "      <td>77</td>\n",
       "      <td>17</td>\n",
       "      <td>97</td>\n",
       "      <td>92</td>\n",
       "      <td>9.0</td>\n",
       "      <td>2.0</td>\n",
       "      <td>6</td>\n",
       "      <td>5</td>\n",
       "    </tr>\n",
       "    <tr>\n",
       "      <th>3</th>\n",
       "      <td>640.0</td>\n",
       "      <td>160.0</td>\n",
       "      <td>219.0</td>\n",
       "      <td>0</td>\n",
       "      <td>8</td>\n",
       "      <td>92</td>\n",
       "      <td>54</td>\n",
       "      <td>46</td>\n",
       "      <td>61</td>\n",
       "      <td>0</td>\n",
       "      <td>...</td>\n",
       "      <td>16</td>\n",
       "      <td>23</td>\n",
       "      <td>77</td>\n",
       "      <td>22</td>\n",
       "      <td>93</td>\n",
       "      <td>89</td>\n",
       "      <td>16.0</td>\n",
       "      <td>2.0</td>\n",
       "      <td>6</td>\n",
       "      <td>6</td>\n",
       "    </tr>\n",
       "    <tr>\n",
       "      <th>4</th>\n",
       "      <td>2520.0</td>\n",
       "      <td>627.0</td>\n",
       "      <td>761.0</td>\n",
       "      <td>99</td>\n",
       "      <td>0</td>\n",
       "      <td>0</td>\n",
       "      <td>46</td>\n",
       "      <td>54</td>\n",
       "      <td>2</td>\n",
       "      <td>98</td>\n",
       "      <td>...</td>\n",
       "      <td>0</td>\n",
       "      <td>99</td>\n",
       "      <td>1</td>\n",
       "      <td>21</td>\n",
       "      <td>99</td>\n",
       "      <td>96</td>\n",
       "      <td>6.0</td>\n",
       "      <td>2.0</td>\n",
       "      <td>7</td>\n",
       "      <td>11</td>\n",
       "    </tr>\n",
       "  </tbody>\n",
       "</table>\n",
       "<p>5 rows × 255 columns</p>\n",
       "</div>"
      ],
      "text/plain": [
       "   POP901  POP902  POP903  POP90C1  POP90C2  POP90C3  POP90C4  POP90C5  ETH1  \\\n",
       "0   992.0   264.0   332.0        0       35       65       47       53    92   \n",
       "1  3611.0   940.0   998.0       99        0        0       50       50    67   \n",
       "2  7001.0  2040.0  2669.0        0        2       98       49       51    96   \n",
       "3   640.0   160.0   219.0        0        8       92       54       46    61   \n",
       "4  2520.0   627.0   761.0       99        0        0       46       54     2   \n",
       "\n",
       "   ETH2  ...  HC16  HC17  HC18  HC19  HC20  HC21  MHUC1  MHUC2  AC1  AC2  \n",
       "0     1  ...     0    33    65    40    99    99    6.0    2.0   10    7  \n",
       "1     0  ...     0    99     0    99    99    99   20.0    4.0    6    5  \n",
       "2     2  ...    15    22    77    17    97    92    9.0    2.0    6    5  \n",
       "3     0  ...    16    23    77    22    93    89   16.0    2.0    6    6  \n",
       "4    98  ...     0    99     1    21    99    96    6.0    2.0    7   11  \n",
       "\n",
       "[5 rows x 255 columns]"
      ]
     },
     "execution_count": 128,
     "metadata": {},
     "output_type": "execute_result"
    }
   ],
   "source": [
    "#subset 1\n",
    "print(subset_neighbourhood_metric.shape)\n",
    "subset_neighbourhood_metric.head()"
   ]
  },
  {
   "cell_type": "code",
   "execution_count": 129,
   "metadata": {},
   "outputs": [
    {
     "name": "stdout",
     "output_type": "stream",
     "text": [
      "(85404, 1)\n"
     ]
    },
    {
     "data": {
      "text/html": [
       "<div>\n",
       "<style scoped>\n",
       "    .dataframe tbody tr th:only-of-type {\n",
       "        vertical-align: middle;\n",
       "    }\n",
       "\n",
       "    .dataframe tbody tr th {\n",
       "        vertical-align: top;\n",
       "    }\n",
       "\n",
       "    .dataframe thead th {\n",
       "        text-align: right;\n",
       "    }\n",
       "</style>\n",
       "<table border=\"1\" class=\"dataframe\">\n",
       "  <thead>\n",
       "    <tr style=\"text-align: right;\">\n",
       "      <th></th>\n",
       "      <th>AGE</th>\n",
       "    </tr>\n",
       "  </thead>\n",
       "  <tbody>\n",
       "    <tr>\n",
       "      <th>0</th>\n",
       "      <td>59.0</td>\n",
       "    </tr>\n",
       "    <tr>\n",
       "      <th>1</th>\n",
       "      <td>45.0</td>\n",
       "    </tr>\n",
       "    <tr>\n",
       "      <th>2</th>\n",
       "      <td>59.0</td>\n",
       "    </tr>\n",
       "    <tr>\n",
       "      <th>3</th>\n",
       "      <td>69.0</td>\n",
       "    </tr>\n",
       "    <tr>\n",
       "      <th>4</th>\n",
       "      <td>77.0</td>\n",
       "    </tr>\n",
       "  </tbody>\n",
       "</table>\n",
       "</div>"
      ],
      "text/plain": [
       "    AGE\n",
       "0  59.0\n",
       "1  45.0\n",
       "2  59.0\n",
       "3  69.0\n",
       "4  77.0"
      ]
     },
     "execution_count": 129,
     "metadata": {},
     "output_type": "execute_result"
    }
   ],
   "source": [
    "#subset 2\n",
    "print(subset_socio_demographics_metric.shape)\n",
    "subset_socio_demographics_metric.head()"
   ]
  },
  {
   "cell_type": "code",
   "execution_count": 130,
   "metadata": {},
   "outputs": [
    {
     "name": "stdout",
     "output_type": "stream",
     "text": [
      "(85404, 13)\n"
     ]
    },
    {
     "data": {
      "text/html": [
       "<div>\n",
       "<style scoped>\n",
       "    .dataframe tbody tr th:only-of-type {\n",
       "        vertical-align: middle;\n",
       "    }\n",
       "\n",
       "    .dataframe tbody tr th {\n",
       "        vertical-align: top;\n",
       "    }\n",
       "\n",
       "    .dataframe thead th {\n",
       "        text-align: right;\n",
       "    }\n",
       "</style>\n",
       "<table border=\"1\" class=\"dataframe\">\n",
       "  <thead>\n",
       "    <tr style=\"text-align: right;\">\n",
       "      <th></th>\n",
       "      <th>NUMPROM</th>\n",
       "      <th>NUMPRM12</th>\n",
       "      <th>RAMNTALL</th>\n",
       "      <th>NGIFTALL</th>\n",
       "      <th>MINRAMNT</th>\n",
       "      <th>MINRDATE</th>\n",
       "      <th>MAXRAMNT</th>\n",
       "      <th>MAXRDATE</th>\n",
       "      <th>LASTGIFT</th>\n",
       "      <th>LASTDATE</th>\n",
       "      <th>FISTDATE</th>\n",
       "      <th>TIMELAG</th>\n",
       "      <th>AVGGIFT</th>\n",
       "    </tr>\n",
       "  </thead>\n",
       "  <tbody>\n",
       "    <tr>\n",
       "      <th>0</th>\n",
       "      <td>74.0</td>\n",
       "      <td>14.0</td>\n",
       "      <td>240.0</td>\n",
       "      <td>31.0</td>\n",
       "      <td>5.0</td>\n",
       "      <td>1765.0</td>\n",
       "      <td>12.0</td>\n",
       "      <td>1216.0</td>\n",
       "      <td>10.0</td>\n",
       "      <td>548.0</td>\n",
       "      <td>2769.0</td>\n",
       "      <td>4.0</td>\n",
       "      <td>7.741935</td>\n",
       "    </tr>\n",
       "    <tr>\n",
       "      <th>1</th>\n",
       "      <td>32.0</td>\n",
       "      <td>13.0</td>\n",
       "      <td>47.0</td>\n",
       "      <td>3.0</td>\n",
       "      <td>10.0</td>\n",
       "      <td>1339.0</td>\n",
       "      <td>25.0</td>\n",
       "      <td>548.0</td>\n",
       "      <td>25.0</td>\n",
       "      <td>548.0</td>\n",
       "      <td>1339.0</td>\n",
       "      <td>18.0</td>\n",
       "      <td>15.666667</td>\n",
       "    </tr>\n",
       "    <tr>\n",
       "      <th>2</th>\n",
       "      <td>63.0</td>\n",
       "      <td>14.0</td>\n",
       "      <td>202.0</td>\n",
       "      <td>27.0</td>\n",
       "      <td>2.0</td>\n",
       "      <td>2039.0</td>\n",
       "      <td>16.0</td>\n",
       "      <td>1796.0</td>\n",
       "      <td>5.0</td>\n",
       "      <td>548.0</td>\n",
       "      <td>2708.0</td>\n",
       "      <td>12.0</td>\n",
       "      <td>7.481481</td>\n",
       "    </tr>\n",
       "    <tr>\n",
       "      <th>3</th>\n",
       "      <td>66.0</td>\n",
       "      <td>14.0</td>\n",
       "      <td>109.0</td>\n",
       "      <td>16.0</td>\n",
       "      <td>2.0</td>\n",
       "      <td>3500.0</td>\n",
       "      <td>11.0</td>\n",
       "      <td>943.0</td>\n",
       "      <td>10.0</td>\n",
       "      <td>548.0</td>\n",
       "      <td>3773.0</td>\n",
       "      <td>9.0</td>\n",
       "      <td>6.812500</td>\n",
       "    </tr>\n",
       "    <tr>\n",
       "      <th>4</th>\n",
       "      <td>113.0</td>\n",
       "      <td>25.0</td>\n",
       "      <td>254.0</td>\n",
       "      <td>37.0</td>\n",
       "      <td>3.0</td>\n",
       "      <td>1339.0</td>\n",
       "      <td>15.0</td>\n",
       "      <td>517.0</td>\n",
       "      <td>15.0</td>\n",
       "      <td>517.0</td>\n",
       "      <td>6667.0</td>\n",
       "      <td>14.0</td>\n",
       "      <td>6.864865</td>\n",
       "    </tr>\n",
       "  </tbody>\n",
       "</table>\n",
       "</div>"
      ],
      "text/plain": [
       "   NUMPROM  NUMPRM12  RAMNTALL  NGIFTALL  MINRAMNT  MINRDATE  MAXRAMNT  \\\n",
       "0     74.0      14.0     240.0      31.0       5.0    1765.0      12.0   \n",
       "1     32.0      13.0      47.0       3.0      10.0    1339.0      25.0   \n",
       "2     63.0      14.0     202.0      27.0       2.0    2039.0      16.0   \n",
       "3     66.0      14.0     109.0      16.0       2.0    3500.0      11.0   \n",
       "4    113.0      25.0     254.0      37.0       3.0    1339.0      15.0   \n",
       "\n",
       "   MAXRDATE  LASTGIFT  LASTDATE  FISTDATE  TIMELAG    AVGGIFT  \n",
       "0    1216.0      10.0     548.0    2769.0      4.0   7.741935  \n",
       "1     548.0      25.0     548.0    1339.0     18.0  15.666667  \n",
       "2    1796.0       5.0     548.0    2708.0     12.0   7.481481  \n",
       "3     943.0      10.0     548.0    3773.0      9.0   6.812500  \n",
       "4     517.0      15.0     517.0    6667.0     14.0   6.864865  "
      ]
     },
     "execution_count": 130,
     "metadata": {},
     "output_type": "execute_result"
    }
   ],
   "source": [
    "#subset 5\n",
    "print(subset_overall_donation_data_metric.shape)\n",
    "subset_overall_donation_data_metric.head()"
   ]
  },
  {
   "cell_type": "code",
   "execution_count": 131,
   "metadata": {},
   "outputs": [
    {
     "name": "stdout",
     "output_type": "stream",
     "text": [
      "(85404, 1)\n"
     ]
    },
    {
     "data": {
      "text/html": [
       "<div>\n",
       "<style scoped>\n",
       "    .dataframe tbody tr th:only-of-type {\n",
       "        vertical-align: middle;\n",
       "    }\n",
       "\n",
       "    .dataframe tbody tr th {\n",
       "        vertical-align: top;\n",
       "    }\n",
       "\n",
       "    .dataframe thead th {\n",
       "        text-align: right;\n",
       "    }\n",
       "</style>\n",
       "<table border=\"1\" class=\"dataframe\">\n",
       "  <thead>\n",
       "    <tr style=\"text-align: right;\">\n",
       "      <th></th>\n",
       "      <th>HIT</th>\n",
       "    </tr>\n",
       "  </thead>\n",
       "  <tbody>\n",
       "    <tr>\n",
       "      <th>0</th>\n",
       "      <td>0.0</td>\n",
       "    </tr>\n",
       "    <tr>\n",
       "      <th>1</th>\n",
       "      <td>16.0</td>\n",
       "    </tr>\n",
       "    <tr>\n",
       "      <th>2</th>\n",
       "      <td>2.0</td>\n",
       "    </tr>\n",
       "    <tr>\n",
       "      <th>3</th>\n",
       "      <td>2.0</td>\n",
       "    </tr>\n",
       "    <tr>\n",
       "      <th>4</th>\n",
       "      <td>0.0</td>\n",
       "    </tr>\n",
       "  </tbody>\n",
       "</table>\n",
       "</div>"
      ],
      "text/plain": [
       "    HIT\n",
       "0   0.0\n",
       "1  16.0\n",
       "2   2.0\n",
       "3   2.0\n",
       "4   0.0"
      ]
     },
     "execution_count": 131,
     "metadata": {},
     "output_type": "execute_result"
    }
   ],
   "source": [
    "#subset 9\n",
    "print(subset_communication_metric.shape)\n",
    "subset_communication_metric.head()"
   ]
  },
  {
   "cell_type": "markdown",
   "metadata": {},
   "source": [
    "As we can see, there are 278 features in total left. But only 16 of them do not belong to the donors neighbourhood."
   ]
  },
  {
   "cell_type": "code",
   "execution_count": 132,
   "metadata": {},
   "outputs": [],
   "source": [
    "metrics_without_neighbourhood = pd.concat([subset_socio_demographics_metric, subset_overall_donation_data_metric, subset_communication_metric], axis = 1)"
   ]
  },
  {
   "cell_type": "code",
   "execution_count": 133,
   "metadata": {},
   "outputs": [
    {
     "name": "stdout",
     "output_type": "stream",
     "text": [
      "(85404, 15)\n"
     ]
    },
    {
     "data": {
      "text/html": [
       "<div>\n",
       "<style scoped>\n",
       "    .dataframe tbody tr th:only-of-type {\n",
       "        vertical-align: middle;\n",
       "    }\n",
       "\n",
       "    .dataframe tbody tr th {\n",
       "        vertical-align: top;\n",
       "    }\n",
       "\n",
       "    .dataframe thead th {\n",
       "        text-align: right;\n",
       "    }\n",
       "</style>\n",
       "<table border=\"1\" class=\"dataframe\">\n",
       "  <thead>\n",
       "    <tr style=\"text-align: right;\">\n",
       "      <th></th>\n",
       "      <th>AGE</th>\n",
       "      <th>NUMPROM</th>\n",
       "      <th>NUMPRM12</th>\n",
       "      <th>RAMNTALL</th>\n",
       "      <th>NGIFTALL</th>\n",
       "      <th>MINRAMNT</th>\n",
       "      <th>MINRDATE</th>\n",
       "      <th>MAXRAMNT</th>\n",
       "      <th>MAXRDATE</th>\n",
       "      <th>LASTGIFT</th>\n",
       "      <th>LASTDATE</th>\n",
       "      <th>FISTDATE</th>\n",
       "      <th>TIMELAG</th>\n",
       "      <th>AVGGIFT</th>\n",
       "      <th>HIT</th>\n",
       "    </tr>\n",
       "  </thead>\n",
       "  <tbody>\n",
       "    <tr>\n",
       "      <th>0</th>\n",
       "      <td>59.0</td>\n",
       "      <td>74.0</td>\n",
       "      <td>14.0</td>\n",
       "      <td>240.0</td>\n",
       "      <td>31.0</td>\n",
       "      <td>5.0</td>\n",
       "      <td>1765.0</td>\n",
       "      <td>12.0</td>\n",
       "      <td>1216.0</td>\n",
       "      <td>10.0</td>\n",
       "      <td>548.0</td>\n",
       "      <td>2769.0</td>\n",
       "      <td>4.0</td>\n",
       "      <td>7.741935</td>\n",
       "      <td>0.0</td>\n",
       "    </tr>\n",
       "    <tr>\n",
       "      <th>1</th>\n",
       "      <td>45.0</td>\n",
       "      <td>32.0</td>\n",
       "      <td>13.0</td>\n",
       "      <td>47.0</td>\n",
       "      <td>3.0</td>\n",
       "      <td>10.0</td>\n",
       "      <td>1339.0</td>\n",
       "      <td>25.0</td>\n",
       "      <td>548.0</td>\n",
       "      <td>25.0</td>\n",
       "      <td>548.0</td>\n",
       "      <td>1339.0</td>\n",
       "      <td>18.0</td>\n",
       "      <td>15.666667</td>\n",
       "      <td>16.0</td>\n",
       "    </tr>\n",
       "    <tr>\n",
       "      <th>2</th>\n",
       "      <td>59.0</td>\n",
       "      <td>63.0</td>\n",
       "      <td>14.0</td>\n",
       "      <td>202.0</td>\n",
       "      <td>27.0</td>\n",
       "      <td>2.0</td>\n",
       "      <td>2039.0</td>\n",
       "      <td>16.0</td>\n",
       "      <td>1796.0</td>\n",
       "      <td>5.0</td>\n",
       "      <td>548.0</td>\n",
       "      <td>2708.0</td>\n",
       "      <td>12.0</td>\n",
       "      <td>7.481481</td>\n",
       "      <td>2.0</td>\n",
       "    </tr>\n",
       "    <tr>\n",
       "      <th>3</th>\n",
       "      <td>69.0</td>\n",
       "      <td>66.0</td>\n",
       "      <td>14.0</td>\n",
       "      <td>109.0</td>\n",
       "      <td>16.0</td>\n",
       "      <td>2.0</td>\n",
       "      <td>3500.0</td>\n",
       "      <td>11.0</td>\n",
       "      <td>943.0</td>\n",
       "      <td>10.0</td>\n",
       "      <td>548.0</td>\n",
       "      <td>3773.0</td>\n",
       "      <td>9.0</td>\n",
       "      <td>6.812500</td>\n",
       "      <td>2.0</td>\n",
       "    </tr>\n",
       "    <tr>\n",
       "      <th>4</th>\n",
       "      <td>77.0</td>\n",
       "      <td>113.0</td>\n",
       "      <td>25.0</td>\n",
       "      <td>254.0</td>\n",
       "      <td>37.0</td>\n",
       "      <td>3.0</td>\n",
       "      <td>1339.0</td>\n",
       "      <td>15.0</td>\n",
       "      <td>517.0</td>\n",
       "      <td>15.0</td>\n",
       "      <td>517.0</td>\n",
       "      <td>6667.0</td>\n",
       "      <td>14.0</td>\n",
       "      <td>6.864865</td>\n",
       "      <td>0.0</td>\n",
       "    </tr>\n",
       "  </tbody>\n",
       "</table>\n",
       "</div>"
      ],
      "text/plain": [
       "    AGE  NUMPROM  NUMPRM12  RAMNTALL  NGIFTALL  MINRAMNT  MINRDATE  MAXRAMNT  \\\n",
       "0  59.0     74.0      14.0     240.0      31.0       5.0    1765.0      12.0   \n",
       "1  45.0     32.0      13.0      47.0       3.0      10.0    1339.0      25.0   \n",
       "2  59.0     63.0      14.0     202.0      27.0       2.0    2039.0      16.0   \n",
       "3  69.0     66.0      14.0     109.0      16.0       2.0    3500.0      11.0   \n",
       "4  77.0    113.0      25.0     254.0      37.0       3.0    1339.0      15.0   \n",
       "\n",
       "   MAXRDATE  LASTGIFT  LASTDATE  FISTDATE  TIMELAG    AVGGIFT   HIT  \n",
       "0    1216.0      10.0     548.0    2769.0      4.0   7.741935   0.0  \n",
       "1     548.0      25.0     548.0    1339.0     18.0  15.666667  16.0  \n",
       "2    1796.0       5.0     548.0    2708.0     12.0   7.481481   2.0  \n",
       "3     943.0      10.0     548.0    3773.0      9.0   6.812500   2.0  \n",
       "4     517.0      15.0     517.0    6667.0     14.0   6.864865   0.0  "
      ]
     },
     "execution_count": 133,
     "metadata": {},
     "output_type": "execute_result"
    }
   ],
   "source": [
    "print(metrics_without_neighbourhood.shape)\n",
    "metrics_without_neighbourhood.head()"
   ]
  },
  {
   "cell_type": "markdown",
   "metadata": {},
   "source": [
    "# Check for features that do not correlate with any others"
   ]
  },
  {
   "cell_type": "markdown",
   "metadata": {},
   "source": [
    "As we now have all the metric features identified and preprocessed (apart from the normalization), we check if there are any features that are not correlating at all with others and are therefore useless for our clustering:"
   ]
  },
  {
   "cell_type": "code",
   "execution_count": 134,
   "metadata": {},
   "outputs": [
    {
     "data": {
      "text/html": [
       "<div>\n",
       "<style scoped>\n",
       "    .dataframe tbody tr th:only-of-type {\n",
       "        vertical-align: middle;\n",
       "    }\n",
       "\n",
       "    .dataframe tbody tr th {\n",
       "        vertical-align: top;\n",
       "    }\n",
       "\n",
       "    .dataframe thead th {\n",
       "        text-align: right;\n",
       "    }\n",
       "</style>\n",
       "<table border=\"1\" class=\"dataframe\">\n",
       "  <thead>\n",
       "    <tr style=\"text-align: right;\">\n",
       "      <th></th>\n",
       "      <th>AGE</th>\n",
       "      <th>NUMPROM</th>\n",
       "      <th>NUMPRM12</th>\n",
       "      <th>RAMNTALL</th>\n",
       "      <th>NGIFTALL</th>\n",
       "      <th>MINRAMNT</th>\n",
       "      <th>MINRDATE</th>\n",
       "      <th>MAXRAMNT</th>\n",
       "      <th>MAXRDATE</th>\n",
       "      <th>LASTGIFT</th>\n",
       "      <th>...</th>\n",
       "      <th>HC16</th>\n",
       "      <th>HC17</th>\n",
       "      <th>HC18</th>\n",
       "      <th>HC19</th>\n",
       "      <th>HC20</th>\n",
       "      <th>HC21</th>\n",
       "      <th>MHUC1</th>\n",
       "      <th>MHUC2</th>\n",
       "      <th>AC1</th>\n",
       "      <th>AC2</th>\n",
       "    </tr>\n",
       "  </thead>\n",
       "  <tbody>\n",
       "    <tr>\n",
       "      <th>0</th>\n",
       "      <td>59.0</td>\n",
       "      <td>74.0</td>\n",
       "      <td>14.0</td>\n",
       "      <td>240.0</td>\n",
       "      <td>31.0</td>\n",
       "      <td>5.0</td>\n",
       "      <td>1765.0</td>\n",
       "      <td>12.0</td>\n",
       "      <td>1216.0</td>\n",
       "      <td>10.0</td>\n",
       "      <td>...</td>\n",
       "      <td>0</td>\n",
       "      <td>33</td>\n",
       "      <td>65</td>\n",
       "      <td>40</td>\n",
       "      <td>99</td>\n",
       "      <td>99</td>\n",
       "      <td>6.0</td>\n",
       "      <td>2.0</td>\n",
       "      <td>10</td>\n",
       "      <td>7</td>\n",
       "    </tr>\n",
       "    <tr>\n",
       "      <th>1</th>\n",
       "      <td>45.0</td>\n",
       "      <td>32.0</td>\n",
       "      <td>13.0</td>\n",
       "      <td>47.0</td>\n",
       "      <td>3.0</td>\n",
       "      <td>10.0</td>\n",
       "      <td>1339.0</td>\n",
       "      <td>25.0</td>\n",
       "      <td>548.0</td>\n",
       "      <td>25.0</td>\n",
       "      <td>...</td>\n",
       "      <td>0</td>\n",
       "      <td>99</td>\n",
       "      <td>0</td>\n",
       "      <td>99</td>\n",
       "      <td>99</td>\n",
       "      <td>99</td>\n",
       "      <td>20.0</td>\n",
       "      <td>4.0</td>\n",
       "      <td>6</td>\n",
       "      <td>5</td>\n",
       "    </tr>\n",
       "    <tr>\n",
       "      <th>2</th>\n",
       "      <td>59.0</td>\n",
       "      <td>63.0</td>\n",
       "      <td>14.0</td>\n",
       "      <td>202.0</td>\n",
       "      <td>27.0</td>\n",
       "      <td>2.0</td>\n",
       "      <td>2039.0</td>\n",
       "      <td>16.0</td>\n",
       "      <td>1796.0</td>\n",
       "      <td>5.0</td>\n",
       "      <td>...</td>\n",
       "      <td>15</td>\n",
       "      <td>22</td>\n",
       "      <td>77</td>\n",
       "      <td>17</td>\n",
       "      <td>97</td>\n",
       "      <td>92</td>\n",
       "      <td>9.0</td>\n",
       "      <td>2.0</td>\n",
       "      <td>6</td>\n",
       "      <td>5</td>\n",
       "    </tr>\n",
       "    <tr>\n",
       "      <th>3</th>\n",
       "      <td>69.0</td>\n",
       "      <td>66.0</td>\n",
       "      <td>14.0</td>\n",
       "      <td>109.0</td>\n",
       "      <td>16.0</td>\n",
       "      <td>2.0</td>\n",
       "      <td>3500.0</td>\n",
       "      <td>11.0</td>\n",
       "      <td>943.0</td>\n",
       "      <td>10.0</td>\n",
       "      <td>...</td>\n",
       "      <td>16</td>\n",
       "      <td>23</td>\n",
       "      <td>77</td>\n",
       "      <td>22</td>\n",
       "      <td>93</td>\n",
       "      <td>89</td>\n",
       "      <td>16.0</td>\n",
       "      <td>2.0</td>\n",
       "      <td>6</td>\n",
       "      <td>6</td>\n",
       "    </tr>\n",
       "    <tr>\n",
       "      <th>4</th>\n",
       "      <td>77.0</td>\n",
       "      <td>113.0</td>\n",
       "      <td>25.0</td>\n",
       "      <td>254.0</td>\n",
       "      <td>37.0</td>\n",
       "      <td>3.0</td>\n",
       "      <td>1339.0</td>\n",
       "      <td>15.0</td>\n",
       "      <td>517.0</td>\n",
       "      <td>15.0</td>\n",
       "      <td>...</td>\n",
       "      <td>0</td>\n",
       "      <td>99</td>\n",
       "      <td>1</td>\n",
       "      <td>21</td>\n",
       "      <td>99</td>\n",
       "      <td>96</td>\n",
       "      <td>6.0</td>\n",
       "      <td>2.0</td>\n",
       "      <td>7</td>\n",
       "      <td>11</td>\n",
       "    </tr>\n",
       "  </tbody>\n",
       "</table>\n",
       "<p>5 rows × 270 columns</p>\n",
       "</div>"
      ],
      "text/plain": [
       "    AGE  NUMPROM  NUMPRM12  RAMNTALL  NGIFTALL  MINRAMNT  MINRDATE  MAXRAMNT  \\\n",
       "0  59.0     74.0      14.0     240.0      31.0       5.0    1765.0      12.0   \n",
       "1  45.0     32.0      13.0      47.0       3.0      10.0    1339.0      25.0   \n",
       "2  59.0     63.0      14.0     202.0      27.0       2.0    2039.0      16.0   \n",
       "3  69.0     66.0      14.0     109.0      16.0       2.0    3500.0      11.0   \n",
       "4  77.0    113.0      25.0     254.0      37.0       3.0    1339.0      15.0   \n",
       "\n",
       "   MAXRDATE  LASTGIFT  ...  HC16  HC17  HC18  HC19  HC20  HC21  MHUC1  MHUC2  \\\n",
       "0    1216.0      10.0  ...     0    33    65    40    99    99    6.0    2.0   \n",
       "1     548.0      25.0  ...     0    99     0    99    99    99   20.0    4.0   \n",
       "2    1796.0       5.0  ...    15    22    77    17    97    92    9.0    2.0   \n",
       "3     943.0      10.0  ...    16    23    77    22    93    89   16.0    2.0   \n",
       "4     517.0      15.0  ...     0    99     1    21    99    96    6.0    2.0   \n",
       "\n",
       "   AC1  AC2  \n",
       "0   10    7  \n",
       "1    6    5  \n",
       "2    6    5  \n",
       "3    6    6  \n",
       "4    7   11  \n",
       "\n",
       "[5 rows x 270 columns]"
      ]
     },
     "execution_count": 134,
     "metadata": {},
     "output_type": "execute_result"
    }
   ],
   "source": [
    "all_metrics = pd.concat([metrics_without_neighbourhood, subset_neighbourhood_metric], axis=1)\n",
    "all_metrics.head()"
   ]
  },
  {
   "cell_type": "code",
   "execution_count": null,
   "metadata": {},
   "outputs": [],
   "source": [
    "cor_all_metrics = all_metrics.corr()"
   ]
  },
  {
   "cell_type": "code",
   "execution_count": null,
   "metadata": {},
   "outputs": [],
   "source": [
    "#for the detection of low correlating features we need to remove the 1 value for each feature that measures the correlation with itself\n",
    "cor_all_metrics = cor_all_metrics.replace(1.0,0)\n",
    "\n",
    "#then we take the abs of all the values, as we want to detect also low negative correlations\n",
    "cor_all_metrics = cor_all_metrics.abs()"
   ]
  },
  {
   "cell_type": "code",
   "execution_count": null,
   "metadata": {},
   "outputs": [],
   "source": [
    "#lower than 5%\n",
    "low_cor = []\n",
    "for element in cor_all_metrics.columns.tolist():\n",
    "    if len(cor_all_metrics[element][cor_all_metrics[element]>0.05]) == 0:\n",
    "        low_cor.append(element)"
   ]
  },
  {
   "cell_type": "code",
   "execution_count": null,
   "metadata": {},
   "outputs": [],
   "source": [
    "print(low_cor)"
   ]
  },
  {
   "cell_type": "code",
   "execution_count": null,
   "metadata": {},
   "outputs": [],
   "source": [
    "#lower than 10%\n",
    "low_cor = []\n",
    "for element in cor_all_metrics.columns.tolist():\n",
    "    if len(cor_all_metrics[element][cor_all_metrics[element]>0.10]) == 0:\n",
    "        low_cor.append(element)"
   ]
  },
  {
   "cell_type": "code",
   "execution_count": null,
   "metadata": {},
   "outputs": [],
   "source": [
    "print(low_cor)"
   ]
  },
  {
   "cell_type": "code",
   "execution_count": null,
   "metadata": {},
   "outputs": [],
   "source": [
    "cor_all_metrics[\"HIT\"].sort_values(ascending=False).head(10)"
   ]
  },
  {
   "cell_type": "markdown",
   "metadata": {},
   "source": [
    "As we can see, there are no features that have a correlation below 0.05 with any other feature. There is only one that has a lower than 0.1 correlation with all the others, which is HIT. We will drop this features, as it is therefore not suitable for our clustering."
   ]
  },
  {
   "cell_type": "code",
   "execution_count": null,
   "metadata": {},
   "outputs": [],
   "source": [
    "metrics_without_neighbourhood = metrics_without_neighbourhood.drop(columns=[\"HIT\"])"
   ]
  },
  {
   "cell_type": "markdown",
   "metadata": {},
   "source": [
    "# Normalizing the data"
   ]
  },
  {
   "cell_type": "markdown",
   "metadata": {},
   "source": [
    "We now need to scale the variables, so that they are not distorting our clustering. We do this using the min max scaling method:"
   ]
  },
  {
   "cell_type": "code",
   "execution_count": null,
   "metadata": {
    "scrolled": false
   },
   "outputs": [],
   "source": [
    "#min max scaling\n",
    "\n",
    "metrics_without_neighbourhood_bn = metrics_without_neighbourhood.copy()\n",
    "\n",
    "cols = metrics_without_neighbourhood.columns\n",
    "rows = metrics_without_neighbourhood.index\n",
    "\n",
    "dic = {}\n",
    "i = 0\n",
    "\n",
    "for element in cols:\n",
    "    dic[i]=element\n",
    "    i = i + 1\n",
    "\n",
    "x = metrics_without_neighbourhood.values #returns a numpy array\n",
    "min_max_scaler = preprocessing.MinMaxScaler()\n",
    "x_scaled = min_max_scaler.fit_transform(x)\n",
    "metrics_without_neighbourhood = pd.DataFrame(x_scaled)\n",
    "metrics_without_neighbourhood = metrics_without_neighbourhood.rename(columns=dic)\n",
    "metrics_without_neighbourhood.head()"
   ]
  },
  {
   "cell_type": "markdown",
   "metadata": {},
   "source": [
    "Similarly, we do the same for the neighbourhood subset:"
   ]
  },
  {
   "cell_type": "code",
   "execution_count": null,
   "metadata": {},
   "outputs": [],
   "source": [
    "#min max scaling\n",
    "\n",
    "cols = subset_neighbourhood_metric.columns\n",
    "rows = subset_neighbourhood_metric.index\n",
    "\n",
    "dic = {}\n",
    "i = 0\n",
    "\n",
    "for element in cols:\n",
    "    dic[i]=element\n",
    "    i = i + 1\n",
    "\n",
    "x = subset_neighbourhood_metric.values #returns a numpy array\n",
    "min_max_scaler = preprocessing.MinMaxScaler()\n",
    "x_scaled = min_max_scaler.fit_transform(x)\n",
    "subset_neighbourhood_metric = pd.DataFrame(x_scaled)\n",
    "subset_neighbourhood_metric = subset_neighbourhood_metric.rename(columns=dic)\n",
    "subset_neighbourhood_metric.head()"
   ]
  },
  {
   "cell_type": "markdown",
   "metadata": {},
   "source": [
    "# PCA (Principle Component Analysis)"
   ]
  },
  {
   "cell_type": "markdown",
   "metadata": {},
   "source": [
    "## PCA for neighbourhood subset"
   ]
  },
  {
   "cell_type": "markdown",
   "metadata": {},
   "source": [
    "As we have just way too many features in the neighbourhood subset, we should apply some dimensionality reduction there. A suitable method for this is the PCA:"
   ]
  },
  {
   "cell_type": "code",
   "execution_count": null,
   "metadata": {},
   "outputs": [],
   "source": [
    "pca = PCA()\n",
    "pca_feat = pca.fit_transform(subset_neighbourhood_metric)\n",
    "pca_feat"
   ]
  },
  {
   "cell_type": "code",
   "execution_count": null,
   "metadata": {},
   "outputs": [],
   "source": [
    "#let's have a look at the covariance matrix\n",
    "cov_matrix = subset_neighbourhood_metric.cov()\n",
    "cov_matrix.head()"
   ]
  },
  {
   "cell_type": "markdown",
   "metadata": {},
   "source": [
    "Now, we have the following 262 principle components:"
   ]
  },
  {
   "cell_type": "code",
   "execution_count": null,
   "metadata": {},
   "outputs": [],
   "source": [
    "pd.DataFrame(subset_neighbourhood_metric.values @ pca.components_.T, \n",
    "             index=subset_neighbourhood_metric.index,\n",
    "             columns=[f\"PC{i}\" for i in range(pca.n_components_)]).head()"
   ]
  },
  {
   "cell_type": "markdown",
   "metadata": {},
   "source": [
    "This is obviously a too high amount of principle components, so we need to decide how many we will keep. There are three different rules of thumb criteria according to which we choose our principle components:\n",
    "* The Eigenvalue of a principle component should be higher than 1\n",
    "* The overall explained variance should be at least 65%\n",
    "* The elbow point of the scree plot\n",
    "\n",
    "Let's have a more detailed look into our PCA regarding these criteria."
   ]
  },
  {
   "cell_type": "code",
   "execution_count": null,
   "metadata": {},
   "outputs": [],
   "source": [
    "pd.DataFrame(\n",
    "    {\"Eigenvalue\": pca.explained_variance_,\n",
    "     \"Difference\": np.insert(np.diff(pca.explained_variance_), 0, 0),\n",
    "     \"Proportion\": pca.explained_variance_ratio_,\n",
    "     \"Cumulative\": np.cumsum(pca.explained_variance_ratio_)},\n",
    "    index=range(1, pca.n_components_ + 1)\n",
    ").head(15)"
   ]
  },
  {
   "cell_type": "markdown",
   "metadata": {},
   "source": [
    "Let us plot this top 15:"
   ]
  },
  {
   "cell_type": "code",
   "execution_count": null,
   "metadata": {},
   "outputs": [],
   "source": [
    "pca.explained_variance_ = pca.explained_variance_[:15]\n",
    "pca.explained_variance_ratio_ = pca.explained_variance_ratio_[:15]"
   ]
  },
  {
   "cell_type": "code",
   "execution_count": null,
   "metadata": {},
   "outputs": [],
   "source": [
    "sns.set_style(\"whitegrid\")\n",
    "\n",
    "fig, (ax1, ax2) = plt.subplots(1, 2, figsize=(15, 5))\n",
    "\n",
    "ax1.plot(pca.explained_variance_, marker=\".\", markersize=12)\n",
    "ax2.plot(pca.explained_variance_ratio_, marker=\".\", markersize=12, label=\"Proportion\")\n",
    "ax2.plot(np.cumsum(pca.explained_variance_ratio_), marker=\".\", markersize=12, linestyle=\"--\", label=\"Cumulative\", color=\"skyblue\")\n",
    "\n",
    "ax2.legend()\n",
    "ax1.set_title(\"Scree Plot\", fontsize=14)\n",
    "ax2.set_title(\"Variance Explained\", fontsize=14)\n",
    "ax1.set_ylabel(\"Eigenvalue\")\n",
    "ax2.set_ylabel(\"Proportion\")\n",
    "ax1.set_xlabel(\"Components\")\n",
    "ax2.set_xlabel(\"Components\")\n",
    "ax1.set_xticks(range(0, 15, 2))\n",
    "ax1.set_xticklabels(range(1, 15 + 1, 2))\n",
    "ax2.set_xticks(range(0, 15, 2))\n",
    "ax2.set_xticklabels(range(1, 15 + 1, 2))\n",
    "ax1.spines['right'].set_visible(False)\n",
    "ax1.spines['top'].set_visible(False)\n",
    "ax2.spines['right'].set_visible(False)\n",
    "ax2.spines['top'].set_visible(False)\n",
    "\n",
    "figure = ax1.get_figure()    \n",
    "#figure.savefig('pca.png', dpi=1000)\n",
    "\n",
    "#ax1.savefig(\"pca.png\")"
   ]
  },
  {
   "cell_type": "markdown",
   "metadata": {},
   "source": [
    "As we can see, we get some mixed information:\n",
    "* According to the Eigenvalues, we should only keep one PC\n",
    "* According to the Variance explained, we should keep 7 PCs\n",
    "* According to the scree plot, we should probably keep 3 PCs"
   ]
  },
  {
   "cell_type": "markdown",
   "metadata": {},
   "source": [
    "We decide to keep 7 PCs, as otherwise we would loose too much information!"
   ]
  },
  {
   "cell_type": "markdown",
   "metadata": {},
   "source": [
    "#### Should we maybe just take the best for variance explained?!"
   ]
  },
  {
   "cell_type": "markdown",
   "metadata": {},
   "source": [
    "Now, we have to perform the PCA again with only 7 PCs:"
   ]
  },
  {
   "cell_type": "code",
   "execution_count": null,
   "metadata": {},
   "outputs": [],
   "source": [
    "pca = PCA(n_components=7)\n",
    "pca_feat = pca.fit_transform(subset_neighbourhood_metric)\n",
    "pca_feat_names = [f\"PC{i}_Neighbourhood\" for i in range(pca.n_components_)]\n",
    "pca_subset_neighbourhood_metric = pd.DataFrame(pca_feat, index=subset_neighbourhood_metric.index, columns=pca_feat_names) \n",
    "pca_subset_neighbourhood_metric.head()"
   ]
  },
  {
   "cell_type": "markdown",
   "metadata": {},
   "source": [
    "Now we have succesfully reduced the neighbourhood suset from 262 features to only 7. Great!"
   ]
  },
  {
   "cell_type": "code",
   "execution_count": null,
   "metadata": {},
   "outputs": [],
   "source": [
    "metrics_with_neighbourhood = pd.concat([metrics_without_neighbourhood, pca_subset_neighbourhood_metric], axis = 1)\n",
    "metrics_with_neighbourhood.head()"
   ]
  },
  {
   "cell_type": "code",
   "execution_count": null,
   "metadata": {
    "scrolled": true
   },
   "outputs": [],
   "source": [
    "metrics_with_neighbourhood.corr()"
   ]
  },
  {
   "cell_type": "markdown",
   "metadata": {},
   "source": [
    "As we can see, the PCs of the neighbourhood subset are not correlating at all with the other features, so we will not include them for the later clustering."
   ]
  },
  {
   "cell_type": "markdown",
   "metadata": {},
   "source": [
    "# First Clustering approaches"
   ]
  },
  {
   "cell_type": "markdown",
   "metadata": {},
   "source": [
    "# K Means Clustering"
   ]
  },
  {
   "cell_type": "markdown",
   "metadata": {},
   "source": [
    "## K Means with neighbourhood PCs"
   ]
  },
  {
   "cell_type": "markdown",
   "metadata": {},
   "source": [
    "### Defining the number of clusters:"
   ]
  },
  {
   "cell_type": "code",
   "execution_count": null,
   "metadata": {},
   "outputs": [],
   "source": [
    "sns.set_style(\"whitegrid\")\n",
    "sse = {}\n",
    "for k in range(1, 20):\n",
    "    kmeans = KMeans(n_clusters=k, random_state=42)\n",
    "    kmeans.fit(metrics_with_neighbourhood)\n",
    "    sse[k] = kmeans.inertia_ # SSE to closest cluster centroid\n",
    "plt.title('The Elbow Method')\n",
    "plt.xlabel('k')\n",
    "plt.ylabel('SSE')\n",
    "sns.pointplot(x=list(sse.keys()), y=list(sse.values()))\n",
    "plt.show()"
   ]
  },
  {
   "cell_type": "code",
   "execution_count": null,
   "metadata": {},
   "outputs": [],
   "source": [
    "kmclust = KMeans(n_clusters=4, init='k-means++', n_init=15, random_state=1)\n",
    "kmclust.fit(metrics_with_neighbourhood)"
   ]
  },
  {
   "cell_type": "code",
   "execution_count": null,
   "metadata": {},
   "outputs": [],
   "source": [
    "metrics_with_neighbourhood['Cluster'] = kmclust.labels_"
   ]
  },
  {
   "cell_type": "code",
   "execution_count": null,
   "metadata": {
    "scrolled": true
   },
   "outputs": [],
   "source": [
    "metrics_with_neighbourhood.groupby(\"Cluster\").mean()"
   ]
  },
  {
   "cell_type": "code",
   "execution_count": null,
   "metadata": {},
   "outputs": [],
   "source": [
    "metrics_with_neighbourhood = metrics_with_neighbourhood.drop(columns=[\"Cluster\"])"
   ]
  },
  {
   "cell_type": "markdown",
   "metadata": {},
   "source": [
    "As we anticipated, the clustering gets biased too much by the neighbourhood PCs and therefore, there is almost no between cluster variation for the other features. This is not the best way to do it!"
   ]
  },
  {
   "cell_type": "markdown",
   "metadata": {},
   "source": [
    "## K Means without neighbourhood PCs"
   ]
  },
  {
   "cell_type": "code",
   "execution_count": null,
   "metadata": {},
   "outputs": [],
   "source": [
    "sns.set_style(\"whitegrid\")\n",
    "sse = {}\n",
    "for k in range(1, 20):\n",
    "    kmeans = KMeans(n_clusters=k, random_state=42)\n",
    "    kmeans.fit(metrics_without_neighbourhood)\n",
    "    sse[k] = kmeans.inertia_ # SSE to closest cluster centroid\n",
    "plt.title('The Elbow Method')\n",
    "plt.xlabel('k')\n",
    "plt.ylabel('SSE')\n",
    "sns.pointplot(x=list(sse.keys()), y=list(sse.values()))\n",
    "plt.show()"
   ]
  },
  {
   "cell_type": "code",
   "execution_count": null,
   "metadata": {},
   "outputs": [],
   "source": [
    "kmclust = KMeans(n_clusters=4, init='k-means++', n_init=15, random_state=1)\n",
    "kmclust.fit(metrics_without_neighbourhood)"
   ]
  },
  {
   "cell_type": "code",
   "execution_count": null,
   "metadata": {},
   "outputs": [],
   "source": [
    "metrics_without_neighbourhood['Cluster'] = kmclust.labels_\n",
    "metrics_without_neighbourhood_bn['Cluster'] = kmclust.labels_"
   ]
  },
  {
   "cell_type": "code",
   "execution_count": null,
   "metadata": {},
   "outputs": [],
   "source": [
    "#displaying the number of donors in each cluster\n",
    "pd.DataFrame(metrics_without_neighbourhood.groupby(\"Cluster\").count().iloc[:,0]).rename(columns={\"AGE\":\"COUNT\"})"
   ]
  },
  {
   "cell_type": "code",
   "execution_count": null,
   "metadata": {
    "scrolled": true
   },
   "outputs": [],
   "source": [
    "metrics_without_neighbourhood.groupby(\"Cluster\").mean()"
   ]
  },
  {
   "cell_type": "code",
   "execution_count": null,
   "metadata": {},
   "outputs": [],
   "source": [
    "metrics_without_neighbourhood = metrics_without_neighbourhood.drop(columns=[\"Cluster\"])"
   ]
  },
  {
   "cell_type": "markdown",
   "metadata": {},
   "source": [
    "## The final variables that will be used for clustering"
   ]
  },
  {
   "cell_type": "markdown",
   "metadata": {},
   "source": [
    "The only feature that still doesn't really fit, is AGE, as all the other are from the donation and promotion data subset. So it kind of distorts our clustering, as it does not belong to this subset. Let's remove it and start our final clustering:"
   ]
  },
  {
   "cell_type": "code",
   "execution_count": null,
   "metadata": {},
   "outputs": [],
   "source": [
    "metrics_without_neighbourhood = metrics_without_neighbourhood.drop(columns=[\"AGE\"])"
   ]
  },
  {
   "cell_type": "code",
   "execution_count": null,
   "metadata": {},
   "outputs": [],
   "source": [
    "#13 final variables\n",
    "metrics_without_neighbourhood.columns.tolist()"
   ]
  },
  {
   "cell_type": "markdown",
   "metadata": {},
   "source": [
    "## Exploring the final variables"
   ]
  },
  {
   "cell_type": "markdown",
   "metadata": {},
   "source": [
    "As we've finally found our top 13 variables to perform the clustering with, let's explore them from scratch."
   ]
  },
  {
   "cell_type": "code",
   "execution_count": null,
   "metadata": {},
   "outputs": [],
   "source": [
    "top_13 = donors_co[metrics_without_neighbourhood.columns.tolist()]\n",
    "print(top_13.shape)\n",
    "top_13.head()"
   ]
  },
  {
   "cell_type": "code",
   "execution_count": null,
   "metadata": {},
   "outputs": [],
   "source": [
    "#checking for nan\n",
    "for element in top_13.columns.tolist():\n",
    "    if len(top_13[element].dropna()) != len(top_13):\n",
    "        print(element, np.round(100 - np.round(len(top_13[element].dropna())/len(top_13), 4)*100,4))"
   ]
  },
  {
   "cell_type": "markdown",
   "metadata": {},
   "source": [
    "As we have no output here, we proved that there are NO nan values within this columns in the original donors.csv (there are some for timelag in the rows that are associated to one time donors, but as we know we excluded them from our analysis). That is amazing!"
   ]
  },
  {
   "cell_type": "code",
   "execution_count": null,
   "metadata": {},
   "outputs": [],
   "source": [
    "top_13.describe()"
   ]
  },
  {
   "cell_type": "code",
   "execution_count": null,
   "metadata": {},
   "outputs": [],
   "source": [
    "#relationship between our final variables\n",
    "sns.set_style(\"whitegrid\")\n",
    "sns.pairplot(top_13)\n"
   ]
  },
  {
   "cell_type": "markdown",
   "metadata": {},
   "source": [
    "Let us have a closer look into every feature:"
   ]
  },
  {
   "cell_type": "code",
   "execution_count": null,
   "metadata": {},
   "outputs": [],
   "source": [
    "\n",
    "sns.set(rc={'figure.figsize':(4,6)})\n",
    "sns.set_style(\"whitegrid\")\n",
    "sns.boxplot(data=top_13[\"NUMPROM\"]).set(\n",
    "    xlabel='NUMPROM', \n",
    "    ylabel='Amount')"
   ]
  },
  {
   "cell_type": "code",
   "execution_count": null,
   "metadata": {},
   "outputs": [],
   "source": [
    "sns.set_style(\"whitegrid\")\n",
    "sns.boxplot(data=top_13[\"NUMPRM12\"]).set(\n",
    "    xlabel='NUMPROM12', \n",
    "    ylabel='Amount')"
   ]
  },
  {
   "cell_type": "code",
   "execution_count": null,
   "metadata": {},
   "outputs": [],
   "source": [
    "sns.set_style(\"whitegrid\")\n",
    "sns.boxplot(data=top_13[\"RAMNTALL\"]).set(\n",
    "    xlabel='RAMNTALL', \n",
    "    ylabel='Amount')"
   ]
  },
  {
   "cell_type": "code",
   "execution_count": null,
   "metadata": {},
   "outputs": [],
   "source": [
    "sns.set_style(\"whitegrid\")\n",
    "sns.boxplot(data=top_13[\"NGIFTALL\"]).set(\n",
    "    xlabel='NGIFTALL', \n",
    "    ylabel='Amount')"
   ]
  },
  {
   "cell_type": "code",
   "execution_count": null,
   "metadata": {},
   "outputs": [],
   "source": [
    "sns.set_style(\"whitegrid\")\n",
    "sns.boxplot(data=top_13[\"MINRAMNT\"]).set(\n",
    "    xlabel='MINRAMNT', \n",
    "    ylabel='Amount')"
   ]
  },
  {
   "cell_type": "code",
   "execution_count": null,
   "metadata": {},
   "outputs": [],
   "source": [
    "sns.set_style(\"whitegrid\")\n",
    "sns.boxplot(data=top_13[\"MINRDATE\"]).set(\n",
    "    xlabel='MINRDATE', \n",
    "    ylabel='Days ago')"
   ]
  },
  {
   "cell_type": "code",
   "execution_count": null,
   "metadata": {},
   "outputs": [],
   "source": [
    "sns.set_style(\"whitegrid\")\n",
    "sns.boxplot(data=top_13[\"MAXRAMNT\"]).set(\n",
    "    xlabel='MAXRAMNT', \n",
    "    ylabel='Amount')"
   ]
  },
  {
   "cell_type": "code",
   "execution_count": null,
   "metadata": {},
   "outputs": [],
   "source": [
    "sns.set_style(\"whitegrid\")\n",
    "sns.boxplot(data=top_13[\"MAXRDATE\"]).set(\n",
    "    xlabel='MAXRDATE', \n",
    "    ylabel='Days ago')"
   ]
  },
  {
   "cell_type": "code",
   "execution_count": null,
   "metadata": {},
   "outputs": [],
   "source": [
    "sns.set_style(\"whitegrid\")\n",
    "sns.boxplot(data=top_13[\"LASTGIFT\"]).set(\n",
    "    xlabel='LASTGIFT', \n",
    "    ylabel='Amount')"
   ]
  },
  {
   "cell_type": "code",
   "execution_count": null,
   "metadata": {},
   "outputs": [],
   "source": [
    "sns.set_style(\"whitegrid\")\n",
    "sns.boxplot(data=top_13[\"LASTDATE\"]).set(\n",
    "    xlabel='LASTDATE', \n",
    "    ylabel='Days ago')"
   ]
  },
  {
   "cell_type": "code",
   "execution_count": null,
   "metadata": {},
   "outputs": [],
   "source": [
    "sns.set_style(\"whitegrid\")\n",
    "sns.boxplot(data=top_13[\"FISTDATE\"]).set(\n",
    "    xlabel='FISTDATE', \n",
    "    ylabel='Days ago')"
   ]
  },
  {
   "cell_type": "code",
   "execution_count": null,
   "metadata": {},
   "outputs": [],
   "source": [
    "sns.set_style(\"whitegrid\")\n",
    "sns.boxplot(data=top_13[\"TIMELAG\"]).set(\n",
    "    xlabel='TIMELAG', \n",
    "    ylabel='Days')"
   ]
  },
  {
   "cell_type": "code",
   "execution_count": null,
   "metadata": {},
   "outputs": [],
   "source": [
    "sns.set_style(\"whitegrid\")\n",
    "sns.boxplot(data=top_13[\"AVGGIFT\"]).set(\n",
    "    xlabel='AVGGIFT', \n",
    "    ylabel='Amount')"
   ]
  },
  {
   "cell_type": "markdown",
   "metadata": {},
   "source": [
    "There are obviously outliers. Let us remove them. This time, we first remove the outliers by using the IQR method and then use the KNN Imputer to replace the resulting missing values, as it should give us more precise replacements. For the IQR method, we decide for each feature which multiplier is appropriate, in order to not loose to much information. Our goal is, to not remove more than 3% of values per column. This equals 0.03 * 85404 = 2562."
   ]
  },
  {
   "cell_type": "code",
   "execution_count": null,
   "metadata": {},
   "outputs": [],
   "source": [
    "#NUMPROM\n",
    "q25 = top_13[\"NUMPROM\"].quantile(0.25)\n",
    "q75 = top_13[\"NUMPROM\"].quantile(0.75)\n",
    "iqr = q75 - q25\n",
    "low = q25 - 1.5 * iqr\n",
    "high = q75 + 1.5 * iqr\n",
    "\n",
    "series = top_13[\"NUMPROM\"].between(low, high, inclusive=True)\n",
    "\n",
    "for index in series[series==False].index.tolist():\n",
    "    top_13.loc[index, \"NUMPROM\"] = np.nan\n",
    "        \n",
    "print(\"NUMPROM amount of outliers:\", len(top_13) - series.value_counts()[True])"
   ]
  },
  {
   "cell_type": "code",
   "execution_count": null,
   "metadata": {},
   "outputs": [],
   "source": [
    "#NUMPRM12\n",
    "q25 = top_13[\"NUMPRM12\"].quantile(0.25)\n",
    "q75 = top_13[\"NUMPRM12\"].quantile(0.75)\n",
    "iqr = q75 - q25\n",
    "low = q25 - 7.5 * iqr\n",
    "high = q75 + 7.5 * iqr\n",
    "\n",
    "series = top_13[\"NUMPRM12\"].between(low, high, inclusive=True)\n",
    "print(\"NUMPRM12 amount of outliers:\", len(top_13) - series.value_counts()[True])\n",
    "\n",
    "for index in series[series==False].index.tolist():\n",
    "    top_13.loc[index, \"NUMPRM12\"] = np.nan"
   ]
  },
  {
   "cell_type": "code",
   "execution_count": null,
   "metadata": {},
   "outputs": [],
   "source": [
    "#RAMNTALL\n",
    "q25 = top_13[\"RAMNTALL\"].quantile(0.25)\n",
    "q75 = top_13[\"RAMNTALL\"].quantile(0.75)\n",
    "iqr = q75 - q25\n",
    "low = q25 - 2.5 * iqr\n",
    "high = q75 + 2.5 * iqr\n",
    "\n",
    "series = top_13[\"RAMNTALL\"].between(low, high, inclusive=True)\n",
    "print(\"RAMNTALL amount of outliers:\", len(top_13) - series.value_counts()[True])\n",
    "\n",
    "for index in series[series==False].index.tolist():\n",
    "    top_13.loc[index, \"RAMNTALL\"] = np.nan\n",
    "    "
   ]
  },
  {
   "cell_type": "code",
   "execution_count": null,
   "metadata": {},
   "outputs": [],
   "source": [
    "#NGIFTALL\n",
    "q25 = top_13[\"NGIFTALL\"].quantile(0.25)\n",
    "q75 = top_13[\"NGIFTALL\"].quantile(0.75)\n",
    "iqr = q75 - q25\n",
    "low = q25 - 2 * iqr\n",
    "high = q75 + 2 * iqr\n",
    "\n",
    "series = top_13[\"NGIFTALL\"].between(low, high, inclusive=True)\n",
    "print(\"NGIFTALL amount of outliers:\", len(top_13) - series.value_counts()[True])\n",
    "\n",
    "for index in series[series==False].index.tolist():\n",
    "    top_13.loc[index, \"NGIFTALL\"] = np.nan"
   ]
  },
  {
   "cell_type": "code",
   "execution_count": null,
   "metadata": {},
   "outputs": [],
   "source": [
    "#MINRAMNT\n",
    "q25 = top_13[\"MINRAMNT\"].quantile(0.25)\n",
    "q75 = top_13[\"MINRAMNT\"].quantile(0.75)\n",
    "iqr = q75 - q25\n",
    "low = q25 - 1.5 * iqr\n",
    "high = q75 + 1.5 * iqr\n",
    "\n",
    "series = top_13[\"MINRAMNT\"].between(low, high, inclusive=True)\n",
    "print(\"MINRAMNT amount of outliers:\", len(top_13) - series.value_counts()[True])\n",
    "\n",
    "for index in series[series==False].index.tolist():\n",
    "    top_13.loc[index, \"MINRAMNT\"] = np.nan"
   ]
  },
  {
   "cell_type": "code",
   "execution_count": null,
   "metadata": {},
   "outputs": [],
   "source": [
    "#MINRDATE\n",
    "q25 = top_13[\"MINRDATE\"].quantile(0.25)\n",
    "q75 = top_13[\"MINRDATE\"].quantile(0.75)\n",
    "iqr = q75 - q25\n",
    "low = q25 - 1.5 * iqr\n",
    "high = q75 + 1.5 * iqr\n",
    "\n",
    "series = top_13[\"MINRDATE\"].between(low, high, inclusive=True)\n",
    "print(\"MINRDATE amount of outliers:\", len(top_13) - series.value_counts()[True])\n",
    "\n",
    "for index in series[series==False].index.tolist():\n",
    "    top_13.loc[index, \"MINRDATE\"] = np.nan"
   ]
  },
  {
   "cell_type": "code",
   "execution_count": null,
   "metadata": {},
   "outputs": [],
   "source": [
    "#MAXRAMNT\n",
    "q25 = top_13[\"MAXRAMNT\"].quantile(0.25)\n",
    "q75 = top_13[\"MAXRAMNT\"].quantile(0.75)\n",
    "iqr = q75 - q25\n",
    "low = q25 - 3 * iqr\n",
    "high = q75 + 3 * iqr\n",
    "\n",
    "series = top_13[\"MAXRAMNT\"].between(low, high, inclusive=True)\n",
    "print(\"MAXRAMNT amount of outliers:\", len(top_13) - series.value_counts()[True])\n",
    "\n",
    "for index in series[series==False].index.tolist():\n",
    "    top_13.loc[index, \"MAXRAMNT\"] = np.nan"
   ]
  },
  {
   "cell_type": "code",
   "execution_count": null,
   "metadata": {},
   "outputs": [],
   "source": [
    "#MAXRDATE\n",
    "q25 = top_13[\"MAXRDATE\"].quantile(0.25)\n",
    "q75 = top_13[\"MAXRDATE\"].quantile(0.75)\n",
    "iqr = q75 - q25\n",
    "low = q25 - 3.5 * iqr\n",
    "high = q75 + 3.5 * iqr\n",
    "\n",
    "series = top_13[\"MAXRDATE\"].between(low, high, inclusive=True)\n",
    "print(\"MAXRDATE amount of outliers:\", len(top_13) - series.value_counts()[True])\n",
    "\n",
    "for index in series[series==False].index.tolist():\n",
    "    top_13.loc[index, \"MAXRDATE\"] = np.nan"
   ]
  },
  {
   "cell_type": "code",
   "execution_count": null,
   "metadata": {},
   "outputs": [],
   "source": [
    "#LASTGIFT\n",
    "q25 = top_13[\"LASTGIFT\"].quantile(0.25)\n",
    "q75 = top_13[\"LASTGIFT\"].quantile(0.75)\n",
    "iqr = q75 - q25\n",
    "low = q25 - 2 * iqr\n",
    "high = q75 + 2 * iqr\n",
    "\n",
    "series = top_13[\"LASTGIFT\"].between(low, high, inclusive=True)\n",
    "print(\"LASTGIFT amount of outliers:\", len(top_13) - series.value_counts()[True])\n",
    "\n",
    "for index in series[series==False].index.tolist():\n",
    "    top_13.loc[index, \"LASTGIFT\"] = np.nan"
   ]
  },
  {
   "cell_type": "code",
   "execution_count": null,
   "metadata": {},
   "outputs": [],
   "source": [
    "#LASTDATE\n",
    "q25 = top_13[\"LASTDATE\"].quantile(0.25)\n",
    "q75 = top_13[\"LASTDATE\"].quantile(0.75)\n",
    "iqr = q75 - q25\n",
    "low = q25 - 2.5 * iqr\n",
    "high = q75 + 2.5 * iqr\n",
    "\n",
    "series = top_13[\"LASTDATE\"].between(low, high, inclusive=True)\n",
    "print(\"LASTDATE amount of outliers:\", len(top_13) - series.value_counts()[True])\n",
    "\n",
    "for index in series[series==False].index.tolist():\n",
    "    top_13.loc[index, \"LASTDATE\"] = np.nan"
   ]
  },
  {
   "cell_type": "code",
   "execution_count": null,
   "metadata": {},
   "outputs": [],
   "source": [
    "#FISTDATE\n",
    "q25 = top_13[\"FISTDATE\"].quantile(0.25)\n",
    "q75 = top_13[\"FISTDATE\"].quantile(0.75)\n",
    "iqr = q75 - q25\n",
    "low = q25 - 1.5 * iqr\n",
    "high = q75 + 1.5 * iqr\n",
    "\n",
    "series = top_13[\"FISTDATE\"].between(low, high, inclusive=True)\n",
    "print(\"FISTDATE amount of outliers:\", len(top_13) - series.value_counts()[True])\n",
    "\n",
    "for index in series[series==False].index.tolist():\n",
    "    top_13.loc[index, \"FISTDATE\"] = np.nan"
   ]
  },
  {
   "cell_type": "code",
   "execution_count": null,
   "metadata": {},
   "outputs": [],
   "source": [
    "#TIMELAG\n",
    "q25 = top_13[\"TIMELAG\"].quantile(0.25)\n",
    "q75 = top_13[\"TIMELAG\"].quantile(0.75)\n",
    "iqr = q75 - q25\n",
    "low = q25 - 2 * iqr\n",
    "high = q75 + 2 * iqr\n",
    "\n",
    "series = top_13[\"TIMELAG\"].between(low, high, inclusive=True)\n",
    "print(\"TIMELAG amount of outliers:\", len(top_13) - series.value_counts()[True])\n",
    "\n",
    "for index in series[series==False].index.tolist():\n",
    "    top_13.loc[index, \"TIMELAG\"] = np.nan"
   ]
  },
  {
   "cell_type": "code",
   "execution_count": null,
   "metadata": {},
   "outputs": [],
   "source": [
    "#AVGGIFT\n",
    "q25 = top_13[\"AVGGIFT\"].quantile(0.25)\n",
    "q75 = top_13[\"AVGGIFT\"].quantile(0.75)\n",
    "iqr = q75 - q25\n",
    "low = q25 - 2 * iqr\n",
    "high = q75 + 2 * iqr\n",
    "\n",
    "series = top_13[\"AVGGIFT\"].between(low, high, inclusive=True)\n",
    "print(\"AVGGIFT amount of outliers:\", len(top_13) - series.value_counts()[True])\n",
    "\n",
    "for index in series[series==False].index.tolist():\n",
    "    top_13.loc[index, \"AVGGIFT\"] = np.nan"
   ]
  },
  {
   "cell_type": "code",
   "execution_count": null,
   "metadata": {},
   "outputs": [],
   "source": [
    "#replacing the deleted values by using the KNN Imputer"
   ]
  },
  {
   "cell_type": "code",
   "execution_count": null,
   "metadata": {},
   "outputs": [],
   "source": [
    "imputer = KNNImputer(n_neighbors=2)\n",
    "top_13 = imputer.fit_transform(top_13)"
   ]
  },
  {
   "cell_type": "code",
   "execution_count": null,
   "metadata": {},
   "outputs": [],
   "source": [
    "cols = metrics_without_neighbourhood.columns.tolist()\n",
    "\n",
    "dic = {}\n",
    "i = 0\n",
    "\n",
    "for element in cols:\n",
    "    dic[i]=element\n",
    "    i = i + 1\n",
    "    \n",
    "top_13 = pd.DataFrame(top_13).rename(columns=dic)"
   ]
  },
  {
   "cell_type": "markdown",
   "metadata": {},
   "source": [
    "Let us look again at the features, that are now outlier-free (at least to a certain degree):"
   ]
  },
  {
   "cell_type": "code",
   "execution_count": null,
   "metadata": {},
   "outputs": [],
   "source": [
    "sns.set_style(\"whitegrid\")\n",
    "#relationship between our final variables\n",
    "sns.pairplot(top_13)"
   ]
  },
  {
   "cell_type": "code",
   "execution_count": null,
   "metadata": {},
   "outputs": [],
   "source": [
    "sns.set_style(\"whitegrid\")\n",
    "sns.boxplot(data=top_13[\"NUMPROM\"]).set(\n",
    "    xlabel='NUMPROM', \n",
    "    ylabel='Amount')"
   ]
  },
  {
   "cell_type": "code",
   "execution_count": null,
   "metadata": {},
   "outputs": [],
   "source": [
    "sns.set_style(\"whitegrid\")\n",
    "sns.boxplot(data=top_13[\"NUMPRM12\"]).set(\n",
    "    xlabel='NUMPRM12', \n",
    "    ylabel='Amount')"
   ]
  },
  {
   "cell_type": "code",
   "execution_count": null,
   "metadata": {},
   "outputs": [],
   "source": [
    "sns.set_style(\"whitegrid\")\n",
    "fig = sns.boxplot(data=top_13[\"RAMNTALL\"])\n",
    "#.set(\n",
    " #   xlabel='RAMNTALL', \n",
    "  #  ylabel='Amount')\n",
    "sns.despine(right=True)\n",
    "fig.set_xticks([])\n",
    "plt.xlabel('')\n",
    "plt.ylabel('')\n",
    "plt.title(\"RAMNTALL in $\")\n",
    "fig = fig.get_figure()\n",
    "#fig.savefig('RAMNTALL.png', dpi=1000)"
   ]
  },
  {
   "cell_type": "code",
   "execution_count": null,
   "metadata": {},
   "outputs": [],
   "source": [
    "sns.set_style(\"whitegrid\")\n",
    "fig = sns.boxplot(data=top_13[\"NGIFTALL\"])\n",
    "sns.despine(right=True)\n",
    "fig.set_xticks([])\n",
    "plt.xlabel('')\n",
    "plt.ylabel('')\n",
    "plt.title(\"NGIFTALL\")\n",
    "fig = fig.get_figure()\n",
    "#fig.savefig('NGIFTALL.png', dpi=1000)"
   ]
  },
  {
   "cell_type": "code",
   "execution_count": null,
   "metadata": {},
   "outputs": [],
   "source": [
    "sns.set_style(\"whitegrid\")\n",
    "sns.boxplot(data=top_13[\"MINRAMNT\"]).set(\n",
    "    xlabel='MINRAMNT', \n",
    "    ylabel='Amount')"
   ]
  },
  {
   "cell_type": "code",
   "execution_count": null,
   "metadata": {},
   "outputs": [],
   "source": [
    "sns.set_style(\"whitegrid\")\n",
    "sns.boxplot(data=top_13[\"MINRDATE\"]).set(\n",
    "    xlabel='MINRDATE', \n",
    "    ylabel='Days ago')"
   ]
  },
  {
   "cell_type": "code",
   "execution_count": null,
   "metadata": {},
   "outputs": [],
   "source": [
    "sns.set_style(\"whitegrid\")\n",
    "sns.boxplot(data=top_13[\"MAXRAMNT\"]).set(\n",
    "    xlabel='MAXRAMNT', \n",
    "    ylabel='Amount')"
   ]
  },
  {
   "cell_type": "code",
   "execution_count": null,
   "metadata": {},
   "outputs": [],
   "source": [
    "sns.set_style(\"whitegrid\")\n",
    "sns.boxplot(data=top_13[\"MAXRDATE\"]).set(\n",
    "    xlabel='MAXRDATE', \n",
    "    ylabel='Days ago')"
   ]
  },
  {
   "cell_type": "code",
   "execution_count": null,
   "metadata": {},
   "outputs": [],
   "source": [
    "sns.set_style(\"whitegrid\")\n",
    "sns.boxplot(data=top_13[\"LASTGIFT\"]).set(\n",
    "    xlabel='LASTGIFT', \n",
    "    ylabel='Amount')"
   ]
  },
  {
   "cell_type": "code",
   "execution_count": null,
   "metadata": {},
   "outputs": [],
   "source": [
    "sns.set_style(\"whitegrid\")\n",
    "fig = sns.boxplot(data=top_13[\"LASTDATE\"])\n",
    "sns.despine(right=True)\n",
    "fig.set_xticks([])\n",
    "plt.xlabel('')\n",
    "plt.ylabel('')\n",
    "plt.title(\"LASTDATE in days behind\")\n",
    "fig = fig.get_figure()\n",
    "#fig.savefig('LASTDATE.png', dpi=1000)"
   ]
  },
  {
   "cell_type": "code",
   "execution_count": null,
   "metadata": {},
   "outputs": [],
   "source": [
    "sns.set_style(\"whitegrid\")\n",
    "sns.boxplot(data=top_13[\"FISTDATE\"]).set(\n",
    "    xlabel='FISTDATE', \n",
    "    ylabel='Days ago')"
   ]
  },
  {
   "cell_type": "code",
   "execution_count": null,
   "metadata": {},
   "outputs": [],
   "source": [
    "sns.set_style(\"whitegrid\")\n",
    "sns.boxplot(data=top_13[\"TIMELAG\"]).set(\n",
    "    xlabel='TIMELAG', \n",
    "    ylabel='Days')"
   ]
  },
  {
   "cell_type": "code",
   "execution_count": null,
   "metadata": {},
   "outputs": [],
   "source": [
    "sns.set_style(\"whitegrid\")\n",
    "fig = sns.boxplot(data=top_13[\"AVGGIFT\"])\n",
    "sns.despine(right=True)\n",
    "fig.set_xticks([])\n",
    "plt.xlabel('')\n",
    "plt.ylabel('AVGGIFT')\n",
    "plt.title(\"AVGGIFT in $\")\n",
    "fig = fig.get_figure()\n",
    "#fig.savefig('AVGGIFT.png', dpi=1000)\n"
   ]
  },
  {
   "cell_type": "markdown",
   "metadata": {},
   "source": [
    "Alright, this looks now really good. Let's normalize the data now with the min max scaler and we are good to go:"
   ]
  },
  {
   "cell_type": "code",
   "execution_count": null,
   "metadata": {},
   "outputs": [],
   "source": [
    "#min max scaling\n",
    "top_13_co = top_13.copy()\n",
    "\n",
    "cols = top_13.columns\n",
    "rows = top_13.index\n",
    "\n",
    "dic = {}\n",
    "i = 0\n",
    "\n",
    "for element in cols:\n",
    "    dic[i]=element\n",
    "    i = i + 1\n",
    "\n",
    "x = top_13.values #returns a numpy array\n",
    "min_max_scaler = preprocessing.MinMaxScaler()\n",
    "x_scaled = min_max_scaler.fit_transform(x)\n",
    "top_13 = pd.DataFrame(x_scaled)\n",
    "top_13 = top_13.rename(columns=dic)\n",
    "top_13.head()"
   ]
  },
  {
   "cell_type": "code",
   "execution_count": null,
   "metadata": {},
   "outputs": [],
   "source": [
    "metrics_without_neighbourhood = top_13"
   ]
  },
  {
   "cell_type": "markdown",
   "metadata": {},
   "source": [
    "# FINAL CLUSTERING"
   ]
  },
  {
   "cell_type": "markdown",
   "metadata": {},
   "source": [
    "We've reached the final stage of our clustering process and have also reached our final features, that we want to bas our clustering on. As we excluded the neighbourhood subset due to an unsufficient correlation with the other remaining features, we are still interested how a clustering based on the neighourhood subset would look like. So, we make our clustering from two different perspectives:\n",
    "* I. The donation behaviour perspective\n",
    "* II. The neighbourhood perspective"
   ]
  },
  {
   "cell_type": "markdown",
   "metadata": {},
   "source": [
    "Furthermore, we will compare different clustering methods for each perspective:\n",
    "1. Hierarchical Clustering\n",
    "2. K Means Clustering\n",
    "3. Mean Shift Clustering\n",
    "4. DBSCAN\n",
    "5. Gaussian Mixture Model (GMM)\n",
    "\n",
    "We will compare them by using the R^2 for each."
   ]
  },
  {
   "cell_type": "markdown",
   "metadata": {},
   "source": [
    "# I. The donation behaviour perspective"
   ]
  },
  {
   "cell_type": "code",
   "execution_count": null,
   "metadata": {},
   "outputs": [],
   "source": [
    "metrics_without_neighbourhood"
   ]
  },
  {
   "cell_type": "markdown",
   "metadata": {},
   "source": [
    "## 1. Hierarchical Clustering"
   ]
  },
  {
   "cell_type": "code",
   "execution_count": null,
   "metadata": {},
   "outputs": [],
   "source": [
    "sample_20= metrics_without_neighbourhood.sample(frac=0.2, replace=False)"
   ]
  },
  {
   "cell_type": "code",
   "execution_count": null,
   "metadata": {},
   "outputs": [],
   "source": [
    "linkage = 'ward'\n",
    "distance = 'euclidean'\n",
    "hclust = AgglomerativeClustering(linkage=linkage, affinity=distance, distance_threshold=0, n_clusters=None)\n",
    "hclust.fit_predict(sample_20)"
   ]
  },
  {
   "cell_type": "code",
   "execution_count": null,
   "metadata": {},
   "outputs": [],
   "source": [
    "# Adapted from:\n",
    "# https://scikit-learn.org/stable/auto_examples/cluster/plot_agglomerative_dendrogram.html#sphx-glr-auto-examples-cluster-plot-agglomerative-dendrogram-py\n",
    "from scipy.cluster import hierarchy\n",
    "# create the counts of samples under each node (number of points being merged)\n",
    "counts = np.zeros(hclust.children_.shape[0])\n",
    "n_samples = len(hclust.labels_)\n",
    "\n",
    "# hclust.children_ contains the observation ids that are being merged together\n",
    "# At the i-th iteration, children[i][0] and children[i][1] are merged to form node n_samples + i\n",
    "for i, merge in enumerate(hclust.children_):\n",
    "    # track the number of observations in the current cluster being formed\n",
    "    current_count = 0\n",
    "    for child_idx in merge:\n",
    "        if child_idx < n_samples:\n",
    "            # If this is True, then we are merging an observation\n",
    "            current_count += 1  # leaf node\n",
    "        else:\n",
    "            # Otherwise, we are merging a previously formed cluster\n",
    "            current_count += counts[child_idx - n_samples]\n",
    "    counts[i] = current_count\n",
    "\n",
    "# the hclust.children_ is used to indicate the two points/clusters being merged (dendrogram's u-joins)\n",
    "# the hclust.distances_ indicates the distance between the two points/clusters (height of the u-joins)\n",
    "# the counts indicate the number of points being merged (dendrogram's x-axis)\n",
    "linkage_matrix = np.column_stack(\n",
    "    [hclust.children_, hclust.distances_, counts]\n",
    ").astype(float)\n",
    "\n",
    "# Plot the corresponding dendrogram\n",
    "sns.set()\n",
    "sns.set_style(\"whitegrid\")\n",
    "fig = plt.figure(figsize=(11,5))\n",
    "# The Dendrogram parameters need to be tuned\n",
    "y_threshold = 28\n",
    "link_cols=[]\n",
    "for i in range(15):\n",
    "    link_cols = link_cols + link_cols\n",
    "hierarchy.set_link_color_palette([\"cornflowerblue\", \"lightsteelblue\", \"steelblue\", \"skyblue\",\"cornflowerblue\", \"lightsteelblue\", \"steelblue\", \"skyblue\"])\n",
    "fig = dendrogram(linkage_matrix, truncate_mode='level', p=5, color_threshold=y_threshold, above_threshold_color='k') #link_color_func=lambda x: link_cols[x])\n",
    "#\n",
    "plt.hlines(y_threshold, 0, 1000, colors=\"b\", linestyles=\"dashed\")\n",
    "plt.title('', fontsize=21)\n",
    "plt.xlabel('Number of points in node (or index of point if no parenthesis)')\n",
    "plt.ylabel(f'{distance.title()} Distance', fontsize=13)\n",
    "\n",
    "sns.despine(right=True)\n",
    "#plt.savefig('Dendogram.png', dpi=1000)\n"
   ]
  },
  {
   "cell_type": "markdown",
   "metadata": {},
   "source": [
    "## 2. K Means Clustering"
   ]
  },
  {
   "cell_type": "code",
   "execution_count": null,
   "metadata": {},
   "outputs": [],
   "source": [
    "sns.set(rc={'figure.figsize':(8,6)})\n",
    "sns.set_style(\"whitegrid\")\n",
    "sse = {}\n",
    "for k in range(1, 20):\n",
    "    kmeans = KMeans(n_clusters=k, random_state=42)\n",
    "    kmeans.fit(metrics_without_neighbourhood)\n",
    "    sse[k] = kmeans.inertia_ # SSE to closest cluster centroid\n",
    "#plt.title('Elbow curve for the neighborhood perspective')\n",
    "plt.xlabel('k')\n",
    "plt.ylabel('SSE')\n",
    "fig = sns.pointplot(x=list(sse.keys()), y=list(sse.values()))\n",
    "sns.despine(right=True)\n",
    "plt.show()\n",
    "\n",
    "fig = fig.get_figure()\n",
    "#fig.savefig('Elbow.png', dpi=1000)"
   ]
  },
  {
   "cell_type": "markdown",
   "metadata": {},
   "source": [
    "while pd.DataFrame(metrics_without_neighbourhood.groupby(\"Cluster\").count().iloc[:,0]).rename(columns={\"RAMNTALL\":\"COUNT\"}).iloc[0,0] != 24286:\n",
    "    kmclust = KMeans(n_clusters=4, init='k-means++', n_init=15, random_state=1)\n",
    "    kmclust.fit(metrics_without_neighbourhood)\n",
    "    metrics_without_neighbourhood['Cluster'] = kmclust.labels_\n",
    "    metrics_without_neighbourhood_bn['Cluster'] = kmclust.labels_\n",
    "    print(pd.DataFrame(metrics_without_neighbourhood.groupby(\"Cluster\").count().iloc[:,0]).rename(columns={\"RAMNTALL\":\"COUNT\"}).iloc[0,0])\n"
   ]
  },
  {
   "cell_type": "code",
   "execution_count": null,
   "metadata": {},
   "outputs": [],
   "source": [
    "kmclust = KMeans(n_clusters=4, init='k-means++', n_init=15, random_state=1)\n",
    "kmclust.fit(metrics_without_neighbourhood)"
   ]
  },
  {
   "cell_type": "code",
   "execution_count": null,
   "metadata": {},
   "outputs": [],
   "source": [
    "metrics_without_neighbourhood['Cluster'] = kmclust.labels_\n",
    "metrics_without_neighbourhood_bn['Cluster'] = kmclust.labels_"
   ]
  },
  {
   "cell_type": "code",
   "execution_count": null,
   "metadata": {},
   "outputs": [],
   "source": [
    "#displaying the number of donors in each cluster\n",
    "pd.DataFrame(metrics_without_neighbourhood.groupby(\"Cluster\").count().iloc[:,0]).rename(columns={\"RAMNTALL\":\"COUNT\"})"
   ]
  },
  {
   "cell_type": "code",
   "execution_count": null,
   "metadata": {},
   "outputs": [],
   "source": [
    "metrics_without_neighbourhood.groupby(\"Cluster\").mean()"
   ]
  },
  {
   "cell_type": "code",
   "execution_count": null,
   "metadata": {},
   "outputs": [],
   "source": [
    "sns.set(rc={'figure.figsize':(15,10)})\n",
    "sns.set_style(\"whitegrid\")\n",
    "sns.set_palette(\"pastel\")\n",
    "\n",
    "df_nor_melt = pd.melt(metrics_without_neighbourhood.reset_index(),\n",
    "                      id_vars=[\"index\", 'Cluster'],\n",
    "                      value_vars=['NUMPROM',\n",
    " 'NUMPRM12',\n",
    " 'RAMNTALL',\n",
    " 'NGIFTALL',\n",
    " 'MINRAMNT',\n",
    " 'MINRDATE',\n",
    " 'MAXRAMNT',\n",
    " 'MAXRDATE',\n",
    " 'LASTGIFT',\n",
    " 'LASTDATE',\n",
    " 'FISTDATE',\n",
    " 'TIMELAG',\n",
    " 'AVGGIFT'],\n",
    "                      var_name='Attribute',\n",
    "                      value_name='Value')\n",
    "df_nor_melt.head()\n",
    "# Visualize it\n",
    "fig = sns.lineplot('Attribute', 'Value', hue='Cluster', data=df_nor_melt, palette = \"ch:start=.2,rot=-.3\")\n",
    "sns.despine(right=True)\n",
    "plt.legend(loc=\"upper right\", prop={'size': 15})\n",
    "fig = fig.get_figure()\n",
    "#fig.savefig('Variation.png', dpi=1000)"
   ]
  },
  {
   "cell_type": "code",
   "execution_count": null,
   "metadata": {},
   "outputs": [],
   "source": [
    "def get_ss(df):\n",
    "    ss = np.sum(df.var() * (df.count() - 1))\n",
    "    return ss  # return sum of sum of squares of each df variable\n",
    "\n",
    "sst = get_ss(metrics_without_neighbourhood.drop(columns=[\"Cluster\"]))  # get total sum of squares\n",
    "ssw_labels = metrics_without_neighbourhood.groupby(by='Cluster').apply(get_ss)  # compute ssw for each cluster labels\n",
    "ssb = sst - np.sum(ssw_labels)\n",
    "r2 = ssb / sst\n",
    "print(\"R^2 kmeans:\", r2)"
   ]
  },
  {
   "cell_type": "markdown",
   "metadata": {},
   "source": [
    "## 3. Mean Shift Clustering"
   ]
  },
  {
   "cell_type": "code",
   "execution_count": null,
   "metadata": {},
   "outputs": [],
   "source": [
    "#calculating the bandwidth\n",
    "bandwidth = estimate_bandwidth(sample_20, quantile=0.6, random_state=1, n_jobs=-1)\n",
    "bandwidth"
   ]
  },
  {
   "cell_type": "code",
   "execution_count": null,
   "metadata": {},
   "outputs": [],
   "source": [
    "#estimating the number of clusters\n",
    "ms = MeanShift(bandwidth=bandwidth,bin_seeding=True, n_jobs=4)\n",
    "ms_labels = ms.fit_predict(sample_20)\n",
    "\n",
    "ms_n_clusters = len(np.unique(ms_labels))\n",
    "print(\"Number of estimated clusters:\", ms_n_clusters)"
   ]
  },
  {
   "cell_type": "code",
   "execution_count": null,
   "metadata": {},
   "outputs": [],
   "source": [
    "mean_shift_result = pd.concat([sample_20, pd.Series(ms_labels, index=sample_20.index, name=\"Cluster\")], axis=1)\n",
    "mean_shift_result.head()"
   ]
  },
  {
   "cell_type": "code",
   "execution_count": null,
   "metadata": {},
   "outputs": [],
   "source": [
    "#displaying the number of donors in each cluster\n",
    "pd.DataFrame(mean_shift_result.groupby(\"Cluster\").count().iloc[:,0]).rename(columns={\"RAMNTALL\":\"COUNT\"})"
   ]
  },
  {
   "cell_type": "code",
   "execution_count": null,
   "metadata": {},
   "outputs": [],
   "source": [
    "sst = get_ss(sample_20)  # get total sum of squares\n",
    "ssw_labels = mean_shift_result.groupby(by='Cluster').apply(get_ss)  # compute ssw for each cluster labels\n",
    "ssb = sst - np.sum(ssw_labels)\n",
    "r2 = ssb / sst\n",
    "print(\"R^2 mean shift:\", r2)"
   ]
  },
  {
   "cell_type": "markdown",
   "metadata": {},
   "source": [
    "## 4. DBSCAN"
   ]
  },
  {
   "cell_type": "code",
   "execution_count": null,
   "metadata": {},
   "outputs": [],
   "source": [
    "neigh = NearestNeighbors(n_neighbors=26)\n",
    "neigh.fit(sample_20)\n",
    "distances, _ = neigh.kneighbors(sample_20)\n",
    "distances = np.sort(distances[:, -1])\n",
    "plt.plot(distances)\n",
    "plt.show()"
   ]
  },
  {
   "cell_type": "code",
   "execution_count": null,
   "metadata": {},
   "outputs": [],
   "source": [
    "dbscan = DBSCAN(eps=0.8, min_samples=26, n_jobs=4)\n",
    "dbscan_labels = dbscan.fit_predict(sample_20)\n",
    "\n",
    "dbscan_n_clusters = len(np.unique(dbscan_labels))\n",
    "print(\"Number of estimated clusters:\", dbscan_n_clusters)"
   ]
  },
  {
   "cell_type": "code",
   "execution_count": null,
   "metadata": {},
   "outputs": [],
   "source": [
    "dbscan_result = pd.concat([sample_20, pd.Series(dbscan_labels, index=sample_20.index, name=\"Cluster\")], axis=1)\n",
    "dbscan_result.head()"
   ]
  },
  {
   "cell_type": "code",
   "execution_count": null,
   "metadata": {},
   "outputs": [],
   "source": [
    "#displaying the number of donors in each cluster\n",
    "pd.DataFrame(dbscan_result.groupby(\"Cluster\").count().iloc[:,0]).rename(columns={\"RAMNTALL\":\"COUNT\"})"
   ]
  },
  {
   "cell_type": "code",
   "execution_count": null,
   "metadata": {},
   "outputs": [],
   "source": [
    "sst = get_ss(sample_20)  # get total sum of squares\n",
    "ssw_labels = dbscan_result.groupby(by='Cluster').apply(get_ss)  # compute ssw for each cluster labels\n",
    "ssb = sst - np.sum(ssw_labels)\n",
    "r2 = ssb / sst\n",
    "print(\"R^2 DBSCAN:\", r2)"
   ]
  },
  {
   "cell_type": "markdown",
   "metadata": {},
   "source": [
    "## 5. Gaussian Mixture Model (GMM)"
   ]
  },
  {
   "cell_type": "code",
   "execution_count": null,
   "metadata": {},
   "outputs": [],
   "source": [
    "metrics_without_neighbourhood_gmm = metrics_without_neighbourhood.drop(columns=[\"Cluster\"])"
   ]
  },
  {
   "cell_type": "code",
   "execution_count": null,
   "metadata": {},
   "outputs": [],
   "source": [
    "n_components = np.arange(1, 10)\n",
    "models = [GaussianMixture(n, covariance_type='full', n_init=10, random_state=1).fit(metrics_without_neighbourhood_gmm)\n",
    "          for n in n_components]\n",
    "\n",
    "bic_values = [m.bic(sample_20) for m in models]\n",
    "aic_values = [m.aic(sample_20) for m in models]\n",
    "fig = plt.plot(n_components, bic_values, label='BIC')\n",
    "plt.plot(n_components, aic_values, label='AIC')\n",
    "plt.legend(loc='best')\n",
    "plt.xlabel('n_components')\n",
    "plt.xticks(n_components)\n",
    "\n",
    "plt.show()"
   ]
  },
  {
   "cell_type": "code",
   "execution_count": null,
   "metadata": {},
   "outputs": [],
   "source": [
    "gmm = GaussianMixture(n_components=4, covariance_type='full', n_init=10, init_params='kmeans', random_state=1)\n",
    "gmm_labels = gmm.fit_predict(metrics_without_neighbourhood_gmm)"
   ]
  },
  {
   "cell_type": "code",
   "execution_count": null,
   "metadata": {},
   "outputs": [],
   "source": [
    "gmm_result = pd.concat([metrics_without_neighbourhood_gmm, pd.Series(gmm_labels, index=metrics_without_neighbourhood_gmm.index, name=\"Cluster\")], axis=1)\n",
    "gmm_result.groupby(\"Cluster\").mean()"
   ]
  },
  {
   "cell_type": "code",
   "execution_count": null,
   "metadata": {},
   "outputs": [],
   "source": [
    "#displaying the number of donors in each cluster\n",
    "pd.DataFrame(gmm_result.groupby(\"Cluster\").count().iloc[:,0]).rename(columns={\"RAMNTALL\":\"COUNT\"})"
   ]
  },
  {
   "cell_type": "code",
   "execution_count": null,
   "metadata": {},
   "outputs": [],
   "source": [
    "sst = get_ss(metrics_without_neighbourhood_gmm)  # get total sum of squares\n",
    "ssw_labels = gmm_result.groupby(by='Cluster').apply(get_ss)  # compute ssw for each cluster labels\n",
    "ssb = sst - np.sum(ssw_labels)\n",
    "r2 = ssb / sst\n",
    "print(\"R^2 GMM:\", r2)"
   ]
  },
  {
   "cell_type": "markdown",
   "metadata": {},
   "source": [
    "# II. The neighbourhood perspective"
   ]
  },
  {
   "cell_type": "markdown",
   "metadata": {},
   "source": [
    "## 1. Hierarchical Clustering"
   ]
  },
  {
   "cell_type": "code",
   "execution_count": null,
   "metadata": {},
   "outputs": [],
   "source": [
    "sample_20_ = pca_subset_neighbourhood_metric.sample(frac=0.2, replace=False)"
   ]
  },
  {
   "cell_type": "code",
   "execution_count": null,
   "metadata": {},
   "outputs": [],
   "source": [
    "linkage = 'ward'\n",
    "distance = 'euclidean'\n",
    "hclust = AgglomerativeClustering(linkage=linkage, affinity=distance, distance_threshold=0, n_clusters=None)\n",
    "hclust.fit_predict(sample_20_)"
   ]
  },
  {
   "cell_type": "code",
   "execution_count": null,
   "metadata": {},
   "outputs": [],
   "source": [
    "sns.set_style(\"whitegrid\")\n",
    "# Adapted from:\n",
    "# https://scikit-learn.org/stable/auto_examples/cluster/plot_agglomerative_dendrogram.html#sphx-glr-auto-examples-cluster-plot-agglomerative-dendrogram-py\n",
    "\n",
    "# create the counts of samples under each node (number of points being merged)\n",
    "counts = np.zeros(hclust.children_.shape[0])\n",
    "n_samples = len(hclust.labels_)\n",
    "\n",
    "# hclust.children_ contains the observation ids that are being merged together\n",
    "# At the i-th iteration, children[i][0] and children[i][1] are merged to form node n_samples + i\n",
    "for i, merge in enumerate(hclust.children_):\n",
    "    # track the number of observations in the current cluster being formed\n",
    "    current_count = 0\n",
    "    for child_idx in merge:\n",
    "        if child_idx < n_samples:\n",
    "            # If this is True, then we are merging an observation\n",
    "            current_count += 1  # leaf node\n",
    "        else:\n",
    "            # Otherwise, we are merging a previously formed cluster\n",
    "            current_count += counts[child_idx - n_samples]\n",
    "    counts[i] = current_count\n",
    "\n",
    "# the hclust.children_ is used to indicate the two points/clusters being merged (dendrogram's u-joins)\n",
    "# the hclust.distances_ indicates the distance between the two points/clusters (height of the u-joins)\n",
    "# the counts indicate the number of points being merged (dendrogram's x-axis)\n",
    "linkage_matrix = np.column_stack(\n",
    "    [hclust.children_, hclust.distances_, counts]\n",
    ").astype(float)\n",
    "\n",
    "# Plot the corresponding dendrogram\n",
    "sns.set()\n",
    "sns.set_style(\"whitegrid\")\n",
    "fig = plt.figure(figsize=(11,5))\n",
    "# The Dendrogram parameters need to be tuned\n",
    "y_threshold = 85\n",
    "dendrogram(linkage_matrix, truncate_mode='level', p=5, color_threshold=y_threshold, above_threshold_color='k')\n",
    "plt.hlines(y_threshold, 0, 1000, colors=\"r\", linestyles=\"dashed\")\n",
    "#plt.title(f'Hierarchical Clustering - {linkage.title()}\\'s Dendrogram', fontsize=21)\n",
    "plt.xlabel('Number of points in node (or index of point if no parenthesis)')\n",
    "plt.ylabel(f'{distance.title()} Distance', fontsize=13)\n",
    "sns.despine(right=True)\n",
    "plt.show()\n",
    "#fig.savefig('Dendogram2.png', dpi=1000)\n"
   ]
  },
  {
   "cell_type": "markdown",
   "metadata": {},
   "source": [
    "## 2. K Means Clustering"
   ]
  },
  {
   "cell_type": "code",
   "execution_count": null,
   "metadata": {},
   "outputs": [],
   "source": [
    "pca_subset_neighbourhood_metric.head()"
   ]
  },
  {
   "cell_type": "code",
   "execution_count": null,
   "metadata": {},
   "outputs": [],
   "source": [
    "sns.set_style(\"whitegrid\")\n",
    "sse = {}\n",
    "for k in range(1, 20):\n",
    "    kmeans = KMeans(n_clusters=k, random_state=42)\n",
    "    kmeans.fit(pca_subset_neighbourhood_metric)\n",
    "    sse[k] = kmeans.inertia_ # SSE to closest cluster centroid\n",
    "plt.title('The Elbow Method')\n",
    "plt.xlabel('k')\n",
    "plt.ylabel('SSE')\n",
    "fig = sns.pointplot(x=list(sse.keys()), y=list(sse.values()))\n",
    "plt.show()\n",
    "sns.despine(right=True)\n",
    "\n",
    "fig = fig.get_figure()\n",
    "#fig.savefig('Elbow.png', dpi=1000)"
   ]
  },
  {
   "cell_type": "code",
   "execution_count": null,
   "metadata": {},
   "outputs": [],
   "source": [
    "kmnclust = KMeans(n_clusters=4, init='k-means++', n_init=15, random_state=1)\n",
    "kmnclust.fit(pca_subset_neighbourhood_metric)"
   ]
  },
  {
   "cell_type": "code",
   "execution_count": null,
   "metadata": {},
   "outputs": [],
   "source": [
    "pca_subset_neighbourhood_metric['Cluster'] = kmnclust.labels_"
   ]
  },
  {
   "cell_type": "code",
   "execution_count": null,
   "metadata": {},
   "outputs": [],
   "source": [
    "#displaying the number of donors in each cluster\n",
    "pd.DataFrame(pca_subset_neighbourhood_metric.groupby(\"Cluster\").count().iloc[:,0]).rename(columns={\"PC0_Neighbourhood\":\"COUNT\"})"
   ]
  },
  {
   "cell_type": "code",
   "execution_count": null,
   "metadata": {},
   "outputs": [],
   "source": [
    "pca_subset_neighbourhood_metric.groupby(\"Cluster\").mean()"
   ]
  },
  {
   "cell_type": "code",
   "execution_count": null,
   "metadata": {},
   "outputs": [],
   "source": [
    "sns.set(rc={'figure.figsize':(15,10)})\n",
    "sns.set_style(\"whitegrid\")\n",
    "sns.set_palette(\"pastel\")\n",
    "\n",
    "df_nor_melt = pd.melt(pca_subset_neighbourhood_metric.reset_index(),\n",
    "                      id_vars=[\"index\", 'Cluster'],\n",
    "                      value_vars=['PC0_Neighbourhood',\n",
    " 'PC1_Neighbourhood',\n",
    " 'PC2_Neighbourhood',\n",
    " 'PC3_Neighbourhood',\n",
    " 'PC4_Neighbourhood',\n",
    " 'PC5_Neighbourhood',\n",
    " 'PC6_Neighbourhood'],\n",
    "                      var_name='Attribute',\n",
    "                      value_name='Value')\n",
    "df_nor_melt.head()\n",
    "# Visualize it\n",
    "fig = sns.lineplot('Attribute', 'Value', hue='Cluster', data=df_nor_melt, palette = \"ch:start=.2,rot=-.3\")\n",
    "sns.despine(right=True)\n",
    "plt.legend(loc=\"lower right\", prop={'size': 15})\n",
    "\n",
    "fig = fig.get_figure()\n",
    "#fig.savefig('NH7.png', dpi=1000)"
   ]
  },
  {
   "cell_type": "code",
   "execution_count": null,
   "metadata": {},
   "outputs": [],
   "source": [
    "sns.set(rc={'figure.figsize':(5.5,6)})"
   ]
  },
  {
   "cell_type": "code",
   "execution_count": null,
   "metadata": {},
   "outputs": [],
   "source": [
    "sst = get_ss(pca_subset_neighbourhood_metric.drop(columns=[\"Cluster\"]))  # get total sum of squares\n",
    "ssw_labels = pca_subset_neighbourhood_metric.groupby(by='Cluster').apply(get_ss)  # compute ssw for each cluster labels\n",
    "ssb = sst - np.sum(ssw_labels)\n",
    "r2 = ssb / sst\n",
    "print(\"R^2 kmeans:\", r2)"
   ]
  },
  {
   "cell_type": "markdown",
   "metadata": {},
   "source": [
    "## 3. Mean Shift Clustering"
   ]
  },
  {
   "cell_type": "code",
   "execution_count": null,
   "metadata": {},
   "outputs": [],
   "source": [
    "pca_subset_neighbourhood_metric = pca_subset_neighbourhood_metric.drop(columns=[\"Cluster\"])"
   ]
  },
  {
   "cell_type": "code",
   "execution_count": null,
   "metadata": {},
   "outputs": [],
   "source": [
    "#calculating the bandwidth\n",
    "bandwidth = estimate_bandwidth(sample_20_, quantile=0.6, random_state=1, n_jobs=-1)\n",
    "bandwidth"
   ]
  },
  {
   "cell_type": "code",
   "execution_count": null,
   "metadata": {},
   "outputs": [],
   "source": [
    "#estimating the number of clusters\n",
    "ms = MeanShift(bandwidth=bandwidth,bin_seeding=True, n_jobs=4)\n",
    "ms_labels = ms.fit_predict(sample_20_)\n",
    "\n",
    "ms_n_clusters = len(np.unique(ms_labels))\n",
    "print(\"Number of estimated clusters:\", ms_n_clusters)"
   ]
  },
  {
   "cell_type": "code",
   "execution_count": null,
   "metadata": {},
   "outputs": [],
   "source": [
    "mean_shift_result_n = pd.concat([sample_20_, pd.Series(ms_labels, index=sample_20_.index, name=\"Cluster\")], axis=1)\n",
    "mean_shift_result_n.head()"
   ]
  },
  {
   "cell_type": "code",
   "execution_count": null,
   "metadata": {},
   "outputs": [],
   "source": [
    "#displaying the number of donors in each cluster\n",
    "pd.DataFrame(mean_shift_result_n.groupby(\"Cluster\").count().iloc[:,0]).rename(columns={\"RAMNTALL\":\"COUNT\"})"
   ]
  },
  {
   "cell_type": "code",
   "execution_count": null,
   "metadata": {},
   "outputs": [],
   "source": [
    "sst = get_ss(sample_20_)  # get total sum of squares\n",
    "ssw_labels = mean_shift_result_n.groupby(by='Cluster').apply(get_ss)  # compute ssw for each cluster labels\n",
    "ssb = sst - np.sum(ssw_labels)\n",
    "r2 = ssb / sst\n",
    "print(\"R^2 mean shift:\", r2)"
   ]
  },
  {
   "cell_type": "markdown",
   "metadata": {},
   "source": [
    "## 4. DBSCAN"
   ]
  },
  {
   "cell_type": "code",
   "execution_count": null,
   "metadata": {},
   "outputs": [],
   "source": [
    "sns.set_style(\"whitegrid\")\n",
    "neigh = NearestNeighbors(n_neighbors=14)\n",
    "neigh.fit(sample_20_)\n",
    "distances, _ = neigh.kneighbors(sample_20_)\n",
    "distances = np.sort(distances[:, -1])\n",
    "plt.plot(distances)\n",
    "plt.show()"
   ]
  },
  {
   "cell_type": "code",
   "execution_count": null,
   "metadata": {},
   "outputs": [],
   "source": [
    "dbscan = DBSCAN(eps=1.0, min_samples=14, n_jobs=4)\n",
    "dbscan_labels = dbscan.fit_predict(sample_20_)\n",
    "\n",
    "dbscan_n_clusters = len(np.unique(dbscan_labels))\n",
    "print(\"Number of estimated clusters:\", dbscan_n_clusters)"
   ]
  },
  {
   "cell_type": "code",
   "execution_count": null,
   "metadata": {},
   "outputs": [],
   "source": [
    "dbscan_result_n = pd.concat([sample_20_, pd.Series(dbscan_labels, index=sample_20_.index, name=\"Cluster\")], axis=1)\n",
    "dbscan_result_n.head()"
   ]
  },
  {
   "cell_type": "code",
   "execution_count": null,
   "metadata": {},
   "outputs": [],
   "source": [
    "#displaying the number of donors in each cluster\n",
    "pd.DataFrame(dbscan_result_n.groupby(\"Cluster\").count().iloc[:,0]).rename(columns={\"RAMNTALL\":\"COUNT\"})"
   ]
  },
  {
   "cell_type": "code",
   "execution_count": null,
   "metadata": {},
   "outputs": [],
   "source": [
    "sst = get_ss(sample_20_)  # get total sum of squares\n",
    "ssw_labels = dbscan_result_n.groupby(by='Cluster').apply(get_ss)  # compute ssw for each cluster labels\n",
    "ssb = sst - np.sum(ssw_labels)\n",
    "r2 = ssb / sst\n",
    "print(\"R^2 DBSCAN:\", r2)"
   ]
  },
  {
   "cell_type": "markdown",
   "metadata": {},
   "source": [
    "## 5. Gaussian Mixture Model (GMM)"
   ]
  },
  {
   "cell_type": "code",
   "execution_count": null,
   "metadata": {},
   "outputs": [],
   "source": [
    "pca_subset_neighbourhood_metric_gmm = pca_subset_neighbourhood_metric"
   ]
  },
  {
   "cell_type": "code",
   "execution_count": null,
   "metadata": {},
   "outputs": [],
   "source": [
    "sns.set_style(\"whitegrid\")\n",
    "n_components = np.arange(1, 10)\n",
    "models = [GaussianMixture(n, covariance_type='full', n_init=10, random_state=1).fit(pca_subset_neighbourhood_metric_gmm)\n",
    "          for n in n_components]\n",
    "\n",
    "bic_values = [m.bic(sample_20_) for m in models]\n",
    "aic_values = [m.aic(sample_20_) for m in models]\n",
    "plt.plot(n_components, bic_values, label='BIC')\n",
    "plt.plot(n_components, aic_values, label='AIC')\n",
    "plt.legend(loc='best')\n",
    "plt.xlabel('n_components')\n",
    "plt.xticks(n_components)\n",
    "plt.show()"
   ]
  },
  {
   "cell_type": "code",
   "execution_count": null,
   "metadata": {},
   "outputs": [],
   "source": [
    "gmm = GaussianMixture(n_components=5, covariance_type='full', n_init=10, init_params='kmeans', random_state=1)\n",
    "gmm_labels = gmm.fit_predict(pca_subset_neighbourhood_metric_gmm)"
   ]
  },
  {
   "cell_type": "code",
   "execution_count": null,
   "metadata": {},
   "outputs": [],
   "source": [
    "gmm_result_n = pd.concat([pca_subset_neighbourhood_metric_gmm, pd.Series(gmm_labels, index=pca_subset_neighbourhood_metric_gmm.index, name=\"Cluster\")], axis=1)\n",
    "gmm_result_n.groupby(\"Cluster\").mean()"
   ]
  },
  {
   "cell_type": "code",
   "execution_count": null,
   "metadata": {},
   "outputs": [],
   "source": [
    "#displaying the number of donors in each cluster\n",
    "pd.DataFrame(gmm_result_n.groupby(\"Cluster\").count().iloc[:,0]).rename(columns={\"RAMNTALL\":\"COUNT\"})"
   ]
  },
  {
   "cell_type": "code",
   "execution_count": null,
   "metadata": {},
   "outputs": [],
   "source": [
    "sst = get_ss(pca_subset_neighbourhood_metric_gmm)  # get total sum of squares\n",
    "ssw_labels = gmm_result_n.groupby(by='Cluster').apply(get_ss)  # compute ssw for each cluster labels\n",
    "ssb = sst - np.sum(ssw_labels)\n",
    "r2 = ssb / sst\n",
    "print(\"R^2 GMM:\", r2)"
   ]
  },
  {
   "cell_type": "code",
   "execution_count": null,
   "metadata": {},
   "outputs": [],
   "source": []
  },
  {
   "cell_type": "code",
   "execution_count": null,
   "metadata": {},
   "outputs": [],
   "source": []
  },
  {
   "cell_type": "code",
   "execution_count": null,
   "metadata": {},
   "outputs": [],
   "source": []
  },
  {
   "cell_type": "markdown",
   "metadata": {},
   "source": [
    "# Preparing the categorical features for the analysis"
   ]
  },
  {
   "cell_type": "markdown",
   "metadata": {},
   "source": [
    "In the following, we prepare the categorical features left in the subset for analysation purposes, by encoding them."
   ]
  },
  {
   "cell_type": "markdown",
   "metadata": {},
   "source": [
    "### subset: Neighbourhood"
   ]
  },
  {
   "cell_type": "code",
   "execution_count": null,
   "metadata": {},
   "outputs": [],
   "source": [
    "#this subset is already good to go\n",
    "subset_neighbourhood_metric.head()"
   ]
  },
  {
   "cell_type": "markdown",
   "metadata": {},
   "source": [
    "### subset: demographics"
   ]
  },
  {
   "cell_type": "code",
   "execution_count": null,
   "metadata": {},
   "outputs": [],
   "source": [
    "subset_socio_demographics.head()"
   ]
  },
  {
   "cell_type": "code",
   "execution_count": null,
   "metadata": {},
   "outputs": [],
   "source": [
    "#checking for nans \n",
    "for element in subset_socio_demographics.columns.tolist():\n",
    "    if len(subset_socio_demographics[element].dropna()) != len(subset_socio_demographics):\n",
    "        print(element, np.round(100 - np.round(len(subset_socio_demographics[element].dropna())/len(subset_socio_demographics), 4)*100,4))"
   ]
  },
  {
   "cell_type": "markdown",
   "metadata": {},
   "source": [
    "As we have too many nan values in the WEALTH1 and WEALTH2 columns, they will not provide quality information. We can drop them:"
   ]
  },
  {
   "cell_type": "code",
   "execution_count": null,
   "metadata": {},
   "outputs": [],
   "source": [
    "#subset_socio_demographics = subset_socio_demographics.drop(columns = [\"WEALTH1\", \"WEALTH2\"])"
   ]
  },
  {
   "cell_type": "code",
   "execution_count": null,
   "metadata": {},
   "outputs": [],
   "source": [
    "#checking for the amount of variation\n",
    "for element in subset_socio_demographics.columns.tolist():\n",
    "    if subset_socio_demographics[element].value_counts().iloc[0] != len(subset_socio_demographics):\n",
    "        print(element, subset_socio_demographics[element].value_counts().iloc[0]/len(subset_socio_demographics))"
   ]
  },
  {
   "cell_type": "markdown",
   "metadata": {},
   "source": [
    "So we drop the following columns due to a low amount of variations:"
   ]
  },
  {
   "cell_type": "code",
   "execution_count": null,
   "metadata": {},
   "outputs": [],
   "source": [
    "try:\n",
    "\n",
    "    subset_socio_demographics = subset_socio_demographics.drop(columns = [\"PVASTATE\", \"CHILD03\", \"CHILD07\", \"CHILD12\", \"CHILD18\"])\n",
    "except:\n",
    "    0"
   ]
  },
  {
   "cell_type": "code",
   "execution_count": null,
   "metadata": {},
   "outputs": [],
   "source": [
    "# the following columns get dropped due to a lack of marketing relevant information\n",
    "try:\n",
    "    subset_socio_demographics = subset_socio_demographics.drop(columns = [\"GEOCODE\", \"GEOCODE2\", \"ZIP\"])\n",
    "except:\n",
    "    0"
   ]
  },
  {
   "cell_type": "code",
   "execution_count": null,
   "metadata": {},
   "outputs": [],
   "source": [
    "#before encoding, we should transform the categorical column TCODE into string format\n",
    "subset_socio_demographics[\"TCODE\"] = subset_socio_demographics[\"TCODE\"].apply(str)"
   ]
  },
  {
   "cell_type": "code",
   "execution_count": null,
   "metadata": {},
   "outputs": [],
   "source": [
    "subset_socio_demographics.head()"
   ]
  },
  {
   "cell_type": "markdown",
   "metadata": {},
   "source": [
    "Now, we encode all the categorical variables using one hot encoding:"
   ]
  },
  {
   "cell_type": "code",
   "execution_count": null,
   "metadata": {},
   "outputs": [],
   "source": [
    "subset_socio_demographics_encoded = pd.get_dummies(subset_socio_demographics)"
   ]
  },
  {
   "cell_type": "code",
   "execution_count": null,
   "metadata": {},
   "outputs": [],
   "source": [
    "#assigning the clusters to each donors\n",
    "subset_socio_demographics['Cluster'] = kmclust.labels_\n",
    "subset_socio_demographics_encoded['Cluster'] = kmclust.labels_"
   ]
  },
  {
   "cell_type": "markdown",
   "metadata": {},
   "source": [
    "### subset: Responses to other types of mail order offers "
   ]
  },
  {
   "cell_type": "code",
   "execution_count": null,
   "metadata": {},
   "outputs": [],
   "source": [
    "#there is only the column DATASRC left in this subset \n",
    "subset_responses_to_others = pd.get_dummies(subset_responses_to_others)\n",
    "subset_responses_to_others.head()"
   ]
  },
  {
   "cell_type": "markdown",
   "metadata": {},
   "source": [
    "### subset: Donors interests"
   ]
  },
  {
   "cell_type": "code",
   "execution_count": null,
   "metadata": {},
   "outputs": [],
   "source": [
    "#this subset contains the information about the interests of the donor\n",
    "subset_interests_encoded = pd.get_dummies(subset_interests)\n",
    "subset_interests_encoded.head()"
   ]
  },
  {
   "cell_type": "markdown",
   "metadata": {},
   "source": [
    "### subset: Overall donation data"
   ]
  },
  {
   "cell_type": "code",
   "execution_count": null,
   "metadata": {},
   "outputs": [],
   "source": [
    "#this subset was the core of our clustering and is already in a good form\n",
    "subset_overall_donation_data.head()"
   ]
  },
  {
   "cell_type": "markdown",
   "metadata": {},
   "source": [
    "### subset: Specific Promotions"
   ]
  },
  {
   "cell_type": "code",
   "execution_count": null,
   "metadata": {},
   "outputs": [],
   "source": [
    "#the subset with the remaining information about the specfic promotions\n",
    "subset_specific_promotions_encoded = pd.get_dummies(subset_specific_promotions)\n",
    "subset_specific_promotions_encoded.head()"
   ]
  },
  {
   "cell_type": "markdown",
   "metadata": {},
   "source": [
    "### subset: Major Donor Matrix"
   ]
  },
  {
   "cell_type": "code",
   "execution_count": null,
   "metadata": {},
   "outputs": [],
   "source": [
    "#information about the major donors\n",
    "subset_mdmaud_encoded = pd.get_dummies(subset_mdmaud)\n",
    "subset_mdmaud_encoded.head()"
   ]
  },
  {
   "cell_type": "markdown",
   "metadata": {},
   "source": [
    "### subset: Information about the communication with the donors"
   ]
  },
  {
   "cell_type": "code",
   "execution_count": null,
   "metadata": {},
   "outputs": [],
   "source": [
    "subset_communication = subset_communication.drop(columns=[\"OSOURCE\"])"
   ]
  },
  {
   "cell_type": "code",
   "execution_count": null,
   "metadata": {},
   "outputs": [],
   "source": [
    "#information about the communication with the donors\n",
    "subset_communication_encoded = pd.get_dummies(subset_communication)\n",
    "subset_communication_encoded.head()"
   ]
  },
  {
   "cell_type": "markdown",
   "metadata": {},
   "source": [
    "# Final clusters: The donation behaviour perspective"
   ]
  },
  {
   "cell_type": "markdown",
   "metadata": {},
   "source": [
    "Let's have a deeper look on our clusters. We will display the major differences throuout all subsets between the clusters:"
   ]
  },
  {
   "cell_type": "code",
   "execution_count": null,
   "metadata": {},
   "outputs": [],
   "source": [
    "#displaying the number of donors in each cluster\n",
    "pd.DataFrame(metrics_without_neighbourhood_bn.groupby(\"Cluster\").count().iloc[:,0]).rename(columns={\"AGE\":\"COUNT\"})"
   ]
  },
  {
   "cell_type": "code",
   "execution_count": null,
   "metadata": {},
   "outputs": [],
   "source": [
    "cluster_means = metrics_without_neighbourhood_bn.groupby(\"Cluster\").mean()\n",
    "cluster_means"
   ]
  },
  {
   "cell_type": "code",
   "execution_count": null,
   "metadata": {},
   "outputs": [],
   "source": [
    "cluster_means = cluster_means.append(metrics_without_neighbourhood_bn.mean(), ignore_index=True)\n",
    "cluster_means[\"Cluster\"] = [\"Cluster 0\", \"Cluster 1\", \"Cluster 2\", \"Cluster 3\", \"Average\"]"
   ]
  },
  {
   "cell_type": "code",
   "execution_count": null,
   "metadata": {},
   "outputs": [],
   "source": [
    "top_13_co[\"Cluster\"] = kmclust.labels_\n",
    "def plot_feature(df, col_name, isContinuous):\n",
    "    \n",
    "    f, (ax1, ax2) = plt.subplots(nrows=1, ncols=2, figsize=(12,3), dpi=90)\n",
    "    \n",
    "    # Plot without loan status\n",
    "    if isContinuous:\n",
    "        sns.distplot(df.loc[df[col_name].notnull(), col_name], kde=False, ax=ax1)\n",
    "    else:\n",
    "        sns.countplot(df[col_name], order=sorted(df[col_name].unique()), color='#5975A4', saturation=1, ax=ax1)\n",
    "    ax1.set_xlabel(col_name)\n",
    "    ax1.set_ylabel('Count')\n",
    "    ax1.set_title(col_name + \" disribution\")\n",
    "    plt.xticks(rotation = 90)\n",
    "\n",
    "    # Plot with loan status\n",
    "    if isContinuous:\n",
    "        sns.boxplot(y=col_name, x='Cluster', data=df, ax=ax2, palette=\"Blues\")\n",
    "        ax2.set_ylabel('')\n",
    "        ax2.set_title(col_name + ' by cluster')\n",
    "        plt.xticks(rotation = 0)\n",
    "    else:\n",
    "        data = df.groupby(col_name)['Income'].value_counts(normalize=True).to_frame('proportion').reset_index()        \n",
    "        sns.barplot(x = col_name, y = 'proportion', hue= \"Income\", data = data, saturation=1, ax=ax2)\n",
    "        ax2.set_ylabel('Income fraction')\n",
    "        ax2.set_title('Income status')\n",
    "        plt.xticks(rotation = 90)\n",
    "    ax2.set_xlabel(col_name)\n",
    "    \n",
    "    plt.tight_layout()\n",
    "    sns.despine(right=True)\n",
    "    figure = ax1.get_figure()    \n",
    "    #figure.savefig(col_name+\"clust\", dpi=1000)\n",
    "    \n"
   ]
  },
  {
   "cell_type": "code",
   "execution_count": null,
   "metadata": {},
   "outputs": [],
   "source": [
    "sns.set(rc={'figure.figsize':(5.5,6)})\n",
    "sns.set_style(\"whitegrid\")\n",
    "sns.set_palette(\"pastel\")\n",
    "\n",
    "fig = sns.barplot(x=\"Cluster\", y = \"AGE\", data=cluster_means.sort_values(\"AGE\", ascending=False), palette=[\"cornflowerblue\" if x!='Average' else 'navy' for x in cluster_means.sort_values(\"AGE\", ascending=False).Cluster])\n",
    "\n",
    "sns.despine(right=True)\n",
    "fig = fig.get_figure()\n",
    "#fig.savefig(\"AGE.png\", dpi=1000)\n",
    "\n"
   ]
  },
  {
   "cell_type": "code",
   "execution_count": null,
   "metadata": {},
   "outputs": [],
   "source": [
    "sns.barplot(x=\"Cluster\", y = \"NUMPROM\", data=cluster_means.sort_values(\"NUMPROM\", ascending=False), palette=[\"cornflowerblue\" if x!='Average' else 'navy' for x in cluster_means.sort_values(\"NUMPROM\", ascending=False).Cluster]).set(\n",
    "    xlabel='')\n",
    "sns.despine(right=True)\n"
   ]
  },
  {
   "cell_type": "code",
   "execution_count": null,
   "metadata": {},
   "outputs": [],
   "source": [
    "plot_feature(top_13_co, 'NUMPROM', True)"
   ]
  },
  {
   "cell_type": "code",
   "execution_count": null,
   "metadata": {},
   "outputs": [],
   "source": [
    "sns.barplot(x=\"Cluster\", y = \"NUMPRM12\", data=cluster_means.sort_values(\"NUMPRM12\", ascending=False), palette=[\"cornflowerblue\" if x!='Average' else 'navy' for x in cluster_means.sort_values(\"NUMPRM12\", ascending=False).Cluster]).set(\n",
    "    xlabel='')\n",
    "sns.despine(right=True)"
   ]
  },
  {
   "cell_type": "code",
   "execution_count": null,
   "metadata": {},
   "outputs": [],
   "source": [
    "plot_feature(top_13_co, 'NUMPRM12', True)"
   ]
  },
  {
   "cell_type": "code",
   "execution_count": null,
   "metadata": {},
   "outputs": [],
   "source": [
    "sns.barplot(x=\"Cluster\", y = \"RAMNTALL\", data=cluster_means.sort_values(\"RAMNTALL\", ascending=False), palette=[\"cornflowerblue\" if x!='Average' else 'navy' for x in cluster_means.sort_values(\"RAMNTALL\", ascending=False).Cluster]).set(\n",
    "    xlabel='')\n",
    "sns.despine(right=True)"
   ]
  },
  {
   "cell_type": "code",
   "execution_count": null,
   "metadata": {},
   "outputs": [],
   "source": [
    "plot_feature(top_13_co, 'RAMNTALL', True)"
   ]
  },
  {
   "cell_type": "code",
   "execution_count": null,
   "metadata": {},
   "outputs": [],
   "source": [
    "sns.barplot(x=\"Cluster\", y = \"NGIFTALL\", data=cluster_means.sort_values(\"NGIFTALL\", ascending=False), palette=[\"cornflowerblue\" if x!='Average' else 'navy' for x in cluster_means.sort_values(\"NGIFTALL\", ascending=False).Cluster]).set(\n",
    "    xlabel='')\n",
    "sns.despine(right=True)"
   ]
  },
  {
   "cell_type": "code",
   "execution_count": null,
   "metadata": {},
   "outputs": [],
   "source": [
    "plot_feature(top_13_co, 'NGIFTALL', True)\n"
   ]
  },
  {
   "cell_type": "code",
   "execution_count": null,
   "metadata": {},
   "outputs": [],
   "source": [
    "sns.barplot(x=\"Cluster\", y = \"MINRAMNT\", data=cluster_means.sort_values(\"MINRAMNT\", ascending=False), palette=[\"cornflowerblue\" if x!='Average' else 'navy' for x in cluster_means.sort_values(\"MINRAMNT\", ascending=False).Cluster]).set(\n",
    "    xlabel='')\n",
    "sns.despine(right=True)"
   ]
  },
  {
   "cell_type": "code",
   "execution_count": null,
   "metadata": {},
   "outputs": [],
   "source": [
    "plot_feature(top_13_co, 'MINRAMNT', True)"
   ]
  },
  {
   "cell_type": "code",
   "execution_count": null,
   "metadata": {},
   "outputs": [],
   "source": [
    "sns.barplot(x=\"Cluster\", y = \"MAXRAMNT\", data=cluster_means.sort_values(\"MAXRAMNT\", ascending=False), palette=[\"cornflowerblue\" if x!='Average' else 'navy' for x in cluster_means.sort_values(\"MAXRAMNT\", ascending=False).Cluster]).set(\n",
    "    xlabel='')\n",
    "sns.despine(right=True)"
   ]
  },
  {
   "cell_type": "code",
   "execution_count": null,
   "metadata": {},
   "outputs": [],
   "source": [
    "plot_feature(top_13_co, 'MAXRAMNT', True)"
   ]
  },
  {
   "cell_type": "code",
   "execution_count": null,
   "metadata": {},
   "outputs": [],
   "source": [
    "sns.barplot(x=\"Cluster\", y = \"AVGGIFT\", data=cluster_means.sort_values(\"AVGGIFT\", ascending=False), palette=[\"cornflowerblue\" if x!='Average' else 'navy' for x in cluster_means.sort_values(\"AVGGIFT\", ascending=False).Cluster]).set(\n",
    "    xlabel='')\n",
    "sns.despine(right=True)"
   ]
  },
  {
   "cell_type": "code",
   "execution_count": null,
   "metadata": {},
   "outputs": [],
   "source": [
    "plot_feature(top_13_co, 'AVGGIFT', True)"
   ]
  },
  {
   "cell_type": "code",
   "execution_count": null,
   "metadata": {},
   "outputs": [],
   "source": [
    "sns.barplot(x=\"Cluster\", y = \"LASTGIFT\", data=cluster_means.sort_values(\"LASTGIFT\", ascending=False), palette=[\"cornflowerblue\" if x!='Average' else 'navy' for x in cluster_means.sort_values(\"LASTGIFT\", ascending=False).Cluster]).set(\n",
    "    xlabel='')\n",
    "sns.despine(right=True)"
   ]
  },
  {
   "cell_type": "code",
   "execution_count": null,
   "metadata": {},
   "outputs": [],
   "source": [
    "plot_feature(top_13_co, 'LASTGIFT', True)"
   ]
  },
  {
   "cell_type": "code",
   "execution_count": null,
   "metadata": {},
   "outputs": [],
   "source": [
    "sns.barplot(x=\"Cluster\", y = \"LASTDATE\", data=cluster_means.sort_values(\"LASTDATE\", ascending=False), palette=[\"cornflowerblue\" if x!='Average' else 'navy' for x in cluster_means.sort_values(\"LASTDATE\", ascending=False).Cluster]).set(\n",
    "    xlabel='')\n",
    "sns.despine(right=True)"
   ]
  },
  {
   "cell_type": "code",
   "execution_count": null,
   "metadata": {},
   "outputs": [],
   "source": [
    "plot_feature(top_13_co, 'LASTDATE', True)"
   ]
  },
  {
   "cell_type": "code",
   "execution_count": null,
   "metadata": {},
   "outputs": [],
   "source": [
    "sns.barplot(x=\"Cluster\", y = \"TIMELAG\", data=cluster_means.sort_values(\"TIMELAG\", ascending=False), palette=[\"cornflowerblue\" if x!='Average' else 'navy' for x in cluster_means.sort_values(\"TIMELAG\", ascending=False).Cluster]).set(\n",
    "    xlabel='')\n",
    "sns.despine(right=True)"
   ]
  },
  {
   "cell_type": "code",
   "execution_count": null,
   "metadata": {},
   "outputs": [],
   "source": [
    "plot_feature(top_13_co, 'NUMPROM', True)"
   ]
  },
  {
   "cell_type": "code",
   "execution_count": null,
   "metadata": {},
   "outputs": [],
   "source": [
    "plot_feature(top_13_co, 'FISTDATE', True)"
   ]
  },
  {
   "cell_type": "markdown",
   "metadata": {},
   "source": [
    "### subset: Neighbourhood"
   ]
  },
  {
   "cell_type": "code",
   "execution_count": null,
   "metadata": {},
   "outputs": [],
   "source": [
    "checking_for_deviation = abs(pd.concat([metrics_without_neighbourhood_bn,subset_neighbourhood], axis=1).groupby(\"Cluster\").mean().pct_change()).sum() > 0.8"
   ]
  },
  {
   "cell_type": "code",
   "execution_count": null,
   "metadata": {},
   "outputs": [],
   "source": [
    "checking_for_deviation = checking_for_deviation[checking_for_deviation==True]"
   ]
  },
  {
   "cell_type": "code",
   "execution_count": null,
   "metadata": {},
   "outputs": [],
   "source": [
    "neighbourhood_analysis = pd.concat([metrics_without_neighbourhood_bn,subset_neighbourhood], axis=1).groupby(\"Cluster\").mean()[checking_for_deviation.index.tolist()]"
   ]
  },
  {
   "cell_type": "code",
   "execution_count": null,
   "metadata": {},
   "outputs": [],
   "source": [
    "neighbourhood_analysis = neighbourhood_analysis.iloc[:,10:]"
   ]
  },
  {
   "cell_type": "code",
   "execution_count": null,
   "metadata": {},
   "outputs": [],
   "source": [
    "neighbourhood_analysis = neighbourhood_analysis.append(subset_neighbourhood[neighbourhood_analysis.columns.tolist()].mean(), ignore_index=True)\n",
    "neighbourhood_analysis"
   ]
  },
  {
   "cell_type": "code",
   "execution_count": null,
   "metadata": {},
   "outputs": [],
   "source": [
    "neighbourhood_analysis[\"Cluster\"] = [\"Cluster 0\", \"Cluster 1\", \"Cluster 2\", \"Cluster 3\", \"Average\"]"
   ]
  },
  {
   "cell_type": "code",
   "execution_count": null,
   "metadata": {},
   "outputs": [],
   "source": [
    "neighbourhood_analysis"
   ]
  },
  {
   "cell_type": "code",
   "execution_count": null,
   "metadata": {},
   "outputs": [],
   "source": [
    "sns.barplot(x=\"Cluster\", y = \"ETH7\", data=neighbourhood_analysis.sort_values(\"ETH7\", ascending=False), palette=[\"cornflowerblue\" if x!='Average' else 'navy' for x in neighbourhood_analysis.sort_values(\"ETH7\", ascending=False).Cluster]).set(\n",
    "    xlabel='',ylabel=\"Percent Japanese\")\n",
    "sns.despine(right=True)"
   ]
  },
  {
   "cell_type": "code",
   "execution_count": null,
   "metadata": {},
   "outputs": [],
   "source": [
    "sns.barplot(x=\"Cluster\", y = \"ETH8\", data=neighbourhood_analysis.sort_values(\"ETH8\", ascending=False), palette=[\"cornflowerblue\" if x!='Average' else 'navy' for x in neighbourhood_analysis.sort_values(\"ETH8\", ascending=False).Cluster]).set(\n",
    "    xlabel='',ylabel=\"Percent Chinese\")\n",
    "sns.despine(right=True)"
   ]
  },
  {
   "cell_type": "code",
   "execution_count": null,
   "metadata": {},
   "outputs": [],
   "source": [
    "sns.barplot(x=\"Cluster\", y = \"HVP1\", data=neighbourhood_analysis.sort_values(\"HVP1\", ascending=False), palette=[\"cornflowerblue\" if x!='Average' else 'navy' for x in neighbourhood_analysis.sort_values(\"HVP1\", ascending=False).Cluster]).set(\n",
    "    xlabel='',ylabel=\"Percent Home Value >= $200,000\")\n",
    "sns.despine(right=True)"
   ]
  },
  {
   "cell_type": "code",
   "execution_count": null,
   "metadata": {},
   "outputs": [],
   "source": [
    "fig = sns.barplot(x=\"Cluster\", y = \"HVP6\", data=neighbourhood_analysis.sort_values(\"HVP6\", ascending=False), palette=[\"cornflowerblue\" if x!='Average' else 'navy' for x in neighbourhood_analysis.sort_values(\"HVP6\", ascending=False).Cluster])\n",
    "\n",
    "fig.set(xlabel='', ylabel='Percent Home Value >= $300,000')\n",
    "\n",
    "\n",
    "sns.despine(right=True)\n",
    "fig = fig.get_figure()\n",
    "#fig.savefig(\"HVP6.png\", dpi=1000)"
   ]
  },
  {
   "cell_type": "code",
   "execution_count": null,
   "metadata": {},
   "outputs": [],
   "source": [
    "fig = sns.barplot(x=\"Cluster\", y = \"IC14\", data=neighbourhood_analysis.sort_values(\"IC14\", ascending=False), palette=[\"cornflowerblue\" if x!='Average' else 'navy' for x in neighbourhood_analysis.sort_values(\"IC14\", ascending=False).Cluster])\n",
    "\n",
    "fig.set(xlabel='', ylabel='Percent Households w/ Income >= $150,000')\n",
    "\n",
    "sns.despine(right=True)\n",
    "fig = fig.get_figure()\n",
    "#fig.savefig(\"IC14.png\", dpi=1000)"
   ]
  },
  {
   "cell_type": "code",
   "execution_count": null,
   "metadata": {},
   "outputs": [],
   "source": [
    "sns.barplot(x=\"Cluster\", y = \"AFC1\", data=neighbourhood_analysis.sort_values(\"AFC1\", ascending=False), palette=[\"cornflowerblue\" if x!='Average' else 'navy' for x in neighbourhood_analysis.sort_values(\"AFC1\", ascending=False).Cluster]).set(\n",
    "    xlabel='',ylabel=\"Percent Adults in Active Military Service\")\n",
    "sns.despine(right=True)"
   ]
  },
  {
   "cell_type": "markdown",
   "metadata": {},
   "source": [
    "### subset: demographics"
   ]
  },
  {
   "cell_type": "code",
   "execution_count": null,
   "metadata": {},
   "outputs": [],
   "source": [
    "subset_socio_demographics.groupby(\"Cluster\").count()"
   ]
  },
  {
   "cell_type": "code",
   "execution_count": null,
   "metadata": {},
   "outputs": [],
   "source": [
    "check_sd = abs(subset_socio_demographics_encoded.groupby(\"Cluster\").mean().pct_change().sum()) > 1"
   ]
  },
  {
   "cell_type": "code",
   "execution_count": null,
   "metadata": {},
   "outputs": [],
   "source": [
    "check_sd = check_sd[check_sd==True]"
   ]
  },
  {
   "cell_type": "code",
   "execution_count": null,
   "metadata": {},
   "outputs": [],
   "source": [
    "subset_socio_demographics_encoded_mean = subset_socio_demographics_encoded.mean()"
   ]
  },
  {
   "cell_type": "code",
   "execution_count": null,
   "metadata": {},
   "outputs": [],
   "source": [
    "subset_socio_demographics_encoded = subset_socio_demographics_encoded.groupby(\"Cluster\").mean()\n",
    "try:\n",
    "    subset_socio_demographics_encoded = subset_socio_demographics_encoded.drop(columns=[\"Cluster\"])\n",
    "except:\n",
    "    0\n",
    "subset_socio_demographics_encoded = subset_socio_demographics_encoded.append(subset_socio_demographics_encoded_mean, ignore_index=True)\n",
    "subset_socio_demographics_encoded[\"Cluster\"] = [\"Cluster 0\", \"Cluster 1\", \"Cluster 2\", \"Cluster 3\", \"Average\"]\n",
    "subset_socio_demographics_encoded.head()"
   ]
  },
  {
   "cell_type": "code",
   "execution_count": null,
   "metadata": {},
   "outputs": [],
   "source": [
    "checks = check_sd.index.tolist()\n",
    "checks.append(\"Cluster\")\n",
    "subset_socio_demographics_encoded = subset_socio_demographics_encoded[checks]"
   ]
  },
  {
   "cell_type": "code",
   "execution_count": null,
   "metadata": {},
   "outputs": [],
   "source": [
    "subset_socio_demographics_encoded"
   ]
  },
  {
   "cell_type": "code",
   "execution_count": null,
   "metadata": {},
   "outputs": [],
   "source": [
    "gender = pd.get_dummies(subset_socio_demographics[\"GENDER\"])\n",
    "gender_mean = gender.mean()\n",
    "gender = pd.concat([gender, metrics_without_neighbourhood_bn[\"Cluster\"]], axis = 1)\n",
    "gender = gender.groupby(\"Cluster\").mean().append(gender_mean, ignore_index=True)\n",
    "gender[\"Cluster\"] = [\"Cluster 0\", \"Cluster 1\", \"Cluster 2\", \"Cluster 3\", \"Average\"]\n",
    "gender.head()"
   ]
  },
  {
   "cell_type": "code",
   "execution_count": null,
   "metadata": {},
   "outputs": [],
   "source": [
    "sns.barplot(x=\"Cluster\", y = \"M\", data=gender.sort_values(\"M\", ascending=False), palette=[\"cornflowerblue\" if x!='Average' else 'navy' for x in gender.sort_values(\"M\", ascending=False).Cluster]).set(\n",
    "    xlabel='',ylabel=\"Percentage Males\")\n",
    "sns.despine(right=True)"
   ]
  },
  {
   "cell_type": "code",
   "execution_count": null,
   "metadata": {},
   "outputs": [],
   "source": [
    "fig = sns.barplot(x=\"Cluster\", y = \"F\", data=gender.sort_values(\"F\", ascending=False), palette=[\"cornflowerblue\" if x!='Average' else 'navy' for x in gender.sort_values(\"F\", ascending=False).Cluster])#.set(\n",
    "    #xlabel='',ylabel=\"Percentage Females\")\n",
    "plt.ylabel(\"Percentage of females\")\n",
    "sns.despine(right=True)\n",
    "fig = fig.get_figure()\n",
    "#fig.savefig(\"FEM.png\", dpi=1000)\n",
    "\n",
    "\n"
   ]
  },
  {
   "cell_type": "code",
   "execution_count": null,
   "metadata": {},
   "outputs": [],
   "source": [
    "mean_income = subset_socio_demographics[\"INCOME\"].mean()"
   ]
  },
  {
   "cell_type": "code",
   "execution_count": null,
   "metadata": {},
   "outputs": [],
   "source": [
    "mean_income = subset_socio_demographics[\"INCOME\"].mean()\n",
    "income = subset_socio_demographics[[\"INCOME\", \"Cluster\"]].groupby(\"Cluster\").mean()\n",
    "income = income.T\n",
    "income[4] = mean_income\n",
    "income = income.T\n",
    "income[\"Cluster\"] = [\"Cluster 0\", \"Cluster 1\", \"Cluster 2\", \"Cluster 3\", \"Average\"]"
   ]
  },
  {
   "cell_type": "code",
   "execution_count": null,
   "metadata": {},
   "outputs": [],
   "source": [
    "sns.barplot(x=\"Cluster\", y = \"INCOME\", data=income.sort_values(\"INCOME\", ascending=False), palette=[\"cornflowerblue\" if x!='Average' else 'navy' for x in income.sort_values(\"INCOME\", ascending=False).Cluster]).set(\n",
    "    xlabel='',ylabel=\"INCOME\")\n",
    "sns.despine(right=True)"
   ]
  },
  {
   "cell_type": "markdown",
   "metadata": {},
   "source": [
    "Now we take a look into the geographical distributions of our clusters. Therefore, we will plot a map that displays each state with its according highest share of donors."
   ]
  },
  {
   "cell_type": "code",
   "execution_count": null,
   "metadata": {},
   "outputs": [],
   "source": [
    "c0 = pd.get_dummies(subset_socio_demographics[[\"STATE\", \"Cluster\"]]).groupby(\"Cluster\").sum().T[0].T.div(pd.get_dummies(subset_socio_demographics[[\"STATE\", \"Cluster\"]]).groupby(\"Cluster\").sum().T.sum()[0])\n",
    "c1 = pd.get_dummies(subset_socio_demographics[[\"STATE\", \"Cluster\"]]).groupby(\"Cluster\").sum().T[1].T.div(pd.get_dummies(subset_socio_demographics[[\"STATE\", \"Cluster\"]]).groupby(\"Cluster\").sum().T.sum()[1])\n",
    "c2 = pd.get_dummies(subset_socio_demographics[[\"STATE\", \"Cluster\"]]).groupby(\"Cluster\").sum().T[2].T.div(pd.get_dummies(subset_socio_demographics[[\"STATE\", \"Cluster\"]]).groupby(\"Cluster\").sum().T.sum()[2])\n",
    "c3 = pd.get_dummies(subset_socio_demographics[[\"STATE\", \"Cluster\"]]).groupby(\"Cluster\").sum().T[3].T.div(pd.get_dummies(subset_socio_demographics[[\"STATE\", \"Cluster\"]]).groupby(\"Cluster\").sum().T.sum()[3])"
   ]
  },
  {
   "cell_type": "code",
   "execution_count": null,
   "metadata": {},
   "outputs": [],
   "source": [
    "new_states_df = pd.concat([c0,c1,c2,c3],axis=1)"
   ]
  },
  {
   "cell_type": "code",
   "execution_count": null,
   "metadata": {},
   "outputs": [],
   "source": [
    "c0_states = []\n",
    "i=0\n",
    "for element in new_states_df.index.tolist():\n",
    "    if new_states_df.iloc[i,0] > new_states_df.iloc[i,1]:\n",
    "        if new_states_df.iloc[i,0] > new_states_df.iloc[i,2]:\n",
    "            if new_states_df.iloc[i,0] > new_states_df.iloc[i,3]:\n",
    "                c0_states.append(element.replace(\"STATE_\",\"\"))\n",
    "    i = i +1\n",
    "    \n",
    "c1_states = []\n",
    "i=0\n",
    "for element in new_states_df.index.tolist():\n",
    "    if new_states_df.iloc[i,1] > new_states_df.iloc[i,0]:\n",
    "        if new_states_df.iloc[i,1] > new_states_df.iloc[i,2]:\n",
    "            if new_states_df.iloc[i,1] > new_states_df.iloc[i,3]:\n",
    "                c1_states.append(element.replace(\"STATE_\",\"\"))\n",
    "    i = i + 1\n",
    "    \n",
    "c2_states = []\n",
    "i=0\n",
    "for element in new_states_df.index.tolist():\n",
    "    if new_states_df.iloc[i,2] > new_states_df.iloc[i,0]:\n",
    "        if new_states_df.iloc[i,2] > new_states_df.iloc[i,1]:\n",
    "            if new_states_df.iloc[i,2] > new_states_df.iloc[i,3]:\n",
    "                c2_states.append(element.replace(\"STATE_\",\"\"))\n",
    "    i = i +1\n",
    "    \n",
    "c3_states = []\n",
    "i=0\n",
    "for element in new_states_df.index.tolist():\n",
    "    if new_states_df.iloc[i,3] > new_states_df.iloc[i,1]:\n",
    "        if new_states_df.iloc[i,3] > new_states_df.iloc[i,2]:\n",
    "            if new_states_df.iloc[i,3] > new_states_df.iloc[i,0]:\n",
    "                c3_states.append(element.replace(\"STATE_\",\"\"))\n",
    "    i = i +1"
   ]
  },
  {
   "cell_type": "code",
   "execution_count": null,
   "metadata": {},
   "outputs": [],
   "source": [
    "\n",
    "states = geopandas.read_file('data/usa-states-census-2014.shp')\n",
    "type(states)\n",
    "states = states.to_crs(\"EPSG:3395\")\n",
    "c0 = states[states['STUSPS'].isin(c0_states)]\n",
    "c1 = states[states['STUSPS'].isin(c1_states)]\n",
    "c2 = states[states['STUSPS'].isin(c2_states)]\n",
    "c3 = states[states['STUSPS'].isin(c3_states)]\n",
    "us_boundary_map = states.boundary.plot(figsize=(18, 12), color='Black', linewidth=.5)\n",
    "c0.plot(ax=us_boundary_map,  color=\"cornflowerblue\")\n",
    "c1.plot(ax=us_boundary_map, color=\"lightsteelblue\")\n",
    "c2.plot(ax=us_boundary_map, color=\"steelblue\")\n",
    "final_map = c3.plot(ax=us_boundary_map, color=\"skyblue\")\n",
    "final_map.grid(False)\n",
    "c0_patch = mpatches.Patch(color='cornflowerblue', label='Cluster 0')\n",
    "c1_patch = mpatches.Patch(color='lightsteelblue', label='Cluster 1')\n",
    "c2_patch = mpatches.Patch(color='steelblue', label='Cluster 2')\n",
    "c3_patch = mpatches.Patch(color='skyblue', label='Cluster 3')\n",
    "plt.legend(handles=[c0_patch, c1_patch, c2_patch, c3_patch], loc=\"lower right\", prop={'size': 18})\n",
    "\n",
    "fig = final_map.get_figure()\n",
    "fig.savefig(\"USA MAP\", dpi=1000)\n",
    "\n",
    "#plt.show()"
   ]
  },
  {
   "cell_type": "code",
   "execution_count": null,
   "metadata": {},
   "outputs": [],
   "source": [
    "print(c0_states)"
   ]
  },
  {
   "cell_type": "code",
   "execution_count": null,
   "metadata": {},
   "outputs": [],
   "source": [
    "print(c1_states)"
   ]
  },
  {
   "cell_type": "code",
   "execution_count": null,
   "metadata": {},
   "outputs": [],
   "source": [
    "print(c2_states)"
   ]
  },
  {
   "cell_type": "code",
   "execution_count": null,
   "metadata": {},
   "outputs": [],
   "source": [
    "print(c3_states)"
   ]
  },
  {
   "cell_type": "markdown",
   "metadata": {},
   "source": [
    "### subset: Donors interests"
   ]
  },
  {
   "cell_type": "code",
   "execution_count": null,
   "metadata": {},
   "outputs": [],
   "source": [
    "interests_mean = subset_interests_encoded.mean()"
   ]
  },
  {
   "cell_type": "code",
   "execution_count": null,
   "metadata": {},
   "outputs": [],
   "source": [
    "subset_interests_encoded = pd.concat([subset_interests_encoded, metrics_without_neighbourhood_bn[\"Cluster\"]], axis = 1)"
   ]
  },
  {
   "cell_type": "code",
   "execution_count": null,
   "metadata": {},
   "outputs": [],
   "source": [
    "subset_interests_encoded = subset_interests_encoded.groupby(\"Cluster\").mean().append(interests_mean, ignore_index=True)\n",
    "subset_interests_encoded[\"Cluster\"] = [\"Cluster 0\", \"Cluster 1\", \"Cluster 2\", \"Cluster 3\", \"Average\"]"
   ]
  },
  {
   "cell_type": "code",
   "execution_count": null,
   "metadata": {},
   "outputs": [],
   "source": [
    "sns.barplot(x=\"Cluster\", y = \"HOMEE_Y\", data=subset_interests_encoded.sort_values(\"HOMEE_Y\", ascending=False), palette=[\"cornflowerblue\" if x!='Average' else 'navy' for x in subset_interests_encoded.sort_values(\"HOMEE_Y\", ascending=False).Cluster]).set(\n",
    "    xlabel='',ylabel=\"Percentage work from home\")\n",
    "sns.despine(right=True)"
   ]
  },
  {
   "cell_type": "code",
   "execution_count": null,
   "metadata": {},
   "outputs": [],
   "source": [
    "sns.barplot(x=\"Cluster\", y = \"PCOWNERS_Y\", data=subset_interests_encoded.sort_values(\"PCOWNERS_Y\", ascending=False), palette=[\"cornflowerblue\" if x!='Average' else 'navy' for x in subset_interests_encoded.sort_values(\"PCOWNERS_Y\", ascending=False).Cluster]).set(\n",
    "    xlabel='',ylabel=\"Percentage home PC owners/users\")\n",
    "sns.despine(right=True)"
   ]
  },
  {
   "cell_type": "code",
   "execution_count": null,
   "metadata": {},
   "outputs": [],
   "source": [
    "sns.barplot(x=\"Cluster\", y = \"CARDS_Y\", data=subset_interests_encoded.sort_values(\"CARDS_Y\", ascending=False), palette=[\"cornflowerblue\" if x!='Average' else 'navy' for x in subset_interests_encoded.sort_values(\"CARDS_Y\", ascending=False).Cluster]).set(\n",
    "    xlabel='',ylabel=\"Percentage stationary/cards buyer\")\n",
    "sns.despine(right=True)"
   ]
  },
  {
   "cell_type": "markdown",
   "metadata": {},
   "source": [
    "###  subset: Major Donor Matrix"
   ]
  },
  {
   "cell_type": "code",
   "execution_count": null,
   "metadata": {},
   "outputs": [],
   "source": [
    "mdm_mean = subset_mdmaud_encoded.mean()\n",
    "subset_mdmaud_encoded = pd.concat([subset_mdmaud_encoded, metrics_without_neighbourhood_bn[\"Cluster\"]], axis = 1)\n",
    "subset_mdmaud_encoded = subset_mdmaud_encoded.groupby(\"Cluster\").mean().append(mdm_mean, ignore_index=True)\n",
    "subset_mdmaud_encoded[\"Cluster\"] = [\"Cluster 0\", \"Cluster 1\", \"Cluster 2\", \"Cluster 3\", \"Average\"]\n",
    "subset_mdmaud_encoded.head()"
   ]
  },
  {
   "cell_type": "code",
   "execution_count": null,
   "metadata": {},
   "outputs": [],
   "source": [
    "sns.barplot(x=\"Cluster\", y = \"MAJOR_X\", data=subset_mdmaud_encoded.sort_values(\"MAJOR_X\", ascending=False), palette=[\"cornflowerblue\" if x!='Average' else 'navy' for x in subset_mdmaud_encoded.sort_values(\"MAJOR_X\", ascending=False).Cluster]).set(\n",
    "    xlabel='',ylabel=\"Percentage Major Donors\")\n",
    "sns.despine(right=True)"
   ]
  },
  {
   "cell_type": "markdown",
   "metadata": {},
   "source": [
    "### subset: Information about the communication with the donors"
   ]
  },
  {
   "cell_type": "code",
   "execution_count": null,
   "metadata": {},
   "outputs": [],
   "source": [
    "com_mean = subset_communication_encoded.mean()\n",
    "subset_communication_encoded = pd.concat([subset_communication_encoded, metrics_without_neighbourhood_bn[\"Cluster\"]], axis = 1)\n",
    "subset_communication_encoded = subset_communication_encoded.groupby(\"Cluster\").mean().append(com_mean, ignore_index=True)\n",
    "subset_communication_encoded[\"Cluster\"] = [\"Cluster 0\", \"Cluster 1\", \"Cluster 2\", \"Cluster 3\", \"Average\"]\n"
   ]
  },
  {
   "cell_type": "code",
   "execution_count": null,
   "metadata": {},
   "outputs": [],
   "source": [
    "subset_communication_encoded.head()"
   ]
  },
  {
   "cell_type": "code",
   "execution_count": null,
   "metadata": {},
   "outputs": [],
   "source": [
    "fig = sns.barplot(x=\"Cluster\", y = \"PEPSTRFL_X\", data=subset_communication_encoded.sort_values(\"PEPSTRFL_X\", ascending=False), palette=[\"cornflowerblue\" if x!='Average' else 'navy' for x in subset_communication_encoded.sort_values(\"PEPSTRFL_X\", ascending=False).Cluster])#.set(\n",
    "plt.ylabel(\"Percentage PEP Star RFA Status\")\n",
    "sns.despine(right=True)\n",
    "fig = fig.get_figure()\n",
    "#fig.savefig(\"PEP.png\", dpi=1000)\n",
    "\n",
    "\n"
   ]
  },
  {
   "cell_type": "code",
   "execution_count": null,
   "metadata": {},
   "outputs": [],
   "source": [
    "sns.barplot(x=\"Cluster\", y = \"RECINHSE_X\", data=subset_communication_encoded.sort_values(\"RECINHSE_X\", ascending=False), palette=[\"cornflowerblue\" if x!='Average' else 'navy' for x in subset_communication_encoded.sort_values(\"RECINHSE_X\", ascending=False).Cluster]).set(\n",
    "    xlabel='',ylabel=\"Percentage Donor has given to PVA's In House program\")\n",
    "sns.despine(right=True)"
   ]
  },
  {
   "cell_type": "code",
   "execution_count": null,
   "metadata": {},
   "outputs": [],
   "source": [
    "sns.barplot(x=\"Cluster\", y = \"SOLIH_00\", data=subset_communication_encoded.sort_values(\"SOLIH_00\", ascending=False), palette=[\"cornflowerblue\" if x!='Average' else 'navy' for x in subset_communication_encoded.sort_values(\"SOLIH_00\", ascending=False).Cluster]).set(\n",
    "    xlabel='',ylabel=\"Percentage Do Not Solicit\")\n",
    "sns.despine(right=True)"
   ]
  },
  {
   "cell_type": "code",
   "execution_count": null,
   "metadata": {},
   "outputs": [],
   "source": [
    "sns.barplot(x=\"Cluster\", y = \"HIT\", data=subset_communication_encoded.sort_values(\"HIT\", ascending=False), palette=[\"cornflowerblue\" if x!='Average' else 'navy' for x in subset_communication_encoded.sort_values(\"HIT\", ascending=False).Cluster]).set(\n",
    "    xlabel='',ylabel=\"Mail Order Response\")\n",
    "sns.despine(right=True)"
   ]
  },
  {
   "cell_type": "markdown",
   "metadata": {},
   "source": [
    "Let's check how our lapsing donors are distributed accross the Clusters:"
   ]
  },
  {
   "cell_type": "code",
   "execution_count": null,
   "metadata": {},
   "outputs": [],
   "source": [
    "#displaying the number of observations grouped by the amount of days their last donation lies behind\n",
    "days_past = pd.DataFrame(donors[\"LASTDATE\"].value_counts()).reset_index().rename(columns={\"index\":\"Days in the past\"}).sort_values(by=\"Days in the past\")\n",
    "days_past"
   ]
  },
  {
   "cell_type": "code",
   "execution_count": null,
   "metadata": {},
   "outputs": [],
   "source": [
    "metrics_without_neighbourhood_bn[\"Cluster\"]= kmclust.labels_"
   ]
  },
  {
   "cell_type": "code",
   "execution_count": null,
   "metadata": {},
   "outputs": [],
   "source": [
    "lapsed = metrics_without_neighbourhood_bn[[\"LASTDATE\", \"Cluster\"]]"
   ]
  },
  {
   "cell_type": "code",
   "execution_count": null,
   "metadata": {},
   "outputs": [],
   "source": [
    "lapsed.groupby(\"Cluster\").count()"
   ]
  },
  {
   "cell_type": "code",
   "execution_count": null,
   "metadata": {},
   "outputs": [],
   "source": [
    "c0_ = lapsed[lapsed[\"Cluster\"] == 0]\n",
    "c1_ = lapsed[lapsed[\"Cluster\"] == 1]\n",
    "c2_ = lapsed[lapsed[\"Cluster\"] == 2]\n",
    "c3_ = lapsed[lapsed[\"Cluster\"] == 3]"
   ]
  },
  {
   "cell_type": "code",
   "execution_count": null,
   "metadata": {},
   "outputs": [],
   "source": [
    "print(\"Percentage of lapsed donors in Cluster 0:\", np.round(len(c0_[(c0_[\"LASTDATE\"] <=732) & (365 <= c0_[\"LASTDATE\"])])/len(c0_),3)*100)\n",
    "print(\"Percentage of lapsed donors in Cluster 1:\", np.round(len(c1_[(c1_[\"LASTDATE\"] <=732) & (365 <= c1_[\"LASTDATE\"])])/len(c1_),3)*100)\n",
    "print(\"Percentage of lapsed donors in Cluster 2:\", np.round(len(c2_[(c2_[\"LASTDATE\"] <=732) & (365 <= c2_[\"LASTDATE\"])])/len(c2_),3)*100)\n",
    "print(\"Percentage of lapsed donors in Cluster 3:\", np.round(len(c3_[(c3_[\"LASTDATE\"] <=732) & (365 <= c3_[\"LASTDATE\"])])/len(c3_),3)*100)"
   ]
  },
  {
   "cell_type": "markdown",
   "metadata": {},
   "source": [
    "# Final clusters: The neighbourhood perspective"
   ]
  },
  {
   "cell_type": "code",
   "execution_count": null,
   "metadata": {},
   "outputs": [],
   "source": [
    "#displaying the number of donors in each cluster\n",
    "try:\n",
    "    pd.DataFrame(pca_subset_neighbourhood_metric.groupby(\"Cluster\").count().iloc[:,0]).rename(columns={\"PC0_Neighbourhood\":\"COUNT\"})\n",
    "except:\n",
    "    0"
   ]
  },
  {
   "cell_type": "markdown",
   "metadata": {},
   "source": [
    "### Subset neighbourhood"
   ]
  },
  {
   "cell_type": "code",
   "execution_count": null,
   "metadata": {},
   "outputs": [],
   "source": [
    "subset_neighbourhood[\"Cluster\"] = kmnclust.labels_"
   ]
  },
  {
   "cell_type": "code",
   "execution_count": null,
   "metadata": {},
   "outputs": [],
   "source": [
    "checking_for_deviation = abs(subset_neighbourhood.groupby(\"Cluster\").mean().pct_change()).sum() > 7\n",
    "checking_for_deviation = checking_for_deviation[checking_for_deviation==True]\n",
    "checking_for_deviation.head()"
   ]
  },
  {
   "cell_type": "code",
   "execution_count": null,
   "metadata": {
    "scrolled": true
   },
   "outputs": [],
   "source": [
    "print(checking_for_deviation.index.tolist())"
   ]
  },
  {
   "cell_type": "code",
   "execution_count": null,
   "metadata": {},
   "outputs": [],
   "source": [
    "subset_neighbourhood_mean = subset_neighbourhood.mean()\n",
    "subset_neighbourhood = subset_neighbourhood.groupby(\"Cluster\").mean()\n",
    "subset_neighbourhood = subset_neighbourhood.append(subset_neighbourhood_mean, ignore_index=True)"
   ]
  },
  {
   "cell_type": "code",
   "execution_count": null,
   "metadata": {},
   "outputs": [],
   "source": [
    "subset_neighbourhood[\"Cluster\"] = [\"Cluster 0\", \"Cluster 1\", \"Cluster 2\", \"Cluster 3\", \"Average\"]"
   ]
  },
  {
   "cell_type": "code",
   "execution_count": null,
   "metadata": {},
   "outputs": [],
   "source": [
    "sns.barplot(x=\"Cluster\", y = \"POP90C1\", data=subset_neighbourhood.sort_values(\"POP90C1\", ascending=False), palette=[\"cornflowerblue\" if x!='Average' else 'navy' for x in subset_neighbourhood.sort_values(\"POP90C1\", ascending=False).Cluster]).set(\n",
    "    xlabel='',ylabel=\"Percent Population in Urbanized Area\")\n",
    "sns.despine(right=True)"
   ]
  },
  {
   "cell_type": "code",
   "execution_count": null,
   "metadata": {},
   "outputs": [],
   "source": [
    "sns.barplot(x=\"Cluster\", y = \"POP90C3\", data=subset_neighbourhood.sort_values(\"POP90C3\", ascending=False), palette=[\"cornflowerblue\" if x!='Average' else 'navy' for x in subset_neighbourhood.sort_values(\"POP90C3\", ascending=False).Cluster]).set(\n",
    "    xlabel='',ylabel=\"Percent Population Inside Rural Area\")\n",
    "sns.despine(right=True)"
   ]
  },
  {
   "cell_type": "code",
   "execution_count": null,
   "metadata": {},
   "outputs": [],
   "source": [
    "sns.barplot(x=\"Cluster\", y = \"DW6\", data=subset_neighbourhood.sort_values(\"DW6\", ascending=False), palette=[\"cornflowerblue\" if x!='Average' else 'navy' for x in subset_neighbourhood.sort_values(\"DW6\", ascending=False).Cluster]).set(\n",
    "    xlabel='',ylabel=\"Percent Housing Units in 5+ Unit Structure\")\n",
    "sns.despine(right=True)"
   ]
  },
  {
   "cell_type": "code",
   "execution_count": null,
   "metadata": {},
   "outputs": [],
   "source": [
    "sns.barplot(x=\"Cluster\", y = \"HVP6\", data=subset_neighbourhood.sort_values(\"HVP6\", ascending=False), palette=[\"cornflowerblue\" if x!='Average' else 'navy' for x in subset_neighbourhood.sort_values(\"HVP6\", ascending=False).Cluster]).set(\n",
    "    xlabel='',ylabel=\"Percent Home Value >= $300,000\")\n",
    "sns.despine(right=True)"
   ]
  },
  {
   "cell_type": "code",
   "execution_count": null,
   "metadata": {},
   "outputs": [],
   "source": [
    "sns.barplot(x=\"Cluster\", y = \"HC18\", data=subset_neighbourhood.sort_values(\"HC18\", ascending=False), palette=[\"cornflowerblue\" if x!='Average' else 'navy' for x in subset_neighbourhood.sort_values(\"HC18\", ascending=False).Cluster]).set(\n",
    "    xlabel='',ylabel=\"Percent Housing Units w/ Well Water Source\")\n",
    "sns.despine(right=True)"
   ]
  },
  {
   "cell_type": "markdown",
   "metadata": {},
   "source": [
    "### Subset demographics"
   ]
  },
  {
   "cell_type": "code",
   "execution_count": null,
   "metadata": {},
   "outputs": [],
   "source": [
    "subset_socio_demographics[\"Cluster\"] = kmnclust.labels_\n",
    "subset_socio_demographics.head()"
   ]
  },
  {
   "cell_type": "code",
   "execution_count": null,
   "metadata": {},
   "outputs": [],
   "source": [
    "means = subset_socio_demographics.groupby(\"Cluster\").mean()"
   ]
  },
  {
   "cell_type": "code",
   "execution_count": null,
   "metadata": {},
   "outputs": [],
   "source": [
    "means = means.append(subset_socio_demographics.mean(), ignore_index=True)\n",
    "means[\"Cluster\"] = [\"Cluster 0\", \"Cluster 1\", \"Cluster 2\", \"Cluster 3\", \"Average\"]"
   ]
  },
  {
   "cell_type": "code",
   "execution_count": null,
   "metadata": {},
   "outputs": [],
   "source": [
    "sns.barplot(x=\"Cluster\", y = \"AGE\", data=means.sort_values(\"AGE\", ascending=False), palette=[\"cornflowerblue\" if x!='Average' else 'navy' for x in means.sort_values(\"AGE\", ascending=False).Cluster]).set(\n",
    "    xlabel='')\n",
    "sns.despine(right=True)"
   ]
  },
  {
   "cell_type": "code",
   "execution_count": null,
   "metadata": {},
   "outputs": [],
   "source": [
    "sns.barplot(x=\"Cluster\", y = \"INCOME\", data=means.sort_values(\"INCOME\", ascending=False), palette=[\"cornflowerblue\" if x!='Average' else 'navy' for x in means.sort_values(\"INCOME\", ascending=False).Cluster]).set(\n",
    "    xlabel='')\n",
    "sns.despine(right=True)"
   ]
  },
  {
   "cell_type": "code",
   "execution_count": null,
   "metadata": {},
   "outputs": [],
   "source": [
    "gender = pd.get_dummies(subset_socio_demographics[\"GENDER\"])\n",
    "gender_mean = gender.mean()\n",
    "gender = pd.concat([gender, subset_socio_demographics[\"Cluster\"]], axis = 1)\n",
    "gender = gender.groupby(\"Cluster\").mean().append(gender_mean, ignore_index=True)\n",
    "gender[\"Cluster\"] = [\"Cluster 0\", \"Cluster 1\", \"Cluster 2\", \"Cluster 3\", \"Average\"]\n",
    "gender.head()"
   ]
  },
  {
   "cell_type": "code",
   "execution_count": null,
   "metadata": {},
   "outputs": [],
   "source": [
    "sns.barplot(x=\"Cluster\", y = \"M\", data=gender.sort_values(\"M\", ascending=False), palette=[\"cornflowerblue\" if x!='Average' else 'navy' for x in gender.sort_values(\"M\", ascending=False).Cluster]).set(\n",
    "    xlabel='',ylabel=\"Percentage Males\")\n",
    "sns.despine(right=True)"
   ]
  },
  {
   "cell_type": "code",
   "execution_count": null,
   "metadata": {},
   "outputs": [],
   "source": [
    "sns.barplot(x=\"Cluster\", y = \"F\", data=gender.sort_values(\"F\", ascending=False), palette=[\"cornflowerblue\" if x!='Average' else 'navy' for x in gender.sort_values(\"F\", ascending=False).Cluster]).set(\n",
    "    xlabel='',ylabel=\"Percentage Females\")\n",
    "sns.despine(right=True)"
   ]
  },
  {
   "cell_type": "code",
   "execution_count": null,
   "metadata": {},
   "outputs": [],
   "source": [
    "gender = pd.get_dummies(subset_socio_demographics[\"HOMEOWNR\"])\n",
    "gender_mean = gender.mean()\n",
    "gender = pd.concat([gender, subset_socio_demographics[\"Cluster\"]], axis = 1)\n",
    "gender = gender.groupby(\"Cluster\").mean().append(gender_mean, ignore_index=True)\n",
    "gender[\"Cluster\"] = [\"Cluster 0\", \"Cluster 1\", \"Cluster 2\", \"Cluster 3\", \"Average\"]\n",
    "gender.head()"
   ]
  },
  {
   "cell_type": "code",
   "execution_count": null,
   "metadata": {},
   "outputs": [],
   "source": [
    "sns.barplot(x=\"Cluster\", y = \"H\", data=gender.sort_values(\"H\", ascending=False), palette=[\"cornflowerblue\" if x!='Average' else 'navy' for x in gender.sort_values(\"H\", ascending=False).Cluster]).set(\n",
    "    xlabel='',ylabel=\"Percentage Homeowners\")\n",
    "sns.despine(right=True)"
   ]
  },
  {
   "cell_type": "markdown",
   "metadata": {},
   "source": [
    "### Subset donors interests"
   ]
  },
  {
   "cell_type": "code",
   "execution_count": null,
   "metadata": {},
   "outputs": [],
   "source": [
    "subset_interests_encoded = pd.get_dummies(subset_interests)"
   ]
  },
  {
   "cell_type": "code",
   "execution_count": null,
   "metadata": {},
   "outputs": [],
   "source": [
    "interests_mean = subset_interests_encoded.mean()\n",
    "subset_interests_encoded[\"Cluster\"] = kmnclust.labels_"
   ]
  },
  {
   "cell_type": "code",
   "execution_count": null,
   "metadata": {},
   "outputs": [],
   "source": [
    "subset_interests_encoded = subset_interests_encoded.groupby(\"Cluster\").mean().append(interests_mean, ignore_index=True)\n",
    "subset_interests_encoded[\"Cluster\"] = [\"Cluster 0\", \"Cluster 1\", \"Cluster 2\", \"Cluster 3\", \"Average\"]"
   ]
  },
  {
   "cell_type": "code",
   "execution_count": null,
   "metadata": {},
   "outputs": [],
   "source": [
    "subset_interests_encoded.iloc[:,20:]"
   ]
  },
  {
   "cell_type": "code",
   "execution_count": null,
   "metadata": {},
   "outputs": [],
   "source": [
    "sns.barplot(x=\"Cluster\", y = \"VETERANS_Y\", data=subset_interests_encoded.sort_values(\"VETERANS_Y\", ascending=False), palette=[\"cornflowerblue\" if x!='Average' else 'navy' for x in subset_interests_encoded.sort_values(\"VETERANS_Y\", ascending=False).Cluster]).set(\n",
    "    xlabel='',ylabel=\"Percentage veterans interests\")\n",
    "sns.despine(right=True)"
   ]
  },
  {
   "cell_type": "code",
   "execution_count": null,
   "metadata": {},
   "outputs": [],
   "source": [
    "sns.barplot(x=\"Cluster\", y = \"BIBLE_Y\", data=subset_interests_encoded.sort_values(\"BIBLE_Y\", ascending=False), palette=[\"cornflowerblue\" if x!='Average' else 'navy' for x in subset_interests_encoded.sort_values(\"BIBLE_Y\", ascending=False).Cluster]).set(\n",
    "    xlabel='',ylabel=\"Percentage bible reading\")\n",
    "sns.despine(right=True)"
   ]
  },
  {
   "cell_type": "code",
   "execution_count": null,
   "metadata": {},
   "outputs": [],
   "source": [
    "sns.barplot(x=\"Cluster\", y = \"HOMEE_Y\", data=subset_interests_encoded.sort_values(\"HOMEE_Y\", ascending=False), palette=[\"cornflowerblue\" if x!='Average' else 'navy' for x in subset_interests_encoded.sort_values(\"HOMEE_Y\", ascending=False).Cluster]).set(\n",
    "    xlabel='',ylabel=\"Percentage working from home\")\n",
    "sns.despine(right=True)"
   ]
  },
  {
   "cell_type": "code",
   "execution_count": null,
   "metadata": {},
   "outputs": [],
   "source": [
    "sns.barplot(x=\"Cluster\", y = \"PCOWNERS_Y\", data=subset_interests_encoded.sort_values(\"PCOWNERS_Y\", ascending=False), palette=[\"cornflowerblue\" if x!='Average' else 'navy' for x in subset_interests_encoded.sort_values(\"PCOWNERS_Y\", ascending=False).Cluster]).set(\n",
    "    xlabel='',ylabel=\"Percentage home PC owners/users\")\n",
    "sns.despine(right=True)"
   ]
  },
  {
   "cell_type": "code",
   "execution_count": null,
   "metadata": {},
   "outputs": [],
   "source": [
    "sns.barplot(x=\"Cluster\", y = \"FISHER_Y\", data=subset_interests_encoded.sort_values(\"FISHER_Y\", ascending=False), palette=[\"cornflowerblue\" if x!='Average' else 'navy' for x in subset_interests_encoded.sort_values(\"FISHER_Y\", ascending=False).Cluster]).set(\n",
    "    xlabel='',ylabel=\"Percentage fishing interests\")\n",
    "sns.despine(right=True)"
   ]
  },
  {
   "cell_type": "markdown",
   "metadata": {},
   "source": [
    "### Subset donation behaviour"
   ]
  },
  {
   "cell_type": "code",
   "execution_count": null,
   "metadata": {},
   "outputs": [],
   "source": [
    "metrics_without_neighbourhood_bn[\"Cluster\"] = kmnclust.labels_"
   ]
  },
  {
   "cell_type": "code",
   "execution_count": null,
   "metadata": {},
   "outputs": [],
   "source": [
    "cluster_means = metrics_without_neighbourhood_bn.groupby(\"Cluster\").mean()\n",
    "cluster_means = cluster_means.append(metrics_without_neighbourhood_bn.mean(), ignore_index=True)\n",
    "cluster_means[\"Cluster\"] = [\"Cluster 0\", \"Cluster 1\", \"Cluster 2\", \"Cluster 3\", \"Average\"]"
   ]
  },
  {
   "cell_type": "code",
   "execution_count": null,
   "metadata": {},
   "outputs": [],
   "source": [
    "sns.barplot(x=\"Cluster\", y = \"NUMPROM\", data=cluster_means.sort_values(\"NUMPROM\", ascending=False), palette=[\"cornflowerblue\" if x!='Average' else 'navy' for x in cluster_means.sort_values(\"NUMPROM\", ascending=False).Cluster]).set(\n",
    "    xlabel='')\n",
    "sns.despine(right=True)"
   ]
  },
  {
   "cell_type": "code",
   "execution_count": null,
   "metadata": {},
   "outputs": [],
   "source": [
    "sns.barplot(x=\"Cluster\", y = \"NUMPRM12\", data=cluster_means.sort_values(\"NUMPRM12\", ascending=False), palette=[\"cornflowerblue\" if x!='Average' else 'navy' for x in cluster_means.sort_values(\"NUMPRM12\", ascending=False).Cluster]).set(\n",
    "    xlabel='')\n",
    "sns.despine(right=True)"
   ]
  },
  {
   "cell_type": "code",
   "execution_count": null,
   "metadata": {},
   "outputs": [],
   "source": [
    "sns.barplot(x=\"Cluster\", y = \"RAMNTALL\", data=cluster_means.sort_values(\"RAMNTALL\", ascending=False), palette=[\"cornflowerblue\" if x!='Average' else 'navy' for x in cluster_means.sort_values(\"RAMNTALL\", ascending=False).Cluster]).set(\n",
    "    xlabel='')\n",
    "sns.despine(right=True)"
   ]
  },
  {
   "cell_type": "code",
   "execution_count": null,
   "metadata": {},
   "outputs": [],
   "source": [
    "sns.barplot(x=\"Cluster\", y = \"NGIFTALL\", data=cluster_means.sort_values(\"NGIFTALL\", ascending=False), palette=[\"cornflowerblue\" if x!='Average' else 'navy' for x in cluster_means.sort_values(\"NGIFTALL\", ascending=False).Cluster]).set(\n",
    "    xlabel='')\n",
    "sns.despine(right=True)"
   ]
  },
  {
   "cell_type": "code",
   "execution_count": null,
   "metadata": {},
   "outputs": [],
   "source": [
    "sns.barplot(x=\"Cluster\", y = \"AVGGIFT\", data=cluster_means.sort_values(\"AVGGIFT\", ascending=False), palette=[\"cornflowerblue\" if x!='Average' else 'navy' for x in cluster_means.sort_values(\"AVGGIFT\", ascending=False).Cluster]).set(\n",
    "    xlabel='')\n",
    "sns.despine(right=True)"
   ]
  },
  {
   "cell_type": "code",
   "execution_count": null,
   "metadata": {},
   "outputs": [],
   "source": [
    "sns.barplot(x=\"Cluster\", y = \"LASTGIFT\", data=cluster_means.sort_values(\"LASTGIFT\", ascending=False), palette=[\"cornflowerblue\" if x!='Average' else 'navy' for x in cluster_means.sort_values(\"LASTGIFT\", ascending=False).Cluster]).set(\n",
    "    xlabel='')\n",
    "sns.despine(right=True)"
   ]
  },
  {
   "cell_type": "code",
   "execution_count": null,
   "metadata": {},
   "outputs": [],
   "source": [
    "sns.barplot(x=\"Cluster\", y = \"LASTDATE\", data=cluster_means.sort_values(\"LASTDATE\", ascending=False), palette=[\"cornflowerblue\" if x!='Average' else 'navy' for x in cluster_means.sort_values(\"LASTDATE\", ascending=False).Cluster]).set(\n",
    "    xlabel='')\n",
    "sns.despine(right=True)"
   ]
  },
  {
   "cell_type": "code",
   "execution_count": null,
   "metadata": {},
   "outputs": [],
   "source": [
    "sns.barplot(x=\"Cluster\", y = \"TIMELAG\", data=cluster_means.sort_values(\"TIMELAG\", ascending=False), palette=[\"cornflowerblue\" if x!='Average' else 'navy' for x in cluster_means.sort_values(\"TIMELAG\", ascending=False).Cluster]).set(\n",
    "    xlabel='')\n",
    "sns.despine(right=True)"
   ]
  },
  {
   "cell_type": "markdown",
   "metadata": {},
   "source": [
    "### Subset major donors"
   ]
  },
  {
   "cell_type": "code",
   "execution_count": null,
   "metadata": {},
   "outputs": [],
   "source": [
    "subset_mdmaud_encoded = pd.get_dummies(subset_mdmaud)\n",
    "mdm_mean = subset_mdmaud_encoded.mean()\n",
    "subset_mdmaud_encoded = pd.concat([subset_mdmaud_encoded, metrics_without_neighbourhood_bn[\"Cluster\"]], axis = 1)\n",
    "subset_mdmaud_encoded = subset_mdmaud_encoded.groupby(\"Cluster\").mean().append(mdm_mean, ignore_index=True)\n",
    "subset_mdmaud_encoded[\"Cluster\"] = [\"Cluster 0\", \"Cluster 1\", \"Cluster 2\", \"Cluster 3\", \"Average\"]\n",
    "subset_mdmaud_encoded.head()"
   ]
  },
  {
   "cell_type": "code",
   "execution_count": null,
   "metadata": {},
   "outputs": [],
   "source": [
    "sns.barplot(x=\"Cluster\", y = \"MAJOR_X\", data=subset_mdmaud_encoded.sort_values(\"MAJOR_X\", ascending=False), palette=[\"cornflowerblue\" if x!='Average' else 'navy' for x in subset_mdmaud_encoded.sort_values(\"MAJOR_X\", ascending=False).Cluster]).set(\n",
    "    xlabel='',ylabel=\"Percentage Major Donors\")\n",
    "sns.despine(right=True)"
   ]
  },
  {
   "cell_type": "markdown",
   "metadata": {},
   "source": [
    "### Subset communication"
   ]
  },
  {
   "cell_type": "code",
   "execution_count": null,
   "metadata": {},
   "outputs": [],
   "source": [
    "subset_communication_encoded = pd.get_dummies(subset_communication)\n",
    "com_mean = subset_communication_encoded.mean()\n",
    "subset_communication_encoded = pd.concat([subset_communication_encoded, metrics_without_neighbourhood_bn[\"Cluster\"]], axis = 1)\n",
    "subset_communication_encoded = subset_communication_encoded.groupby(\"Cluster\").mean().append(com_mean, ignore_index=True)\n",
    "subset_communication_encoded[\"Cluster\"] = [\"Cluster 0\", \"Cluster 1\", \"Cluster 2\", \"Cluster 3\", \"Average\"]\n",
    "subset_communication_encoded.head()"
   ]
  },
  {
   "cell_type": "code",
   "execution_count": null,
   "metadata": {},
   "outputs": [],
   "source": [
    "sns.barplot(x=\"Cluster\", y = \"PEPSTRFL_X\", data=subset_communication_encoded.sort_values(\"PEPSTRFL_X\", ascending=False), palette=[\"cornflowerblue\" if x!='Average' else 'navy' for x in subset_communication_encoded.sort_values(\"PEPSTRFL_X\", ascending=False).Cluster]).set(\n",
    "    xlabel='',ylabel=\"Percentage PEP Star RFA Status\")\n",
    "sns.despine(right=True)"
   ]
  },
  {
   "cell_type": "code",
   "execution_count": null,
   "metadata": {},
   "outputs": [],
   "source": [
    "sns.barplot(x=\"Cluster\", y = \"RECINHSE_X\", data=subset_communication_encoded.sort_values(\"RECINHSE_X\", ascending=False), palette=[\"cornflowerblue\" if x!='Average' else 'navy' for x in subset_communication_encoded.sort_values(\"RECINHSE_X\", ascending=False).Cluster]).set(\n",
    "    xlabel='',ylabel=\"Percentage Donor has given to PVA's In House program\")\n",
    "sns.despine(right=True)"
   ]
  },
  {
   "cell_type": "code",
   "execution_count": null,
   "metadata": {},
   "outputs": [],
   "source": [
    "sns.barplot(x=\"Cluster\", y = \"SOLIH_00\", data=subset_communication_encoded.sort_values(\"SOLIH_00\", ascending=False), palette=[\"cornflowerblue\" if x!='Average' else 'navy' for x in subset_communication_encoded.sort_values(\"SOLIH_00\", ascending=False).Cluster]).set(\n",
    "    xlabel='',ylabel=\"Percentage Do Not Solicit\")\n",
    "sns.despine(right=True)"
   ]
  },
  {
   "cell_type": "code",
   "execution_count": null,
   "metadata": {},
   "outputs": [],
   "source": [
    "sns.barplot(x=\"Cluster\", y = \"HIT\", data=subset_communication_encoded.sort_values(\"HIT\", ascending=False), palette=[\"cornflowerblue\" if x!='Average' else 'navy' for x in subset_communication_encoded.sort_values(\"HIT\", ascending=False).Cluster]).set(\n",
    "    xlabel='',ylabel=\"Mail Order Response\")\n",
    "sns.despine(right=True)"
   ]
  },
  {
   "cell_type": "code",
   "execution_count": null,
   "metadata": {},
   "outputs": [],
   "source": []
  },
  {
   "cell_type": "code",
   "execution_count": null,
   "metadata": {},
   "outputs": [],
   "source": []
  },
  {
   "cell_type": "code",
   "execution_count": null,
   "metadata": {},
   "outputs": [],
   "source": []
  },
  {
   "cell_type": "code",
   "execution_count": null,
   "metadata": {},
   "outputs": [],
   "source": []
  },
  {
   "cell_type": "markdown",
   "metadata": {},
   "source": [
    "## PCA for visualization purposes"
   ]
  },
  {
   "cell_type": "markdown",
   "metadata": {},
   "source": [
    "Similarly to the above PCA, we perform another one for the remaining features in order to get the data ready for visualization. However, we don't need to identify the correct number of PCs here, as we will use it for visualization purposes only and therefore need 2 PCs for 2 dimensional and 3 PCs for 3 dimensional visualizations no matter what:"
   ]
  },
  {
   "cell_type": "code",
   "execution_count": null,
   "metadata": {},
   "outputs": [],
   "source": [
    "metrics_without_neighbourhood_ = metrics_without_neighbourhood.drop(columns=[\"Cluster\"])\n",
    "\n",
    "pca = PCA(n_components=2)\n",
    "pca_feat = pca.fit_transform(metrics_without_neighbourhood_)\n",
    "pca_feat"
   ]
  },
  {
   "cell_type": "code",
   "execution_count": null,
   "metadata": {},
   "outputs": [],
   "source": [
    "two_d = pd.DataFrame(metrics_without_neighbourhood_.values @ pca.components_.T, \n",
    "             index=subset_neighbourhood_metric.index,\n",
    "             columns=[f\"PC{i}\" for i in range(pca.n_components_)])\n",
    "two_d.head()"
   ]
  },
  {
   "cell_type": "code",
   "execution_count": null,
   "metadata": {},
   "outputs": [],
   "source": [
    "pd.DataFrame(\n",
    "    {\"Eigenvalue\": pca.explained_variance_,\n",
    "     \"Difference\": np.insert(np.diff(pca.explained_variance_), 0, 0),\n",
    "     \"Proportion\": pca.explained_variance_ratio_,\n",
    "     \"Cumulative\": np.cumsum(pca.explained_variance_ratio_)},\n",
    "    index=range(1, pca.n_components_ + 1)\n",
    ")"
   ]
  },
  {
   "cell_type": "markdown",
   "metadata": {},
   "source": [
    "So the first two PCs explain about 62% of the variance."
   ]
  },
  {
   "cell_type": "code",
   "execution_count": null,
   "metadata": {},
   "outputs": [],
   "source": [
    "pca = PCA(n_components=3)\n",
    "pca_feat = pca.fit_transform(metrics_without_neighbourhood_)\n",
    "pca_feat"
   ]
  },
  {
   "cell_type": "code",
   "execution_count": null,
   "metadata": {},
   "outputs": [],
   "source": [
    "three_d = pd.DataFrame(metrics_without_neighbourhood_.values @ pca.components_.T, \n",
    "             index=subset_neighbourhood_metric.index,\n",
    "             columns=[f\"PC{i}\" for i in range(pca.n_components_)])\n",
    "three_d.head()"
   ]
  },
  {
   "cell_type": "code",
   "execution_count": null,
   "metadata": {},
   "outputs": [],
   "source": [
    "pd.DataFrame(\n",
    "    {\"Eigenvalue\": pca.explained_variance_,\n",
    "     \"Difference\": np.insert(np.diff(pca.explained_variance_), 0, 0),\n",
    "     \"Proportion\": pca.explained_variance_ratio_,\n",
    "     \"Cumulative\": np.cumsum(pca.explained_variance_ratio_)},\n",
    "    index=range(1, pca.n_components_ + 1)\n",
    ")"
   ]
  },
  {
   "cell_type": "markdown",
   "metadata": {},
   "source": [
    "Okay, this already explains over 85% of the variance, so the 3d visualization will be very meaningful!"
   ]
  },
  {
   "cell_type": "markdown",
   "metadata": {},
   "source": [
    "## Visualization"
   ]
  },
  {
   "cell_type": "code",
   "execution_count": null,
   "metadata": {},
   "outputs": [],
   "source": [
    "two_d[\"Cluster\"] = kmclust.labels_\n",
    "three_d[\"Cluster\"] = kmclust.labels_"
   ]
  },
  {
   "cell_type": "code",
   "execution_count": null,
   "metadata": {},
   "outputs": [],
   "source": [
    "sns.set_style(\"whitegrid\")\n",
    "#adapted from:\n",
    "#https://www.kaggle.com/minc33/visualizing-high-dimensional-clusters\n",
    "\n",
    "cluster0 = two_d[two_d[\"Cluster\"] == 0]\n",
    "cluster1 = two_d[two_d[\"Cluster\"] == 1]\n",
    "cluster2 = two_d[two_d[\"Cluster\"] == 2]\n",
    "cluster3 = two_d[two_d[\"Cluster\"] == 3]\n",
    "\n",
    "trace1 = go.Scatter(\n",
    "                    x = cluster0[\"PC0\"],\n",
    "                    y = cluster0[\"PC1\"],\n",
    "                    mode = \"markers\",\n",
    "                    name = \"Cluster 0\",\n",
    "                    marker = dict(color = 'rgba(255, 128, 255, 0.8)'),\n",
    "                    text = None)\n",
    "\n",
    "#trace2 is for 'Cluster 1'\n",
    "trace2 = go.Scatter(\n",
    "                    x = cluster1[\"PC0\"],\n",
    "                    y = cluster1[\"PC1\"],\n",
    "                    mode = \"markers\",\n",
    "                    name = \"Cluster 1\",\n",
    "                    marker = dict(color = 'rgba(255, 128, 2, 0.8)'),\n",
    "                    text = None)\n",
    "\n",
    "#trace3 is for 'Cluster 2'\n",
    "trace3 = go.Scatter(\n",
    "                    x = cluster2[\"PC0\"],\n",
    "                    y = cluster2[\"PC1\"],\n",
    "                    mode = \"markers\",\n",
    "                    name = \"Cluster 2\",\n",
    "                    marker = dict(color = 'rgba(0, 255, 200, 0.8)'),\n",
    "                    text = None)\n",
    "\n",
    "#trace4 is for 'Cluster 3'\n",
    "trace4 = go.Scatter(\n",
    "                    x = cluster3[\"PC0\"],\n",
    "                    y = cluster3[\"PC1\"],\n",
    "                    mode = \"markers\",\n",
    "                    name = \"Cluster 3\",\n",
    "                    marker = dict(color = 'rgba(200, 10, 0, 0.8)'),\n",
    "                    text = None)\n",
    "\n",
    "data = [trace1, trace2, trace3, trace4]\n",
    "\n",
    "title = \"Visualizing Clusters in Two Dimensions Using PCA\"\n",
    "\n",
    "layout = dict(title = title,\n",
    "              xaxis= dict(title= 'PC0',ticklen= 5,zeroline= False),\n",
    "              yaxis= dict(title= 'PC1',ticklen= 5,zeroline= False)\n",
    "             )\n",
    "\n",
    "sns.set_style(\"whitegrid\")\n",
    "fig = dict(data = data, layout = layout)\n",
    "\n",
    "sns.set_style(\"whitegrid\")\n",
    "sns.set(style=\"white\", color_codes=True)\n",
    "iplot(fig)\n",
    "#fig = fig.get_figure()\n",
    "#fig.savefig()"
   ]
  },
  {
   "cell_type": "markdown",
   "metadata": {},
   "source": [
    "We see that this doesn't look very good, because there doesn't seem to be any clusters that directly catch our eyes at first sight. But as we explained above, this displays not even 50% of our varaince, so let's have a look into the 3 dimensional visualization:"
   ]
  },
  {
   "cell_type": "code",
   "execution_count": null,
   "metadata": {},
   "outputs": [],
   "source": [
    "sns.set_style(\"whitegrid\")\n",
    "#adapted from:\n",
    "#https://www.kaggle.com/minc33/visualizing-high-dimensional-clusters\n",
    "\n",
    "cluster0 = three_d[three_d[\"Cluster\"] == 0]\n",
    "cluster1 = three_d[three_d[\"Cluster\"] == 1]\n",
    "cluster2 = three_d[three_d[\"Cluster\"] == 2]\n",
    "cluster3 = three_d[three_d[\"Cluster\"] == 3]\n",
    "\n",
    "#trace1 is for 'Cluster 0'\n",
    "trace1 = go.Scatter3d(\n",
    "                    x = cluster0[\"PC0\"],\n",
    "                    y = cluster0[\"PC1\"],\n",
    "                    z = cluster0[\"PC2\"],\n",
    "                    mode = \"markers\",\n",
    "                    name = \"Cluster 0\",\n",
    "                    marker = dict(color = 'rgba(255, 128, 255, 0.8)'),\n",
    "                    text = None)\n",
    "\n",
    "#trace2 is for 'Cluster 1'\n",
    "trace2 = go.Scatter3d(\n",
    "                    x = cluster1[\"PC0\"],\n",
    "                    y = cluster1[\"PC1\"],\n",
    "                    z = cluster1[\"PC2\"],\n",
    "                    mode = \"markers\",\n",
    "                    name = \"Cluster 1\",\n",
    "                    marker = dict(color = 'rgba(255, 128, 2, 0.8)'),\n",
    "                    text = None)\n",
    "\n",
    "#trace3 is for 'Cluster 2'\n",
    "trace3 = go.Scatter3d(\n",
    "                    x = cluster2[\"PC0\"],\n",
    "                    y = cluster2[\"PC1\"],\n",
    "                    z = cluster2[\"PC2\"],\n",
    "                    mode = \"markers\",\n",
    "                    name = \"Cluster 2\",\n",
    "                    marker = dict(color = 'rgba(0, 255, 200, 0.8)'),\n",
    "                    text = None)\n",
    "\n",
    "#trace4 is for 'Cluster 3'\n",
    "trace4 = go.Scatter3d(\n",
    "                    x = cluster3[\"PC0\"],\n",
    "                    y = cluster3[\"PC1\"],\n",
    "                    z = cluster3[\"PC2\"],\n",
    "                    mode = \"markers\",\n",
    "                    name = \"Cluster 3\",\n",
    "                    marker = dict(color = 'rgba(200, 10, 0, 0.8)'),\n",
    "                    text = None)\n",
    "\n",
    "data = [trace1, trace2, trace3, trace4]\n",
    "\n",
    "title = \"Visualizing Clusters in Three Dimensions Using PCA\"\n",
    "\n",
    "layout = dict(title = title,\n",
    "              xaxis= dict(title= 'PC1',ticklen= 5,zeroline= False),\n",
    "              yaxis= dict(title= 'PC2',ticklen= 5,zeroline= False)\n",
    "             )\n",
    "\n",
    "fig = dict(data = data, layout = layout)\n",
    "\n",
    "iplot(fig)"
   ]
  },
  {
   "cell_type": "code",
   "execution_count": null,
   "metadata": {},
   "outputs": [],
   "source": []
  },
  {
   "cell_type": "code",
   "execution_count": null,
   "metadata": {},
   "outputs": [],
   "source": []
  },
  {
   "cell_type": "code",
   "execution_count": null,
   "metadata": {},
   "outputs": [],
   "source": []
  },
  {
   "cell_type": "code",
   "execution_count": null,
   "metadata": {},
   "outputs": [],
   "source": []
  },
  {
   "cell_type": "code",
   "execution_count": null,
   "metadata": {},
   "outputs": [],
   "source": []
  },
  {
   "cell_type": "code",
   "execution_count": null,
   "metadata": {},
   "outputs": [],
   "source": []
  },
  {
   "cell_type": "code",
   "execution_count": null,
   "metadata": {},
   "outputs": [],
   "source": []
  },
  {
   "cell_type": "code",
   "execution_count": null,
   "metadata": {},
   "outputs": [],
   "source": []
  },
  {
   "cell_type": "code",
   "execution_count": null,
   "metadata": {},
   "outputs": [],
   "source": []
  }
 ],
 "metadata": {
  "kernelspec": {
   "display_name": "Python 3",
   "language": "python",
   "name": "python3"
  },
  "language_info": {
   "codemirror_mode": {
    "name": "ipython",
    "version": 3
   },
   "file_extension": ".py",
   "mimetype": "text/x-python",
   "name": "python",
   "nbconvert_exporter": "python",
   "pygments_lexer": "ipython3",
   "version": "3.8.3"
  }
 },
 "nbformat": 4,
 "nbformat_minor": 4
}
